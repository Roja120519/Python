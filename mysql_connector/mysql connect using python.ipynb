{
 "cells": [
  {
   "cell_type": "markdown",
   "metadata": {},
   "source": [
    "### Connecting to MySql using connector(python)"
   ]
  },
  {
   "cell_type": "markdown",
   "metadata": {},
   "source": [
    "#### Requirements\n",
    "\n",
    "- python\n",
    "- mysql connector\n",
    "- mysql "
   ]
  },
  {
   "cell_type": "markdown",
   "metadata": {},
   "source": [
    "- we have a package in python which is called mysql-connector-python \n",
    "    - used to connect to mysql\n",
    "    - create tables\n",
    "    - insert tables\n",
    "    - querying data\n",
    "\n",
    "\n",
    "- we can install this package by using command:\n",
    "    \n",
    "    pip install mysql-connector-python\n"
   ]
  },
  {
   "cell_type": "code",
   "execution_count": 2,
   "metadata": {},
   "outputs": [],
   "source": [
    "import mysql.connector"
   ]
  },
  {
   "cell_type": "code",
   "execution_count": 3,
   "metadata": {},
   "outputs": [
    {
     "name": "stdout",
     "output_type": "stream",
     "text": [
      "BINARY\n",
      "Binary\n",
      "CMySQLConnection\n",
      "CharacterSet\n",
      "ClientFlag\n",
      "Connect\n",
      "DATETIME\n",
      "DataError\n",
      "DatabaseError\n",
      "Date\n",
      "DateFromTicks\n",
      "Error\n",
      "FieldFlag\n",
      "FieldType\n",
      "HAVE_CEXT\n",
      "IntegrityError\n",
      "InterfaceError\n",
      "InternalError\n",
      "MySQLConnection\n",
      "NUMBER\n",
      "NotSupportedError\n",
      "OperationalError\n",
      "PoolError\n",
      "ProgrammingError\n",
      "ROWID\n",
      "RefreshOption\n",
      "STRING\n",
      "Time\n",
      "TimeFromTicks\n",
      "Timestamp\n",
      "TimestampFromTicks\n",
      "Warning\n",
      "_CONNECTION_POOLS\n",
      "__all__\n",
      "__builtins__\n",
      "__cached__\n",
      "__doc__\n",
      "__file__\n",
      "__loader__\n",
      "__name__\n",
      "__package__\n",
      "__path__\n",
      "__spec__\n",
      "__version__\n",
      "__version_info__\n",
      "_get_failover_connection\n",
      "_get_pooled_connection\n",
      "_mysql_connector\n",
      "abstracts\n",
      "apilevel\n",
      "authentication\n",
      "catch23\n",
      "charsets\n",
      "connect\n",
      "connection\n",
      "connection_cext\n",
      "constants\n",
      "conversion\n",
      "cursor\n",
      "cursor_cext\n",
      "custom_error_exception\n",
      "custom_types\n",
      "dbapi\n",
      "errorcode\n",
      "errors\n",
      "locales\n",
      "network\n",
      "optionfiles\n",
      "paramstyle\n",
      "protocol\n",
      "read_option_files\n",
      "threadsafety\n",
      "utils\n",
      "version\n"
     ]
    }
   ],
   "source": [
    "for i in dir(mysql.connector):\n",
    "    print(i)"
   ]
  },
  {
   "cell_type": "markdown",
   "metadata": {},
   "source": [
    "#### Connect to MySql server and show databases"
   ]
  },
  {
   "cell_type": "markdown",
   "metadata": {},
   "source": [
    "connect() constructor creates a connection to the MySql server and returns a MySqlConnection object"
   ]
  },
  {
   "cell_type": "markdown",
   "metadata": {},
   "source": [
    "defining connection arugument in a dictionary and using the ** operator"
   ]
  },
  {
   "cell_type": "code",
   "execution_count": 5,
   "metadata": {},
   "outputs": [
    {
     "name": "stdout",
     "output_type": "stream",
     "text": [
      "('city',)\n",
      "('country',)\n",
      "('countrylanguage',)\n"
     ]
    }
   ],
   "source": [
    "config={'host':'localhost','user':'roja','passwd':'nani','database':'world','raise_on_warnings':True}\n",
    "\n",
    "mydb=mysql.connector.connect(**config)\n",
    "db=mydb.cursor()\n",
    "db.execute(\"Show tables\")\n",
    "for i in db:\n",
    "    print(i)\n",
    "mydb.close()"
   ]
  },
  {
   "cell_type": "code",
   "execution_count": 4,
   "metadata": {},
   "outputs": [
    {
     "name": "stdout",
     "output_type": "stream",
     "text": [
      "('information_schema',)\n",
      "('mysql',)\n",
      "('performance_schema',)\n",
      "('sakila',)\n",
      "('sys',)\n",
      "('world',)\n"
     ]
    }
   ],
   "source": [
    "mydb=mysql.connector.connect(host=\"localhost\",user='roja',passwd=\"nani\")\n",
    "\n",
    "cursor=mydb.cursor()\n",
    "cursor.execute(\"show databases\")\n",
    "for db in cursor:\n",
    "    print(db)\n",
    "mydb.close()"
   ]
  },
  {
   "cell_type": "markdown",
   "metadata": {},
   "source": [
    "#### Use particular database and show tables in that database"
   ]
  },
  {
   "cell_type": "code",
   "execution_count": 5,
   "metadata": {},
   "outputs": [
    {
     "name": "stdout",
     "output_type": "stream",
     "text": [
      "('city',)\n",
      "('country',)\n",
      "('countrylanguage',)\n"
     ]
    }
   ],
   "source": [
    "mydb=mysql.connector.connect(host=\"localhost\",user=\"roja\",passwd=\"nani\",database=\"world\")\n",
    "db=mydb.cursor()\n",
    "db.execute(\"show tables\")\n",
    "for i in db:\n",
    "    print(i)"
   ]
  },
  {
   "cell_type": "markdown",
   "metadata": {},
   "source": [
    "#### particular table column names"
   ]
  },
  {
   "cell_type": "code",
   "execution_count": 6,
   "metadata": {},
   "outputs": [
    {
     "name": "stdout",
     "output_type": "stream",
     "text": [
      "('CountryCode', 'char(3)', 'NO', 'PRI', '', '')\n",
      "('Language', 'char(30)', 'NO', 'PRI', '', '')\n",
      "('IsOfficial', \"enum('T','F')\", 'NO', '', 'F', '')\n",
      "('Percentage', 'float(4,1)', 'NO', '', '0.0', '')\n"
     ]
    }
   ],
   "source": [
    "db.execute(\"show columns from countrylanguage\")\n",
    "for i in db:\n",
    "    print(i)"
   ]
  },
  {
   "cell_type": "code",
   "execution_count": 7,
   "metadata": {},
   "outputs": [
    {
     "name": "stdout",
     "output_type": "stream",
     "text": [
      "('ALB', 'Albaniana', 'T', 97.9)\n",
      "('ARG', 'Spanish', 'T', 96.8)\n",
      "('ARM', 'Armenian', 'T', 93.4)\n",
      "('ASM', 'Samoan', 'T', 90.6)\n",
      "('ATG', 'Creole English', 'F', 95.7)\n",
      "('AUT', 'German', 'T', 92.0)\n",
      "('BDI', 'Kirundi', 'T', 98.1)\n",
      "('BGD', 'Bengali', 'T', 97.7)\n",
      "('BIH', 'Serbo-Croatian', 'T', 99.2)\n",
      "('BMU', 'English', 'T', 100.0)\n"
     ]
    }
   ],
   "source": [
    "db.execute(\"select * from countrylanguage where Percentage>90\")\n",
    "j=0\n",
    "for i in db:\n",
    "    if j<10:\n",
    "        print(i)\n",
    "        j+=1\n",
    "    else:\n",
    "        break"
   ]
  },
  {
   "cell_type": "markdown",
   "metadata": {},
   "source": [
    "#### To handle connection errors use the try statement and catch all the errors using the error.Error exception"
   ]
  },
  {
   "cell_type": "code",
   "execution_count": 8,
   "metadata": {},
   "outputs": [
    {
     "name": "stdout",
     "output_type": "stream",
     "text": [
      "Database does not exist\n"
     ]
    }
   ],
   "source": [
    "from mysql.connector import errorcode\n",
    "try:\n",
    "    m=mysql.connector.connect(host=\"localhost\",user=\"roja\",passwd=\"nani\",database=\"roja\")\n",
    "    \n",
    "except mysql.connector.Error as err:\n",
    "    if err.errno== mysql.connector.errorcode.ER_ACCESS_DENIED_ERROR:\n",
    "        print(\"Something is wrong with your username or password\")\n",
    "    elif err.errno== mysql.connector.errorcode.ER_BAD_DB_ERROR:\n",
    "        print(\"Database does not exist\")\n",
    "    else:\n",
    "        print(\"Error\")\n",
    "    "
   ]
  },
  {
   "cell_type": "code",
   "execution_count": 9,
   "metadata": {},
   "outputs": [
    {
     "name": "stdout",
     "output_type": "stream",
     "text": [
      "Somethign is wrong in your username or password\n"
     ]
    }
   ],
   "source": [
    "try:\n",
    "    m=mysql.connector.connect(host=\"localhost\",user=\"roja\",passwd=\"nani123\",database=\"roja\")\n",
    "except mysql.connector.Error as err:\n",
    "    if err.errno == mysql.connector.errorcode.ER_ACCESS_DENIED_ERROR:\n",
    "        print(\"Somethign is wrong in your username or password\")\n",
    "    elif err.errno == mysql.connector.errorcode.ER_BAD_DB_ERROR:\n",
    "        print(\"Database doesnot exist\")\n",
    "    else:\n",
    "        print(\"Error\")"
   ]
  },
  {
   "cell_type": "markdown",
   "metadata": {},
   "source": [
    "#### Using the Connector/Python Python or C Extension\n",
    "\n",
    "- Connector/Python offers two implementations: \n",
    "    - a pure Python interface \n",
    "    - a C extension that uses the MySQL C client library \n",
    "\n",
    "\n",
    "This can be configured at runtime using the use_pure connection argument. It defaults to False as of MySQL 8, meaning the C extension is used. If the C extension is not available on the system then use_pure defaults to True. Setting use_pure=False causes the connection to use the C Extension if your Connector/Python installation includes it, while use_pure=True to False means the Python implementation is used if available. "
   ]
  },
  {
   "cell_type": "code",
   "execution_count": 10,
   "metadata": {},
   "outputs": [],
   "source": [
    "mydb=mysql.connector.connect(host=\"localhost\",user=\"roja\",passwd=\"nani\",use_pure=False)\n"
   ]
  },
  {
   "cell_type": "code",
   "execution_count": 11,
   "metadata": {},
   "outputs": [],
   "source": [
    "mydb=mysql.connector.connect(host=\"localhost\",user=\"roja\",passwd=\"nani\",use_pure=True)\n"
   ]
  }
 ],
 "metadata": {
  "kernelspec": {
   "display_name": "Python 3",
   "language": "python",
   "name": "python3"
  },
  "language_info": {
   "codemirror_mode": {
    "name": "ipython",
    "version": 3
   },
   "file_extension": ".py",
   "mimetype": "text/x-python",
   "name": "python",
   "nbconvert_exporter": "python",
   "pygments_lexer": "ipython3",
   "version": "3.7.1"
  }
 },
 "nbformat": 4,
 "nbformat_minor": 2
}
