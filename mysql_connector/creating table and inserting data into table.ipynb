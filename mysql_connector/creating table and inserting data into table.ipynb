{
 "cells": [
  {
   "cell_type": "markdown",
   "metadata": {},
   "source": [
    "### creating table"
   ]
  },
  {
   "cell_type": "markdown",
   "metadata": {},
   "source": [
    "- creating a new database\n",
    "\n",
    "All **DDL(Data Defination Language)** statements are executed using handle structure which is known as cursor. \n",
    "\n",
    "\n",
    "\n",
    "***DDL***\n",
    "- create\n",
    "- alter\n",
    "- drop\n",
    "- rename\n",
    "- truncate\n",
    "- comment"
   ]
  },
  {
   "cell_type": "code",
   "execution_count": 1,
   "metadata": {
    "scrolled": false
   },
   "outputs": [
    {
     "name": "stdout",
     "output_type": "stream",
     "text": [
      "Before database creation database list\n",
      "\n",
      "\t information_schema\n",
      "\t mysql\n",
      "\t performance_schema\n",
      "\t sakila\n",
      "\t sys\n",
      "\t world\n",
      "\n",
      "\n",
      "After database creation database list\n",
      "\n",
      "\t dep\n",
      "\t information_schema\n",
      "\t mysql\n",
      "\t performance_schema\n",
      "\t sakila\n",
      "\t sys\n",
      "\t world\n",
      "\n",
      "\n",
      "After database deletion database list\n",
      "\n",
      "\t information_schema\n",
      "\t mysql\n",
      "\t performance_schema\n",
      "\t sakila\n",
      "\t sys\n",
      "\t world\n"
     ]
    }
   ],
   "source": [
    "import mysql.connector\n",
    "\n",
    "mydb=mysql.connector.connect(host=\"localhost\",user=\"roja\",passwd=\"nani\")\n",
    "db=mydb.cursor()\n",
    "\n",
    "# databases list\n",
    "print(\"Before database creation database list\\n\")\n",
    "db.execute(\"show databases\")\n",
    "for i in db:\n",
    "    print(\"\\t\",i[0])\n",
    "\n",
    "# database creating\n",
    "\n",
    "print(\"\\n\\nAfter database creation database list\\n\")\n",
    "db.execute(\"create database dep\")\n",
    "db.execute(\"show databases\")\n",
    "for i in db:\n",
    "    print(\"\\t\",i[0])\n",
    "    \n",
    "# deleting the database permenently\n",
    "\n",
    "db.execute(\"drop database dep\")\n",
    "db.execute(\"show databases\")\n",
    "print(\"\\n\\nAfter database deletion database list\\n\")\n",
    "for i in db:\n",
    "    print(\"\\t\",i[0])"
   ]
  },
  {
   "cell_type": "markdown",
   "metadata": {},
   "source": [
    "#### creating a table in department database\n",
    "\n",
    "- table name is student which has students details"
   ]
  },
  {
   "cell_type": "code",
   "execution_count": 2,
   "metadata": {},
   "outputs": [],
   "source": [
    "db_name='department'\n"
   ]
  },
  {
   "cell_type": "markdown",
   "metadata": {},
   "source": [
    "The above code shows how we are storing the CREATE statement in a python dictionary called Tables.\n",
    "\n",
    "We are also define the database in a global variable called db_name"
   ]
  },
  {
   "cell_type": "markdown",
   "metadata": {},
   "source": [
    "a single mysql server can manage multiple databses.\n"
   ]
  },
  {
   "cell_type": "code",
   "execution_count": 3,
   "metadata": {},
   "outputs": [],
   "source": [
    "mydb=mysql.connector.connect(host=\"localhost\",user=\"roja\",passwd=\"nani\")\n",
    "db=mydb.cursor()"
   ]
  },
  {
   "cell_type": "code",
   "execution_count": 4,
   "metadata": {
    "scrolled": false
   },
   "outputs": [
    {
     "name": "stdout",
     "output_type": "stream",
     "text": [
      "database department doesnot exists.\n",
      "Database department created successfully.\n"
     ]
    }
   ],
   "source": [
    "from mysql.connector import errorcode\n",
    "def create_database(db):\n",
    "    try:\n",
    "        db.execute(\"Create database {}\".format(db_name))\n",
    "    except mysql.connector.Error as err:\n",
    "        print(\"Failed creating databse:{}\".format(err))\n",
    "        exit(1)\n",
    "\n",
    "        \n",
    "try:\n",
    "    db.execute(\"use {}\".format(db_name))\n",
    "except mysql.connector.Error as err:\n",
    "    print(\"database {} doesnot exists.\".format(db_name))\n",
    "    if err.errno == errorcode.ER_BAD_DB_ERROR:\n",
    "        create_database(db)\n",
    "        print(\"Database {} created successfully.\".format(db_name))\n",
    "        db.database=db_name\n",
    "    else:\n",
    "        print(err)\n",
    "        exit(1)"
   ]
  },
  {
   "cell_type": "markdown",
   "metadata": {},
   "source": [
    "we have one table in tables dictionary variable.\n"
   ]
  },
  {
   "cell_type": "code",
   "execution_count": 5,
   "metadata": {},
   "outputs": [],
   "source": [
    "tables={}\n",
    "tables['student']=(\"create table student(id int(12) NOT NULL AUTO_INCREMENT, first_name varchar(20) NOT NULL, last_name varchar(20) NOT NULL, gender enum('M','F') NOT NULL, DOB date NOT NULL,branch_name varchar(120) not null, PRIMARY KEY (id))ENGINE=InnoDB\")\n",
    "tables['branch']=(\"create table branch(branch_name varchar(30) not null, HOD varchar(120), office_address varchar(120), phone_number varchar(120))ENGINE=InnoDB\")"
   ]
  },
  {
   "cell_type": "code",
   "execution_count": 6,
   "metadata": {
    "scrolled": false
   },
   "outputs": [
    {
     "name": "stdout",
     "output_type": "stream",
     "text": [
      "Creating table student:successfully created\n",
      "Creating table branch:successfully created\n"
     ]
    }
   ],
   "source": [
    "db.execute(\"use department\")\n",
    "for name in tables:\n",
    "    des=tables[name]\n",
    "    try:\n",
    "        print(\"Creating table {}:\".format(name),end='')\n",
    "        db.execute(des)\n",
    "    except mysql.connector.Error as err:\n",
    "        if err.errno == errorcode.ER_TABLE_EXISTS_ERROR:\n",
    "            print(\"Already exists\")\n",
    "        else:\n",
    "            print(err.msg)\n",
    "    else:\n",
    "        print(\"successfully created\")\n"
   ]
  },
  {
   "cell_type": "code",
   "execution_count": 7,
   "metadata": {},
   "outputs": [
    {
     "name": "stdout",
     "output_type": "stream",
     "text": [
      "('id', 'int(12)', 'NO', 'PRI', None, 'auto_increment')\n",
      "('first_name', 'varchar(20)', 'NO', '', None, '')\n",
      "('last_name', 'varchar(20)', 'NO', '', None, '')\n",
      "('gender', \"enum('M','F')\", 'NO', '', None, '')\n",
      "('DOB', 'date', 'NO', '', None, '')\n",
      "('branch_name', 'varchar(120)', 'NO', '', None, '')\n"
     ]
    }
   ],
   "source": [
    "db.execute(\"show columns from student\")\n",
    "for i in db:\n",
    "    print(i)"
   ]
  },
  {
   "cell_type": "code",
   "execution_count": 8,
   "metadata": {},
   "outputs": [
    {
     "name": "stdout",
     "output_type": "stream",
     "text": [
      "('branch_name', 'varchar(30)', 'NO', '', None, '')\n",
      "('HOD', 'varchar(120)', 'YES', '', None, '')\n",
      "('office_address', 'varchar(120)', 'YES', '', None, '')\n",
      "('phone_number', 'varchar(120)', 'YES', '', None, '')\n"
     ]
    }
   ],
   "source": [
    "db.execute(\"show columns from branch\")\n",
    "for i in db:\n",
    "    print(i)"
   ]
  },
  {
   "cell_type": "code",
   "execution_count": 9,
   "metadata": {},
   "outputs": [
    {
     "data": {
      "text/plain": [
       "True"
      ]
     },
     "execution_count": 9,
     "metadata": {},
     "output_type": "execute_result"
    }
   ],
   "source": [
    "mydb.close()\n",
    "db.close()"
   ]
  },
  {
   "cell_type": "markdown",
   "metadata": {},
   "source": [
    "### Insering data into the tables\n",
    "\n",
    "**DML(Data Manipulation Language)**\n",
    "\n",
    "***DML***\n",
    "- insert\n",
    "- update\n",
    "- delete\n"
   ]
  },
  {
   "cell_type": "markdown",
   "metadata": {},
   "source": [
    "when we use a transactional storage engine such as InnoDB you must commit the data after a sequence of INSERT, DELETE, UPDATE statements"
   ]
  },
  {
   "cell_type": "code",
   "execution_count": 10,
   "metadata": {},
   "outputs": [],
   "source": [
    "from datetime import date, time"
   ]
  },
  {
   "cell_type": "code",
   "execution_count": 11,
   "metadata": {},
   "outputs": [
    {
     "name": "stdout",
     "output_type": "stream",
     "text": [
      "(1, 'roja', 'mogili', 'F', datetime.date(1999, 8, 18), 'CSE')\n",
      "(2, 'naren', 'vallepu', 'M', datetime.date(1997, 11, 10), 'ECE')\n",
      "(3, 'prakash', 'mogili', 'M', datetime.date(2000, 8, 8), 'Civil')\n",
      "(6, 'lally', 'mogili', 'F', datetime.date(1998, 8, 18), 'CSE')\n"
     ]
    }
   ],
   "source": [
    "mydb=mysql.connector.connect(host='localhost',user='roja',passwd=\"nani\",database='department')\n",
    "db=mydb.cursor()\n",
    "\n",
    "#add_student=(\" Insert into student (id,first_name,last_name,gender,DOB,branch_name) values(%d,%s,%s,%s,%s,%s)\")\n",
    "#data_student=(6,'lally','mogili','F','1998-08-18','CSE')\n",
    "#db.execute()\n",
    "\n",
    "db.execute(\"insert into student values(1,'roja','mogili','F','1999-08-18','CSE')\")\n",
    "db.execute(\"insert into student values(2,'naren','vallepu','M','1997-11-10','ECE')\")\n",
    "db.execute(\"insert into student values(3,'prakash','mogili','M','2000-08-08','Civil')\")\n",
    "db.execute(\" Insert into student (id,first_name,last_name,gender,DOB,branch_name) values(6,'lally','mogili','F','1998-08-18','CSE') \")\n",
    "#db.execute(\"insert into student('roja','mogili','F','18-08-1999','CSE')\")\n",
    "mydb.commit()\n",
    "db.execute(\"select * from student\")\n",
    "for i in db:\n",
    "    print(i)\n",
    "db.close()\n",
    "mydb.close()"
   ]
  },
  {
   "cell_type": "code",
   "execution_count": 12,
   "metadata": {},
   "outputs": [
    {
     "name": "stdout",
     "output_type": "stream",
     "text": [
      "('CSE', 'Upendra', 'A3 FF5', '9122244433')\n",
      "('ECE', 'ECEHOD', 'A3 TF5', '9165469433')\n"
     ]
    },
    {
     "data": {
      "text/plain": [
       "True"
      ]
     },
     "execution_count": 12,
     "metadata": {},
     "output_type": "execute_result"
    }
   ],
   "source": [
    "mydb=mysql.connector.connect(host=\"localhost\",user='roja',passwd='nani',database='department')\n",
    "\n",
    "db=mydb.cursor()\n",
    "\n",
    "db.execute(\"insert into branch values('CSE','Upendra','A3 FF5','9122244433')\")\n",
    "db.execute(\"insert into branch (branch_name, HOD, office_address, phone_number) values('ECE','ECEHOD','A3 TF5','9165469433')\")\n",
    "mydb.commit()\n",
    "db.execute(\"select * from branch\")\n",
    "for i in db:\n",
    "    print(i)\n",
    "    \n",
    "mydb.close()\n",
    "db.close()"
   ]
  },
  {
   "cell_type": "markdown",
   "metadata": {},
   "source": [
    "#### Delete"
   ]
  },
  {
   "cell_type": "markdown",
   "metadata": {},
   "source": [
    "we can delete existing records from a particular table\n",
    "\n",
    "To delete all records from table\n",
    "\n",
    "    delete from table_name"
   ]
  },
  {
   "cell_type": "code",
   "execution_count": 13,
   "metadata": {},
   "outputs": [
    {
     "name": "stdout",
     "output_type": "stream",
     "text": [
      "Data existed in branch table\n",
      "('CSE', 'Upendra', 'A3 FF5', '9122244433')\n"
     ]
    }
   ],
   "source": [
    "mydb=mysql.connector.connect(host=\"localhost\",user=\"roja\",passwd=\"nani\",database=\"department\")\n",
    "db=mydb.cursor()\n",
    "\n",
    "db.execute(\"delete from branch where branch_name='ECE'\")\n",
    "mydb.commit()\n",
    "db.execute(\"select * from branch\")\n",
    "print(\"Data existed in branch table\")\n",
    "for i in db:\n",
    "    print(i)"
   ]
  },
  {
   "cell_type": "markdown",
   "metadata": {},
   "source": [
    "### Update"
   ]
  },
  {
   "cell_type": "markdown",
   "metadata": {},
   "source": [
    "Used to modify the existing records in a particular table\n"
   ]
  },
  {
   "cell_type": "code",
   "execution_count": 14,
   "metadata": {},
   "outputs": [
    {
     "name": "stdout",
     "output_type": "stream",
     "text": [
      "('CSE', 'Upendra', 'A3 classroom between 5 and 6', '9122244433')\n"
     ]
    }
   ],
   "source": [
    "mydb=mysql.connector.connect(host=\"localhost\",user=\"roja\",passwd=\"nani\",database=\"department\")\n",
    "db=mydb.cursor()\n",
    "\n",
    "db.execute(\"update branch set office_address='A3 classroom between 5 and 6' where branch_name='CSE'\")\n",
    "mydb.commit()\n",
    "db.execute(\"select * from branch\")\n",
    "for i in db:\n",
    "    print(i)\n",
    "db.close()\n",
    "mydb.close()"
   ]
  },
  {
   "cell_type": "markdown",
   "metadata": {},
   "source": [
    "student table before and after update"
   ]
  },
  {
   "cell_type": "code",
   "execution_count": 17,
   "metadata": {},
   "outputs": [
    {
     "name": "stdout",
     "output_type": "stream",
     "text": [
      "Data before the update\n",
      "id\tfirst_name\tlast_name\tgender\tDOB\t\tbranch\n",
      "----------------------------------------------------------------------------------\n",
      "1\troja\t\tmogili\t\tF\t1999-08-18\tCSE\n",
      "2\tnaren\t\tvallepu\t\tM\t1997-11-10\tECE\n",
      "3\tprakash\t\tmogili\t\tM\t2000-08-08\tCivil\n",
      "6\tlally\t\tmogili\t\tF\t1998-08-18\tCSE\n",
      "\n",
      "\n",
      "Data after update\n",
      "id\tfirst_name\tlast_name\tgender\tDOB\t\tbranch\n",
      "----------------------------------------------------------------------------------\n",
      "1\troja\t\tmogili\t\tF\t1999-08-18\tCSE\n",
      "2\tnaren\t\tvallepu\t\tM\t1997-11-10\tECE\n",
      "3\tprakash\t\tmogili\t\tM\t2000-08-08\tCivil\n",
      "4\tlally\t\tmogili\t\tF\t1998-08-18\tCSE\n"
     ]
    }
   ],
   "source": [
    "mydb=mysql.connector.connect(host=\"localhost\",user=\"roja\",passwd=\"nani\",database=\"department\")\n",
    "db=mydb.cursor()\n",
    "\n",
    "print(\"Data before the update\")\n",
    "db.execute(\"select * from student\")\n",
    "\n",
    "print(\"id\",\"first_name\",\"last_name\",\"gender\",\"DOB\",\"\\t\"+\"branch\",sep=\"\\t\")\n",
    "print(\"----------------------------------------------------------------------------------\")\n",
    "\n",
    "for i in db:\n",
    "    print(i[0],i[1]+\"\\t\",i[2]+\"\\t\",i[3],i[4],i[5],sep=\"\\t\")\n",
    "    \n",
    "print(\"\\n\\nData after update\")\n",
    "db.execute(\"update student set id=4 where first_name='lally'\")\n",
    "mydb.commit()\n",
    "db.execute(\"select * from student\")\n",
    "\n",
    "print(\"id\",\"first_name\",\"last_name\",\"gender\",\"DOB\",\"\\t\"+\"branch\",sep=\"\\t\")\n",
    "print(\"----------------------------------------------------------------------------------\")\n",
    "\n",
    "for i in db:\n",
    "    print(i[0],i[1]+\"\\t\",i[2]+\"\\t\",i[3],i[4],i[5],sep=\"\\t\")"
   ]
  },
  {
   "cell_type": "markdown",
   "metadata": {},
   "source": [
    "### Alter\n",
    "\n",
    "used to add another column in table\n",
    "\n",
    "     ALTER TABLE table_name\n",
    "      \n",
    "      ADD column_1 column_definition,\n",
    "          \n",
    "          column_2 column_definition,\n",
    "           \n",
    "           ...\n",
    "          \n",
    "          column_n column_definition;"
   ]
  },
  {
   "cell_type": "code",
   "execution_count": 18,
   "metadata": {
    "scrolled": true
   },
   "outputs": [
    {
     "name": "stdout",
     "output_type": "stream",
     "text": [
      "Columns list before adding the column in table\n",
      "('id', 'int(12)', 'NO', 'PRI', None, 'auto_increment')\n",
      "('first_name', 'varchar(20)', 'NO', '', None, '')\n",
      "('last_name', 'varchar(20)', 'NO', '', None, '')\n",
      "('gender', \"enum('M','F')\", 'NO', '', None, '')\n",
      "('DOB', 'date', 'NO', '', None, '')\n",
      "('branch_name', 'varchar(120)', 'NO', '', None, '')\n",
      "\n",
      "\n",
      "Columns list after adding the column in table\n",
      "('id', 'int(12)', 'NO', 'PRI', None, 'auto_increment')\n",
      "('first_name', 'varchar(20)', 'NO', '', None, '')\n",
      "('last_name', 'varchar(20)', 'NO', '', None, '')\n",
      "('gender', \"enum('M','F')\", 'NO', '', None, '')\n",
      "('DOB', 'date', 'NO', '', None, '')\n",
      "('branch_name', 'varchar(120)', 'NO', '', None, '')\n",
      "('join_date', 'date', 'YES', '', None, '')\n"
     ]
    }
   ],
   "source": [
    "print(\"Columns list before adding the column in table\")\n",
    "\n",
    "db.execute(\"show columns from student\")\n",
    "for i in db:\n",
    "    print(i)\n",
    "    \n",
    "\n",
    "print(\"\\n\\nColumns list after adding the column in table\")\n",
    "\n",
    "db.execute(\"alter table student add join_date date\")\n",
    "mydb.commit()\n",
    "\n",
    "db.execute(\"show columns from student\")\n",
    "for i in db:\n",
    "    print(i)"
   ]
  },
  {
   "cell_type": "markdown",
   "metadata": {},
   "source": [
    "#### data in student table"
   ]
  },
  {
   "cell_type": "code",
   "execution_count": 19,
   "metadata": {},
   "outputs": [
    {
     "name": "stdout",
     "output_type": "stream",
     "text": [
      "id\tfirst_name\tlast_name\tgender\tDOB\t\tbranch\tJoin_date\n",
      "----------------------------------------------------------------------------------\n",
      "1\troja\t\tmogili\t\tF\t1999-08-18\tCSE\tNone\n",
      "2\tnaren\t\tvallepu\t\tM\t1997-11-10\tECE\tNone\n",
      "3\tprakash\t\tmogili\t\tM\t2000-08-08\tCivil\tNone\n",
      "4\tlally\t\tmogili\t\tF\t1998-08-18\tCSE\tNone\n"
     ]
    }
   ],
   "source": [
    "db.execute(\"select * from student\")\n",
    "\n",
    "print(\"id\",\"first_name\",\"last_name\",\"gender\",\"DOB\",\"\\t\"+\"branch\",\"Join_date\",sep=\"\\t\")\n",
    "print(\"----------------------------------------------------------------------------------\")\n",
    "for i in db:\n",
    "    print(i[0],i[1]+\"\\t\",i[2]+\"\\t\",i[3],i[4],i[5],i[6],sep=\"\\t\")"
   ]
  },
  {
   "cell_type": "markdown",
   "metadata": {},
   "source": [
    "joining date is none.\n",
    "\n",
    "\n",
    "so we need to enter join date for every student"
   ]
  },
  {
   "cell_type": "code",
   "execution_count": 20,
   "metadata": {},
   "outputs": [
    {
     "name": "stdout",
     "output_type": "stream",
     "text": [
      "id\tfirst_name\tlast_name\tgender\tDOB\t\tbranch\tJoin_date\n",
      "----------------------------------------------------------------------------------\n",
      "1\troja\t\tmogili\t\tF\t1999-08-18\tCSE\t2016-06-01\n",
      "2\tnaren\t\tvallepu\t\tM\t1997-11-10\tECE\t2016-08-01\n",
      "3\tprakash\t\tmogili\t\tM\t2000-08-08\tCivil\t2018-06-01\n",
      "4\tlally\t\tmogili\t\tF\t1998-08-18\tCSE\t2015-06-01\n"
     ]
    }
   ],
   "source": [
    "db.execute(\"update student set join_date='2016-06-01' where id=1\")\n",
    "db.execute(\"update student set join_date='2016-08-01' where id=2\")\n",
    "db.execute(\"update student set join_date='2018-06-01' where id=3\")\n",
    "db.execute(\"update student set join_date='2015-06-01' where id=4\")\n",
    "mydb.commit()\n",
    "\n",
    "db.execute(\"select * from student\")\n",
    "print(\"id\",\"first_name\",\"last_name\",\"gender\",\"DOB\",\"\\t\"+\"branch\",\"Join_date\",sep=\"\\t\")\n",
    "print(\"----------------------------------------------------------------------------------\")\n",
    "for i in db:\n",
    "    print(i[0],i[1]+\"\\t\",i[2]+\"\\t\",i[3],i[4],i[5],i[6],sep=\"\\t\")"
   ]
  },
  {
   "cell_type": "code",
   "execution_count": null,
   "metadata": {},
   "outputs": [],
   "source": []
  },
  {
   "cell_type": "code",
   "execution_count": null,
   "metadata": {},
   "outputs": [],
   "source": []
  }
 ],
 "metadata": {
  "kernelspec": {
   "display_name": "Python 3",
   "language": "python",
   "name": "python3"
  },
  "language_info": {
   "codemirror_mode": {
    "name": "ipython",
    "version": 3
   },
   "file_extension": ".py",
   "mimetype": "text/x-python",
   "name": "python",
   "nbconvert_exporter": "python",
   "pygments_lexer": "ipython3",
   "version": "3.7.1"
  }
 },
 "nbformat": 4,
 "nbformat_minor": 2
}
