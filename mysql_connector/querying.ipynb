{
 "cells": [
  {
   "cell_type": "markdown",
   "metadata": {},
   "source": [
    "### queries(MySql)\n",
    "\n",
    "some basic queries execution by using mysql.connector"
   ]
  },
  {
   "cell_type": "code",
   "execution_count": 1,
   "metadata": {},
   "outputs": [],
   "source": [
    "import mysql.connector"
   ]
  },
  {
   "cell_type": "code",
   "execution_count": 2,
   "metadata": {},
   "outputs": [],
   "source": [
    "mydb=mysql.connector.connect(host=\"localhost\",user=\"roja\",passwd=\"nani\",database=\"department\")\n",
    "db=mydb.cursor()"
   ]
  },
  {
   "cell_type": "markdown",
   "metadata": {},
   "source": [
    "Print all students names"
   ]
  },
  {
   "cell_type": "code",
   "execution_count": 3,
   "metadata": {},
   "outputs": [
    {
     "name": "stdout",
     "output_type": "stream",
     "text": [
      "roja.mogili\n",
      "naren.vallepu\n",
      "prakash.mogili\n",
      "lally.mogili\n"
     ]
    }
   ],
   "source": [
    "db.execute(\"select first_name,last_name from student\")\n",
    "for i in db:\n",
    "    print(i[0]+'.'+i[1])"
   ]
  },
  {
   "cell_type": "markdown",
   "metadata": {},
   "source": [
    "print all student details whose name end with vowel"
   ]
  },
  {
   "cell_type": "code",
   "execution_count": 4,
   "metadata": {},
   "outputs": [
    {
     "name": "stdout",
     "output_type": "stream",
     "text": [
      "id\tfirst_name\tlast_name\tgender\tDOB\t\tbranch\tJoin_date\n",
      "----------------------------------------------------------------------------------\n",
      "1\troja\t\tmogili\t\tF\t1999-08-18\tCSE\t2016-06-01\n"
     ]
    }
   ],
   "source": [
    "db.execute(\"select * from student where right(first_name,1) in ('a','e','i','o','u')\")\n",
    "print(\"id\",\"first_name\",\"last_name\",\"gender\",\"DOB\",\"\\t\"+\"branch\",\"Join_date\",sep=\"\\t\")\n",
    "print(\"----------------------------------------------------------------------------------\")\n",
    "for i in db:\n",
    "    print(i[0],i[1]+\"\\t\",i[2]+\"\\t\",i[3],i[4],i[5],i[6],sep=\"\\t\")"
   ]
  },
  {
   "cell_type": "markdown",
   "metadata": {},
   "source": [
    "print all student details whose name doesnot start with vowel"
   ]
  },
  {
   "cell_type": "code",
   "execution_count": 5,
   "metadata": {},
   "outputs": [
    {
     "name": "stdout",
     "output_type": "stream",
     "text": [
      "id\tfirst_name\tlast_name\tgender\tDOB\t\tbranch\tJoin_date\n",
      "----------------------------------------------------------------------------------\n",
      "1\troja\t\tmogili\t\tF\t1999-08-18\tCSE\t2016-06-01\n",
      "2\tnaren\t\tvallepu\t\tM\t1997-11-10\tECE\t2016-08-01\n",
      "3\tprakash\t\tmogili\t\tM\t2000-08-08\tCivil\t2018-06-01\n",
      "4\tlally\t\tmogili\t\tF\t1998-08-18\tCSE\t2015-06-01\n"
     ]
    }
   ],
   "source": [
    "db.execute(\"select * from student where left(first_name,1) not in ('a','e','i','o','u')\")\n",
    "print(\"id\",\"first_name\",\"last_name\",\"gender\",\"DOB\",\"\\t\"+\"branch\",\"Join_date\",sep=\"\\t\")\n",
    "print(\"----------------------------------------------------------------------------------\")\n",
    "for i in db:\n",
    "    print(i[0],i[1]+\"\\t\",i[2]+\"\\t\",i[3],i[4],i[5],i[6],sep=\"\\t\")"
   ]
  },
  {
   "cell_type": "markdown",
   "metadata": {},
   "source": [
    "display how many students data existed in student table"
   ]
  },
  {
   "cell_type": "code",
   "execution_count": 8,
   "metadata": {},
   "outputs": [
    {
     "name": "stdout",
     "output_type": "stream",
     "text": [
      "4\n"
     ]
    }
   ],
   "source": [
    "db.execute(\"select count(id) from student\")\n",
    "for i in db:\n",
    "    print(i[0])"
   ]
  },
  {
   "cell_type": "markdown",
   "metadata": {},
   "source": [
    "Add a column name \"fee\" which is used to show how much money student have to pay"
   ]
  },
  {
   "cell_type": "code",
   "execution_count": 4,
   "metadata": {},
   "outputs": [
    {
     "name": "stdout",
     "output_type": "stream",
     "text": [
      "('id', 'int(12)', 'NO', 'PRI', None, 'auto_increment')\n",
      "('first_name', 'varchar(20)', 'NO', '', None, '')\n",
      "('last_name', 'varchar(20)', 'NO', '', None, '')\n",
      "('gender', \"enum('M','F')\", 'NO', '', None, '')\n",
      "('DOB', 'date', 'NO', '', None, '')\n",
      "('branch_name', 'varchar(120)', 'NO', '', None, '')\n",
      "('join_date', 'date', 'YES', '', None, '')\n",
      "('fee', 'int(12)', 'YES', '', None, '')\n"
     ]
    }
   ],
   "source": [
    "db.execute(\"alter table student add fee int(12)\")\n",
    "mydb.commit()\n",
    "db.execute(\"show columns from student\")\n",
    "for i in db:\n",
    "    print(i)"
   ]
  },
  {
   "cell_type": "markdown",
   "metadata": {},
   "source": [
    "id        fee\n",
    "\n",
    "1         20000\n",
    "\n",
    "2         15000\n",
    "\n",
    "3         41400\n",
    "\n",
    "4         12500\n",
    "\n",
    "enter the fee values as shown above"
   ]
  },
  {
   "cell_type": "code",
   "execution_count": 6,
   "metadata": {},
   "outputs": [
    {
     "name": "stdout",
     "output_type": "stream",
     "text": [
      "id\tfirst_name\tlast_name\tgender\tDOB\t\tbranch\tJoin_date\tfee\n",
      "-------------------------------------------------------------------------------------------\n",
      "1\troja\t\tmogili\t\tF\t1999-08-18\tCSE\t2016-06-01\t20000\n",
      "2\tnaren\t\tvallepu\t\tM\t1997-11-10\tECE\t2016-08-01\t15000\n",
      "3\tprakash\t\tmogili\t\tM\t2000-08-08\tCivil\t2018-06-01\t41400\n",
      "4\tlally\t\tmogili\t\tF\t1998-08-18\tCSE\t2015-06-01\t12500\n"
     ]
    }
   ],
   "source": [
    "db.execute(\"update student set fee=20000 where id=1\")\n",
    "db.execute(\"update student set fee=15000 where id=2\")\n",
    "db.execute(\"update student set fee=41400 where id=3\")\n",
    "db.execute(\"update student set fee=12500 where id=4\")\n",
    "mydb.commit()\n",
    "\n",
    "db.execute(\"select * from student\")\n",
    "print(\"id\",\"first_name\",\"last_name\",\"gender\",\"DOB\",\"\\t\"+\"branch\",\"Join_date\",\"fee\",sep=\"\\t\")\n",
    "print(\"-------------------------------------------------------------------------------------------\")\n",
    "for i in db:\n",
    "    print(i[0],i[1]+\"\\t\",i[2]+\"\\t\",i[3],i[4],i[5],i[6],i[7],sep=\"\\t\")"
   ]
  },
  {
   "cell_type": "markdown",
   "metadata": {},
   "source": [
    "how much money students have to pay"
   ]
  },
  {
   "cell_type": "code",
   "execution_count": 8,
   "metadata": {},
   "outputs": [
    {
     "name": "stdout",
     "output_type": "stream",
     "text": [
      "88900\n"
     ]
    }
   ],
   "source": [
    "db.execute(\"select sum(fee) from student\")\n",
    "for i in db:\n",
    "    print(i[0])"
   ]
  },
  {
   "cell_type": "code",
   "execution_count": null,
   "metadata": {},
   "outputs": [],
   "source": []
  },
  {
   "cell_type": "code",
   "execution_count": null,
   "metadata": {},
   "outputs": [],
   "source": []
  }
 ],
 "metadata": {
  "kernelspec": {
   "display_name": "Python 3",
   "language": "python",
   "name": "python3"
  },
  "language_info": {
   "codemirror_mode": {
    "name": "ipython",
    "version": 3
   },
   "file_extension": ".py",
   "mimetype": "text/x-python",
   "name": "python",
   "nbconvert_exporter": "python",
   "pygments_lexer": "ipython3",
   "version": "3.7.1"
  }
 },
 "nbformat": 4,
 "nbformat_minor": 2
}
