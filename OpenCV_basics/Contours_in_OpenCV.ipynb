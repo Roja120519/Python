{
 "cells": [
  {
   "cell_type": "markdown",
   "metadata": {},
   "source": [
    "### Contours in OpenCV"
   ]
  },
  {
   "cell_type": "markdown",
   "metadata": {},
   "source": [
    "- cv2.findContours()\n",
    "- cv2.drawContours()"
   ]
  },
  {
   "cell_type": "markdown",
   "metadata": {},
   "source": [
    "#### countour\n",
    "- Contours can be explained simply as a curve joining all the continuous points (along the boundary), having same color or intensity. \n",
    "- The contours are a useful tool for shape analysis and object detection and recognition."
   ]
  },
  {
   "cell_type": "markdown",
   "metadata": {},
   "source": [
    "- For better accuracy, use binary images. So before finding contours, apply threshold or canny edge detection.\n",
    "- findContours function modifies the source image. So if you want source image even after finding contours, already store it to some other variables.\n",
    "- In OpenCV, finding contours is like finding white object from black background. So remember, object to be found should be white and background should be black."
   ]
  },
  {
   "cell_type": "code",
   "execution_count": 1,
   "metadata": {},
   "outputs": [],
   "source": [
    "import cv2\n",
    "import numpy as np\n"
   ]
  },
  {
   "cell_type": "code",
   "execution_count": 2,
   "metadata": {},
   "outputs": [],
   "source": [
    "img=cv2.imread('standard_test_images\\\\standard_test_images\\\\1.tif')\n",
    "gray=cv2.cvtColor(img,cv2.COLOR_BGR2GRAY)\n",
    "ret,thresh=cv2.threshold(gray,127,255,0)\n",
    "image, contours, hierarchy=cv2.findContours(thresh,cv2.RETR_TREE,cv2.CHAIN_APPROX_SIMPLE)\n",
    "cv2.imshow('img',img)\n",
    "cv2.imshow('thresh',thresh)\n",
    "\n",
    "cv2.imshow('image',image)\n",
    "\n",
    "cv2.waitKey(0)\n",
    "cv2.destroyAllWindows()\n",
    "#cv2.findContours(thresh,cv2.RETR_TREE,cv2.CHAIN_APPROX_SIMPLE)"
   ]
  },
  {
   "cell_type": "markdown",
   "metadata": {},
   "source": [
    "#### draw the contours\n",
    "- cv2.drawContours function is used\n",
    "- It can also be used to draw any shape provided you have its boundary points"
   ]
  },
  {
   "cell_type": "code",
   "execution_count": 3,
   "metadata": {},
   "outputs": [],
   "source": [
    "# To draw all contours in an image\n",
    "imgc=cv2.drawContours(img,contours,-1,(0,255,0),1)\n",
    "cv2.imshow('img_contours',imgc)\n",
    "\n",
    "# to draw an individual contour\n",
    "    # Two methods we have\n",
    "img_parti=cv2.drawContours(img,contours,3,(0,255,0),1)\n",
    "cv2.imshow('particular_contour',img_parti)\n",
    "\n",
    "c=contours[4]\n",
    "img_p=cv2.drawContours(img,[c],0,(0,0,255),1)\n",
    "cv2.imshow('particular_contour_m',img_p)\n",
    "\n",
    "cv2.waitKey(0)\n",
    "cv2.destroyAllWindows()"
   ]
  },
  {
   "cell_type": "markdown",
   "metadata": {},
   "source": [
    "#### example for find and draw contours in an image"
   ]
  },
  {
   "cell_type": "code",
   "execution_count": 4,
   "metadata": {},
   "outputs": [],
   "source": [
    "img=cv2.imread(\"standard_test_images\\\\standard_test_images\\\\green.jpg\")\n",
    "cv2.imshow('image',img)\n",
    "gray=cv2.cvtColor(img,cv2.COLOR_BGR2GRAY)\n",
    "ret,thresh=cv2.threshold(gray,127,255,0)\n",
    "im,contours,hi=cv2.findContours(thresh,cv2.RETR_TREE,cv2.CHAIN_APPROX_SIMPLE)\n",
    "c=contours[4]\n",
    "cv2.drawContours(img,contours,-1,(255,255,0),1)\n",
    "\n",
    "cv2.imshow('contours_img',img)\n",
    "cv2.waitKey(0)\n",
    "cv2.destroyAllWindows()"
   ]
  },
  {
   "cell_type": "markdown",
   "metadata": {},
   "source": [
    "### Contour Approximation Method\n",
    "- 3rd argument in cv2.findContours()\n",
    "- contours are theboundaries of a shape with the same intensity\n",
    "- It stores the (x,y) coordinates of the boundary of a shape. But does it store all the coordinates ? That is specified by this contour approximation method"
   ]
  },
  {
   "cell_type": "markdown",
   "metadata": {},
   "source": [
    "- If you pass cv2.CHAIN_APPROX_NONE, all the boundary points are stored."
   ]
  },
  {
   "cell_type": "code",
   "execution_count": 5,
   "metadata": {},
   "outputs": [],
   "source": [
    "import cv2\n",
    "img=cv2.imread(\"standard_test_images\\\\standard_test_images\\\\1.tif\")\n",
    "gray=cv2.cvtColor(img,cv2.COLOR_BGR2GRAY)\n",
    "ret,thresh=cv2.threshold(gray,127,255,0)"
   ]
  },
  {
   "cell_type": "code",
   "execution_count": 6,
   "metadata": {},
   "outputs": [
    {
     "data": {
      "text/plain": [
       "171"
      ]
     },
     "execution_count": 6,
     "metadata": {},
     "output_type": "execute_result"
    }
   ],
   "source": [
    "im,c1,hi=cv2.findContours(thresh,cv2.RETR_TREE,cv2.CHAIN_APPROX_SIMPLE)\n",
    "\n",
    "len(c1)\n"
   ]
  },
  {
   "cell_type": "code",
   "execution_count": 7,
   "metadata": {},
   "outputs": [
    {
     "data": {
      "text/plain": [
       "171"
      ]
     },
     "execution_count": 7,
     "metadata": {},
     "output_type": "execute_result"
    }
   ],
   "source": [
    "\n",
    "im,c2,hi=cv2.findContours(thresh,cv2.RETR_TREE,cv2.CHAIN_APPROX_NONE)\n",
    "\n",
    "len(c2)"
   ]
  },
  {
   "cell_type": "code",
   "execution_count": 8,
   "metadata": {},
   "outputs": [
    {
     "data": {
      "text/plain": [
       "171"
      ]
     },
     "execution_count": 8,
     "metadata": {},
     "output_type": "execute_result"
    }
   ],
   "source": [
    "\n",
    "im,c3,hi=cv2.findContours(thresh,cv2.RETR_TREE,cv2.CHAIN_APPROX_TC89_L1)\n",
    "len(c3)"
   ]
  },
  {
   "cell_type": "code",
   "execution_count": 9,
   "metadata": {},
   "outputs": [
    {
     "data": {
      "text/plain": [
       "171"
      ]
     },
     "execution_count": 9,
     "metadata": {},
     "output_type": "execute_result"
    }
   ],
   "source": [
    "\n",
    "im,c4,hi=cv2.findContours(thresh,cv2.RETR_TREE,cv2.CHAIN_APPROX_TC89_KCOS)\n",
    "len(c4)"
   ]
  },
  {
   "cell_type": "markdown",
   "metadata": {},
   "source": [
    "### contour features\n",
    "- features of contours like\n",
    "    - area\n",
    "    - perimeter\n",
    "    - centroid\n",
    "    - bounding box\n",
    "    etc\n",
    "- alot of functions related to conntours\n"
   ]
  },
  {
   "cell_type": "markdown",
   "metadata": {},
   "source": [
    "#### moments"
   ]
  },
  {
   "cell_type": "markdown",
   "metadata": {},
   "source": [
    "- image moments will help us to calculate some features like center of the object, area of the objetc etc.."
   ]
  },
  {
   "cell_type": "code",
   "execution_count": 26,
   "metadata": {},
   "outputs": [
    {
     "name": "stdout",
     "output_type": "stream",
     "text": [
      "{'m00': 136291.5, 'm10': 49639842.33333333, 'm01': 29354942.666666664, 'm20': 19321306820.416664, 'm11': 11280558407.541666, 'm02': 8935892891.75, 'm30': 7899119267466.2, 'm21': 4563550300651.017, 'm12': 3569901910740.65, 'm03': 3191584303835.3003, 'mu20': 1241573697.8214035, 'mu11': 588954560.8060093, 'mu02': 2613322086.0630207, 'mu30': -42459403614.36914, 'mu21': -26956642468.858856, 'mu12': 61585038555.01404, 'mu03': 141207255196.00244, 'nu20': 0.06683977219064227, 'nu11': 0.03170620378314107, 'nu02': 0.14068746237112428, 'nu30': -0.006191586739490763, 'nu21': -0.003930916966410148, 'nu12': 0.008980557323212363, 'nu03': 0.020591362439569844}\n"
     ]
    },
    {
     "data": {
      "text/plain": [
       "24"
      ]
     },
     "execution_count": 26,
     "metadata": {},
     "output_type": "execute_result"
    }
   ],
   "source": [
    "img=cv2.imread(\"standard_test_images\\\\standard_test_images\\\\gray.tiff\")\n",
    "gray=cv2.cvtColor(img,cv2.COLOR_BGR2GRAY)\n",
    "ret,thresh=cv2.threshold(gray,127,255,0)\n",
    "im,c1,hi=cv2.findContours(thresh,cv2.RETR_TREE,cv2.CHAIN_APPROX_SIMPLE)\n",
    "\n",
    "cnt=c1[0]\n",
    "m=cv2.moments(cnt)\n",
    "print(m)\n",
    "len(m)"
   ]
  },
  {
   "cell_type": "markdown",
   "metadata": {},
   "source": [
    "#### centroid"
   ]
  },
  {
   "cell_type": "markdown",
   "metadata": {},
   "source": [
    "- from this data we can extract usefull information like area, centroid etc..\n",
    "- Centroid equation is\n",
    "    - Cx=M10/M00\n",
    "    - Cy=M01/M00\n",
    "    "
   ]
  },
  {
   "cell_type": "code",
   "execution_count": 11,
   "metadata": {},
   "outputs": [
    {
     "data": {
      "text/plain": [
       "(364, 215)"
      ]
     },
     "execution_count": 11,
     "metadata": {},
     "output_type": "execute_result"
    }
   ],
   "source": [
    "cx=int(m['m10']/m['m00'])\n",
    "cy=int(m['m01']/m['m00'])\n",
    "cx,cy"
   ]
  },
  {
   "cell_type": "markdown",
   "metadata": {},
   "source": [
    "#### contour area\n"
   ]
  },
  {
   "cell_type": "code",
   "execution_count": 12,
   "metadata": {},
   "outputs": [
    {
     "data": {
      "text/plain": [
       "136291.5"
      ]
     },
     "execution_count": 12,
     "metadata": {},
     "output_type": "execute_result"
    }
   ],
   "source": [
    "area=cv2.contourArea(cnt)\n",
    "area\n"
   ]
  },
  {
   "cell_type": "markdown",
   "metadata": {},
   "source": [
    "#### contour perimeter"
   ]
  },
  {
   "cell_type": "markdown",
   "metadata": {},
   "source": [
    "- also called arc length.\n",
    "- we can use function cv2.arcLength()\n",
    "    - 1st argument is contours 0 th index values\n",
    "    - 2nd argument specify whether shape is a closed contour(True) or just a cures(False)"
   ]
  },
  {
   "cell_type": "code",
   "execution_count": 13,
   "metadata": {},
   "outputs": [
    {
     "data": {
      "text/plain": [
       "1701.4142135381699"
      ]
     },
     "execution_count": 13,
     "metadata": {},
     "output_type": "execute_result"
    }
   ],
   "source": [
    "perimeter=cv2.arcLength(cnt,True)\n",
    "perimeter"
   ]
  },
  {
   "cell_type": "markdown",
   "metadata": {},
   "source": [
    "#### contour approximation"
   ]
  },
  {
   "cell_type": "markdown",
   "metadata": {},
   "source": [
    "- It approximates a contour shape to another shape with less number of vertices depending upon the precision we specify.\n",
    "- It is an implementation of Douglas-Peucker algorithm"
   ]
  },
  {
   "cell_type": "code",
   "execution_count": 14,
   "metadata": {},
   "outputs": [
    {
     "data": {
      "text/plain": [
       "array([[[171,   0]],\n",
       "\n",
       "       [[511, 511]],\n",
       "\n",
       "       [[511,   0]]], dtype=int32)"
      ]
     },
     "execution_count": 14,
     "metadata": {},
     "output_type": "execute_result"
    }
   ],
   "source": [
    "eps=0.1*cv2.arcLength(cnt,True)\n",
    "approx=cv2.approxPolyDP(cnt,eps,True)\n",
    "approx"
   ]
  },
  {
   "cell_type": "code",
   "execution_count": null,
   "metadata": {},
   "outputs": [],
   "source": []
  }
 ],
 "metadata": {
  "kernelspec": {
   "display_name": "Python 3",
   "language": "python",
   "name": "python3"
  },
  "language_info": {
   "codemirror_mode": {
    "name": "ipython",
    "version": 3
   },
   "file_extension": ".py",
   "mimetype": "text/x-python",
   "name": "python",
   "nbconvert_exporter": "python",
   "pygments_lexer": "ipython3",
   "version": "3.7.1"
  }
 },
 "nbformat": 4,
 "nbformat_minor": 2
}
