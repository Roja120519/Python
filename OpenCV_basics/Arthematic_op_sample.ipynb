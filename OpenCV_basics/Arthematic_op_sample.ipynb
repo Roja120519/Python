{
 "cells": [
  {
   "cell_type": "markdown",
   "metadata": {},
   "source": [
    "### Arthematic Operations on images\n",
    "- Addition\n",
    "- Subtraction\n",
    "- multiplication\n",
    "- division\n"
   ]
  },
  {
   "cell_type": "code",
   "execution_count": 7,
   "metadata": {},
   "outputs": [],
   "source": [
    "import cv2\n",
    "import numpy as np\n",
    "import matplotlib.pyplot as plt\n",
    "\n",
    "img1=cv2.imread(\"standard_test_images\\\\standard_test_images\\\\1.tiff\")\n",
    "img2=cv2.imread(\"standard_test_images\\\\standard_test_images\\\\3.tiff\")\n",
    "\n",
    "add=img1+img2\n",
    "sub=img1-img2\n",
    "mul=img1*img2\n",
    "div=img1/img2\n",
    "\n",
    "names=[add,sub,mul,div]\n",
    "titles=['add','sub','mul','div']\n",
    "for i in range(0,len(names),1):\n",
    "    cv2.imshow(titles[i],names[i])\n",
    "    \n",
    "cv2.waitKey(0)\n",
    "cv2.destroyAllWindows()"
   ]
  },
  {
   "cell_type": "code",
   "execution_count": 5,
   "metadata": {},
   "outputs": [
    {
     "data": {
      "text/plain": [
       "(256, 256, 3)"
      ]
     },
     "execution_count": 5,
     "metadata": {},
     "output_type": "execute_result"
    }
   ],
   "source": [
    "img1=cv2.imread(\"standard_test_images\\\\standard_test_images\\\\3.tiff\")\n",
    "img1.shape\n"
   ]
  },
  {
   "cell_type": "code",
   "execution_count": null,
   "metadata": {},
   "outputs": [],
   "source": []
  }
 ],
 "metadata": {
  "kernelspec": {
   "display_name": "Python 3",
   "language": "python",
   "name": "python3"
  },
  "language_info": {
   "codemirror_mode": {
    "name": "ipython",
    "version": 3
   },
   "file_extension": ".py",
   "mimetype": "text/x-python",
   "name": "python",
   "nbconvert_exporter": "python",
   "pygments_lexer": "ipython3",
   "version": "3.7.1"
  }
 },
 "nbformat": 4,
 "nbformat_minor": 2
}
