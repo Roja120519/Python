{
  "nbformat": 4,
  "nbformat_minor": 0,
  "metadata": {
    "colab": {
      "name": "introduct_to_numpy.ipynb",
      "provenance": [],
      "collapsed_sections": [],
      "authorship_tag": "ABX9TyO/qL6Rk3PwR3PXvTTOXlwS",
      "include_colab_link": true
    },
    "kernelspec": {
      "name": "python3",
      "display_name": "Python 3"
    }
  },
  "cells": [
    {
      "cell_type": "markdown",
      "metadata": {
        "id": "view-in-github",
        "colab_type": "text"
      },
      "source": [
        "<a href=\"https://colab.research.google.com/github/Roja120519/Python/blob/master/python%20data%20science%20handbook/introduct_to_numpy.ipynb\" target=\"_parent\"><img src=\"https://colab.research.google.com/assets/colab-badge.svg\" alt=\"Open In Colab\"/></a>"
      ]
    },
    {
      "cell_type": "markdown",
      "metadata": {
        "id": "mEhBVtLicejI"
      },
      "source": [
        "**Introduction to NumPy** "
      ]
    },
    {
      "cell_type": "markdown",
      "metadata": {
        "id": "7UNFKkW_arcF"
      },
      "source": [
        "Techniques for effectively loading, stor‐ ing, and manipulating in-memory data in Python. The topic is very broad: datasets can come from a wide range of sources and a wide range of formats, including collec‐ tions of documents, collections of images, collections of sound clips, collections of numerical measurements, or nearly anything else. Despite this apparent heterogene‐ ity, it will help us to think of all data fundamentally as arrays of numbers"
      ]
    },
    {
      "cell_type": "markdown",
      "metadata": {
        "id": "aVhHQusfcD-B"
      },
      "source": [
        "images—particularly digital images—can be thought of as simply two- dimensional arrays of numbers representing pixel brightness across the area. Sound clips can be thought of as one-dimensional arrays of intensity versus time. Text can be converted in various ways into numerical representations, perhaps binary digits rep‐ resenting the frequency of certain words or pairs of words. No matter what the data are, the first step in making them analyzable will be to transform them into arrays of numbers"
      ]
    },
    {
      "cell_type": "markdown",
      "metadata": {
        "id": "iBLbR5gRz7mU"
      },
      "source": [
        "NumPy (short for Numerical Python) pro‐ vides an efficient interface to store and operate on dense data buffers. In some ways, NumPy arrays are like Python’s built-in list type, but NumPy arrays provide much more efficient storage and data operations as the arrays grow larger in size. NumPy arrays form the core of nearly the entire ecosystem of data science tools in Python, so time spent learning to use NumPy effectively will be valuable no matter what aspect of data science interests you."
      ]
    },
    {
      "cell_type": "code",
      "metadata": {
        "id": "WI2m-CM7bJUN",
        "outputId": "81b09cef-8f5c-41c2-f74e-b8157892ecde",
        "colab": {
          "base_uri": "https://localhost:8080/",
          "height": 816
        }
      },
      "source": [
        "import numpy as np\n",
        "for i in dir(dir(np)):\n",
        "  print(i)"
      ],
      "execution_count": null,
      "outputs": [
        {
          "output_type": "stream",
          "text": [
            "__add__\n",
            "__class__\n",
            "__contains__\n",
            "__delattr__\n",
            "__delitem__\n",
            "__dir__\n",
            "__doc__\n",
            "__eq__\n",
            "__format__\n",
            "__ge__\n",
            "__getattribute__\n",
            "__getitem__\n",
            "__gt__\n",
            "__hash__\n",
            "__iadd__\n",
            "__imul__\n",
            "__init__\n",
            "__init_subclass__\n",
            "__iter__\n",
            "__le__\n",
            "__len__\n",
            "__lt__\n",
            "__mul__\n",
            "__ne__\n",
            "__new__\n",
            "__reduce__\n",
            "__reduce_ex__\n",
            "__repr__\n",
            "__reversed__\n",
            "__rmul__\n",
            "__setattr__\n",
            "__setitem__\n",
            "__sizeof__\n",
            "__str__\n",
            "__subclasshook__\n",
            "append\n",
            "clear\n",
            "copy\n",
            "count\n",
            "extend\n",
            "index\n",
            "insert\n",
            "pop\n",
            "remove\n",
            "reverse\n",
            "sort\n"
          ],
          "name": "stdout"
        }
      ]
    },
    {
      "cell_type": "code",
      "metadata": {
        "id": "JTjSFeat0Onv",
        "outputId": "ca86ab94-37a2-47ba-e668-dcadff7418e9",
        "colab": {
          "base_uri": "https://localhost:8080/",
          "height": 34
        }
      },
      "source": [
        "np.__version__\n"
      ],
      "execution_count": null,
      "outputs": [
        {
          "output_type": "execute_result",
          "data": {
            "text/plain": [
              "'1.18.4'"
            ]
          },
          "metadata": {
            "tags": []
          },
          "execution_count": 334
        }
      ]
    },
    {
      "cell_type": "code",
      "metadata": {
        "id": "0FguA7Ll0Sw7"
      },
      "source": [
        "np?"
      ],
      "execution_count": null,
      "outputs": []
    },
    {
      "cell_type": "markdown",
      "metadata": {
        "id": "FEjsqPPl14Q7"
      },
      "source": [
        "**A Python List Is More Than Just a List**\n",
        "\n",
        "standard mutable multielement container in Python is the list."
      ]
    },
    {
      "cell_type": "code",
      "metadata": {
        "id": "i0gojxpc0hD9",
        "outputId": "fb03cfb7-b91b-4f2b-fbe2-6a964e5d697d",
        "colab": {
          "base_uri": "https://localhost:8080/",
          "height": 34
        }
      },
      "source": [
        "l= list(range(5))\n",
        "l"
      ],
      "execution_count": null,
      "outputs": [
        {
          "output_type": "execute_result",
          "data": {
            "text/plain": [
              "[0, 1, 2, 3, 4]"
            ]
          },
          "metadata": {
            "tags": []
          },
          "execution_count": 336
        }
      ]
    },
    {
      "cell_type": "code",
      "metadata": {
        "id": "r3ftRktJ869m",
        "outputId": "02d71144-57f4-4058-a941-768e46c1fb1c",
        "colab": {
          "base_uri": "https://localhost:8080/",
          "height": 34
        }
      },
      "source": [
        "list(range(10, 20))"
      ],
      "execution_count": null,
      "outputs": [
        {
          "output_type": "execute_result",
          "data": {
            "text/plain": [
              "[10, 11, 12, 13, 14, 15, 16, 17, 18, 19]"
            ]
          },
          "metadata": {
            "tags": []
          },
          "execution_count": 337
        }
      ]
    },
    {
      "cell_type": "code",
      "metadata": {
        "id": "LtYvvpGL9ALA",
        "outputId": "baa84f6f-84f3-4e60-9cd0-4c86ce366d1f",
        "colab": {
          "base_uri": "https://localhost:8080/",
          "height": 34
        }
      },
      "source": [
        "list(range(10, 20, 2))"
      ],
      "execution_count": null,
      "outputs": [
        {
          "output_type": "execute_result",
          "data": {
            "text/plain": [
              "[10, 12, 14, 16, 18]"
            ]
          },
          "metadata": {
            "tags": []
          },
          "execution_count": 338
        }
      ]
    },
    {
      "cell_type": "code",
      "metadata": {
        "id": "cEBE0DwL2SB5",
        "outputId": "2b76c323-0950-4f31-ee80-a609a7145743",
        "colab": {
          "base_uri": "https://localhost:8080/",
          "height": 34
        }
      },
      "source": [
        "type(l)"
      ],
      "execution_count": null,
      "outputs": [
        {
          "output_type": "execute_result",
          "data": {
            "text/plain": [
              "list"
            ]
          },
          "metadata": {
            "tags": []
          },
          "execution_count": 339
        }
      ]
    },
    {
      "cell_type": "code",
      "metadata": {
        "id": "iZJ5-0Du2e5P",
        "outputId": "ea49e052-38e8-4f43-d253-3c9d09864571",
        "colab": {
          "base_uri": "https://localhost:8080/",
          "height": 34
        }
      },
      "source": [
        "type(l[0])"
      ],
      "execution_count": null,
      "outputs": [
        {
          "output_type": "execute_result",
          "data": {
            "text/plain": [
              "int"
            ]
          },
          "metadata": {
            "tags": []
          },
          "execution_count": 340
        }
      ]
    },
    {
      "cell_type": "code",
      "metadata": {
        "id": "QB988ZoR2gk1",
        "outputId": "51843612-0e59-415a-9788-94eb7de07476",
        "colab": {
          "base_uri": "https://localhost:8080/",
          "height": 34
        }
      },
      "source": [
        "ll = [str(i) for i in l]\n",
        "ll"
      ],
      "execution_count": null,
      "outputs": [
        {
          "output_type": "execute_result",
          "data": {
            "text/plain": [
              "['0', '1', '2', '3', '4']"
            ]
          },
          "metadata": {
            "tags": []
          },
          "execution_count": 341
        }
      ]
    },
    {
      "cell_type": "code",
      "metadata": {
        "id": "UcOOut_W2yC3",
        "outputId": "0e5ebe87-56ea-49b3-870a-b1e35bf7ce7c",
        "colab": {
          "base_uri": "https://localhost:8080/",
          "height": 52
        }
      },
      "source": [
        "print(\"type of ll: \", type(ll))\n",
        "print(\"type of ll[0]: \", type(ll[0]))"
      ],
      "execution_count": null,
      "outputs": [
        {
          "output_type": "stream",
          "text": [
            "type of ll:  <class 'list'>\n",
            "type of ll[0]:  <class 'str'>\n"
          ],
          "name": "stdout"
        }
      ]
    },
    {
      "cell_type": "code",
      "metadata": {
        "id": "DXAbS3BI29FY",
        "outputId": "8e9763b2-1af2-4340-be21-a6897433e73a",
        "colab": {
          "base_uri": "https://localhost:8080/",
          "height": 34
        }
      },
      "source": [
        "arr = [True, 0.00, 4.0, 5.5, 4, '123', 'lally']\n",
        "typesOfArr = []\n",
        "for i in arr:\n",
        "  typesOfArr.append(type(i))\n",
        "print(typesOfArr)"
      ],
      "execution_count": null,
      "outputs": [
        {
          "output_type": "stream",
          "text": [
            "[<class 'bool'>, <class 'float'>, <class 'float'>, <class 'float'>, <class 'int'>, <class 'str'>, <class 'str'>]\n"
          ],
          "name": "stdout"
        }
      ]
    },
    {
      "cell_type": "markdown",
      "metadata": {
        "id": "lj046fKI4JtB"
      },
      "source": [
        "**Creating Arrays from Python Lists**"
      ]
    },
    {
      "cell_type": "code",
      "metadata": {
        "id": "YkOXRc_X3h0c",
        "outputId": "bd7dd6d0-de91-49c9-ed36-9e67e2144c6b",
        "colab": {
          "base_uri": "https://localhost:8080/",
          "height": 69
        }
      },
      "source": [
        "arr = np.array(l)\n",
        "print(l)\n",
        "print(\"type of l: \", type(l))\n",
        "print(\"type of arr: \", type(arr))"
      ],
      "execution_count": null,
      "outputs": [
        {
          "output_type": "stream",
          "text": [
            "[0, 1, 2, 3, 4]\n",
            "type of l:  <class 'list'>\n",
            "type of arr:  <class 'numpy.ndarray'>\n"
          ],
          "name": "stdout"
        }
      ]
    },
    {
      "cell_type": "markdown",
      "metadata": {
        "id": "Lw1PlJT45H1W"
      },
      "source": [
        "**unlike Python lists, NumPy is constrained to arrays that all contain the same type. If types do not match, NumPy will upcast if possible**"
      ]
    },
    {
      "cell_type": "code",
      "metadata": {
        "id": "3PiLeN-Y4TBJ",
        "outputId": "f6be8677-db5b-4322-fbf2-6db4e00ba38d",
        "colab": {
          "base_uri": "https://localhost:8080/",
          "height": 34
        }
      },
      "source": [
        "arr = [1, 3, 5, 3.3, 6]\n",
        "np.array(arr)"
      ],
      "execution_count": null,
      "outputs": [
        {
          "output_type": "execute_result",
          "data": {
            "text/plain": [
              "array([1. , 3. , 5. , 3.3, 6. ])"
            ]
          },
          "metadata": {
            "tags": []
          },
          "execution_count": 345
        }
      ]
    },
    {
      "cell_type": "code",
      "metadata": {
        "id": "YgfBZF3Z6LOf",
        "outputId": "1aad2c0e-7507-4438-aa51-1982ad835c04",
        "colab": {
          "base_uri": "https://localhost:8080/",
          "height": 34
        }
      },
      "source": [
        "arr = [True, 1.1, 3, 'roja']\n",
        "np.array(arr)"
      ],
      "execution_count": null,
      "outputs": [
        {
          "output_type": "execute_result",
          "data": {
            "text/plain": [
              "array(['True', '1.1', '3', 'roja'], dtype='<U32')"
            ]
          },
          "metadata": {
            "tags": []
          },
          "execution_count": 346
        }
      ]
    },
    {
      "cell_type": "code",
      "metadata": {
        "id": "jeWhsOYQ6op9",
        "outputId": "0a12363b-1a2e-4616-f9b4-6d666cff7310",
        "colab": {
          "base_uri": "https://localhost:8080/",
          "height": 34
        }
      },
      "source": [
        "arr = [True, 1.1, 3]\n",
        "np.array(arr)"
      ],
      "execution_count": null,
      "outputs": [
        {
          "output_type": "execute_result",
          "data": {
            "text/plain": [
              "array([1. , 1.1, 3. ])"
            ]
          },
          "metadata": {
            "tags": []
          },
          "execution_count": 347
        }
      ]
    },
    {
      "cell_type": "code",
      "metadata": {
        "id": "6tii67QF6_2Z",
        "outputId": "a702fc89-8637-4cdc-e28c-cf2c988ad3a4",
        "colab": {
          "base_uri": "https://localhost:8080/",
          "height": 34
        }
      },
      "source": [
        "arr = [False, 1.1, 3]\n",
        "np.array(arr)"
      ],
      "execution_count": null,
      "outputs": [
        {
          "output_type": "execute_result",
          "data": {
            "text/plain": [
              "array([0. , 1.1, 3. ])"
            ]
          },
          "metadata": {
            "tags": []
          },
          "execution_count": 348
        }
      ]
    },
    {
      "cell_type": "code",
      "metadata": {
        "id": "VRYbmMTq7Us1",
        "outputId": "f5fc7f61-df57-4bad-9cd6-b25aee6bc716",
        "colab": {
          "base_uri": "https://localhost:8080/",
          "height": 34
        }
      },
      "source": [
        "arr = [True, False, True]\n",
        "np.array(arr)"
      ],
      "execution_count": null,
      "outputs": [
        {
          "output_type": "execute_result",
          "data": {
            "text/plain": [
              "array([ True, False,  True])"
            ]
          },
          "metadata": {
            "tags": []
          },
          "execution_count": 349
        }
      ]
    },
    {
      "cell_type": "code",
      "metadata": {
        "id": "wdDjHsjt7iQf",
        "outputId": "12f68ebe-dc47-4fd0-ea04-16211409e46a",
        "colab": {
          "base_uri": "https://localhost:8080/",
          "height": 34
        }
      },
      "source": [
        "np.array([1, 2, 3, 4], dtype='float32')"
      ],
      "execution_count": null,
      "outputs": [
        {
          "output_type": "execute_result",
          "data": {
            "text/plain": [
              "array([1., 2., 3., 4.], dtype=float32)"
            ]
          },
          "metadata": {
            "tags": []
          },
          "execution_count": 350
        }
      ]
    },
    {
      "cell_type": "code",
      "metadata": {
        "id": "lGzECKwM8QRL",
        "outputId": "3c4ab7a8-ce9f-48a0-8c7b-eb04b41ad02c",
        "colab": {
          "base_uri": "https://localhost:8080/",
          "height": 34
        }
      },
      "source": [
        "np.array([1, 2, 3, 4], dtype='float64')"
      ],
      "execution_count": null,
      "outputs": [
        {
          "output_type": "execute_result",
          "data": {
            "text/plain": [
              "array([1., 2., 3., 4.])"
            ]
          },
          "metadata": {
            "tags": []
          },
          "execution_count": 351
        }
      ]
    },
    {
      "cell_type": "markdown",
      "metadata": {
        "id": "or8V299V9aWs"
      },
      "source": [
        "**Multidimensional array**"
      ]
    },
    {
      "cell_type": "code",
      "metadata": {
        "id": "TxwnFQti8TwE",
        "outputId": "2f4f70ca-8658-4523-c6ce-b01d850f8601",
        "colab": {
          "base_uri": "https://localhost:8080/",
          "height": 34
        }
      },
      "source": [
        "list([range(i, i+20, 2) for i in [1,2,3]])"
      ],
      "execution_count": null,
      "outputs": [
        {
          "output_type": "execute_result",
          "data": {
            "text/plain": [
              "[range(1, 21, 2), range(2, 22, 2), range(3, 23, 2)]"
            ]
          },
          "metadata": {
            "tags": []
          },
          "execution_count": 352
        }
      ]
    },
    {
      "cell_type": "code",
      "metadata": {
        "id": "9QPe7OwN8WoQ",
        "outputId": "5ad0b418-fd21-40cd-cfaa-f5685aa17f2e",
        "colab": {
          "base_uri": "https://localhost:8080/",
          "height": 69
        }
      },
      "source": [
        "np.array([range(i, i + 10, 2) for i in [1, 2, 3]])"
      ],
      "execution_count": null,
      "outputs": [
        {
          "output_type": "execute_result",
          "data": {
            "text/plain": [
              "array([[ 1,  3,  5,  7,  9],\n",
              "       [ 2,  4,  6,  8, 10],\n",
              "       [ 3,  5,  7,  9, 11]])"
            ]
          },
          "metadata": {
            "tags": []
          },
          "execution_count": 353
        }
      ]
    },
    {
      "cell_type": "markdown",
      "metadata": {
        "id": "V6dmDCBB-NWZ"
      },
      "source": [
        "**Creating Arrays from Scratch**"
      ]
    },
    {
      "cell_type": "code",
      "metadata": {
        "id": "mHSj4mki95AB",
        "outputId": "8b1abf54-9bac-41ff-a83d-076c619f5555",
        "colab": {
          "base_uri": "https://localhost:8080/",
          "height": 34
        }
      },
      "source": [
        "np.zeros(10)"
      ],
      "execution_count": null,
      "outputs": [
        {
          "output_type": "execute_result",
          "data": {
            "text/plain": [
              "array([0., 0., 0., 0., 0., 0., 0., 0., 0., 0.])"
            ]
          },
          "metadata": {
            "tags": []
          },
          "execution_count": 354
        }
      ]
    },
    {
      "cell_type": "code",
      "metadata": {
        "id": "By-lW_Lw-Yy9",
        "outputId": "e2bdff15-c174-4a69-ff50-db57f1efb794",
        "colab": {
          "base_uri": "https://localhost:8080/",
          "height": 34
        }
      },
      "source": [
        "np.zeros(10, dtype=int)"
      ],
      "execution_count": null,
      "outputs": [
        {
          "output_type": "execute_result",
          "data": {
            "text/plain": [
              "array([0, 0, 0, 0, 0, 0, 0, 0, 0, 0])"
            ]
          },
          "metadata": {
            "tags": []
          },
          "execution_count": 355
        }
      ]
    },
    {
      "cell_type": "code",
      "metadata": {
        "id": "TnO5YY5Z-eik",
        "outputId": "dbd7959c-21df-416d-a9ad-b85e5f89a6d1",
        "colab": {
          "base_uri": "https://localhost:8080/",
          "height": 52
        }
      },
      "source": [
        "np.zeros((2,5), dtype=float)"
      ],
      "execution_count": null,
      "outputs": [
        {
          "output_type": "execute_result",
          "data": {
            "text/plain": [
              "array([[0., 0., 0., 0., 0.],\n",
              "       [0., 0., 0., 0., 0.]])"
            ]
          },
          "metadata": {
            "tags": []
          },
          "execution_count": 356
        }
      ]
    },
    {
      "cell_type": "markdown",
      "metadata": {
        "id": "8nZEMvyx-qzh"
      },
      "source": [
        "Creating an array with dimentions 2 x 4 value as 10"
      ]
    },
    {
      "cell_type": "code",
      "metadata": {
        "id": "pUh2l1UB-md8",
        "outputId": "cb452256-edbc-46fd-9145-909a5f955bf7",
        "colab": {
          "base_uri": "https://localhost:8080/",
          "height": 52
        }
      },
      "source": [
        "np.full((2,4), 10)"
      ],
      "execution_count": null,
      "outputs": [
        {
          "output_type": "execute_result",
          "data": {
            "text/plain": [
              "array([[10, 10, 10, 10],\n",
              "       [10, 10, 10, 10]])"
            ]
          },
          "metadata": {
            "tags": []
          },
          "execution_count": 357
        }
      ]
    },
    {
      "cell_type": "markdown",
      "metadata": {
        "id": "Yz4SK14i_HOy"
      },
      "source": [
        "\n",
        "\n",
        "\n",
        "*   Create an array filled with a linear sequence\n",
        "*   Starting at 100, ending at 150, stepping by 2\n",
        "\n"
      ]
    },
    {
      "cell_type": "code",
      "metadata": {
        "id": "JLshAV9N-66J",
        "outputId": "5c3a70b7-56bd-40b2-e423-33b52a77624c",
        "colab": {
          "base_uri": "https://localhost:8080/",
          "height": 52
        }
      },
      "source": [
        "np.arange(100, 150, 2)"
      ],
      "execution_count": null,
      "outputs": [
        {
          "output_type": "execute_result",
          "data": {
            "text/plain": [
              "array([100, 102, 104, 106, 108, 110, 112, 114, 116, 118, 120, 122, 124,\n",
              "       126, 128, 130, 132, 134, 136, 138, 140, 142, 144, 146, 148])"
            ]
          },
          "metadata": {
            "tags": []
          },
          "execution_count": 358
        }
      ]
    },
    {
      "cell_type": "markdown",
      "metadata": {
        "id": "ISmLITo9_eAu"
      },
      "source": [
        "**Create an array of five values evenly spaced between 0 and 1**"
      ]
    },
    {
      "cell_type": "code",
      "metadata": {
        "id": "OmLZfeq3_Ym7",
        "outputId": "879f6c86-ef29-4b44-a2e4-cb52fb78ea0f",
        "colab": {
          "base_uri": "https://localhost:8080/",
          "height": 86
        }
      },
      "source": [
        "np.linspace(10, 20, 20)"
      ],
      "execution_count": null,
      "outputs": [
        {
          "output_type": "execute_result",
          "data": {
            "text/plain": [
              "array([10.        , 10.52631579, 11.05263158, 11.57894737, 12.10526316,\n",
              "       12.63157895, 13.15789474, 13.68421053, 14.21052632, 14.73684211,\n",
              "       15.26315789, 15.78947368, 16.31578947, 16.84210526, 17.36842105,\n",
              "       17.89473684, 18.42105263, 18.94736842, 19.47368421, 20.        ])"
            ]
          },
          "metadata": {
            "tags": []
          },
          "execution_count": 359
        }
      ]
    },
    {
      "cell_type": "markdown",
      "metadata": {
        "id": "eLX9SDNE_625"
      },
      "source": [
        "Create a 3x3 array of uniformly distributed\n",
        "\n",
        "random values between 0 and 1"
      ]
    },
    {
      "cell_type": "code",
      "metadata": {
        "id": "iknxuo4Y_ndI",
        "outputId": "42992b3d-e81a-4812-b007-92c5aabcd615",
        "colab": {
          "base_uri": "https://localhost:8080/",
          "height": 69
        }
      },
      "source": [
        "np.random.random((3,3))"
      ],
      "execution_count": null,
      "outputs": [
        {
          "output_type": "execute_result",
          "data": {
            "text/plain": [
              "array([[0.94714747, 0.53716489, 0.12097735],\n",
              "       [0.64688009, 0.96519898, 0.85538395],\n",
              "       [0.35726757, 0.94681167, 0.16784316]])"
            ]
          },
          "metadata": {
            "tags": []
          },
          "execution_count": 360
        }
      ]
    },
    {
      "cell_type": "markdown",
      "metadata": {
        "id": "OPPvH7FTXfSW"
      },
      "source": [
        "Create a 3x3 array of normally distributed random values\n",
        "\n",
        "with mean 0 and standard deviation 1"
      ]
    },
    {
      "cell_type": "code",
      "metadata": {
        "id": "OKTaWbTLW11p",
        "outputId": "1f2712fb-8d1d-412f-969d-363760b31d9f",
        "colab": {
          "base_uri": "https://localhost:8080/",
          "height": 69
        }
      },
      "source": [
        "np.random.normal(0, 1, (3,3))"
      ],
      "execution_count": null,
      "outputs": [
        {
          "output_type": "execute_result",
          "data": {
            "text/plain": [
              "array([[-1.34041712,  1.16946082, -3.04011868],\n",
              "       [ 0.91954919, -1.26422042, -2.48131351],\n",
              "       [ 0.30757156,  0.438019  , -1.74661903]])"
            ]
          },
          "metadata": {
            "tags": []
          },
          "execution_count": 361
        }
      ]
    },
    {
      "cell_type": "code",
      "metadata": {
        "id": "r8tJgpNeXll5",
        "outputId": "3ee0d8aa-dc47-432b-a1ec-cb4dcaf6e32c",
        "colab": {
          "base_uri": "https://localhost:8080/",
          "height": 34
        }
      },
      "source": [
        "np.random.randint(1,10)"
      ],
      "execution_count": null,
      "outputs": [
        {
          "output_type": "execute_result",
          "data": {
            "text/plain": [
              "3"
            ]
          },
          "metadata": {
            "tags": []
          },
          "execution_count": 362
        }
      ]
    },
    {
      "cell_type": "code",
      "metadata": {
        "id": "Big2ELtzX2cQ",
        "outputId": "78ed5bfa-28a8-476d-fb08-4ba110bbad0c",
        "colab": {
          "base_uri": "https://localhost:8080/",
          "height": 86
        }
      },
      "source": [
        "np.random.randn(1, 10)"
      ],
      "execution_count": null,
      "outputs": [
        {
          "output_type": "execute_result",
          "data": {
            "text/plain": [
              "array([[ 2.71102702e+00, -6.81069711e-01, -4.21058337e-01,\n",
              "         1.03070713e-01, -1.55643099e+00, -1.19814421e-03,\n",
              "         1.69428658e-01,  1.39110829e+00, -9.89891359e-01,\n",
              "         3.90557225e-01]])"
            ]
          },
          "metadata": {
            "tags": []
          },
          "execution_count": 363
        }
      ]
    },
    {
      "cell_type": "markdown",
      "metadata": {
        "id": "sdG59KBRYccP"
      },
      "source": [
        "create a 3x3 array of random integers in the interval [0, 10]"
      ]
    },
    {
      "cell_type": "code",
      "metadata": {
        "id": "bKKNUk4HYOzj",
        "outputId": "7290663f-3968-45dc-fa34-5eedda57f1cd",
        "colab": {
          "base_uri": "https://localhost:8080/",
          "height": 69
        }
      },
      "source": [
        "np.random.randint(0, 10, (3,3))"
      ],
      "execution_count": null,
      "outputs": [
        {
          "output_type": "execute_result",
          "data": {
            "text/plain": [
              "array([[3, 9, 7],\n",
              "       [3, 8, 7],\n",
              "       [7, 5, 7]])"
            ]
          },
          "metadata": {
            "tags": []
          },
          "execution_count": 364
        }
      ]
    },
    {
      "cell_type": "markdown",
      "metadata": {
        "id": "F20G4Q9RYseJ"
      },
      "source": [
        "Create a 3x3 identity matrix"
      ]
    },
    {
      "cell_type": "code",
      "metadata": {
        "id": "SpBY6ABHYipz",
        "outputId": "843b9299-a831-4c32-944c-7c0bab9d7942",
        "colab": {
          "base_uri": "https://localhost:8080/",
          "height": 69
        }
      },
      "source": [
        "np.eye(3)"
      ],
      "execution_count": null,
      "outputs": [
        {
          "output_type": "execute_result",
          "data": {
            "text/plain": [
              "array([[1., 0., 0.],\n",
              "       [0., 1., 0.],\n",
              "       [0., 0., 1.]])"
            ]
          },
          "metadata": {
            "tags": []
          },
          "execution_count": 365
        }
      ]
    },
    {
      "cell_type": "code",
      "metadata": {
        "id": "4WS_TEU-YvM5",
        "outputId": "dbd6a7ac-740f-4e62-f84d-e7a69d27756c",
        "colab": {
          "base_uri": "https://localhost:8080/",
          "height": 104
        }
      },
      "source": [
        "np.eye(5)"
      ],
      "execution_count": null,
      "outputs": [
        {
          "output_type": "execute_result",
          "data": {
            "text/plain": [
              "array([[1., 0., 0., 0., 0.],\n",
              "       [0., 1., 0., 0., 0.],\n",
              "       [0., 0., 1., 0., 0.],\n",
              "       [0., 0., 0., 1., 0.],\n",
              "       [0., 0., 0., 0., 1.]])"
            ]
          },
          "metadata": {
            "tags": []
          },
          "execution_count": 366
        }
      ]
    },
    {
      "cell_type": "markdown",
      "metadata": {
        "id": "sd3nXUQPZBWM"
      },
      "source": [
        "Create an uninitialized array of three integers\n",
        "\n",
        "The values will be whatever happens to already exist at that memory location"
      ]
    },
    {
      "cell_type": "code",
      "metadata": {
        "id": "iZ8xEnB7Y11A",
        "outputId": "166c3f9c-c737-44cf-a682-8fd405a20dd6",
        "colab": {
          "base_uri": "https://localhost:8080/",
          "height": 34
        }
      },
      "source": [
        "np.empty((3))"
      ],
      "execution_count": null,
      "outputs": [
        {
          "output_type": "execute_result",
          "data": {
            "text/plain": [
              "array([1., 1., 1.])"
            ]
          },
          "metadata": {
            "tags": []
          },
          "execution_count": 367
        }
      ]
    },
    {
      "cell_type": "code",
      "metadata": {
        "id": "VxoVXnoHZGMA",
        "outputId": "69551082-b369-4d47-e983-581fcd89c43f",
        "colab": {
          "base_uri": "https://localhost:8080/",
          "height": 69
        }
      },
      "source": [
        "np.empty((3,2))"
      ],
      "execution_count": null,
      "outputs": [
        {
          "output_type": "execute_result",
          "data": {
            "text/plain": [
              "array([[ 38.08363636,  82.50447395],\n",
              "       [126.92531154, 171.34614913],\n",
              "       [215.76698672, 241.64      ]])"
            ]
          },
          "metadata": {
            "tags": []
          },
          "execution_count": 368
        }
      ]
    },
    {
      "cell_type": "code",
      "metadata": {
        "id": "elLyzIuoZJl3",
        "outputId": "c2e4764c-db7a-43cc-9edb-83779a3ef6e9",
        "colab": {
          "base_uri": "https://localhost:8080/",
          "height": 34
        }
      },
      "source": [
        "np.empty(2)"
      ],
      "execution_count": null,
      "outputs": [
        {
          "output_type": "execute_result",
          "data": {
            "text/plain": [
              "array([1.5e-323, 1.5e-323])"
            ]
          },
          "metadata": {
            "tags": []
          },
          "execution_count": 369
        }
      ]
    },
    {
      "cell_type": "code",
      "metadata": {
        "id": "YMNshCcxZT9b",
        "outputId": "b87a96ee-ace1-4076-bfc7-bfa130e09bce",
        "colab": {
          "base_uri": "https://localhost:8080/",
          "height": 34
        }
      },
      "source": [
        "np.empty(1)"
      ],
      "execution_count": null,
      "outputs": [
        {
          "output_type": "execute_result",
          "data": {
            "text/plain": [
              "array([1.5e-323])"
            ]
          },
          "metadata": {
            "tags": []
          },
          "execution_count": 370
        }
      ]
    },
    {
      "cell_type": "code",
      "metadata": {
        "id": "0wY_FsKnZY5v",
        "outputId": "987fd122-7a9b-438a-8f47-ccad0f1fbac5",
        "colab": {
          "base_uri": "https://localhost:8080/",
          "height": 52
        }
      },
      "source": [
        "np.empty((2,1))"
      ],
      "execution_count": null,
      "outputs": [
        {
          "output_type": "execute_result",
          "data": {
            "text/plain": [
              "array([[1.5e-323],\n",
              "       [1.5e-323]])"
            ]
          },
          "metadata": {
            "tags": []
          },
          "execution_count": 371
        }
      ]
    },
    {
      "cell_type": "code",
      "metadata": {
        "id": "WVqOPy6uZbQi",
        "outputId": "14b8f418-333c-43cc-a8f1-c14128abb24a",
        "colab": {
          "base_uri": "https://localhost:8080/",
          "height": 34
        }
      },
      "source": [
        "np.ones(10, dtype='int16')"
      ],
      "execution_count": null,
      "outputs": [
        {
          "output_type": "execute_result",
          "data": {
            "text/plain": [
              "array([1, 1, 1, 1, 1, 1, 1, 1, 1, 1], dtype=int16)"
            ]
          },
          "metadata": {
            "tags": []
          },
          "execution_count": 372
        }
      ]
    },
    {
      "cell_type": "code",
      "metadata": {
        "id": "sy5S4dezZtYV",
        "outputId": "af9a9be1-d860-42b0-8e6e-feae42415fe1",
        "colab": {
          "base_uri": "https://localhost:8080/",
          "height": 34
        }
      },
      "source": [
        "np.zeros(10, dtype='float32')"
      ],
      "execution_count": null,
      "outputs": [
        {
          "output_type": "execute_result",
          "data": {
            "text/plain": [
              "array([0., 0., 0., 0., 0., 0., 0., 0., 0., 0.], dtype=float32)"
            ]
          },
          "metadata": {
            "tags": []
          },
          "execution_count": 373
        }
      ]
    },
    {
      "cell_type": "markdown",
      "metadata": {
        "id": "VWqr76xnaGcN"
      },
      "source": [
        "**Basics of NumPy Arrays**"
      ]
    },
    {
      "cell_type": "markdown",
      "metadata": {
        "id": "t5g6ARyWaQTn"
      },
      "source": [
        "**Attributes of arrays**\n",
        "\n",
        "*   size\n",
        "*   shape\n",
        "*   memory consumption\n",
        "*   data types of arrays\n",
        "\n",
        "**Indexing of arrays**\n",
        "\n",
        "* Getting and setting the value of individual array elements\n",
        "\n",
        "**Slicing of arrays**\n",
        "\n",
        "* Getting and setting smaller subarrays within a larger array\n",
        "\n",
        "**Reshaping of arrays**\n",
        "\n",
        "* Changing the shape of a given array\n",
        "\n",
        "**Joining and splitting of arrays**\n",
        "\n",
        "* Combining multiple arrays into one, and splitting one array into many\n",
        "\n",
        "\n",
        "\n",
        "\n"
      ]
    },
    {
      "cell_type": "markdown",
      "metadata": {
        "id": "IqBXZZWjbl-n"
      },
      "source": [
        "NumPy’s random number generator, which we will seed with a set value in order to ensure that the same random arrays are generated each time this code is run"
      ]
    },
    {
      "cell_type": "code",
      "metadata": {
        "id": "_sDN4rudZyd-",
        "outputId": "47a12475-8b53-4316-87f0-682240c6f8a9",
        "colab": {
          "base_uri": "https://localhost:8080/",
          "height": 243
        }
      },
      "source": [
        "np.random.seed(0)\n",
        "x = np.random.randint(10, size=(6))\n",
        "print(\"x: \\n\", x)\n",
        "\n",
        "y = np.random.randint(100.0, size=(2,3))\n",
        "print(\"\\ny: \\n\", y)\n",
        "\n",
        "z = np.random.randint(100, size=(2,2,3))\n",
        "print(\"\\nz: \\n\", z)"
      ],
      "execution_count": null,
      "outputs": [
        {
          "output_type": "stream",
          "text": [
            "x: \n",
            " [5 0 3 3 7 9]\n",
            "\n",
            "y: \n",
            " [[83 21 36]\n",
            " [87 70 88]]\n",
            "\n",
            "z: \n",
            " [[[88 12 58]\n",
            "  [65 39 87]]\n",
            "\n",
            " [[46 88 81]\n",
            "  [37 25 77]]]\n"
          ],
          "name": "stdout"
        }
      ]
    },
    {
      "cell_type": "markdown",
      "metadata": {
        "id": "JHl0bNZ2eCnI"
      },
      "source": [
        "itemsize , which lists the size (in bytes) of each array element\n",
        "\n",
        "nbytes , which lists the total size (in bytes) of the array"
      ]
    },
    {
      "cell_type": "code",
      "metadata": {
        "id": "UJwK58FsbWcW",
        "outputId": "f48a3320-7958-4e4a-e3e1-9d13bb304d54",
        "colab": {
          "base_uri": "https://localhost:8080/",
          "height": 364
        }
      },
      "source": [
        "print(\"shape of x: \", x.shape)\n",
        "print(\"dimentions of x: \", x.ndim)\n",
        "print(\"size of x: \", x.size)\n",
        "print(\"data type of x\", x.dtype)\n",
        "print(\"itemsize of x: \", x.itemsize)\n",
        "print(\"nbytes of x: \", x.nbytes)\n",
        "\n",
        "print()\n",
        "\n",
        "print(\"shape of y: \", y.shape)\n",
        "print(\"dimentions of y: \", y.ndim)\n",
        "print(\"size of y: \", y.size)\n",
        "print(\"data type of y: \", y.dtype)\n",
        "print(\"itemsize of y: \", y.itemsize)\n",
        "print(\"nbytes of y: \", y.nbytes)\n",
        "\n",
        "print()\n",
        "\n",
        "print(\"shape of z: \", z.shape)\n",
        "print(\"dimentions of z:\", z.ndim)\n",
        "print(\"size of z: \", z.size)\n",
        "print(\"Data type of z: \", z.dtype)\n",
        "print(\"itemsize of z: \", z.itemsize)\n",
        "print(\"nbytes of z: \", z.nbytes)"
      ],
      "execution_count": null,
      "outputs": [
        {
          "output_type": "stream",
          "text": [
            "shape of x:  (6,)\n",
            "dimentions of x:  1\n",
            "size of x:  6\n",
            "data type of x int64\n",
            "itemsize of x:  8\n",
            "nbytes of x:  48\n",
            "\n",
            "shape of y:  (2, 3)\n",
            "dimentions of y:  2\n",
            "size of y:  6\n",
            "data type of y:  int64\n",
            "itemsize of y:  8\n",
            "nbytes of y:  48\n",
            "\n",
            "shape of z:  (2, 2, 3)\n",
            "dimentions of z: 3\n",
            "size of z:  12\n",
            "Data type of z:  int64\n",
            "itemsize of z:  8\n",
            "nbytes of z:  96\n"
          ],
          "name": "stdout"
        }
      ]
    },
    {
      "cell_type": "markdown",
      "metadata": {
        "id": "EPQp7yvOenWC"
      },
      "source": [
        "**Array Indexing: Accessing Single Elements**"
      ]
    },
    {
      "cell_type": "code",
      "metadata": {
        "id": "nDatfzU8dAI8",
        "outputId": "572b0835-0b26-4ae5-80ec-3bb468cfa7b7",
        "colab": {
          "base_uri": "https://localhost:8080/",
          "height": 34
        }
      },
      "source": [
        "print(x)"
      ],
      "execution_count": null,
      "outputs": [
        {
          "output_type": "stream",
          "text": [
            "[5 0 3 3 7 9]\n"
          ],
          "name": "stdout"
        }
      ]
    },
    {
      "cell_type": "code",
      "metadata": {
        "id": "SEUC3gePeyEM",
        "outputId": "3ea0ec9e-1af9-497a-80bb-46624b540f39",
        "colab": {
          "base_uri": "https://localhost:8080/",
          "height": 34
        }
      },
      "source": [
        "x[0]"
      ],
      "execution_count": null,
      "outputs": [
        {
          "output_type": "execute_result",
          "data": {
            "text/plain": [
              "5"
            ]
          },
          "metadata": {
            "tags": []
          },
          "execution_count": 377
        }
      ]
    },
    {
      "cell_type": "code",
      "metadata": {
        "id": "pQeQPxGWezw9",
        "outputId": "2b863236-49b3-48f3-adee-7871836a4520",
        "colab": {
          "base_uri": "https://localhost:8080/",
          "height": 34
        }
      },
      "source": [
        "x[len(x)-1]"
      ],
      "execution_count": null,
      "outputs": [
        {
          "output_type": "execute_result",
          "data": {
            "text/plain": [
              "9"
            ]
          },
          "metadata": {
            "tags": []
          },
          "execution_count": 378
        }
      ]
    },
    {
      "cell_type": "code",
      "metadata": {
        "id": "1oBsEgAre2L2",
        "outputId": "05305eeb-485a-428e-c112-e3d65841ef5d",
        "colab": {
          "base_uri": "https://localhost:8080/",
          "height": 34
        }
      },
      "source": [
        "x[-1]"
      ],
      "execution_count": null,
      "outputs": [
        {
          "output_type": "execute_result",
          "data": {
            "text/plain": [
              "9"
            ]
          },
          "metadata": {
            "tags": []
          },
          "execution_count": 379
        }
      ]
    },
    {
      "cell_type": "code",
      "metadata": {
        "id": "HDlL8ui5fFYI",
        "outputId": "9c9b064a-175c-4cd2-cc6c-8a5e99a8a1f3",
        "colab": {
          "base_uri": "https://localhost:8080/",
          "height": 34
        }
      },
      "source": [
        "x[-3]"
      ],
      "execution_count": null,
      "outputs": [
        {
          "output_type": "execute_result",
          "data": {
            "text/plain": [
              "3"
            ]
          },
          "metadata": {
            "tags": []
          },
          "execution_count": 380
        }
      ]
    },
    {
      "cell_type": "code",
      "metadata": {
        "id": "yXGdbJ59fOr-",
        "outputId": "6ce7f69a-7c9f-4a25-be50-67750f21f7b9",
        "colab": {
          "base_uri": "https://localhost:8080/",
          "height": 34
        }
      },
      "source": [
        "x[3]"
      ],
      "execution_count": null,
      "outputs": [
        {
          "output_type": "execute_result",
          "data": {
            "text/plain": [
              "3"
            ]
          },
          "metadata": {
            "tags": []
          },
          "execution_count": 381
        }
      ]
    },
    {
      "cell_type": "code",
      "metadata": {
        "id": "Q-A9X3enfQWy",
        "outputId": "04fdeffe-9fad-4eba-ae16-0dedd1c878d5",
        "colab": {
          "base_uri": "https://localhost:8080/",
          "height": 52
        }
      },
      "source": [
        "print(y)"
      ],
      "execution_count": null,
      "outputs": [
        {
          "output_type": "stream",
          "text": [
            "[[83 21 36]\n",
            " [87 70 88]]\n"
          ],
          "name": "stdout"
        }
      ]
    },
    {
      "cell_type": "code",
      "metadata": {
        "id": "b-Yb0CItfUVZ",
        "outputId": "1f1b825e-e548-4b0c-d2be-36ae782d1fdb",
        "colab": {
          "base_uri": "https://localhost:8080/",
          "height": 34
        }
      },
      "source": [
        "y[0,1]"
      ],
      "execution_count": null,
      "outputs": [
        {
          "output_type": "execute_result",
          "data": {
            "text/plain": [
              "21"
            ]
          },
          "metadata": {
            "tags": []
          },
          "execution_count": 383
        }
      ]
    },
    {
      "cell_type": "code",
      "metadata": {
        "id": "Wwm6hZc-fWrS",
        "outputId": "cf64c672-e365-40e1-c703-11cf6d683f49",
        "colab": {
          "base_uri": "https://localhost:8080/",
          "height": 34
        }
      },
      "source": [
        "y[-1,-1]"
      ],
      "execution_count": null,
      "outputs": [
        {
          "output_type": "execute_result",
          "data": {
            "text/plain": [
              "88"
            ]
          },
          "metadata": {
            "tags": []
          },
          "execution_count": 384
        }
      ]
    },
    {
      "cell_type": "code",
      "metadata": {
        "id": "gYaQWCB1fkUw",
        "outputId": "6290028f-4211-486f-caa0-4288efa58600",
        "colab": {
          "base_uri": "https://localhost:8080/",
          "height": 34
        }
      },
      "source": [
        "y[len(y)-1, len(y[0])-2]"
      ],
      "execution_count": null,
      "outputs": [
        {
          "output_type": "execute_result",
          "data": {
            "text/plain": [
              "70"
            ]
          },
          "metadata": {
            "tags": []
          },
          "execution_count": 385
        }
      ]
    },
    {
      "cell_type": "code",
      "metadata": {
        "id": "8OKB3Yz9fuv5"
      },
      "source": [
        "y[0] = 32"
      ],
      "execution_count": null,
      "outputs": []
    },
    {
      "cell_type": "code",
      "metadata": {
        "id": "Ik-hngnQf-e4",
        "outputId": "db178642-dc4a-4586-ed92-d75a4c786889",
        "colab": {
          "base_uri": "https://localhost:8080/",
          "height": 34
        }
      },
      "source": [
        "y[0]"
      ],
      "execution_count": null,
      "outputs": [
        {
          "output_type": "execute_result",
          "data": {
            "text/plain": [
              "array([32, 32, 32])"
            ]
          },
          "metadata": {
            "tags": []
          },
          "execution_count": 387
        }
      ]
    },
    {
      "cell_type": "code",
      "metadata": {
        "id": "EO2H9eRNf_LI"
      },
      "source": [
        "y[0]= [32,12,3]"
      ],
      "execution_count": null,
      "outputs": []
    },
    {
      "cell_type": "code",
      "metadata": {
        "id": "tddecfuhgFu5",
        "outputId": "87cafe60-a3f9-4101-e036-6c63d331dba2",
        "colab": {
          "base_uri": "https://localhost:8080/",
          "height": 52
        }
      },
      "source": [
        "y"
      ],
      "execution_count": null,
      "outputs": [
        {
          "output_type": "execute_result",
          "data": {
            "text/plain": [
              "array([[32, 12,  3],\n",
              "       [87, 70, 88]])"
            ]
          },
          "metadata": {
            "tags": []
          },
          "execution_count": 389
        }
      ]
    },
    {
      "cell_type": "markdown",
      "metadata": {
        "id": "HN-TTjjLg6zk"
      },
      "source": [
        "**Array Slicing: Accessing Subarrays**"
      ]
    },
    {
      "cell_type": "code",
      "metadata": {
        "id": "eXJ5GUVAgJQB",
        "outputId": "a4eaa80f-1609-4e15-d292-5cdd3292d697",
        "colab": {
          "base_uri": "https://localhost:8080/",
          "height": 34
        }
      },
      "source": [
        "a=np.arange(10)\n",
        "a"
      ],
      "execution_count": null,
      "outputs": [
        {
          "output_type": "execute_result",
          "data": {
            "text/plain": [
              "array([0, 1, 2, 3, 4, 5, 6, 7, 8, 9])"
            ]
          },
          "metadata": {
            "tags": []
          },
          "execution_count": 390
        }
      ]
    },
    {
      "cell_type": "code",
      "metadata": {
        "id": "HPYEEL3zhBFQ",
        "outputId": "5ddabb42-8011-4b56-9b97-06ca6fdd9200",
        "colab": {
          "base_uri": "https://localhost:8080/",
          "height": 34
        }
      },
      "source": [
        "a[:3]"
      ],
      "execution_count": null,
      "outputs": [
        {
          "output_type": "execute_result",
          "data": {
            "text/plain": [
              "array([0, 1, 2])"
            ]
          },
          "metadata": {
            "tags": []
          },
          "execution_count": 391
        }
      ]
    },
    {
      "cell_type": "code",
      "metadata": {
        "id": "dVasE-b_hjfp",
        "outputId": "3a3993b8-45b0-4cdd-c15f-654085380a0f",
        "colab": {
          "base_uri": "https://localhost:8080/",
          "height": 34
        }
      },
      "source": [
        "a[:]"
      ],
      "execution_count": null,
      "outputs": [
        {
          "output_type": "execute_result",
          "data": {
            "text/plain": [
              "array([0, 1, 2, 3, 4, 5, 6, 7, 8, 9])"
            ]
          },
          "metadata": {
            "tags": []
          },
          "execution_count": 392
        }
      ]
    },
    {
      "cell_type": "code",
      "metadata": {
        "id": "ZfsLkvglhl9U",
        "outputId": "a4c003ec-c734-4b12-d336-e87c074727f5",
        "colab": {
          "base_uri": "https://localhost:8080/",
          "height": 34
        }
      },
      "source": [
        "a[:6]"
      ],
      "execution_count": null,
      "outputs": [
        {
          "output_type": "execute_result",
          "data": {
            "text/plain": [
              "array([0, 1, 2, 3, 4, 5])"
            ]
          },
          "metadata": {
            "tags": []
          },
          "execution_count": 393
        }
      ]
    },
    {
      "cell_type": "code",
      "metadata": {
        "id": "cQJPoq3lhHxX",
        "outputId": "53d14c29-9577-4fc7-b897-f1846e4b8a00",
        "colab": {
          "base_uri": "https://localhost:8080/",
          "height": 34
        }
      },
      "source": [
        "a[3:8]"
      ],
      "execution_count": null,
      "outputs": [
        {
          "output_type": "execute_result",
          "data": {
            "text/plain": [
              "array([3, 4, 5, 6, 7])"
            ]
          },
          "metadata": {
            "tags": []
          },
          "execution_count": 394
        }
      ]
    },
    {
      "cell_type": "code",
      "metadata": {
        "id": "XK4fe3IdhJSm",
        "outputId": "b93cc1b3-4002-4897-9305-e10994773dc9",
        "colab": {
          "base_uri": "https://localhost:8080/",
          "height": 34
        }
      },
      "source": [
        "a[-1:4]"
      ],
      "execution_count": null,
      "outputs": [
        {
          "output_type": "execute_result",
          "data": {
            "text/plain": [
              "array([], dtype=int64)"
            ]
          },
          "metadata": {
            "tags": []
          },
          "execution_count": 395
        }
      ]
    },
    {
      "cell_type": "code",
      "metadata": {
        "id": "inaewg85hcXR",
        "outputId": "eeb2fc06-1db6-4868-cfa3-57940e37b2c6",
        "colab": {
          "base_uri": "https://localhost:8080/",
          "height": 34
        }
      },
      "source": [
        "a[4:-1]"
      ],
      "execution_count": null,
      "outputs": [
        {
          "output_type": "execute_result",
          "data": {
            "text/plain": [
              "array([4, 5, 6, 7, 8])"
            ]
          },
          "metadata": {
            "tags": []
          },
          "execution_count": 396
        }
      ]
    },
    {
      "cell_type": "code",
      "metadata": {
        "id": "vnNUBEOWhK7E",
        "outputId": "d8603df4-783e-4f3a-d454-7fb0f7f0cf0e",
        "colab": {
          "base_uri": "https://localhost:8080/",
          "height": 34
        }
      },
      "source": [
        "a[-1:-5]"
      ],
      "execution_count": null,
      "outputs": [
        {
          "output_type": "execute_result",
          "data": {
            "text/plain": [
              "array([], dtype=int64)"
            ]
          },
          "metadata": {
            "tags": []
          },
          "execution_count": 397
        }
      ]
    },
    {
      "cell_type": "code",
      "metadata": {
        "id": "iCf51eqXhUmO",
        "outputId": "a10d1736-df9e-4082-ad5a-40505b0cf2fc",
        "colab": {
          "base_uri": "https://localhost:8080/",
          "height": 34
        }
      },
      "source": [
        "a[-5:-1]"
      ],
      "execution_count": null,
      "outputs": [
        {
          "output_type": "execute_result",
          "data": {
            "text/plain": [
              "array([5, 6, 7, 8])"
            ]
          },
          "metadata": {
            "tags": []
          },
          "execution_count": 398
        }
      ]
    },
    {
      "cell_type": "code",
      "metadata": {
        "id": "_9qpzH2nhfew",
        "outputId": "4ae5fb1a-1c92-4fb6-ba31-b364a1cf4493",
        "colab": {
          "base_uri": "https://localhost:8080/",
          "height": 34
        }
      },
      "source": [
        "a[::1]  # every other thing after that"
      ],
      "execution_count": null,
      "outputs": [
        {
          "output_type": "execute_result",
          "data": {
            "text/plain": [
              "array([0, 1, 2, 3, 4, 5, 6, 7, 8, 9])"
            ]
          },
          "metadata": {
            "tags": []
          },
          "execution_count": 399
        }
      ]
    },
    {
      "cell_type": "code",
      "metadata": {
        "id": "WvzQ0hVShwLe",
        "outputId": "eae1e6ed-88fd-42bd-c7e8-a7ce7cc56dbe",
        "colab": {
          "base_uri": "https://localhost:8080/",
          "height": 34
        }
      },
      "source": [
        "a[::2]  # every other element"
      ],
      "execution_count": null,
      "outputs": [
        {
          "output_type": "execute_result",
          "data": {
            "text/plain": [
              "array([0, 2, 4, 6, 8])"
            ]
          },
          "metadata": {
            "tags": []
          },
          "execution_count": 400
        }
      ]
    },
    {
      "cell_type": "code",
      "metadata": {
        "id": "RCEIkC-ihyg-",
        "outputId": "ed02b7ad-6c4e-473b-bd2a-ae4f4b74ffe9",
        "colab": {
          "base_uri": "https://localhost:8080/",
          "height": 34
        }
      },
      "source": [
        "a[::3]"
      ],
      "execution_count": null,
      "outputs": [
        {
          "output_type": "execute_result",
          "data": {
            "text/plain": [
              "array([0, 3, 6, 9])"
            ]
          },
          "metadata": {
            "tags": []
          },
          "execution_count": 401
        }
      ]
    },
    {
      "cell_type": "code",
      "metadata": {
        "id": "VS7VHfzyh0Vj",
        "outputId": "b06f96d5-ee17-4b9c-aae6-127c4d936e2c",
        "colab": {
          "base_uri": "https://localhost:8080/",
          "height": 34
        }
      },
      "source": [
        "a[2::2]  # very other element, starting at indexx 2"
      ],
      "execution_count": null,
      "outputs": [
        {
          "output_type": "execute_result",
          "data": {
            "text/plain": [
              "array([2, 4, 6, 8])"
            ]
          },
          "metadata": {
            "tags": []
          },
          "execution_count": 402
        }
      ]
    },
    {
      "cell_type": "code",
      "metadata": {
        "id": "s8QDIxyvh2gS",
        "outputId": "dc1953d0-bd38-42e4-adc5-5ba310e7cf60",
        "colab": {
          "base_uri": "https://localhost:8080/",
          "height": 34
        }
      },
      "source": [
        "a[::-1]  # reversing array"
      ],
      "execution_count": null,
      "outputs": [
        {
          "output_type": "execute_result",
          "data": {
            "text/plain": [
              "array([9, 8, 7, 6, 5, 4, 3, 2, 1, 0])"
            ]
          },
          "metadata": {
            "tags": []
          },
          "execution_count": 403
        }
      ]
    },
    {
      "cell_type": "code",
      "metadata": {
        "id": "PcRhdmHviYB7",
        "outputId": "6d865db3-d335-483e-f632-b4e4490b8288",
        "colab": {
          "base_uri": "https://localhost:8080/",
          "height": 34
        }
      },
      "source": [
        "a[3::-1] # reversed from starting to 3rd index"
      ],
      "execution_count": null,
      "outputs": [
        {
          "output_type": "execute_result",
          "data": {
            "text/plain": [
              "array([3, 2, 1, 0])"
            ]
          },
          "metadata": {
            "tags": []
          },
          "execution_count": 404
        }
      ]
    },
    {
      "cell_type": "code",
      "metadata": {
        "id": "GfbKHrkcihSH",
        "outputId": "8f94a0a8-bdcd-4fa9-e7c4-bdffb87de2ea",
        "colab": {
          "base_uri": "https://localhost:8080/",
          "height": 34
        }
      },
      "source": [
        "a[::-2]"
      ],
      "execution_count": null,
      "outputs": [
        {
          "output_type": "execute_result",
          "data": {
            "text/plain": [
              "array([9, 7, 5, 3, 1])"
            ]
          },
          "metadata": {
            "tags": []
          },
          "execution_count": 405
        }
      ]
    },
    {
      "cell_type": "code",
      "metadata": {
        "id": "RpOzTTYFiya5",
        "outputId": "07cab11f-c79c-491a-fe8c-245977c6e6b5",
        "colab": {
          "base_uri": "https://localhost:8080/",
          "height": 34
        }
      },
      "source": [
        "a[6::-2]"
      ],
      "execution_count": null,
      "outputs": [
        {
          "output_type": "execute_result",
          "data": {
            "text/plain": [
              "array([6, 4, 2, 0])"
            ]
          },
          "metadata": {
            "tags": []
          },
          "execution_count": 406
        }
      ]
    },
    {
      "cell_type": "code",
      "metadata": {
        "id": "ZX-DgdkEi0oy",
        "outputId": "8095cc4e-4774-4f9b-df41-5be15e11e0bd",
        "colab": {
          "base_uri": "https://localhost:8080/",
          "height": 69
        }
      },
      "source": [
        "l=np.array([[10, 5, 8, 4],\n",
        "[ 7, 12, 8, 8],\n",
        "[ 1, 6, 13, 7]])\n",
        "\n",
        "l"
      ],
      "execution_count": null,
      "outputs": [
        {
          "output_type": "execute_result",
          "data": {
            "text/plain": [
              "array([[10,  5,  8,  4],\n",
              "       [ 7, 12,  8,  8],\n",
              "       [ 1,  6, 13,  7]])"
            ]
          },
          "metadata": {
            "tags": []
          },
          "execution_count": 407
        }
      ]
    },
    {
      "cell_type": "code",
      "metadata": {
        "id": "OzkSVaWgjFgN",
        "outputId": "4327cc53-adec-4285-9120-7ebe82ec0a21",
        "colab": {
          "base_uri": "https://localhost:8080/",
          "height": 52
        }
      },
      "source": [
        "l[:2, 2:]"
      ],
      "execution_count": null,
      "outputs": [
        {
          "output_type": "execute_result",
          "data": {
            "text/plain": [
              "array([[8, 4],\n",
              "       [8, 8]])"
            ]
          },
          "metadata": {
            "tags": []
          },
          "execution_count": 408
        }
      ]
    },
    {
      "cell_type": "code",
      "metadata": {
        "id": "3Q8_Btl7jQff",
        "outputId": "369f91b7-e760-4be3-fddd-2efe49263844",
        "colab": {
          "base_uri": "https://localhost:8080/",
          "height": 69
        }
      },
      "source": [
        "l[:3, :3]"
      ],
      "execution_count": null,
      "outputs": [
        {
          "output_type": "execute_result",
          "data": {
            "text/plain": [
              "array([[10,  5,  8],\n",
              "       [ 7, 12,  8],\n",
              "       [ 1,  6, 13]])"
            ]
          },
          "metadata": {
            "tags": []
          },
          "execution_count": 409
        }
      ]
    },
    {
      "cell_type": "code",
      "metadata": {
        "id": "e3XFo51bjjE7",
        "outputId": "8cfb9ad8-8225-4522-bcaa-126d1749e225",
        "colab": {
          "base_uri": "https://localhost:8080/",
          "height": 69
        }
      },
      "source": [
        "l[::-1, ::-1]"
      ],
      "execution_count": null,
      "outputs": [
        {
          "output_type": "execute_result",
          "data": {
            "text/plain": [
              "array([[ 7, 13,  6,  1],\n",
              "       [ 8,  8, 12,  7],\n",
              "       [ 4,  8,  5, 10]])"
            ]
          },
          "metadata": {
            "tags": []
          },
          "execution_count": 410
        }
      ]
    },
    {
      "cell_type": "code",
      "metadata": {
        "id": "0gXZ1wTBjnHs",
        "outputId": "391fcff6-20cd-4d96-991b-193c625e9383",
        "colab": {
          "base_uri": "https://localhost:8080/",
          "height": 69
        }
      },
      "source": [
        "l[::-1]"
      ],
      "execution_count": null,
      "outputs": [
        {
          "output_type": "execute_result",
          "data": {
            "text/plain": [
              "array([[ 1,  6, 13,  7],\n",
              "       [ 7, 12,  8,  8],\n",
              "       [10,  5,  8,  4]])"
            ]
          },
          "metadata": {
            "tags": []
          },
          "execution_count": 411
        }
      ]
    },
    {
      "cell_type": "code",
      "metadata": {
        "id": "KzeNpByhjs8f",
        "outputId": "e1748e71-9e6f-45da-bba8-5a4e1cdae94a",
        "colab": {
          "base_uri": "https://localhost:8080/",
          "height": 52
        }
      },
      "source": [
        "sub_array_l = l[:2, :3]\n",
        "sub_array_l"
      ],
      "execution_count": null,
      "outputs": [
        {
          "output_type": "execute_result",
          "data": {
            "text/plain": [
              "array([[10,  5,  8],\n",
              "       [ 7, 12,  8]])"
            ]
          },
          "metadata": {
            "tags": []
          },
          "execution_count": 412
        }
      ]
    },
    {
      "cell_type": "code",
      "metadata": {
        "id": "QbcNTN7SkF4p",
        "outputId": "c729d927-1625-4173-e6ba-a6f8cf1249d9",
        "colab": {
          "base_uri": "https://localhost:8080/",
          "height": 52
        }
      },
      "source": [
        "sub_array= l[:2, :3].copy()\n",
        "sub_array"
      ],
      "execution_count": null,
      "outputs": [
        {
          "output_type": "execute_result",
          "data": {
            "text/plain": [
              "array([[10,  5,  8],\n",
              "       [ 7, 12,  8]])"
            ]
          },
          "metadata": {
            "tags": []
          },
          "execution_count": 413
        }
      ]
    },
    {
      "cell_type": "markdown",
      "metadata": {
        "id": "So-Luj7PkX3V"
      },
      "source": [
        "**Reshaping of Arrays**"
      ]
    },
    {
      "cell_type": "code",
      "metadata": {
        "id": "v2h0o29mkOq-",
        "outputId": "a9e3d5b1-a074-4168-cd64-16697ce23c82",
        "colab": {
          "base_uri": "https://localhost:8080/",
          "height": 52
        }
      },
      "source": [
        "array = np.random.randint(1, 100, size=(2,5))\n",
        "array"
      ],
      "execution_count": null,
      "outputs": [
        {
          "output_type": "execute_result",
          "data": {
            "text/plain": [
              "array([[73, 10, 21, 81, 70],\n",
              "       [80, 48, 65, 83, 89]])"
            ]
          },
          "metadata": {
            "tags": []
          },
          "execution_count": 414
        }
      ]
    },
    {
      "cell_type": "code",
      "metadata": {
        "id": "T48uukPokhBX",
        "outputId": "ed27dc0a-dc28-47c0-8b9a-cfcb70f146b4",
        "colab": {
          "base_uri": "https://localhost:8080/",
          "height": 69
        }
      },
      "source": [
        "s=np.arange(1,10).reshape((3,3))\n",
        "s"
      ],
      "execution_count": null,
      "outputs": [
        {
          "output_type": "execute_result",
          "data": {
            "text/plain": [
              "array([[1, 2, 3],\n",
              "       [4, 5, 6],\n",
              "       [7, 8, 9]])"
            ]
          },
          "metadata": {
            "tags": []
          },
          "execution_count": 415
        }
      ]
    },
    {
      "cell_type": "code",
      "metadata": {
        "id": "uicYh6vOk6lP",
        "outputId": "5ca19c52-944e-4e2f-ffb3-3f6a947c7b9d",
        "colab": {
          "base_uri": "https://localhost:8080/",
          "height": 69
        }
      },
      "source": [
        "r = np.arange(1, 13).reshape((3, 4))\n",
        "r"
      ],
      "execution_count": null,
      "outputs": [
        {
          "output_type": "execute_result",
          "data": {
            "text/plain": [
              "array([[ 1,  2,  3,  4],\n",
              "       [ 5,  6,  7,  8],\n",
              "       [ 9, 10, 11, 12]])"
            ]
          },
          "metadata": {
            "tags": []
          },
          "execution_count": 416
        }
      ]
    },
    {
      "cell_type": "code",
      "metadata": {
        "id": "LtA4dkGSlIa-",
        "outputId": "1c20c4b1-29be-4736-d052-779c809a42a2",
        "colab": {
          "base_uri": "https://localhost:8080/",
          "height": 86
        }
      },
      "source": [
        "r.reshape(4,3)"
      ],
      "execution_count": null,
      "outputs": [
        {
          "output_type": "execute_result",
          "data": {
            "text/plain": [
              "array([[ 1,  2,  3],\n",
              "       [ 4,  5,  6],\n",
              "       [ 7,  8,  9],\n",
              "       [10, 11, 12]])"
            ]
          },
          "metadata": {
            "tags": []
          },
          "execution_count": 417
        }
      ]
    },
    {
      "cell_type": "code",
      "metadata": {
        "id": "oqY2wNnYlvOq",
        "outputId": "9fb5141c-85fc-4f0b-8cc8-ef04257c8270",
        "colab": {
          "base_uri": "https://localhost:8080/",
          "height": 69
        }
      },
      "source": [
        "r"
      ],
      "execution_count": null,
      "outputs": [
        {
          "output_type": "execute_result",
          "data": {
            "text/plain": [
              "array([[ 1,  2,  3,  4],\n",
              "       [ 5,  6,  7,  8],\n",
              "       [ 9, 10, 11, 12]])"
            ]
          },
          "metadata": {
            "tags": []
          },
          "execution_count": 418
        }
      ]
    },
    {
      "cell_type": "code",
      "metadata": {
        "id": "LIXNoxsTl03s",
        "outputId": "595283cb-89b0-46d4-b9c7-a6941b8d7350",
        "colab": {
          "base_uri": "https://localhost:8080/",
          "height": 52
        }
      },
      "source": [
        "r[np.newaxis, :2]"
      ],
      "execution_count": null,
      "outputs": [
        {
          "output_type": "execute_result",
          "data": {
            "text/plain": [
              "array([[[1, 2, 3, 4],\n",
              "        [5, 6, 7, 8]]])"
            ]
          },
          "metadata": {
            "tags": []
          },
          "execution_count": 419
        }
      ]
    },
    {
      "cell_type": "code",
      "metadata": {
        "id": "1vG3Nj-Bl48w",
        "outputId": "c13d1d68-5da0-42cc-cbf0-74a615cbb6db",
        "colab": {
          "base_uri": "https://localhost:8080/",
          "height": 52
        }
      },
      "source": [
        "r[np.newaxis, :2, :4]"
      ],
      "execution_count": null,
      "outputs": [
        {
          "output_type": "execute_result",
          "data": {
            "text/plain": [
              "array([[[1, 2, 3, 4],\n",
              "        [5, 6, 7, 8]]])"
            ]
          },
          "metadata": {
            "tags": []
          },
          "execution_count": 420
        }
      ]
    },
    {
      "cell_type": "markdown",
      "metadata": {
        "id": "24RfANAbmVdG"
      },
      "source": [
        "**Array Concatenation and Splitting**"
      ]
    },
    {
      "cell_type": "markdown",
      "metadata": {
        "id": "t_-nEKq8mZDd"
      },
      "source": [
        "* Concatenation of arrays"
      ]
    },
    {
      "cell_type": "code",
      "metadata": {
        "id": "2U3kub2PmA8E",
        "outputId": "d9dde649-fa00-4a48-d224-b105cb95e8a0",
        "colab": {
          "base_uri": "https://localhost:8080/",
          "height": 52
        }
      },
      "source": [
        "x=np.arange(5)\n",
        "print(x)\n",
        "y=np.arange(6,10)\n",
        "print(y)"
      ],
      "execution_count": null,
      "outputs": [
        {
          "output_type": "stream",
          "text": [
            "[0 1 2 3 4]\n",
            "[6 7 8 9]\n"
          ],
          "name": "stdout"
        }
      ]
    },
    {
      "cell_type": "code",
      "metadata": {
        "id": "2fubQOkBmjDL",
        "outputId": "57d54618-ffb2-42df-a6ae-9512ebffb43c",
        "colab": {
          "base_uri": "https://localhost:8080/",
          "height": 34
        }
      },
      "source": [
        "np.concatenate([x,y])"
      ],
      "execution_count": null,
      "outputs": [
        {
          "output_type": "execute_result",
          "data": {
            "text/plain": [
              "array([0, 1, 2, 3, 4, 6, 7, 8, 9])"
            ]
          },
          "metadata": {
            "tags": []
          },
          "execution_count": 422
        }
      ]
    },
    {
      "cell_type": "code",
      "metadata": {
        "id": "25SdLHp1m0qJ",
        "outputId": "19310bc7-cad9-42e2-860a-cc353994bc94",
        "colab": {
          "base_uri": "https://localhost:8080/",
          "height": 34
        }
      },
      "source": [
        "np.concatenate([y,x])"
      ],
      "execution_count": null,
      "outputs": [
        {
          "output_type": "execute_result",
          "data": {
            "text/plain": [
              "array([6, 7, 8, 9, 0, 1, 2, 3, 4])"
            ]
          },
          "metadata": {
            "tags": []
          },
          "execution_count": 423
        }
      ]
    },
    {
      "cell_type": "code",
      "metadata": {
        "id": "5vb6FUD-nFeY",
        "outputId": "bafedabd-e0db-4896-c9be-607f4725e42c",
        "colab": {
          "base_uri": "https://localhost:8080/",
          "height": 34
        }
      },
      "source": [
        "z=[23,54,7]\n",
        "np.concatenate([z,x,y])"
      ],
      "execution_count": null,
      "outputs": [
        {
          "output_type": "execute_result",
          "data": {
            "text/plain": [
              "array([23, 54,  7,  0,  1,  2,  3,  4,  6,  7,  8,  9])"
            ]
          },
          "metadata": {
            "tags": []
          },
          "execution_count": 424
        }
      ]
    },
    {
      "cell_type": "code",
      "metadata": {
        "id": "V0M5-EVwnNq6",
        "outputId": "fcdcc75e-ce73-4511-ab6b-83db7e4c0542",
        "colab": {
          "base_uri": "https://localhost:8080/",
          "height": 52
        }
      },
      "source": [
        "s=np.array([[1,2,3],[5,6,7]])\n",
        "s"
      ],
      "execution_count": null,
      "outputs": [
        {
          "output_type": "execute_result",
          "data": {
            "text/plain": [
              "array([[1, 2, 3],\n",
              "       [5, 6, 7]])"
            ]
          },
          "metadata": {
            "tags": []
          },
          "execution_count": 425
        }
      ]
    },
    {
      "cell_type": "code",
      "metadata": {
        "id": "AYawNVZcnhtn",
        "outputId": "7f61399a-fa8d-4e61-9857-19240480911b",
        "colab": {
          "base_uri": "https://localhost:8080/",
          "height": 86
        }
      },
      "source": [
        "np.concatenate([s,s])"
      ],
      "execution_count": null,
      "outputs": [
        {
          "output_type": "execute_result",
          "data": {
            "text/plain": [
              "array([[1, 2, 3],\n",
              "       [5, 6, 7],\n",
              "       [1, 2, 3],\n",
              "       [5, 6, 7]])"
            ]
          },
          "metadata": {
            "tags": []
          },
          "execution_count": 426
        }
      ]
    },
    {
      "cell_type": "code",
      "metadata": {
        "id": "wPgrkkwsnlQn",
        "outputId": "e0334463-2373-4e86-e295-1a55053f9245",
        "colab": {
          "base_uri": "https://localhost:8080/",
          "height": 52
        }
      },
      "source": [
        "# concatenate along the second axis (zero-indexed)\n",
        "np.concatenate([s,s], axis=1)"
      ],
      "execution_count": null,
      "outputs": [
        {
          "output_type": "execute_result",
          "data": {
            "text/plain": [
              "array([[1, 2, 3, 1, 2, 3],\n",
              "       [5, 6, 7, 5, 6, 7]])"
            ]
          },
          "metadata": {
            "tags": []
          },
          "execution_count": 427
        }
      ]
    },
    {
      "cell_type": "code",
      "metadata": {
        "id": "cf6iqVTwnrgJ",
        "outputId": "610efc21-7b0f-41f6-f02f-ddb016d25956",
        "colab": {
          "base_uri": "https://localhost:8080/",
          "height": 52
        }
      },
      "source": [
        "s"
      ],
      "execution_count": null,
      "outputs": [
        {
          "output_type": "execute_result",
          "data": {
            "text/plain": [
              "array([[1, 2, 3],\n",
              "       [5, 6, 7]])"
            ]
          },
          "metadata": {
            "tags": []
          },
          "execution_count": 428
        }
      ]
    },
    {
      "cell_type": "code",
      "metadata": {
        "id": "nmbSf5tcoEJS",
        "outputId": "6f2e37eb-b12e-474e-c991-2b1f671760a3",
        "colab": {
          "base_uri": "https://localhost:8080/",
          "height": 69
        }
      },
      "source": [
        "r= np.array([31,32,33])\n",
        "#vertically stack the arrays\n",
        "np.vstack([s,r])"
      ],
      "execution_count": null,
      "outputs": [
        {
          "output_type": "execute_result",
          "data": {
            "text/plain": [
              "array([[ 1,  2,  3],\n",
              "       [ 5,  6,  7],\n",
              "       [31, 32, 33]])"
            ]
          },
          "metadata": {
            "tags": []
          },
          "execution_count": 429
        }
      ]
    },
    {
      "cell_type": "code",
      "metadata": {
        "id": "HT379WN6oRxK",
        "outputId": "fafc0434-7a47-4493-ab81-6003096851a4",
        "colab": {
          "base_uri": "https://localhost:8080/",
          "height": 52
        }
      },
      "source": [
        "r=np.array([[31],[35]])\n",
        "#horizontally stack the arrays\n",
        "np.hstack([s,r])"
      ],
      "execution_count": null,
      "outputs": [
        {
          "output_type": "execute_result",
          "data": {
            "text/plain": [
              "array([[ 1,  2,  3, 31],\n",
              "       [ 5,  6,  7, 35]])"
            ]
          },
          "metadata": {
            "tags": []
          },
          "execution_count": 430
        }
      ]
    },
    {
      "cell_type": "markdown",
      "metadata": {
        "id": "y8oGrePapEe6"
      },
      "source": [
        "* splitting of arrays"
      ]
    },
    {
      "cell_type": "code",
      "metadata": {
        "id": "jHVQPSMsobrh",
        "outputId": "4a0fac8a-22e8-4593-a8b9-733202a8f606",
        "colab": {
          "base_uri": "https://localhost:8080/",
          "height": 34
        }
      },
      "source": [
        "s=np.arange(1,10)\n",
        "s"
      ],
      "execution_count": null,
      "outputs": [
        {
          "output_type": "execute_result",
          "data": {
            "text/plain": [
              "array([1, 2, 3, 4, 5, 6, 7, 8, 9])"
            ]
          },
          "metadata": {
            "tags": []
          },
          "execution_count": 431
        }
      ]
    },
    {
      "cell_type": "code",
      "metadata": {
        "id": "-iFu8dxSqDzW",
        "outputId": "d4e74041-1a65-469f-e966-b392aafa5182",
        "colab": {
          "base_uri": "https://localhost:8080/",
          "height": 34
        }
      },
      "source": [
        "np.split(s,3)"
      ],
      "execution_count": null,
      "outputs": [
        {
          "output_type": "execute_result",
          "data": {
            "text/plain": [
              "[array([1, 2, 3]), array([4, 5, 6]), array([7, 8, 9])]"
            ]
          },
          "metadata": {
            "tags": []
          },
          "execution_count": 432
        }
      ]
    },
    {
      "cell_type": "code",
      "metadata": {
        "id": "a90ukhjgqH8q",
        "outputId": "17fe71f2-4fd5-445e-b6de-84539c178297",
        "colab": {
          "base_uri": "https://localhost:8080/",
          "height": 173
        }
      },
      "source": [
        "np.split(s,9)"
      ],
      "execution_count": null,
      "outputs": [
        {
          "output_type": "execute_result",
          "data": {
            "text/plain": [
              "[array([1]),\n",
              " array([2]),\n",
              " array([3]),\n",
              " array([4]),\n",
              " array([5]),\n",
              " array([6]),\n",
              " array([7]),\n",
              " array([8]),\n",
              " array([9])]"
            ]
          },
          "metadata": {
            "tags": []
          },
          "execution_count": 433
        }
      ]
    },
    {
      "cell_type": "code",
      "metadata": {
        "id": "uFdVPh8dozBT",
        "outputId": "11e04e87-0a07-49d6-fe39-66c0fdb05ff5",
        "colab": {
          "base_uri": "https://localhost:8080/",
          "height": 34
        }
      },
      "source": [
        "x,y,z=np.split(s, (2,4))\n",
        "print(\"x: \", x, \"y: \", y, \"z: \", z)"
      ],
      "execution_count": null,
      "outputs": [
        {
          "output_type": "stream",
          "text": [
            "x:  [1 2] y:  [3 4] z:  [5 6 7 8 9]\n"
          ],
          "name": "stdout"
        }
      ]
    },
    {
      "cell_type": "code",
      "metadata": {
        "id": "u0Cpri03pV8w",
        "outputId": "44330b19-9b41-477f-fe18-1714366f6ea1",
        "colab": {
          "base_uri": "https://localhost:8080/",
          "height": 34
        }
      },
      "source": [
        "x,y,z=np.split(s, (2,5))\n",
        "print(\"x: \", x, \"y: \", y, \"z: \", z)"
      ],
      "execution_count": null,
      "outputs": [
        {
          "output_type": "stream",
          "text": [
            "x:  [1 2] y:  [3 4 5] z:  [6 7 8 9]\n"
          ],
          "name": "stdout"
        }
      ]
    },
    {
      "cell_type": "code",
      "metadata": {
        "id": "8peUBRBdpqPl",
        "outputId": "d2f23104-00ee-425b-a4a9-d3d7a715a754",
        "colab": {
          "base_uri": "https://localhost:8080/",
          "height": 34
        }
      },
      "source": [
        "x,y,z=np.split(s, (2,2))\n",
        "print(\"x: \", x, \"y: \", y, \"z: \", z)"
      ],
      "execution_count": null,
      "outputs": [
        {
          "output_type": "stream",
          "text": [
            "x:  [1 2] y:  [] z:  [3 4 5 6 7 8 9]\n"
          ],
          "name": "stdout"
        }
      ]
    },
    {
      "cell_type": "code",
      "metadata": {
        "id": "FAuSB3J1puz1",
        "outputId": "a273034e-599f-4668-e00e-73e337337858",
        "colab": {
          "base_uri": "https://localhost:8080/",
          "height": 34
        }
      },
      "source": [
        "np.split(s,(2,4,10))"
      ],
      "execution_count": null,
      "outputs": [
        {
          "output_type": "execute_result",
          "data": {
            "text/plain": [
              "[array([1, 2]), array([3, 4]), array([5, 6, 7, 8, 9]), array([], dtype=int64)]"
            ]
          },
          "metadata": {
            "tags": []
          },
          "execution_count": 437
        }
      ]
    },
    {
      "cell_type": "code",
      "metadata": {
        "id": "ro-b3kUHqhQH",
        "outputId": "185613b1-aa48-4aca-e226-3387708ce8ed",
        "colab": {
          "base_uri": "https://localhost:8080/",
          "height": 86
        }
      },
      "source": [
        "np.split(s,(2,2,10))"
      ],
      "execution_count": null,
      "outputs": [
        {
          "output_type": "execute_result",
          "data": {
            "text/plain": [
              "[array([1, 2]),\n",
              " array([], dtype=int64),\n",
              " array([3, 4, 5, 6, 7, 8, 9]),\n",
              " array([], dtype=int64)]"
            ]
          },
          "metadata": {
            "tags": []
          },
          "execution_count": 438
        }
      ]
    },
    {
      "cell_type": "code",
      "metadata": {
        "id": "akeFiZWGqmwJ",
        "outputId": "0ec66bd2-386a-4dad-e479-94b85138f907",
        "colab": {
          "base_uri": "https://localhost:8080/",
          "height": 312
        }
      },
      "source": [
        "d=np.arange(0,30).reshape(3,5,2)\n",
        "d"
      ],
      "execution_count": null,
      "outputs": [
        {
          "output_type": "execute_result",
          "data": {
            "text/plain": [
              "array([[[ 0,  1],\n",
              "        [ 2,  3],\n",
              "        [ 4,  5],\n",
              "        [ 6,  7],\n",
              "        [ 8,  9]],\n",
              "\n",
              "       [[10, 11],\n",
              "        [12, 13],\n",
              "        [14, 15],\n",
              "        [16, 17],\n",
              "        [18, 19]],\n",
              "\n",
              "       [[20, 21],\n",
              "        [22, 23],\n",
              "        [24, 25],\n",
              "        [26, 27],\n",
              "        [28, 29]]])"
            ]
          },
          "metadata": {
            "tags": []
          },
          "execution_count": 439
        }
      ]
    },
    {
      "cell_type": "code",
      "metadata": {
        "id": "GQ2ThQ9aqun8",
        "outputId": "1623a472-5d74-4398-d5ff-b47e08c30904",
        "colab": {
          "base_uri": "https://localhost:8080/",
          "height": 278
        }
      },
      "source": [
        "np.split(d, (1,4,6))"
      ],
      "execution_count": null,
      "outputs": [
        {
          "output_type": "execute_result",
          "data": {
            "text/plain": [
              "[array([[[0, 1],\n",
              "         [2, 3],\n",
              "         [4, 5],\n",
              "         [6, 7],\n",
              "         [8, 9]]]), array([[[10, 11],\n",
              "         [12, 13],\n",
              "         [14, 15],\n",
              "         [16, 17],\n",
              "         [18, 19]],\n",
              " \n",
              "        [[20, 21],\n",
              "         [22, 23],\n",
              "         [24, 25],\n",
              "         [26, 27],\n",
              "         [28, 29]]]), array([], shape=(0, 5, 2), dtype=int64), array([], shape=(0, 5, 2), dtype=int64)]"
            ]
          },
          "metadata": {
            "tags": []
          },
          "execution_count": 440
        }
      ]
    },
    {
      "cell_type": "code",
      "metadata": {
        "id": "WglN4D8Lq0Fi",
        "outputId": "3e6984f1-1228-4f9a-e7c9-7be156c0e919",
        "colab": {
          "base_uri": "https://localhost:8080/",
          "height": 86
        }
      },
      "source": [
        "f= np.arange(20).reshape(4,5)\n",
        "f"
      ],
      "execution_count": null,
      "outputs": [
        {
          "output_type": "execute_result",
          "data": {
            "text/plain": [
              "array([[ 0,  1,  2,  3,  4],\n",
              "       [ 5,  6,  7,  8,  9],\n",
              "       [10, 11, 12, 13, 14],\n",
              "       [15, 16, 17, 18, 19]])"
            ]
          },
          "metadata": {
            "tags": []
          },
          "execution_count": 441
        }
      ]
    },
    {
      "cell_type": "code",
      "metadata": {
        "id": "JHaU5C_-rRHn",
        "outputId": "bc3dc648-11ca-4bea-bd12-a4f72f12a954",
        "colab": {
          "base_uri": "https://localhost:8080/",
          "height": 69
        }
      },
      "source": [
        "# vertically splitting array\n",
        "np.vsplit(f,[2])"
      ],
      "execution_count": null,
      "outputs": [
        {
          "output_type": "execute_result",
          "data": {
            "text/plain": [
              "[array([[0, 1, 2, 3, 4],\n",
              "        [5, 6, 7, 8, 9]]), array([[10, 11, 12, 13, 14],\n",
              "        [15, 16, 17, 18, 19]])]"
            ]
          },
          "metadata": {
            "tags": []
          },
          "execution_count": 442
        }
      ]
    },
    {
      "cell_type": "code",
      "metadata": {
        "id": "R6UUlEzsrcLg",
        "outputId": "09075091-f5bd-4613-92ec-c8a304517678",
        "colab": {
          "base_uri": "https://localhost:8080/",
          "height": 69
        }
      },
      "source": [
        "np.vsplit(f, [1,4])"
      ],
      "execution_count": null,
      "outputs": [
        {
          "output_type": "execute_result",
          "data": {
            "text/plain": [
              "[array([[0, 1, 2, 3, 4]]), array([[ 5,  6,  7,  8,  9],\n",
              "        [10, 11, 12, 13, 14],\n",
              "        [15, 16, 17, 18, 19]]), array([], shape=(0, 5), dtype=int64)]"
            ]
          },
          "metadata": {
            "tags": []
          },
          "execution_count": 443
        }
      ]
    },
    {
      "cell_type": "code",
      "metadata": {
        "id": "7zyo8k-6rfWV",
        "outputId": "8bd74155-6efa-4494-c21a-0883f26d676a",
        "colab": {
          "base_uri": "https://localhost:8080/",
          "height": 69
        }
      },
      "source": [
        "np.vsplit(f, [2,4])"
      ],
      "execution_count": null,
      "outputs": [
        {
          "output_type": "execute_result",
          "data": {
            "text/plain": [
              "[array([[0, 1, 2, 3, 4],\n",
              "        [5, 6, 7, 8, 9]]), array([[10, 11, 12, 13, 14],\n",
              "        [15, 16, 17, 18, 19]]), array([], shape=(0, 5), dtype=int64)]"
            ]
          },
          "metadata": {
            "tags": []
          },
          "execution_count": 444
        }
      ]
    },
    {
      "cell_type": "code",
      "metadata": {
        "id": "IIYsDXrqrvs5",
        "outputId": "c633aa5f-7888-414c-f784-3d1a5aafd4ed",
        "colab": {
          "base_uri": "https://localhost:8080/",
          "height": 139
        }
      },
      "source": [
        "#horizontally splitting\n",
        "np.hsplit(f, [2])"
      ],
      "execution_count": null,
      "outputs": [
        {
          "output_type": "execute_result",
          "data": {
            "text/plain": [
              "[array([[ 0,  1],\n",
              "        [ 5,  6],\n",
              "        [10, 11],\n",
              "        [15, 16]]), array([[ 2,  3,  4],\n",
              "        [ 7,  8,  9],\n",
              "        [12, 13, 14],\n",
              "        [17, 18, 19]])]"
            ]
          },
          "metadata": {
            "tags": []
          },
          "execution_count": 445
        }
      ]
    },
    {
      "cell_type": "code",
      "metadata": {
        "id": "Vj2T7gYwr6bE",
        "outputId": "4927fd6a-9cb5-4560-9ca9-4c877a57af61",
        "colab": {
          "base_uri": "https://localhost:8080/",
          "height": 173
        }
      },
      "source": [
        "np.hsplit(f,[3,2])"
      ],
      "execution_count": null,
      "outputs": [
        {
          "output_type": "execute_result",
          "data": {
            "text/plain": [
              "[array([[ 0,  1,  2],\n",
              "        [ 5,  6,  7],\n",
              "        [10, 11, 12],\n",
              "        [15, 16, 17]]),\n",
              " array([], shape=(4, 0), dtype=int64),\n",
              " array([[ 2,  3,  4],\n",
              "        [ 7,  8,  9],\n",
              "        [12, 13, 14],\n",
              "        [17, 18, 19]])]"
            ]
          },
          "metadata": {
            "tags": []
          },
          "execution_count": 446
        }
      ]
    },
    {
      "cell_type": "code",
      "metadata": {
        "id": "FfHl6L0csBG-",
        "outputId": "6ab5c468-5f37-4d3e-b4eb-0ea01421435b",
        "colab": {
          "base_uri": "https://localhost:8080/",
          "height": 139
        }
      },
      "source": [
        "np.hsplit(f,[3,3])"
      ],
      "execution_count": null,
      "outputs": [
        {
          "output_type": "execute_result",
          "data": {
            "text/plain": [
              "[array([[ 0,  1,  2],\n",
              "        [ 5,  6,  7],\n",
              "        [10, 11, 12],\n",
              "        [15, 16, 17]]), array([], shape=(4, 0), dtype=int64), array([[ 3,  4],\n",
              "        [ 8,  9],\n",
              "        [13, 14],\n",
              "        [18, 19]])]"
            ]
          },
          "metadata": {
            "tags": []
          },
          "execution_count": 447
        }
      ]
    },
    {
      "cell_type": "markdown",
      "metadata": {
        "id": "dTFR-BDfs0xx"
      },
      "source": [
        "The dsplit() function is used to split an array into multiple sub-arrays.\n",
        "The only difference between these functions is that dsplit allows indices_or_sections to be an integer that does not equally divide the axis. For an array of length l that should be split into n sections, it returns l % n sub-arrays of size l//n + 1 and the rest of size l//n"
      ]
    },
    {
      "cell_type": "markdown",
      "metadata": {
        "id": "UGnmVWuls7mk"
      },
      "source": [
        "**Syntax:**\n",
        "\n",
        "numpy.dsplit(ary, indices_or_sections, axis=0)"
      ]
    },
    {
      "cell_type": "code",
      "metadata": {
        "id": "6k6YVGygsNWq",
        "outputId": "b2955624-7b72-4756-f7af-c1df567ddc02",
        "colab": {
          "base_uri": "https://localhost:8080/",
          "height": 104
        }
      },
      "source": [
        "d=np.arange(12).reshape(2,2,3)\n",
        "d"
      ],
      "execution_count": null,
      "outputs": [
        {
          "output_type": "execute_result",
          "data": {
            "text/plain": [
              "array([[[ 0,  1,  2],\n",
              "        [ 3,  4,  5]],\n",
              "\n",
              "       [[ 6,  7,  8],\n",
              "        [ 9, 10, 11]]])"
            ]
          },
          "metadata": {
            "tags": []
          },
          "execution_count": 448
        }
      ]
    },
    {
      "cell_type": "code",
      "metadata": {
        "id": "fMhKbOX7tOja",
        "outputId": "e4877e81-db46-48b7-c25e-aae323acb04f",
        "colab": {
          "base_uri": "https://localhost:8080/",
          "height": 243
        }
      },
      "source": [
        "np.dsplit(d, 3)"
      ],
      "execution_count": null,
      "outputs": [
        {
          "output_type": "execute_result",
          "data": {
            "text/plain": [
              "[array([[[0],\n",
              "         [3]],\n",
              " \n",
              "        [[6],\n",
              "         [9]]]), array([[[ 1],\n",
              "         [ 4]],\n",
              " \n",
              "        [[ 7],\n",
              "         [10]]]), array([[[ 2],\n",
              "         [ 5]],\n",
              " \n",
              "        [[ 8],\n",
              "         [11]]])]"
            ]
          },
          "metadata": {
            "tags": []
          },
          "execution_count": 449
        }
      ]
    },
    {
      "cell_type": "code",
      "metadata": {
        "id": "6mVGt5hdtWuL",
        "outputId": "97f1632e-4867-4faa-9132-b81f473611e3",
        "colab": {
          "base_uri": "https://localhost:8080/",
          "height": 104
        }
      },
      "source": [
        "np.dsplit(d,1)"
      ],
      "execution_count": null,
      "outputs": [
        {
          "output_type": "execute_result",
          "data": {
            "text/plain": [
              "[array([[[ 0,  1,  2],\n",
              "         [ 3,  4,  5]],\n",
              " \n",
              "        [[ 6,  7,  8],\n",
              "         [ 9, 10, 11]]])]"
            ]
          },
          "metadata": {
            "tags": []
          },
          "execution_count": 450
        }
      ]
    },
    {
      "cell_type": "code",
      "metadata": {
        "id": "yNMGZ2dYthEj",
        "outputId": "f11a3a93-a638-4cbc-d094-4305dc3aa540",
        "colab": {
          "base_uri": "https://localhost:8080/",
          "height": 173
        }
      },
      "source": [
        "np.dsplit(d, [2,2])"
      ],
      "execution_count": null,
      "outputs": [
        {
          "output_type": "execute_result",
          "data": {
            "text/plain": [
              "[array([[[ 0,  1],\n",
              "         [ 3,  4]],\n",
              " \n",
              "        [[ 6,  7],\n",
              "         [ 9, 10]]]), array([], shape=(2, 2, 0), dtype=int64), array([[[ 2],\n",
              "         [ 5]],\n",
              " \n",
              "        [[ 8],\n",
              "         [11]]])]"
            ]
          },
          "metadata": {
            "tags": []
          },
          "execution_count": 451
        }
      ]
    },
    {
      "cell_type": "code",
      "metadata": {
        "id": "q-3v3wxjtspX",
        "outputId": "0b4f1781-18ff-46b6-b8d3-8adeee5f4004",
        "colab": {
          "base_uri": "https://localhost:8080/",
          "height": 208
        }
      },
      "source": [
        "np.dsplit(d, [3,1])"
      ],
      "execution_count": null,
      "outputs": [
        {
          "output_type": "execute_result",
          "data": {
            "text/plain": [
              "[array([[[ 0,  1,  2],\n",
              "         [ 3,  4,  5]],\n",
              " \n",
              "        [[ 6,  7,  8],\n",
              "         [ 9, 10, 11]]]),\n",
              " array([], shape=(2, 2, 0), dtype=int64),\n",
              " array([[[ 1,  2],\n",
              "         [ 4,  5]],\n",
              " \n",
              "        [[ 7,  8],\n",
              "         [10, 11]]])]"
            ]
          },
          "metadata": {
            "tags": []
          },
          "execution_count": 452
        }
      ]
    },
    {
      "cell_type": "code",
      "metadata": {
        "id": "MuP2a8CXt0xJ",
        "outputId": "901566ff-5140-45f5-cd7e-b9302aa86839",
        "colab": {
          "base_uri": "https://localhost:8080/",
          "height": 208
        }
      },
      "source": [
        "np.dsplit(d, [3,2])"
      ],
      "execution_count": null,
      "outputs": [
        {
          "output_type": "execute_result",
          "data": {
            "text/plain": [
              "[array([[[ 0,  1,  2],\n",
              "         [ 3,  4,  5]],\n",
              " \n",
              "        [[ 6,  7,  8],\n",
              "         [ 9, 10, 11]]]),\n",
              " array([], shape=(2, 2, 0), dtype=int64),\n",
              " array([[[ 2],\n",
              "         [ 5]],\n",
              " \n",
              "        [[ 8],\n",
              "         [11]]])]"
            ]
          },
          "metadata": {
            "tags": []
          },
          "execution_count": 453
        }
      ]
    },
    {
      "cell_type": "code",
      "metadata": {
        "id": "I6LWxngZt8iE",
        "outputId": "d8841fd9-5380-4f07-8356-72e090a0e3e9",
        "colab": {
          "base_uri": "https://localhost:8080/",
          "height": 208
        }
      },
      "source": [
        "np.dsplit(d, [4,2])"
      ],
      "execution_count": null,
      "outputs": [
        {
          "output_type": "execute_result",
          "data": {
            "text/plain": [
              "[array([[[ 0,  1,  2],\n",
              "         [ 3,  4,  5]],\n",
              " \n",
              "        [[ 6,  7,  8],\n",
              "         [ 9, 10, 11]]]),\n",
              " array([], shape=(2, 2, 0), dtype=int64),\n",
              " array([[[ 2],\n",
              "         [ 5]],\n",
              " \n",
              "        [[ 8],\n",
              "         [11]]])]"
            ]
          },
          "metadata": {
            "tags": []
          },
          "execution_count": 454
        }
      ]
    },
    {
      "cell_type": "markdown",
      "metadata": {
        "id": "dJoRxCR-eiYD"
      },
      "source": [
        "**Computation on NumPy Arrays: Universal Functions**\n",
        "\n",
        "* NumPy provides an easy and flexible interface to optimized computation with arrays of data\n",
        "\n",
        "* NumPy arrays can be very fast, or it can be very slow. The key to making it fast is to use vectorized operations, generally implemented through NumPy’s universal functions (ufuncs)."
      ]
    },
    {
      "cell_type": "markdown",
      "metadata": {
        "id": "6i0tJSabfh55"
      },
      "source": [
        "Cython project: converts Python code to compilable C code\n",
        "\n",
        "Numba project: converts snippets(small region of re-usable source code, machine code, or text) of Python code to fast LLVM (used to store the intermediate representation on disk in compacted form) bytecode"
      ]
    },
    {
      "cell_type": "code",
      "metadata": {
        "id": "gzgQAaZRuCFp",
        "outputId": "d9d30e4b-52a6-4080-d14d-b7480f256d27",
        "colab": {
          "base_uri": "https://localhost:8080/",
          "height": 34
        }
      },
      "source": [
        "np.empty(5)"
      ],
      "execution_count": null,
      "outputs": [
        {
          "output_type": "execute_result",
          "data": {
            "text/plain": [
              "array([0.0e+000, 4.9e-324, 9.9e-324, 1.5e-323, 2.0e-323])"
            ]
          },
          "metadata": {
            "tags": []
          },
          "execution_count": 455
        }
      ]
    },
    {
      "cell_type": "code",
      "metadata": {
        "id": "dTmgj3VwhUnk",
        "outputId": "f6cc12d2-6a14-4f43-9d8d-e68e7ae9b4b1",
        "colab": {
          "base_uri": "https://localhost:8080/",
          "height": 86
        }
      },
      "source": [
        "def compute_reciprocals(arr):\n",
        "    output = np.empty(len(arr))\n",
        "\n",
        "    for i in range(len(arr)):\n",
        "        output[i] = 1/arr[i]\n",
        "    return output\n",
        "\n",
        "\n",
        "arr = np.arange(1,5)\n",
        "print(\"arr: \", arr)\n",
        "%timeit output = compute_reciprocals(arr)\n",
        "print(\"outPut: \", compute_reciprocals(arr))"
      ],
      "execution_count": null,
      "outputs": [
        {
          "output_type": "stream",
          "text": [
            "arr:  [1 2 3 4]\n",
            "The slowest run took 6.84 times longer than the fastest. This could mean that an intermediate result is being cached.\n",
            "100000 loops, best of 3: 2.93 µs per loop\n",
            "outPut:  [1.         0.5        0.33333333 0.25      ]\n"
          ],
          "name": "stdout"
        }
      ]
    },
    {
      "cell_type": "code",
      "metadata": {
        "id": "EDz6IRAWh7AK",
        "outputId": "4b47ef88-b032-44fb-ecd7-cbc2294a043a",
        "colab": {
          "base_uri": "https://localhost:8080/",
          "height": 34
        }
      },
      "source": [
        "%timeit compute_reciprocals(np.arange(1,1001))"
      ],
      "execution_count": null,
      "outputs": [
        {
          "output_type": "stream",
          "text": [
            "1000 loops, best of 3: 413 µs per loop\n"
          ],
          "name": "stdout"
        }
      ]
    },
    {
      "cell_type": "markdown",
      "metadata": {
        "id": "MrLzboEHj4N6"
      },
      "source": [
        "Vectorized operation: You can accomplish this by simply performing an operation on the array, which will then be applied to each element. This vectorized approach is designed to push the loop into the compiled layer that underlies NumPy, leading to much faster execution."
      ]
    },
    {
      "cell_type": "code",
      "metadata": {
        "id": "dXe-zwWpioyE",
        "outputId": "7b13bfbb-5724-4948-ce9e-3b4853f1ad62",
        "colab": {
          "base_uri": "https://localhost:8080/",
          "height": 34
        }
      },
      "source": [
        "arr = np.array([1,3,4.02, 'roja'])\n",
        "arr"
      ],
      "execution_count": null,
      "outputs": [
        {
          "output_type": "execute_result",
          "data": {
            "text/plain": [
              "array(['1', '3', '4.02', 'roja'], dtype='<U32')"
            ]
          },
          "metadata": {
            "tags": []
          },
          "execution_count": 458
        }
      ]
    },
    {
      "cell_type": "code",
      "metadata": {
        "id": "T4OuN8q1kDdE",
        "outputId": "9dff68ee-921c-464f-a17e-a887c7b8cfb4",
        "colab": {
          "base_uri": "https://localhost:8080/",
          "height": 69
        }
      },
      "source": [
        "arr = np.arange(1, 10)\n",
        "print(\"Arr: \", arr)\n",
        "1/arr"
      ],
      "execution_count": null,
      "outputs": [
        {
          "output_type": "stream",
          "text": [
            "Arr:  [1 2 3 4 5 6 7 8 9]\n"
          ],
          "name": "stdout"
        },
        {
          "output_type": "execute_result",
          "data": {
            "text/plain": [
              "array([1.        , 0.5       , 0.33333333, 0.25      , 0.2       ,\n",
              "       0.16666667, 0.14285714, 0.125     , 0.11111111])"
            ]
          },
          "metadata": {
            "tags": []
          },
          "execution_count": 459
        }
      ]
    },
    {
      "cell_type": "code",
      "metadata": {
        "id": "X0upf3N1kNUv",
        "outputId": "42fe94cc-d642-4663-e13e-c7a95689575d",
        "colab": {
          "base_uri": "https://localhost:8080/",
          "height": 52
        }
      },
      "source": [
        "%timeit 1/np.arange(1,1000)"
      ],
      "execution_count": null,
      "outputs": [
        {
          "output_type": "stream",
          "text": [
            "The slowest run took 12.95 times longer than the fastest. This could mean that an intermediate result is being cached.\n",
            "100000 loops, best of 3: 5.93 µs per loop\n"
          ],
          "name": "stdout"
        }
      ]
    },
    {
      "cell_type": "code",
      "metadata": {
        "id": "NpWGSGcLka8d",
        "outputId": "1cce056f-0c85-41a4-e5fa-e0929a6e39f8",
        "colab": {
          "base_uri": "https://localhost:8080/",
          "height": 52
        }
      },
      "source": [
        "%timeit np.arange(5)/np.arange(1,6)"
      ],
      "execution_count": null,
      "outputs": [
        {
          "output_type": "stream",
          "text": [
            "The slowest run took 16.78 times longer than the fastest. This could mean that an intermediate result is being cached.\n",
            "100000 loops, best of 3: 2.56 µs per loop\n"
          ],
          "name": "stdout"
        }
      ]
    },
    {
      "cell_type": "code",
      "metadata": {
        "id": "75cOCr8kk2gv",
        "outputId": "aedeac0c-0166-4116-9e35-3ed39e51b1a8",
        "colab": {
          "base_uri": "https://localhost:8080/",
          "height": 86
        }
      },
      "source": [
        "arr = np.arange(1,21).reshape(4,5)\n",
        "arr"
      ],
      "execution_count": null,
      "outputs": [
        {
          "output_type": "execute_result",
          "data": {
            "text/plain": [
              "array([[ 1,  2,  3,  4,  5],\n",
              "       [ 6,  7,  8,  9, 10],\n",
              "       [11, 12, 13, 14, 15],\n",
              "       [16, 17, 18, 19, 20]])"
            ]
          },
          "metadata": {
            "tags": []
          },
          "execution_count": 462
        }
      ]
    },
    {
      "cell_type": "markdown",
      "metadata": {
        "id": "2tmAGCdxpWDC"
      },
      "source": [
        "**Arthematic Functions**"
      ]
    },
    {
      "cell_type": "code",
      "metadata": {
        "id": "0orhUpyJmUiM",
        "outputId": "af309e87-74b9-48a2-a13a-ea277f55c7fc",
        "colab": {
          "base_uri": "https://localhost:8080/",
          "height": 86
        }
      },
      "source": [
        "np.add(arr,2)"
      ],
      "execution_count": null,
      "outputs": [
        {
          "output_type": "execute_result",
          "data": {
            "text/plain": [
              "array([[ 3,  4,  5,  6,  7],\n",
              "       [ 8,  9, 10, 11, 12],\n",
              "       [13, 14, 15, 16, 17],\n",
              "       [18, 19, 20, 21, 22]])"
            ]
          },
          "metadata": {
            "tags": []
          },
          "execution_count": 463
        }
      ]
    },
    {
      "cell_type": "code",
      "metadata": {
        "id": "-2rLFiAXlAt6",
        "outputId": "e70fe343-8040-4872-c18c-bb9ad91e99df",
        "colab": {
          "base_uri": "https://localhost:8080/",
          "height": 156
        }
      },
      "source": [
        "print(np.multiply(2,arr))\n",
        "2*arr"
      ],
      "execution_count": null,
      "outputs": [
        {
          "output_type": "stream",
          "text": [
            "[[ 2  4  6  8 10]\n",
            " [12 14 16 18 20]\n",
            " [22 24 26 28 30]\n",
            " [32 34 36 38 40]]\n"
          ],
          "name": "stdout"
        },
        {
          "output_type": "execute_result",
          "data": {
            "text/plain": [
              "array([[ 2,  4,  6,  8, 10],\n",
              "       [12, 14, 16, 18, 20],\n",
              "       [22, 24, 26, 28, 30],\n",
              "       [32, 34, 36, 38, 40]])"
            ]
          },
          "metadata": {
            "tags": []
          },
          "execution_count": 464
        }
      ]
    },
    {
      "cell_type": "code",
      "metadata": {
        "id": "D8aEvtjslS3K",
        "outputId": "9e5dea5a-743f-4256-a50e-71e3b02ac39a",
        "colab": {
          "base_uri": "https://localhost:8080/",
          "height": 86
        }
      },
      "source": [
        "2+arr"
      ],
      "execution_count": null,
      "outputs": [
        {
          "output_type": "execute_result",
          "data": {
            "text/plain": [
              "array([[ 3,  4,  5,  6,  7],\n",
              "       [ 8,  9, 10, 11, 12],\n",
              "       [13, 14, 15, 16, 17],\n",
              "       [18, 19, 20, 21, 22]])"
            ]
          },
          "metadata": {
            "tags": []
          },
          "execution_count": 465
        }
      ]
    },
    {
      "cell_type": "code",
      "metadata": {
        "id": "xm4s-KhAlVDG",
        "outputId": "5ed30dd5-6bbb-4d07-e1a4-ebd9366a1739",
        "colab": {
          "base_uri": "https://localhost:8080/",
          "height": 156
        }
      },
      "source": [
        "print(np.subtract(2,arr))\n",
        "2-arr"
      ],
      "execution_count": null,
      "outputs": [
        {
          "output_type": "stream",
          "text": [
            "[[  1   0  -1  -2  -3]\n",
            " [ -4  -5  -6  -7  -8]\n",
            " [ -9 -10 -11 -12 -13]\n",
            " [-14 -15 -16 -17 -18]]\n"
          ],
          "name": "stdout"
        },
        {
          "output_type": "execute_result",
          "data": {
            "text/plain": [
              "array([[  1,   0,  -1,  -2,  -3],\n",
              "       [ -4,  -5,  -6,  -7,  -8],\n",
              "       [ -9, -10, -11, -12, -13],\n",
              "       [-14, -15, -16, -17, -18]])"
            ]
          },
          "metadata": {
            "tags": []
          },
          "execution_count": 466
        }
      ]
    },
    {
      "cell_type": "code",
      "metadata": {
        "id": "miYMtdl3lXSi",
        "outputId": "cf740640-50c6-4b2f-94a0-a136ddec148c",
        "colab": {
          "base_uri": "https://localhost:8080/",
          "height": 86
        }
      },
      "source": [
        "arr-2"
      ],
      "execution_count": null,
      "outputs": [
        {
          "output_type": "execute_result",
          "data": {
            "text/plain": [
              "array([[-1,  0,  1,  2,  3],\n",
              "       [ 4,  5,  6,  7,  8],\n",
              "       [ 9, 10, 11, 12, 13],\n",
              "       [14, 15, 16, 17, 18]])"
            ]
          },
          "metadata": {
            "tags": []
          },
          "execution_count": 467
        }
      ]
    },
    {
      "cell_type": "code",
      "metadata": {
        "id": "sMj504X7laHe",
        "outputId": "058ce4f1-96c0-439a-8279-df695dd4bc7d",
        "colab": {
          "base_uri": "https://localhost:8080/",
          "height": 156
        }
      },
      "source": [
        "print(np.divide(2,arr))\n",
        "2/arr"
      ],
      "execution_count": null,
      "outputs": [
        {
          "output_type": "stream",
          "text": [
            "[[2.         1.         0.66666667 0.5        0.4       ]\n",
            " [0.33333333 0.28571429 0.25       0.22222222 0.2       ]\n",
            " [0.18181818 0.16666667 0.15384615 0.14285714 0.13333333]\n",
            " [0.125      0.11764706 0.11111111 0.10526316 0.1       ]]\n"
          ],
          "name": "stdout"
        },
        {
          "output_type": "execute_result",
          "data": {
            "text/plain": [
              "array([[2.        , 1.        , 0.66666667, 0.5       , 0.4       ],\n",
              "       [0.33333333, 0.28571429, 0.25      , 0.22222222, 0.2       ],\n",
              "       [0.18181818, 0.16666667, 0.15384615, 0.14285714, 0.13333333],\n",
              "       [0.125     , 0.11764706, 0.11111111, 0.10526316, 0.1       ]])"
            ]
          },
          "metadata": {
            "tags": []
          },
          "execution_count": 468
        }
      ]
    },
    {
      "cell_type": "code",
      "metadata": {
        "id": "at04a1oglc7E",
        "outputId": "caee8752-ed1b-4e5d-f035-e4e3b126342a",
        "colab": {
          "base_uri": "https://localhost:8080/",
          "height": 86
        }
      },
      "source": [
        "2**arr"
      ],
      "execution_count": null,
      "outputs": [
        {
          "output_type": "execute_result",
          "data": {
            "text/plain": [
              "array([[      2,       4,       8,      16,      32],\n",
              "       [     64,     128,     256,     512,    1024],\n",
              "       [   2048,    4096,    8192,   16384,   32768],\n",
              "       [  65536,  131072,  262144,  524288, 1048576]])"
            ]
          },
          "metadata": {
            "tags": []
          },
          "execution_count": 469
        }
      ]
    },
    {
      "cell_type": "code",
      "metadata": {
        "id": "yb-SPezxlntj",
        "outputId": "a72d34ac-93e1-4097-fadc-da3de88d6f3c",
        "colab": {
          "base_uri": "https://localhost:8080/",
          "height": 156
        }
      },
      "source": [
        "print(np.power(arr, 2))\n",
        "arr**2"
      ],
      "execution_count": null,
      "outputs": [
        {
          "output_type": "stream",
          "text": [
            "[[  1   4   9  16  25]\n",
            " [ 36  49  64  81 100]\n",
            " [121 144 169 196 225]\n",
            " [256 289 324 361 400]]\n"
          ],
          "name": "stdout"
        },
        {
          "output_type": "execute_result",
          "data": {
            "text/plain": [
              "array([[  1,   4,   9,  16,  25],\n",
              "       [ 36,  49,  64,  81, 100],\n",
              "       [121, 144, 169, 196, 225],\n",
              "       [256, 289, 324, 361, 400]])"
            ]
          },
          "metadata": {
            "tags": []
          },
          "execution_count": 470
        }
      ]
    },
    {
      "cell_type": "code",
      "metadata": {
        "id": "91ipHrSBlrtm",
        "outputId": "002699b3-21bf-4a6b-ae48-d6c847cb2a76",
        "colab": {
          "base_uri": "https://localhost:8080/",
          "height": 156
        }
      },
      "source": [
        "print(np.negative(arr))\n",
        "-arr"
      ],
      "execution_count": null,
      "outputs": [
        {
          "output_type": "stream",
          "text": [
            "[[ -1  -2  -3  -4  -5]\n",
            " [ -6  -7  -8  -9 -10]\n",
            " [-11 -12 -13 -14 -15]\n",
            " [-16 -17 -18 -19 -20]]\n"
          ],
          "name": "stdout"
        },
        {
          "output_type": "execute_result",
          "data": {
            "text/plain": [
              "array([[ -1,  -2,  -3,  -4,  -5],\n",
              "       [ -6,  -7,  -8,  -9, -10],\n",
              "       [-11, -12, -13, -14, -15],\n",
              "       [-16, -17, -18, -19, -20]])"
            ]
          },
          "metadata": {
            "tags": []
          },
          "execution_count": 471
        }
      ]
    },
    {
      "cell_type": "code",
      "metadata": {
        "id": "RMkjIEWymBCx",
        "outputId": "831b3e2f-697b-4e6d-dd2e-d681a30404fd",
        "colab": {
          "base_uri": "https://localhost:8080/",
          "height": 156
        }
      },
      "source": [
        "print(np.floor_divide(2, arr))\n",
        "2//arr"
      ],
      "execution_count": null,
      "outputs": [
        {
          "output_type": "stream",
          "text": [
            "[[2 1 0 0 0]\n",
            " [0 0 0 0 0]\n",
            " [0 0 0 0 0]\n",
            " [0 0 0 0 0]]\n"
          ],
          "name": "stdout"
        },
        {
          "output_type": "execute_result",
          "data": {
            "text/plain": [
              "array([[2, 1, 0, 0, 0],\n",
              "       [0, 0, 0, 0, 0],\n",
              "       [0, 0, 0, 0, 0],\n",
              "       [0, 0, 0, 0, 0]])"
            ]
          },
          "metadata": {
            "tags": []
          },
          "execution_count": 472
        }
      ]
    },
    {
      "cell_type": "code",
      "metadata": {
        "id": "wKT7-z7VmJ4w",
        "outputId": "c2fd2db2-2be1-42bb-f58a-f2abff448cd3",
        "colab": {
          "base_uri": "https://localhost:8080/",
          "height": 156
        }
      },
      "source": [
        "print(np.mod(arr,10))\n",
        "arr%10"
      ],
      "execution_count": null,
      "outputs": [
        {
          "output_type": "stream",
          "text": [
            "[[1 2 3 4 5]\n",
            " [6 7 8 9 0]\n",
            " [1 2 3 4 5]\n",
            " [6 7 8 9 0]]\n"
          ],
          "name": "stdout"
        },
        {
          "output_type": "execute_result",
          "data": {
            "text/plain": [
              "array([[1, 2, 3, 4, 5],\n",
              "       [6, 7, 8, 9, 0],\n",
              "       [1, 2, 3, 4, 5],\n",
              "       [6, 7, 8, 9, 0]])"
            ]
          },
          "metadata": {
            "tags": []
          },
          "execution_count": 473
        }
      ]
    },
    {
      "cell_type": "code",
      "metadata": {
        "id": "keG_k1rioDqd",
        "outputId": "34097fc4-599b-4d39-d32b-8c39c81c7169",
        "colab": {
          "base_uri": "https://localhost:8080/",
          "height": 86
        }
      },
      "source": [
        "# Absolute value\n",
        "a = np.arange(-5,5)\n",
        "print(\"a: \", a)\n",
        "%timeit abs(a)\n",
        "print(\"absolute values of a: \", abs(a))"
      ],
      "execution_count": null,
      "outputs": [
        {
          "output_type": "stream",
          "text": [
            "a:  [-5 -4 -3 -2 -1  0  1  2  3  4]\n",
            "The slowest run took 25.81 times longer than the fastest. This could mean that an intermediate result is being cached.\n",
            "1000000 loops, best of 3: 469 ns per loop\n",
            "absolute values of a:  [5 4 3 2 1 0 1 2 3 4]\n"
          ],
          "name": "stdout"
        }
      ]
    },
    {
      "cell_type": "code",
      "metadata": {
        "id": "tOHx3JQwoeiV",
        "outputId": "91546c17-bc7f-4e18-dfef-df5912c8b7e9",
        "colab": {
          "base_uri": "https://localhost:8080/",
          "height": 69
        }
      },
      "source": [
        "%timeit np.absolute(a)\n",
        "np.absolute(a)"
      ],
      "execution_count": null,
      "outputs": [
        {
          "output_type": "stream",
          "text": [
            "The slowest run took 30.51 times longer than the fastest. This could mean that an intermediate result is being cached.\n",
            "1000000 loops, best of 3: 448 ns per loop\n"
          ],
          "name": "stdout"
        },
        {
          "output_type": "execute_result",
          "data": {
            "text/plain": [
              "array([5, 4, 3, 2, 1, 0, 1, 2, 3, 4])"
            ]
          },
          "metadata": {
            "tags": []
          },
          "execution_count": 475
        }
      ]
    },
    {
      "cell_type": "code",
      "metadata": {
        "id": "-LUMVhEwo67z",
        "outputId": "828ef147-feb0-4891-d04e-7ae1d0063ae0",
        "colab": {
          "base_uri": "https://localhost:8080/",
          "height": 52
        }
      },
      "source": [
        "%timeit np.abs(a)"
      ],
      "execution_count": null,
      "outputs": [
        {
          "output_type": "stream",
          "text": [
            "The slowest run took 33.23 times longer than the fastest. This could mean that an intermediate result is being cached.\n",
            "1000000 loops, best of 3: 445 ns per loop\n"
          ],
          "name": "stdout"
        }
      ]
    },
    {
      "cell_type": "markdown",
      "metadata": {
        "id": "cAgWHT6XpRGI"
      },
      "source": [
        "**Trigonometric functions**"
      ]
    },
    {
      "cell_type": "code",
      "metadata": {
        "id": "NBf2UcTHpFOd",
        "outputId": "e50c934c-29e6-4524-d271-0c8c36965a77",
        "colab": {
          "base_uri": "https://localhost:8080/",
          "height": 34
        }
      },
      "source": [
        "np.pi"
      ],
      "execution_count": null,
      "outputs": [
        {
          "output_type": "execute_result",
          "data": {
            "text/plain": [
              "3.141592653589793"
            ]
          },
          "metadata": {
            "tags": []
          },
          "execution_count": 477
        }
      ]
    },
    {
      "cell_type": "code",
      "metadata": {
        "id": "4JqZ_lCMpnZZ",
        "outputId": "dd44b621-ee88-44c5-d953-c68ede45d453",
        "colab": {
          "base_uri": "https://localhost:8080/",
          "height": 34
        }
      },
      "source": [
        "theta = np.linspace(0,2,4)\n",
        "theta"
      ],
      "execution_count": null,
      "outputs": [
        {
          "output_type": "execute_result",
          "data": {
            "text/plain": [
              "array([0.        , 0.66666667, 1.33333333, 2.        ])"
            ]
          },
          "metadata": {
            "tags": []
          },
          "execution_count": 478
        }
      ]
    },
    {
      "cell_type": "code",
      "metadata": {
        "id": "AoHmxhW8pzm-",
        "outputId": "484c7c11-0436-46a6-bc58-baaa7d9067f0",
        "colab": {
          "base_uri": "https://localhost:8080/",
          "height": 69
        }
      },
      "source": [
        "print(\"sin(theta): \", np.sin(theta))\n",
        "print(\"cos(theta): \", np.cos(theta))\n",
        "print(\"tan(theta): \", np.tan(theta))"
      ],
      "execution_count": null,
      "outputs": [
        {
          "output_type": "stream",
          "text": [
            "sin(theta):  [0.         0.6183698  0.9719379  0.90929743]\n",
            "cos(theta):  [ 1.          0.78588726  0.23523757 -0.41614684]\n",
            "tan(theta):  [ 0.          0.78684289  4.13172899 -2.18503986]\n"
          ],
          "name": "stdout"
        }
      ]
    },
    {
      "cell_type": "code",
      "metadata": {
        "id": "W4UKQ3NZqlOA",
        "outputId": "b83dc4a6-4f03-492c-fd50-c472ff5dc554",
        "colab": {
          "base_uri": "https://localhost:8080/",
          "height": 121
        }
      },
      "source": [
        "x=np.array([-1, 0, 1])\n",
        "\n",
        "print(\"arctan(x): \", np.arctan(x))\n",
        "print(\"arctanh(x): \", np.arctanh(x))\n",
        "print(\"arcsin(x): \", np.arcsin(x))\n",
        "print(\"arccos(x): \", np.arccos(x))"
      ],
      "execution_count": null,
      "outputs": [
        {
          "output_type": "stream",
          "text": [
            "arctan(x):  [-0.78539816  0.          0.78539816]\n",
            "arctanh(x):  [-inf   0.  inf]\n",
            "arcsin(x):  [-1.57079633  0.          1.57079633]\n",
            "arccos(x):  [3.14159265 1.57079633 0.        ]\n"
          ],
          "name": "stdout"
        },
        {
          "output_type": "stream",
          "text": [
            "/usr/local/lib/python3.6/dist-packages/ipykernel_launcher.py:4: RuntimeWarning: divide by zero encountered in arctanh\n",
            "  after removing the cwd from sys.path.\n"
          ],
          "name": "stderr"
        }
      ]
    },
    {
      "cell_type": "code",
      "metadata": {
        "id": "A7aNHzXuq6fN",
        "outputId": "ee3a1943-0d22-437e-8498-e70920c9c8cb",
        "colab": {
          "base_uri": "https://localhost:8080/",
          "height": 86
        }
      },
      "source": [
        "x=np.random.randint(-1, 2, (5))\n",
        "print(x)\n",
        "print(\"arctan(x): \", np.arctan(x))\n",
        "print(\"arcsin(x): \", np.arcsin(x))\n",
        "print(\"arccos(x): \", np.arccos(x))"
      ],
      "execution_count": null,
      "outputs": [
        {
          "output_type": "stream",
          "text": [
            "[ 0  0  1 -1  0]\n",
            "arctan(x):  [ 0.          0.          0.78539816 -0.78539816  0.        ]\n",
            "arcsin(x):  [ 0.          0.          1.57079633 -1.57079633  0.        ]\n",
            "arccos(x):  [1.57079633 1.57079633 0.         3.14159265 1.57079633]\n"
          ],
          "name": "stdout"
        }
      ]
    },
    {
      "cell_type": "markdown",
      "metadata": {
        "id": "yaf59AD_r_fA"
      },
      "source": [
        "**Exponents and logarithms**"
      ]
    },
    {
      "cell_type": "code",
      "metadata": {
        "id": "-YiTI7P1raMH",
        "outputId": "4e7b88b7-b77d-4750-838d-10a330e8af6d",
        "colab": {
          "base_uri": "https://localhost:8080/",
          "height": 104
        }
      },
      "source": [
        "x=np.arange(5)\n",
        "print(x)\n",
        "print(\"e^x: \", np.exp(x))\n",
        "print(\"2^x: \", np.exp2(x))\n",
        "print(\"3^x\", np.power(3,x))\n",
        "print(\"e^1: \", np.exp(1))"
      ],
      "execution_count": null,
      "outputs": [
        {
          "output_type": "stream",
          "text": [
            "[0 1 2 3 4]\n",
            "e^x:  [ 1.          2.71828183  7.3890561  20.08553692 54.59815003]\n",
            "2^x:  [ 1.  2.  4.  8. 16.]\n",
            "3^x [ 1  3  9 27 81]\n",
            "e^1:  2.718281828459045\n"
          ],
          "name": "stdout"
        }
      ]
    },
    {
      "cell_type": "markdown",
      "metadata": {
        "id": "EmWAFdBVs5JX"
      },
      "source": [
        "inverse of the exponentials are logarithms"
      ]
    },
    {
      "cell_type": "code",
      "metadata": {
        "id": "WIyg6oifsVe6",
        "outputId": "d91a623a-6398-48cf-ff07-6bb1f746721d",
        "colab": {
          "base_uri": "https://localhost:8080/",
          "height": 191
        }
      },
      "source": [
        "x=np.arange(1,11)\n",
        "print(x)\n",
        "print(\"\\nlog(x): \", np.log(x))\n",
        "print(\"\\nlog2(x): \", np.log2(x))\n",
        "print(\"\\nlog10(x): \", np.log10(x))"
      ],
      "execution_count": null,
      "outputs": [
        {
          "output_type": "stream",
          "text": [
            "[ 1  2  3  4  5  6  7  8  9 10]\n",
            "\n",
            "log(x):  [0.         0.69314718 1.09861229 1.38629436 1.60943791 1.79175947\n",
            " 1.94591015 2.07944154 2.19722458 2.30258509]\n",
            "\n",
            "log2(x):  [0.         1.         1.5849625  2.         2.32192809 2.5849625\n",
            " 2.80735492 3.         3.169925   3.32192809]\n",
            "\n",
            "log10(x):  [0.         0.30103    0.47712125 0.60205999 0.69897    0.77815125\n",
            " 0.84509804 0.90308999 0.95424251 1.        ]\n"
          ],
          "name": "stdout"
        }
      ]
    },
    {
      "cell_type": "code",
      "metadata": {
        "id": "mQwkA1n3tSEv",
        "outputId": "12039481-8e48-4d9a-e71b-9fd5b2d71582",
        "colab": {
          "base_uri": "https://localhost:8080/",
          "height": 69
        }
      },
      "source": [
        "x=np.array([0, 0.01, 0.1, 10])\n",
        "print(x)\n",
        "print(\"exp(x)-1: \", np.expm1(x))\n",
        "print('log(1+x): ', np.log1p(x))"
      ],
      "execution_count": null,
      "outputs": [
        {
          "output_type": "stream",
          "text": [
            "[ 0.    0.01  0.1  10.  ]\n",
            "exp(x)-1:  [0.00000000e+00 1.00501671e-02 1.05170918e-01 2.20254658e+04]\n",
            "log(1+x):  [0.         0.00995033 0.09531018 2.39789527]\n"
          ],
          "name": "stdout"
        }
      ]
    },
    {
      "cell_type": "markdown",
      "metadata": {
        "id": "WWRpn-qxf6ux"
      },
      "source": [
        "**Specilized UFunctions**\n"
      ]
    },
    {
      "cell_type": "markdown",
      "metadata": {
        "id": "ndpoN_eziSUX"
      },
      "source": [
        "gamma(x) means \n",
        "* for positive integer (x-1)!\n",
        "* for negative integers gamma function is not defined\n",
        "* for positive half integers \n",
        "[formula](https://wikimedia.org/api/rest_v1/media/math/render/svg/efb738055021cb3d3b77c02010195d3b75b87bef)\n",
        "\n",
        "\n",
        "![alt text](https://wikimedia.org/api/rest_v1/media/math/render/svg/efb738055021cb3d3b77c02010195d3b75b87bef)\n",
        "\n",
        "\n",
        " equivalently, for non-negative integer values of n: \n",
        "\n",
        " ![alt text](https://wikimedia.org/api/rest_v1/media/math/render/svg/ea99218c0f7647b303c2cefe004358990c7b0a7e)"
      ]
    },
    {
      "cell_type": "code",
      "metadata": {
        "id": "Okur4oTQuhdd",
        "outputId": "a798e971-9411-4460-98fb-51e2a43a8e35",
        "colab": {
          "base_uri": "https://localhost:8080/",
          "height": 69
        }
      },
      "source": [
        "from scipy import special\n",
        "x=np.array([1,5,10,15])\n",
        "print(\"gamma(x): \", special.gamma(x))\n",
        "print(\"ln/gamma(x): \", special.gammaln(x))\n",
        "print(\"beta(x): \", special.beta(x,2))"
      ],
      "execution_count": null,
      "outputs": [
        {
          "output_type": "stream",
          "text": [
            "gamma(x):  [1.00000000e+00 2.40000000e+01 3.62880000e+05 8.71782912e+10]\n",
            "ln/gamma(x):  [ 0.          3.17805383 12.80182748 25.19122118]\n",
            "beta(x):  [0.5        0.03333333 0.00909091 0.00416667]\n"
          ],
          "name": "stdout"
        }
      ]
    },
    {
      "cell_type": "code",
      "metadata": {
        "id": "4YXU_kWHuucQ",
        "outputId": "33966712-6264-48ba-9b99-cb38d516514f",
        "colab": {
          "base_uri": "https://localhost:8080/",
          "height": 34
        }
      },
      "source": [
        "special.gamma([-5,0,5])"
      ],
      "execution_count": null,
      "outputs": [
        {
          "output_type": "execute_result",
          "data": {
            "text/plain": [
              "array([inf, inf, 24.])"
            ]
          },
          "metadata": {
            "tags": []
          },
          "execution_count": 486
        }
      ]
    },
    {
      "cell_type": "code",
      "metadata": {
        "id": "TModZ2N7hVEl",
        "outputId": "ac2adaf7-f07c-4150-f53c-113908351ad8",
        "colab": {
          "base_uri": "https://localhost:8080/",
          "height": 34
        }
      },
      "source": [
        "special.gamma(10)"
      ],
      "execution_count": null,
      "outputs": [
        {
          "output_type": "execute_result",
          "data": {
            "text/plain": [
              "362880.0"
            ]
          },
          "metadata": {
            "tags": []
          },
          "execution_count": 487
        }
      ]
    },
    {
      "cell_type": "code",
      "metadata": {
        "id": "th5V-v1bhvpS",
        "outputId": "a49c94b7-3e93-4678-a4de-6417ba99333c",
        "colab": {
          "base_uri": "https://localhost:8080/",
          "height": 34
        }
      },
      "source": [
        "special.gamma(1/5)"
      ],
      "execution_count": null,
      "outputs": [
        {
          "output_type": "execute_result",
          "data": {
            "text/plain": [
              "4.5908437119988035"
            ]
          },
          "metadata": {
            "tags": []
          },
          "execution_count": 488
        }
      ]
    },
    {
      "cell_type": "markdown",
      "metadata": {
        "id": "qLug57TTlath"
      },
      "source": [
        "beta function, also called the Euler integral of the first kind:\n",
        "\n",
        "![alt text](https://wikimedia.org/api/rest_v1/media/math/render/svg/f4ab12be9722687a96ea0aa6ee3a3e45969053c9)\n",
        "\n",
        "for Re x > 0, Re y > 0. "
      ]
    },
    {
      "cell_type": "code",
      "metadata": {
        "id": "lp9OwMZ6lO3m",
        "outputId": "9bc7eda8-b0cd-4980-a433-3ce7e16a9162",
        "colab": {
          "base_uri": "https://localhost:8080/",
          "height": 34
        }
      },
      "source": [
        "special.beta(2,5)"
      ],
      "execution_count": null,
      "outputs": [
        {
          "output_type": "execute_result",
          "data": {
            "text/plain": [
              "0.03333333333333333"
            ]
          },
          "metadata": {
            "tags": []
          },
          "execution_count": 489
        }
      ]
    },
    {
      "cell_type": "code",
      "metadata": {
        "id": "N2XTDflIll0e",
        "outputId": "0323e4df-9af3-4816-a5b8-049268755fef",
        "colab": {
          "base_uri": "https://localhost:8080/",
          "height": 34
        }
      },
      "source": [
        "special.beta(5,2)"
      ],
      "execution_count": null,
      "outputs": [
        {
          "output_type": "execute_result",
          "data": {
            "text/plain": [
              "0.03333333333333333"
            ]
          },
          "metadata": {
            "tags": []
          },
          "execution_count": 490
        }
      ]
    },
    {
      "cell_type": "markdown",
      "metadata": {
        "id": "bdkxfp9lmI_h"
      },
      "source": [
        "relationship between gamma and beta: \n",
        "\n",
        "\n",
        "![alt text](https://wikimedia.org/api/rest_v1/media/math/render/svg/70c94c96b6a5b81af91bc24bf2bbfea915c8071c)\n",
        "\n",
        "\n",
        "\n",
        "![alt text](https://wikimedia.org/api/rest_v1/media/math/render/svg/68d798e3c491712526127e639047ac555fde795f)"
      ]
    },
    {
      "cell_type": "markdown",
      "metadata": {
        "id": "Spe0eXYXmilZ"
      },
      "source": [
        "![alt text](https://wikimedia.org/api/rest_v1/media/math/render/svg/12d5eb773aa2c48f53219229a906e1cdc9523d38)"
      ]
    },
    {
      "cell_type": "code",
      "metadata": {
        "id": "Jjps1g6ql8Rb",
        "outputId": "8de0c04a-9465-47cf-c3c2-7f3cc19e3506",
        "colab": {
          "base_uri": "https://localhost:8080/",
          "height": 86
        }
      },
      "source": [
        "# Error function (integral of Gaussian)\n",
        "# its complement, and its inverse\n",
        "x=np.array([0,0.2, 0.6, 1, 5])\n",
        "print(\"erf(x): \", special.erf(x))\n",
        "print(\"erfc(x): \", special.erfc(x))\n",
        "print(\"erfinv(x): \", special.erfinv(x))"
      ],
      "execution_count": null,
      "outputs": [
        {
          "output_type": "stream",
          "text": [
            "erf(x):  [0.         0.22270259 0.60385609 0.84270079 1.        ]\n",
            "erfc(x):  [1.00000000e+00 7.77297411e-01 3.96143909e-01 1.57299207e-01\n",
            " 1.53745979e-12]\n",
            "erfinv(x):  [0.         0.17914345 0.59511608        inf        nan]\n"
          ],
          "name": "stdout"
        }
      ]
    },
    {
      "cell_type": "markdown",
      "metadata": {
        "id": "WOVpJguMo2JE"
      },
      "source": [
        "Specifying output: \n",
        "\n",
        "For large calculations, it is sometimes useful to be able to specify the array where the result of the calculation will be stored. Rather than creating a temporary array, you can use this to write computation results directly to the memory location where you’d like them to be"
      ]
    },
    {
      "cell_type": "code",
      "metadata": {
        "id": "9ssI91dwnt35",
        "outputId": "5b51e5d2-e174-4845-eb81-139db1c97baf",
        "colab": {
          "base_uri": "https://localhost:8080/",
          "height": 69
        }
      },
      "source": [
        "x=np.random.randint(1,10, (5))\n",
        "print(\"x: \", x)\n",
        "y=np.empty(len(x))\n",
        "print(\"y: \", y)\n",
        "np.multiply(x, 10, out=y)\n",
        "print(\"y: \", y)"
      ],
      "execution_count": null,
      "outputs": [
        {
          "output_type": "stream",
          "text": [
            "x:  [1 5 8 4 3]\n",
            "y:  [0.  0.2 0.6 1.  5. ]\n",
            "y:  [10. 50. 80. 40. 30.]\n"
          ],
          "name": "stdout"
        }
      ]
    },
    {
      "cell_type": "code",
      "metadata": {
        "id": "ADi2EUvfpNd5",
        "outputId": "a01ccabb-510c-4890-9215-1c06937f12ab",
        "colab": {
          "base_uri": "https://localhost:8080/",
          "height": 104
        }
      },
      "source": [
        "y=np.empty(10)\n",
        "print(\"y: \", y)\n",
        "x=np.arange(5)\n",
        "print(\"x: \",x)\n",
        "np.power(x,2, out=y[::2])\n",
        "print(\"y: \", y)"
      ],
      "execution_count": null,
      "outputs": [
        {
          "output_type": "stream",
          "text": [
            "y:  [4.9e-324 9.9e-324 1.5e-323 2.0e-323 2.5e-323 3.0e-323 3.5e-323 4.0e-323\n",
            " 4.4e-323 4.9e-323]\n",
            "x:  [0 1 2 3 4]\n",
            "y:  [0.0e+000 9.9e-324 1.0e+000 2.0e-323 4.0e+000 3.0e-323 9.0e+000 4.0e-323\n",
            " 1.6e+001 4.9e-323]\n"
          ],
          "name": "stdout"
        }
      ]
    },
    {
      "cell_type": "markdown",
      "metadata": {
        "id": "Nthw7iYXrfAz"
      },
      "source": [
        "**Aggregations**"
      ]
    },
    {
      "cell_type": "code",
      "metadata": {
        "id": "Z9FDk_Y_p9DT",
        "outputId": "443c9e79-9984-4bc9-ece5-ad186d849177",
        "colab": {
          "base_uri": "https://localhost:8080/",
          "height": 34
        }
      },
      "source": [
        "# calling reduce on the add ufunc returns the sum of all elements in the array \n",
        "\n",
        "x = np.arange(1,11)\n",
        "np.add.reduce(x)"
      ],
      "execution_count": null,
      "outputs": [
        {
          "output_type": "execute_result",
          "data": {
            "text/plain": [
              "55"
            ]
          },
          "metadata": {
            "tags": []
          },
          "execution_count": 494
        }
      ]
    },
    {
      "cell_type": "code",
      "metadata": {
        "id": "nrbwzWyIsRUk",
        "outputId": "f203b8df-0f2d-4138-d6d3-27ae7fa7ae5c",
        "colab": {
          "base_uri": "https://localhost:8080/",
          "height": 34
        }
      },
      "source": [
        "#calling reduce on the multiply ufunc results in the product of all array elements\n",
        "\n",
        "np.multiply.reduce(x)"
      ],
      "execution_count": null,
      "outputs": [
        {
          "output_type": "execute_result",
          "data": {
            "text/plain": [
              "3628800"
            ]
          },
          "metadata": {
            "tags": []
          },
          "execution_count": 495
        }
      ]
    },
    {
      "cell_type": "code",
      "metadata": {
        "id": "94unC83xshqH",
        "outputId": "64328d73-218f-47e4-bb06-65d9feef74f1",
        "colab": {
          "base_uri": "https://localhost:8080/",
          "height": 34
        }
      },
      "source": [
        "# To store all the intermediate results of the computation, we can instead use accumulate\n",
        "\n",
        "np.add.accumulate(x)"
      ],
      "execution_count": null,
      "outputs": [
        {
          "output_type": "execute_result",
          "data": {
            "text/plain": [
              "array([ 1,  3,  6, 10, 15, 21, 28, 36, 45, 55])"
            ]
          },
          "metadata": {
            "tags": []
          },
          "execution_count": 496
        }
      ]
    },
    {
      "cell_type": "code",
      "metadata": {
        "id": "Tn_vRLMytGvc",
        "outputId": "92dadb4e-7131-43e1-89b6-d7552c832cd1",
        "colab": {
          "base_uri": "https://localhost:8080/",
          "height": 52
        }
      },
      "source": [
        "np.multiply.accumulate(x)"
      ],
      "execution_count": null,
      "outputs": [
        {
          "output_type": "execute_result",
          "data": {
            "text/plain": [
              "array([      1,       2,       6,      24,     120,     720,    5040,\n",
              "         40320,  362880, 3628800])"
            ]
          },
          "metadata": {
            "tags": []
          },
          "execution_count": 497
        }
      ]
    },
    {
      "cell_type": "markdown",
      "metadata": {
        "id": "pPB_5uL-tgUr"
      },
      "source": [
        "**Outer functions**\n",
        "\n",
        "any ufunc can compute the output of all pairs of two different inputs using the outer method. This allows you, in one line, to do things like create a multiplication table"
      ]
    },
    {
      "cell_type": "code",
      "metadata": {
        "id": "lJfcB-SKtKLu",
        "outputId": "4ba265e8-7265-460a-92d9-06dd6a42d18e",
        "colab": {
          "base_uri": "https://localhost:8080/",
          "height": 225
        }
      },
      "source": [
        "print(x)\n",
        "print()\n",
        "np.add.outer(x,x)\n"
      ],
      "execution_count": null,
      "outputs": [
        {
          "output_type": "stream",
          "text": [
            "[ 1  2  3  4  5  6  7  8  9 10]\n",
            "\n"
          ],
          "name": "stdout"
        },
        {
          "output_type": "execute_result",
          "data": {
            "text/plain": [
              "array([[ 2,  3,  4,  5,  6,  7,  8,  9, 10, 11],\n",
              "       [ 3,  4,  5,  6,  7,  8,  9, 10, 11, 12],\n",
              "       [ 4,  5,  6,  7,  8,  9, 10, 11, 12, 13],\n",
              "       [ 5,  6,  7,  8,  9, 10, 11, 12, 13, 14],\n",
              "       [ 6,  7,  8,  9, 10, 11, 12, 13, 14, 15],\n",
              "       [ 7,  8,  9, 10, 11, 12, 13, 14, 15, 16],\n",
              "       [ 8,  9, 10, 11, 12, 13, 14, 15, 16, 17],\n",
              "       [ 9, 10, 11, 12, 13, 14, 15, 16, 17, 18],\n",
              "       [10, 11, 12, 13, 14, 15, 16, 17, 18, 19],\n",
              "       [11, 12, 13, 14, 15, 16, 17, 18, 19, 20]])"
            ]
          },
          "metadata": {
            "tags": []
          },
          "execution_count": 498
        }
      ]
    },
    {
      "cell_type": "code",
      "metadata": {
        "id": "7SHzK5LNuN9R",
        "outputId": "50c075cc-2976-41b9-e8da-999206e8b39d",
        "colab": {
          "base_uri": "https://localhost:8080/",
          "height": 191
        }
      },
      "source": [
        "np.multiply.outer(x,x)"
      ],
      "execution_count": null,
      "outputs": [
        {
          "output_type": "execute_result",
          "data": {
            "text/plain": [
              "array([[  1,   2,   3,   4,   5,   6,   7,   8,   9,  10],\n",
              "       [  2,   4,   6,   8,  10,  12,  14,  16,  18,  20],\n",
              "       [  3,   6,   9,  12,  15,  18,  21,  24,  27,  30],\n",
              "       [  4,   8,  12,  16,  20,  24,  28,  32,  36,  40],\n",
              "       [  5,  10,  15,  20,  25,  30,  35,  40,  45,  50],\n",
              "       [  6,  12,  18,  24,  30,  36,  42,  48,  54,  60],\n",
              "       [  7,  14,  21,  28,  35,  42,  49,  56,  63,  70],\n",
              "       [  8,  16,  24,  32,  40,  48,  56,  64,  72,  80],\n",
              "       [  9,  18,  27,  36,  45,  54,  63,  72,  81,  90],\n",
              "       [ 10,  20,  30,  40,  50,  60,  70,  80,  90, 100]])"
            ]
          },
          "metadata": {
            "tags": []
          },
          "execution_count": 499
        }
      ]
    },
    {
      "cell_type": "markdown",
      "metadata": {
        "id": "0p_5tmOmuveh"
      },
      "source": [
        "**Aggregations: Min, Max, and Everything in Between**\n",
        "\n",
        "* mean and standard deviation\n",
        "* sum\n",
        "* product\n",
        "* median\n",
        "* minimum and maximum\n",
        "* quantiles\n",
        "* etc."
      ]
    },
    {
      "cell_type": "code",
      "metadata": {
        "id": "d4tjUcZLuh31",
        "outputId": "28ded435-65de-4d53-d7cb-833f4b167538",
        "colab": {
          "base_uri": "https://localhost:8080/",
          "height": 69
        }
      },
      "source": [
        "x = np.random.random(1000)\n",
        "print(sum(x))\n",
        "%timeit sum(x)"
      ],
      "execution_count": null,
      "outputs": [
        {
          "output_type": "stream",
          "text": [
            "492.2422341790189\n",
            "The slowest run took 4.20 times longer than the fastest. This could mean that an intermediate result is being cached.\n",
            "10000 loops, best of 3: 167 µs per loop\n"
          ],
          "name": "stdout"
        }
      ]
    },
    {
      "cell_type": "code",
      "metadata": {
        "id": "eAEFqD10wP35",
        "outputId": "ccb9ed43-9f51-4b55-db75-540202c7ff6b",
        "colab": {
          "base_uri": "https://localhost:8080/",
          "height": 69
        }
      },
      "source": [
        "print(np.sum(x))\n",
        "%timeit np.sum(x)"
      ],
      "execution_count": null,
      "outputs": [
        {
          "output_type": "stream",
          "text": [
            "492.24223417901885\n",
            "The slowest run took 11.63 times longer than the fastest. This could mean that an intermediate result is being cached.\n",
            "100000 loops, best of 3: 4.43 µs per loop\n"
          ],
          "name": "stdout"
        }
      ]
    },
    {
      "cell_type": "code",
      "metadata": {
        "id": "LjiuUoIowa3J",
        "outputId": "0820746b-94bc-4814-d693-8fbb9f2a0f00",
        "colab": {
          "base_uri": "https://localhost:8080/",
          "height": 69
        }
      },
      "source": [
        "x = np.random.random(100000)\n",
        "%timeit np.sum(x)\n",
        "%timeit sum(x)"
      ],
      "execution_count": null,
      "outputs": [
        {
          "output_type": "stream",
          "text": [
            "The slowest run took 4.21 times longer than the fastest. This could mean that an intermediate result is being cached.\n",
            "10000 loops, best of 3: 38.8 µs per loop\n",
            "100 loops, best of 3: 16.7 ms per loop\n"
          ],
          "name": "stdout"
        }
      ]
    },
    {
      "cell_type": "code",
      "metadata": {
        "id": "TVexFbuHwpPn",
        "outputId": "f8016fb7-1d79-482a-e013-b349a95f4a2f",
        "colab": {
          "base_uri": "https://localhost:8080/",
          "height": 52
        }
      },
      "source": [
        "# minimum number and maximum number\n",
        "\n",
        "%timeit max(x)\n",
        "%timeit min(x)"
      ],
      "execution_count": null,
      "outputs": [
        {
          "output_type": "stream",
          "text": [
            "100 loops, best of 3: 10.1 ms per loop\n",
            "100 loops, best of 3: 10.1 ms per loop\n"
          ],
          "name": "stdout"
        }
      ]
    },
    {
      "cell_type": "code",
      "metadata": {
        "id": "Mr9GuTokxPLK",
        "outputId": "5a5892f6-f12e-4b8f-83ad-7f310c7fdeb5",
        "colab": {
          "base_uri": "https://localhost:8080/",
          "height": 86
        }
      },
      "source": [
        "%timeit np.min(x)\n",
        "%timeit np.max(x)"
      ],
      "execution_count": null,
      "outputs": [
        {
          "output_type": "stream",
          "text": [
            "The slowest run took 4.43 times longer than the fastest. This could mean that an intermediate result is being cached.\n",
            "10000 loops, best of 3: 45.8 µs per loop\n",
            "The slowest run took 11.27 times longer than the fastest. This could mean that an intermediate result is being cached.\n",
            "10000 loops, best of 3: 46 µs per loop\n"
          ],
          "name": "stdout"
        }
      ]
    },
    {
      "cell_type": "code",
      "metadata": {
        "id": "zvggWAcbxTc6",
        "outputId": "5faeda9c-d4b2-4df2-ca3e-ac5d50fe8598",
        "colab": {
          "base_uri": "https://localhost:8080/",
          "height": 69
        }
      },
      "source": [
        "# shortcut methods to find min, max, sum of numpy arrays in NumPy\n",
        "print(\"min: \", x.min())\n",
        "print(\"max: \", x.max())\n",
        "print(\"sum: \", x.sum())"
      ],
      "execution_count": null,
      "outputs": [
        {
          "output_type": "stream",
          "text": [
            "min:  3.3105544573475143e-06\n",
            "max:  0.9999779517807228\n",
            "sum:  49955.1501309146\n"
          ],
          "name": "stdout"
        }
      ]
    },
    {
      "cell_type": "markdown",
      "metadata": {
        "id": "eZG4130rx-2M"
      },
      "source": [
        "**Multidimensional aggregates**"
      ]
    },
    {
      "cell_type": "code",
      "metadata": {
        "id": "9NdohTzWxxQN",
        "outputId": "ab92c0f9-06d5-4e73-bd86-27e929a08735",
        "colab": {
          "base_uri": "https://localhost:8080/",
          "height": 52
        }
      },
      "source": [
        "y = np.random.random((2,3))\n",
        "y"
      ],
      "execution_count": null,
      "outputs": [
        {
          "output_type": "execute_result",
          "data": {
            "text/plain": [
              "array([[0.44790469, 0.41303923, 0.410408  ],\n",
              "       [0.94539657, 0.08733021, 0.05436383]])"
            ]
          },
          "metadata": {
            "tags": []
          },
          "execution_count": 506
        }
      ]
    },
    {
      "cell_type": "code",
      "metadata": {
        "id": "sDhMhW8LyFIK",
        "outputId": "e97f699e-fed7-4664-e27e-ff1f186d3ffe",
        "colab": {
          "base_uri": "https://localhost:8080/",
          "height": 34
        }
      },
      "source": [
        "y.sum()\n"
      ],
      "execution_count": null,
      "outputs": [
        {
          "output_type": "execute_result",
          "data": {
            "text/plain": [
              "2.3584425369971127"
            ]
          },
          "metadata": {
            "tags": []
          },
          "execution_count": 507
        }
      ]
    },
    {
      "cell_type": "code",
      "metadata": {
        "id": "nYgevs66yH6c",
        "outputId": "0c315745-ebfb-43aa-a347-0d76565c692d",
        "colab": {
          "base_uri": "https://localhost:8080/",
          "height": 34
        }
      },
      "source": [
        "y.min()"
      ],
      "execution_count": null,
      "outputs": [
        {
          "output_type": "execute_result",
          "data": {
            "text/plain": [
              "0.05436383304043935"
            ]
          },
          "metadata": {
            "tags": []
          },
          "execution_count": 508
        }
      ]
    },
    {
      "cell_type": "code",
      "metadata": {
        "id": "wTlkZaieyKKv",
        "outputId": "152150fd-bbce-4b10-bc96-07de9711f5db",
        "colab": {
          "base_uri": "https://localhost:8080/",
          "height": 34
        }
      },
      "source": [
        "y.max()"
      ],
      "execution_count": null,
      "outputs": [
        {
          "output_type": "execute_result",
          "data": {
            "text/plain": [
              "0.9453965702277041"
            ]
          },
          "metadata": {
            "tags": []
          },
          "execution_count": 509
        }
      ]
    },
    {
      "cell_type": "markdown",
      "metadata": {
        "id": "VBZrxkNSyZzU"
      },
      "source": [
        "Aggregation functions take an additional argument specifying the axis along which the aggregate is computed."
      ]
    },
    {
      "cell_type": "code",
      "metadata": {
        "id": "05SxM8CNyL09",
        "outputId": "eecf3435-be76-43e4-826e-95c86cf48b52",
        "colab": {
          "base_uri": "https://localhost:8080/",
          "height": 34
        }
      },
      "source": [
        "y.max(axis=0)"
      ],
      "execution_count": null,
      "outputs": [
        {
          "output_type": "execute_result",
          "data": {
            "text/plain": [
              "array([0.94539657, 0.41303923, 0.410408  ])"
            ]
          },
          "metadata": {
            "tags": []
          },
          "execution_count": 510
        }
      ]
    },
    {
      "cell_type": "code",
      "metadata": {
        "id": "JN3pqjknyeTi",
        "outputId": "5d7c4650-62cd-4fce-ca5a-ea8d75a124c4",
        "colab": {
          "base_uri": "https://localhost:8080/",
          "height": 34
        }
      },
      "source": [
        "y.min(axis=0)"
      ],
      "execution_count": null,
      "outputs": [
        {
          "output_type": "execute_result",
          "data": {
            "text/plain": [
              "array([0.44790469, 0.08733021, 0.05436383])"
            ]
          },
          "metadata": {
            "tags": []
          },
          "execution_count": 511
        }
      ]
    },
    {
      "cell_type": "code",
      "metadata": {
        "id": "Yt9k9CTGylEp",
        "outputId": "6b41f221-92e2-434b-9f59-ab2ae77bd0b0",
        "colab": {
          "base_uri": "https://localhost:8080/",
          "height": 34
        }
      },
      "source": [
        "y.min(axis=1)"
      ],
      "execution_count": null,
      "outputs": [
        {
          "output_type": "execute_result",
          "data": {
            "text/plain": [
              "array([0.410408  , 0.05436383])"
            ]
          },
          "metadata": {
            "tags": []
          },
          "execution_count": 512
        }
      ]
    },
    {
      "cell_type": "code",
      "metadata": {
        "id": "t760ut6cy3z6",
        "outputId": "676d74c0-8b11-4b74-e040-83a241d3a934",
        "colab": {
          "base_uri": "https://localhost:8080/",
          "height": 34
        }
      },
      "source": [
        "y.max(axis=1)"
      ],
      "execution_count": null,
      "outputs": [
        {
          "output_type": "execute_result",
          "data": {
            "text/plain": [
              "array([0.44790469, 0.94539657])"
            ]
          },
          "metadata": {
            "tags": []
          },
          "execution_count": 513
        }
      ]
    },
    {
      "cell_type": "code",
      "metadata": {
        "id": "5VAyqdUtzHPR",
        "outputId": "28b3af1f-37e3-4e1a-f465-ef0aabb92c66",
        "colab": {
          "base_uri": "https://localhost:8080/",
          "height": 52
        }
      },
      "source": [
        "# product of the elements\n",
        "# nan safe np.nanprod(y)\n",
        "print(np.nanprod(y))\n",
        "np.prod(y)"
      ],
      "execution_count": null,
      "outputs": [
        {
          "output_type": "stream",
          "text": [
            "0.0003407856639757675\n"
          ],
          "name": "stdout"
        },
        {
          "output_type": "execute_result",
          "data": {
            "text/plain": [
              "0.0003407856639757675"
            ]
          },
          "metadata": {
            "tags": []
          },
          "execution_count": 514
        }
      ]
    },
    {
      "cell_type": "code",
      "metadata": {
        "id": "IT4FvA8lzK8g",
        "outputId": "395d7c2f-1c2e-4e8f-df4e-516d2c0ebcb3",
        "colab": {
          "base_uri": "https://localhost:8080/",
          "height": 52
        }
      },
      "source": [
        "# mean of the of the elements\n",
        "\n",
        "print(np.nanmean(y))\n",
        "np.mean(y)"
      ],
      "execution_count": null,
      "outputs": [
        {
          "output_type": "stream",
          "text": [
            "0.39307375616618545\n"
          ],
          "name": "stdout"
        },
        {
          "output_type": "execute_result",
          "data": {
            "text/plain": [
              "0.39307375616618545"
            ]
          },
          "metadata": {
            "tags": []
          },
          "execution_count": 515
        }
      ]
    },
    {
      "cell_type": "code",
      "metadata": {
        "id": "rAsxqMuQ0KnT",
        "outputId": "b0b050c9-7d06-408b-a2a1-ce8b227192b1",
        "colab": {
          "base_uri": "https://localhost:8080/",
          "height": 52
        }
      },
      "source": [
        "# standasrd deviation\n",
        "\n",
        "print(np.nanstd(y))\n",
        "np.std(y)"
      ],
      "execution_count": null,
      "outputs": [
        {
          "output_type": "stream",
          "text": [
            "0.29353294790318846\n"
          ],
          "name": "stdout"
        },
        {
          "output_type": "execute_result",
          "data": {
            "text/plain": [
              "0.29353294790318846"
            ]
          },
          "metadata": {
            "tags": []
          },
          "execution_count": 516
        }
      ]
    },
    {
      "cell_type": "code",
      "metadata": {
        "id": "p6Yl8ir30SRd",
        "outputId": "ad0c08c1-2b9e-43e9-8909-45d06a501547",
        "colab": {
          "base_uri": "https://localhost:8080/",
          "height": 52
        }
      },
      "source": [
        "# compute variance\n",
        "\n",
        "print(np.nanvar(y))\n",
        "np.var(y)"
      ],
      "execution_count": null,
      "outputs": [
        {
          "output_type": "stream",
          "text": [
            "0.08616159150473596\n"
          ],
          "name": "stdout"
        },
        {
          "output_type": "execute_result",
          "data": {
            "text/plain": [
              "0.08616159150473596"
            ]
          },
          "metadata": {
            "tags": []
          },
          "execution_count": 517
        }
      ]
    },
    {
      "cell_type": "code",
      "metadata": {
        "id": "Jzxjxr2K0lDF",
        "outputId": "1762ec5b-3568-4c65-ce28-8732557c591b",
        "colab": {
          "base_uri": "https://localhost:8080/",
          "height": 86
        }
      },
      "source": [
        "# index of minimum value of array\n",
        "print(y)\n",
        "print(np.nanargmin(y))\n",
        "np.argmin(y)"
      ],
      "execution_count": null,
      "outputs": [
        {
          "output_type": "stream",
          "text": [
            "[[0.44790469 0.41303923 0.410408  ]\n",
            " [0.94539657 0.08733021 0.05436383]]\n",
            "5\n"
          ],
          "name": "stdout"
        },
        {
          "output_type": "execute_result",
          "data": {
            "text/plain": [
              "5"
            ]
          },
          "metadata": {
            "tags": []
          },
          "execution_count": 518
        }
      ]
    },
    {
      "cell_type": "code",
      "metadata": {
        "id": "Qmostfb804A0",
        "outputId": "201ecb63-97ab-4d28-b5fe-fdb3f7bbb057",
        "colab": {
          "base_uri": "https://localhost:8080/",
          "height": 52
        }
      },
      "source": [
        "print(np.nanargmax(y))\n",
        "np.argmax(y)"
      ],
      "execution_count": null,
      "outputs": [
        {
          "output_type": "stream",
          "text": [
            "3\n"
          ],
          "name": "stdout"
        },
        {
          "output_type": "execute_result",
          "data": {
            "text/plain": [
              "3"
            ]
          },
          "metadata": {
            "tags": []
          },
          "execution_count": 519
        }
      ]
    },
    {
      "cell_type": "code",
      "metadata": {
        "id": "mZtV-S5_1Cow",
        "outputId": "163fcc66-1d56-418a-adbc-f7f73ff54ab7",
        "colab": {
          "base_uri": "https://localhost:8080/",
          "height": 34
        }
      },
      "source": [
        "np.median(y)"
      ],
      "execution_count": null,
      "outputs": [
        {
          "output_type": "execute_result",
          "data": {
            "text/plain": [
              "0.4117236179647613"
            ]
          },
          "metadata": {
            "tags": []
          },
          "execution_count": 520
        }
      ]
    },
    {
      "cell_type": "code",
      "metadata": {
        "id": "jviprYRp1VG6",
        "outputId": "ce6a3325-2837-4b95-ed25-ec9ea23d4a9d",
        "colab": {
          "base_uri": "https://localhost:8080/",
          "height": 34
        }
      },
      "source": [
        "np.mean(y)"
      ],
      "execution_count": null,
      "outputs": [
        {
          "output_type": "execute_result",
          "data": {
            "text/plain": [
              "0.39307375616618545"
            ]
          },
          "metadata": {
            "tags": []
          },
          "execution_count": 521
        }
      ]
    },
    {
      "cell_type": "code",
      "metadata": {
        "id": "F2dsC_X11WuK",
        "outputId": "3495bf94-3609-4804-e513-e3a6345df2c0",
        "colab": {
          "base_uri": "https://localhost:8080/",
          "height": 34
        }
      },
      "source": [
        "np.any(y)"
      ],
      "execution_count": null,
      "outputs": [
        {
          "output_type": "execute_result",
          "data": {
            "text/plain": [
              "True"
            ]
          },
          "metadata": {
            "tags": []
          },
          "execution_count": 522
        }
      ]
    },
    {
      "cell_type": "code",
      "metadata": {
        "id": "3LYAyyN-1asX",
        "outputId": "7a2d84f7-1106-418f-d7b9-f3726c37ede6",
        "colab": {
          "base_uri": "https://localhost:8080/",
          "height": 34
        }
      },
      "source": [
        "np.all(y)"
      ],
      "execution_count": null,
      "outputs": [
        {
          "output_type": "execute_result",
          "data": {
            "text/plain": [
              "True"
            ]
          },
          "metadata": {
            "tags": []
          },
          "execution_count": 523
        }
      ]
    },
    {
      "cell_type": "markdown",
      "metadata": {
        "id": "Ee62bTGy1Wxe"
      },
      "source": [
        "**Avergae height of the US president**\n"
      ]
    },
    {
      "cell_type": "code",
      "metadata": {
        "id": "2f3NIVlz1ihw",
        "outputId": "a6f0e048-57d0-4441-91b7-ab9928efe7bb",
        "colab": {
          "base_uri": "https://localhost:8080/",
          "height": 224
        }
      },
      "source": [
        "from google.colab import drive\n",
        "drive.mount('/content/gdrive')\n",
        "import pandas as pd\n",
        "data = pd.read_csv('gdrive/My Drive/Colab Notebooks/data/president_heights.csv')\n",
        "data.head()"
      ],
      "execution_count": null,
      "outputs": [
        {
          "output_type": "stream",
          "text": [
            "Drive already mounted at /content/gdrive; to attempt to forcibly remount, call drive.mount(\"/content/gdrive\", force_remount=True).\n"
          ],
          "name": "stdout"
        },
        {
          "output_type": "execute_result",
          "data": {
            "text/html": [
              "<div>\n",
              "<style scoped>\n",
              "    .dataframe tbody tr th:only-of-type {\n",
              "        vertical-align: middle;\n",
              "    }\n",
              "\n",
              "    .dataframe tbody tr th {\n",
              "        vertical-align: top;\n",
              "    }\n",
              "\n",
              "    .dataframe thead th {\n",
              "        text-align: right;\n",
              "    }\n",
              "</style>\n",
              "<table border=\"1\" class=\"dataframe\">\n",
              "  <thead>\n",
              "    <tr style=\"text-align: right;\">\n",
              "      <th></th>\n",
              "      <th>order</th>\n",
              "      <th>name</th>\n",
              "      <th>height(cm)</th>\n",
              "    </tr>\n",
              "  </thead>\n",
              "  <tbody>\n",
              "    <tr>\n",
              "      <th>0</th>\n",
              "      <td>1</td>\n",
              "      <td>George Washington</td>\n",
              "      <td>189</td>\n",
              "    </tr>\n",
              "    <tr>\n",
              "      <th>1</th>\n",
              "      <td>2</td>\n",
              "      <td>John Adams</td>\n",
              "      <td>170</td>\n",
              "    </tr>\n",
              "    <tr>\n",
              "      <th>2</th>\n",
              "      <td>3</td>\n",
              "      <td>Thomas Jefferson</td>\n",
              "      <td>189</td>\n",
              "    </tr>\n",
              "    <tr>\n",
              "      <th>3</th>\n",
              "      <td>4</td>\n",
              "      <td>James Madison</td>\n",
              "      <td>163</td>\n",
              "    </tr>\n",
              "    <tr>\n",
              "      <th>4</th>\n",
              "      <td>5</td>\n",
              "      <td>James Monroe</td>\n",
              "      <td>183</td>\n",
              "    </tr>\n",
              "  </tbody>\n",
              "</table>\n",
              "</div>"
            ],
            "text/plain": [
              "   order               name  height(cm)\n",
              "0      1  George Washington         189\n",
              "1      2         John Adams         170\n",
              "2      3   Thomas Jefferson         189\n",
              "3      4      James Madison         163\n",
              "4      5       James Monroe         183"
            ]
          },
          "metadata": {
            "tags": []
          },
          "execution_count": 524
        }
      ]
    },
    {
      "cell_type": "code",
      "metadata": {
        "id": "LcYBe1KILKzR",
        "outputId": "ce2f0a06-abbb-472e-e426-6ebf05d65750",
        "colab": {
          "base_uri": "https://localhost:8080/",
          "height": 34
        }
      },
      "source": [
        "from google.colab import drive\n",
        "drive.mount('/content/drive')"
      ],
      "execution_count": null,
      "outputs": [
        {
          "output_type": "stream",
          "text": [
            "Mounted at /content/drive\n"
          ],
          "name": "stdout"
        }
      ]
    },
    {
      "cell_type": "code",
      "metadata": {
        "id": "hokzAmqL4UJi",
        "outputId": "969c9cb2-7ce1-4856-e3eb-94f101d2cdb3",
        "colab": {
          "base_uri": "https://localhost:8080/",
          "height": 34
        }
      },
      "source": [
        "len(data)"
      ],
      "execution_count": null,
      "outputs": [
        {
          "output_type": "execute_result",
          "data": {
            "text/plain": [
              "42"
            ]
          },
          "metadata": {
            "tags": []
          },
          "execution_count": 194
        }
      ]
    },
    {
      "cell_type": "code",
      "metadata": {
        "id": "MHGbbm8J6Dts",
        "outputId": "df17db72-6c42-4d15-e996-ed0a0229af23",
        "colab": {
          "base_uri": "https://localhost:8080/",
          "height": 86
        }
      },
      "source": [
        "# getting all heights into a numpy array\n",
        "\n",
        "heights = np.array(data['height(cm)'])\n",
        "heights "
      ],
      "execution_count": null,
      "outputs": [
        {
          "output_type": "execute_result",
          "data": {
            "text/plain": [
              "array([189, 170, 189, 163, 183, 171, 185, 168, 173, 183, 173, 173, 175,\n",
              "       178, 183, 193, 178, 173, 174, 183, 183, 168, 170, 178, 182, 180,\n",
              "       183, 178, 182, 188, 175, 179, 183, 193, 182, 183, 177, 185, 188,\n",
              "       188, 182, 185])"
            ]
          },
          "metadata": {
            "tags": []
          },
          "execution_count": 195
        }
      ]
    },
    {
      "cell_type": "code",
      "metadata": {
        "id": "NqUJkWNk8CFd",
        "outputId": "1ce052dd-0ceb-4b9a-9e82-c0fd279da132",
        "colab": {
          "base_uri": "https://localhost:8080/",
          "height": 54
        }
      },
      "source": [
        "d={}\n",
        "for i in heights: \n",
        "  if (i in d) : \n",
        "    d[i]+=1\n",
        "  else:\n",
        "    d[i]=1\n",
        "print(d)"
      ],
      "execution_count": null,
      "outputs": [
        {
          "output_type": "stream",
          "text": [
            "{189: 2, 170: 2, 163: 1, 183: 8, 171: 1, 185: 3, 168: 2, 173: 4, 175: 2, 178: 4, 193: 2, 174: 1, 182: 4, 180: 1, 188: 3, 179: 1, 177: 1}\n"
          ],
          "name": "stdout"
        }
      ]
    },
    {
      "cell_type": "code",
      "metadata": {
        "id": "rfC74yPX6TLe",
        "outputId": "7ddb8dd1-af48-4083-b1d3-ad19d57fd984",
        "colab": {
          "base_uri": "https://localhost:8080/",
          "height": 104
        }
      },
      "source": [
        "print(\"minimum height: \", heights.min())\n",
        "print(\"maximum height: \", heights.max())\n",
        "print(\"mean of heights: \", heights.mean())\n",
        "print(\"standard deviation: \", heights.std())\n",
        "print(\"median of heightS: \", np.median(heights))"
      ],
      "execution_count": null,
      "outputs": [
        {
          "output_type": "stream",
          "text": [
            "minimum height:  163\n",
            "maximum height:  193\n",
            "mean of heights:  179.73809523809524\n",
            "standard deviation:  6.931843442745892\n",
            "median of heightS:  182.0\n"
          ],
          "name": "stdout"
        }
      ]
    },
    {
      "cell_type": "code",
      "metadata": {
        "id": "04TYPjiq6tox",
        "outputId": "03249a80-78a7-4b81-84e9-ef7adf9c440a",
        "colab": {
          "base_uri": "https://localhost:8080/",
          "height": 86
        }
      },
      "source": [
        "#nth percentile of the data\n",
        "print(\"20 percentile: \", np.percentile(heights, 20))\n",
        "print(\"50 percentile: \", np.percentile(heights, 50))\n",
        "print(\"75 percentile: \", np.percentile(heights, 75))\n",
        "print(\"100 percentile: \", np.percentile(heights, 100))\n"
      ],
      "execution_count": null,
      "outputs": [
        {
          "output_type": "stream",
          "text": [
            "20 percentile:  173.0\n",
            "50 percentile:  182.0\n",
            "75 percentile:  183.0\n",
            "100 percentile:  193.0\n"
          ],
          "name": "stdout"
        }
      ]
    },
    {
      "cell_type": "code",
      "metadata": {
        "id": "rLvdTDw576BG",
        "outputId": "e632b690-678b-4b94-e0eb-f1e39b37ee58",
        "colab": {
          "base_uri": "https://localhost:8080/",
          "height": 52
        }
      },
      "source": [
        "print(d[173])\n",
        "d[182]"
      ],
      "execution_count": null,
      "outputs": [
        {
          "output_type": "stream",
          "text": [
            "4\n"
          ],
          "name": "stdout"
        },
        {
          "output_type": "execute_result",
          "data": {
            "text/plain": [
              "4"
            ]
          },
          "metadata": {
            "tags": []
          },
          "execution_count": 199
        }
      ]
    },
    {
      "cell_type": "code",
      "metadata": {
        "id": "DQ_DmNMh88eI",
        "outputId": "a4774035-2d38-409b-d5cb-cda9492d6c58",
        "colab": {
          "base_uri": "https://localhost:8080/",
          "height": 34
        }
      },
      "source": [
        "d[183]"
      ],
      "execution_count": null,
      "outputs": [
        {
          "output_type": "execute_result",
          "data": {
            "text/plain": [
              "8"
            ]
          },
          "metadata": {
            "tags": []
          },
          "execution_count": 200
        }
      ]
    },
    {
      "cell_type": "code",
      "metadata": {
        "id": "itXVCW_n9A6N",
        "outputId": "9692627a-2de4-49a1-b054-4068f429d25d",
        "colab": {
          "base_uri": "https://localhost:8080/",
          "height": 86
        }
      },
      "source": [
        "#nth percentile of the data\n",
        "print(\"20 percentile: \", np.percentile(heights, 20, axis=0))\n",
        "print(\"50 percentile: \", np.percentile(heights, 50, axis=0))\n",
        "print(\"75 percentile: \", np.percentile(heights, 75,  axis=0))\n",
        "print(\"100 percentile: \", np.percentile(heights, 100,  axis=0))\n"
      ],
      "execution_count": null,
      "outputs": [
        {
          "output_type": "stream",
          "text": [
            "20 percentile:  173.0\n",
            "50 percentile:  182.0\n",
            "75 percentile:  183.0\n",
            "100 percentile:  193.0\n"
          ],
          "name": "stdout"
        }
      ]
    },
    {
      "cell_type": "code",
      "metadata": {
        "id": "iB2PLmGf9CJ8",
        "outputId": "78ee16f0-280c-4db9-933c-5a2318f24ee4",
        "colab": {
          "base_uri": "https://localhost:8080/",
          "height": 86
        }
      },
      "source": [
        "heights"
      ],
      "execution_count": null,
      "outputs": [
        {
          "output_type": "execute_result",
          "data": {
            "text/plain": [
              "array([189, 170, 189, 163, 183, 171, 185, 168, 173, 183, 173, 173, 175,\n",
              "       178, 183, 193, 178, 173, 174, 183, 183, 168, 170, 178, 182, 180,\n",
              "       183, 178, 182, 188, 175, 179, 183, 193, 182, 183, 177, 185, 188,\n",
              "       188, 182, 185])"
            ]
          },
          "metadata": {
            "tags": []
          },
          "execution_count": 202
        }
      ]
    },
    {
      "cell_type": "code",
      "metadata": {
        "id": "M9WwcLiI9rpO",
        "outputId": "e62a532e-5408-41a4-b375-69113003295b",
        "colab": {
          "base_uri": "https://localhost:8080/",
          "height": 34
        }
      },
      "source": [
        "len(heights)"
      ],
      "execution_count": null,
      "outputs": [
        {
          "output_type": "execute_result",
          "data": {
            "text/plain": [
              "42"
            ]
          },
          "metadata": {
            "tags": []
          },
          "execution_count": 203
        }
      ]
    },
    {
      "cell_type": "code",
      "metadata": {
        "id": "nr8TaDUW94SQ",
        "outputId": "e12c59d9-f2a1-4799-be87-ae0b266708cb",
        "colab": {
          "base_uri": "https://localhost:8080/",
          "height": 282
        }
      },
      "source": [
        "import matplotlib.pyplot as plt\n",
        "plt.plot([6.45, 5.87, 4.77, 4.18, 4.78, 5.25, 5.47, 5.58])"
      ],
      "execution_count": null,
      "outputs": [
        {
          "output_type": "execute_result",
          "data": {
            "text/plain": [
              "[<matplotlib.lines.Line2D at 0x7fbbaad34748>]"
            ]
          },
          "metadata": {
            "tags": []
          },
          "execution_count": 1
        },
        {
          "output_type": "display_data",
          "data": {
            "image/png": "[encoded data removed]",
            "text/plain": [
              "<Figure size 432x288 with 1 Axes>"
            ]
          },
          "metadata": {
            "tags": [],
            "needs_background": "light"
          }
        }
      ]
    },
    {
      "cell_type": "code",
      "metadata": {
        "id": "J0s4_9ev_xac",
        "outputId": "6fcc82d6-b7b9-4549-d1bd-b477bd13f42c",
        "colab": {
          "base_uri": "https://localhost:8080/",
          "height": 282
        }
      },
      "source": [
        "plt.plot([8, 8.24, 8.3, 8.25, 8.60, 8.38, 9.33, 8.54, 8, 8.20, 9.40, 9.20])"
      ],
      "execution_count": null,
      "outputs": [
        {
          "output_type": "execute_result",
          "data": {
            "text/plain": [
              "[<matplotlib.lines.Line2D at 0x7fbbaa4dd860>]"
            ]
          },
          "metadata": {
            "tags": []
          },
          "execution_count": 2
        },
        {
          "output_type": "display_data",
          "data": {
            "image/png": "[encoded data removed]",
            "text/plain": [
              "<Figure size 432x288 with 1 Axes>"
            ]
          },
          "metadata": {
            "tags": [],
            "needs_background": "light"
          }
        }
      ]
    },
    {
      "cell_type": "code",
      "metadata": {
        "id": "mRuN7g_t-R5y",
        "outputId": "d4525b69-6b9d-47ba-eb07-61a3859d7735",
        "colab": {
          "base_uri": "https://localhost:8080/",
          "height": 282
        }
      },
      "source": [
        "import matplotlib.pyplot as plt\n",
        "plt.plot(heights)"
      ],
      "execution_count": null,
      "outputs": [
        {
          "output_type": "execute_result",
          "data": {
            "text/plain": [
              "[<matplotlib.lines.Line2D at 0x7f44cc51d4a8>]"
            ]
          },
          "metadata": {
            "tags": []
          },
          "execution_count": 204
        },
        {
          "output_type": "display_data",
          "data": {
            "image/png": "[encoded data removed]",
            "text/plain": [
              "<Figure size 432x288 with 1 Axes>"
            ]
          },
          "metadata": {
            "tags": [],
            "needs_background": "light"
          }
        }
      ]
    },
    {
      "cell_type": "code",
      "metadata": {
        "id": "9NQgzevu-YKk",
        "outputId": "1e63b590-d06d-47cf-fcec-844dfae08ce0",
        "colab": {
          "base_uri": "https://localhost:8080/",
          "height": 296
        }
      },
      "source": [
        "plt.hist(heights)\n",
        "plt.xlabel(\"height(cm)\")\n",
        "plt.ylabel(\"number\")"
      ],
      "execution_count": null,
      "outputs": [
        {
          "output_type": "execute_result",
          "data": {
            "text/plain": [
              "Text(0, 0.5, 'number')"
            ]
          },
          "metadata": {
            "tags": []
          },
          "execution_count": 205
        },
        {
          "output_type": "display_data",
          "data": {
            "image/png": "[encoded data removed]",
            "text/plain": [
              "<Figure size 432x288 with 1 Axes>"
            ]
          },
          "metadata": {
            "tags": [],
            "needs_background": "light"
          }
        }
      ]
    },
    {
      "cell_type": "markdown",
      "metadata": {
        "id": "vXaem9Sp_mjY"
      },
      "source": [
        "**Computation on Arrays: Broadcasting**\n",
        "\n",
        "Broadcasting is simply a set of rules for applying binary ufuncs (addition, subtraction, multiplication, etc.) on arrays of different sizes"
      ]
    },
    {
      "cell_type": "code",
      "metadata": {
        "id": "kU7OdIsU-aLd",
        "outputId": "cbf4b514-65a3-463f-8cb9-587cc6532e0b",
        "colab": {
          "base_uri": "https://localhost:8080/",
          "height": 34
        }
      },
      "source": [
        "# for the same size arrays operations are performed element by element \n",
        "\n",
        "a = np.array([1,2,3])\n",
        "b= np.array([5,2,9])\n",
        "a+b"
      ],
      "execution_count": null,
      "outputs": [
        {
          "output_type": "execute_result",
          "data": {
            "text/plain": [
              "array([ 6,  4, 12])"
            ]
          },
          "metadata": {
            "tags": []
          },
          "execution_count": 206
        }
      ]
    },
    {
      "cell_type": "code",
      "metadata": {
        "id": "bvPVLldRAubw",
        "outputId": "5c5dc190-de6d-413a-bbe9-93a382904695",
        "colab": {
          "base_uri": "https://localhost:8080/",
          "height": 52
        }
      },
      "source": [
        "# Broadcasting allows these types of binary operations to be performed on arrays of different sizes \n",
        "\n",
        "print(a)\n",
        "a+5"
      ],
      "execution_count": null,
      "outputs": [
        {
          "output_type": "stream",
          "text": [
            "[1 2 3]\n"
          ],
          "name": "stdout"
        },
        {
          "output_type": "execute_result",
          "data": {
            "text/plain": [
              "array([6, 7, 8])"
            ]
          },
          "metadata": {
            "tags": []
          },
          "execution_count": 207
        }
      ]
    },
    {
      "cell_type": "code",
      "metadata": {
        "id": "vhJrmrvrA7Lg",
        "outputId": "012b772d-5654-48db-cef3-95b2aba1c5bb",
        "colab": {
          "base_uri": "https://localhost:8080/",
          "height": 208
        }
      },
      "source": [
        "x = np.ones((3,3))\n",
        "print(\"x: \\n\", x)\n",
        "print(\"\\na: \", a)\n",
        "print(\"\\nx+a: \\n\", x+a)\n"
      ],
      "execution_count": null,
      "outputs": [
        {
          "output_type": "stream",
          "text": [
            "x: \n",
            " [[1. 1. 1.]\n",
            " [1. 1. 1.]\n",
            " [1. 1. 1.]]\n",
            "\n",
            "a:  [1 2 3]\n",
            "\n",
            "x+a: \n",
            " [[2. 3. 4.]\n",
            " [2. 3. 4.]\n",
            " [2. 3. 4.]]\n"
          ],
          "name": "stdout"
        }
      ]
    },
    {
      "cell_type": "code",
      "metadata": {
        "id": "UGs8QJOZBRnK",
        "outputId": "12ef7334-9132-486b-f874-0d50164228dc",
        "colab": {
          "base_uri": "https://localhost:8080/",
          "height": 191
        }
      },
      "source": [
        "x = np.arange(1,4)\n",
        "y = np.arange(1,4)[:,np.newaxis]\n",
        "print(\"x: \", x)\n",
        "print(\"\\ny: \", y)\n",
        "print(\"\\nx+y: \\n\", x+y)"
      ],
      "execution_count": null,
      "outputs": [
        {
          "output_type": "stream",
          "text": [
            "x:  [1 2 3]\n",
            "\n",
            "y:  [[1]\n",
            " [2]\n",
            " [3]]\n",
            "\n",
            "x+y: \n",
            " [[2 3 4]\n",
            " [3 4 5]\n",
            " [4 5 6]]\n"
          ],
          "name": "stdout"
        }
      ]
    },
    {
      "cell_type": "code",
      "metadata": {
        "id": "7I5SfdI0B-GW",
        "outputId": "87dca81c-3607-4926-e0f5-eb4087e73357",
        "colab": {
          "base_uri": "https://localhost:8080/",
          "height": 69
        }
      },
      "source": [
        "x*y"
      ],
      "execution_count": null,
      "outputs": [
        {
          "output_type": "execute_result",
          "data": {
            "text/plain": [
              "array([[1, 2, 3],\n",
              "       [2, 4, 6],\n",
              "       [3, 6, 9]])"
            ]
          },
          "metadata": {
            "tags": []
          },
          "execution_count": 210
        }
      ]
    },
    {
      "cell_type": "code",
      "metadata": {
        "id": "hKdB2pmtCC7s",
        "outputId": "29d08a35-422d-4329-b89d-be012f9881c9",
        "colab": {
          "base_uri": "https://localhost:8080/",
          "height": 69
        }
      },
      "source": [
        "x-y"
      ],
      "execution_count": null,
      "outputs": [
        {
          "output_type": "execute_result",
          "data": {
            "text/plain": [
              "array([[ 0,  1,  2],\n",
              "       [-1,  0,  1],\n",
              "       [-2, -1,  0]])"
            ]
          },
          "metadata": {
            "tags": []
          },
          "execution_count": 211
        }
      ]
    },
    {
      "cell_type": "markdown",
      "metadata": {
        "id": "ebjBVGxNCVS1"
      },
      "source": [
        "**Rules of Brodcasting**\n",
        "\n",
        "• Rule 1: If the two arrays differ in their number of dimensions, the shape of the one with fewer dimensions is padded with ones on its leading (left) side.\n",
        "\n",
        "• Rule 2: If the shape of the two arrays does not match in any dimension, the array with shape equal to 1 in that dimension is stretched to match the other shape.\n",
        "\n",
        "• Rule 3: If in any dimension the sizes disagree and neither is equal to 1, an error is raised."
      ]
    },
    {
      "cell_type": "code",
      "metadata": {
        "id": "gWncE2e-CGXY",
        "outputId": "6aaa5db5-f343-4dc0-ceb4-5e59f1fb4055",
        "colab": {
          "base_uri": "https://localhost:8080/",
          "height": 139
        }
      },
      "source": [
        "a = np.ones((2,3))\n",
        "b = np.ones(3)\n",
        "print(\"shape of a: \", a.shape)\n",
        "print(\"shape of b: \", b.shape)\n",
        "print(\"a: \", a)\n",
        "print(\"b: \",b)\n",
        "print(\"a+b: \", a+b)"
      ],
      "execution_count": null,
      "outputs": [
        {
          "output_type": "stream",
          "text": [
            "shape of a:  (2, 3)\n",
            "shape of b:  (3,)\n",
            "a:  [[1. 1. 1.]\n",
            " [1. 1. 1.]]\n",
            "b:  [1. 1. 1.]\n",
            "a+b:  [[2. 2. 2.]\n",
            " [2. 2. 2.]]\n"
          ],
          "name": "stdout"
        }
      ]
    },
    {
      "cell_type": "code",
      "metadata": {
        "id": "7qh9mOe8DNV2",
        "outputId": "e42ea7b0-9631-41c8-93bd-b88ab8f9e652",
        "colab": {
          "base_uri": "https://localhost:8080/",
          "height": 173
        }
      },
      "source": [
        "a = np.ones((3,2))\n",
        "b = np.ones(3)[:,np.newaxis]\n",
        "print(\"a: \", a)\n",
        "print(\"b: \",b)\n",
        "print(\"a+b: \", a+b)"
      ],
      "execution_count": null,
      "outputs": [
        {
          "output_type": "stream",
          "text": [
            "a:  [[1. 1.]\n",
            " [1. 1.]\n",
            " [1. 1.]]\n",
            "b:  [[1.]\n",
            " [1.]\n",
            " [1.]]\n",
            "a+b:  [[2. 2.]\n",
            " [2. 2.]\n",
            " [2. 2.]]\n"
          ],
          "name": "stdout"
        }
      ]
    },
    {
      "cell_type": "code",
      "metadata": {
        "id": "SH8T-r79Deo9",
        "outputId": "151172e2-7bcb-4d16-996b-bad85ccda303",
        "colab": {
          "base_uri": "https://localhost:8080/",
          "height": 52
        }
      },
      "source": [
        "print(\"shape of a: \",a.shape)\n",
        "print(\"shape of b: \", b.shape)\n"
      ],
      "execution_count": null,
      "outputs": [
        {
          "output_type": "stream",
          "text": [
            "shape of a:  (3, 2)\n",
            "shape of b:  (3, 1)\n"
          ],
          "name": "stdout"
        }
      ]
    },
    {
      "cell_type": "code",
      "metadata": {
        "id": "gRQCFcLkEHLX",
        "outputId": "3bf8db6a-3390-4327-cf27-65c1e9b248e0",
        "colab": {
          "base_uri": "https://localhost:8080/",
          "height": 191
        }
      },
      "source": [
        "x = np.arange(3)\n",
        "y = np.arange(3)[:,np.newaxis]\n",
        "print(\"shape of x: \", x.shape)\n",
        "print(x)\n",
        "print(\"Shape of y: \", y.shape)\n",
        "print(\"y: \", y)\n",
        "print(\"shape of x+y: \", (x+y).shape)\n",
        "x+y"
      ],
      "execution_count": null,
      "outputs": [
        {
          "output_type": "stream",
          "text": [
            "shape of x:  (3,)\n",
            "[0 1 2]\n",
            "Shape of y:  (3, 1)\n",
            "y:  [[0]\n",
            " [1]\n",
            " [2]]\n",
            "shape of x+y:  (3, 3)\n"
          ],
          "name": "stdout"
        },
        {
          "output_type": "execute_result",
          "data": {
            "text/plain": [
              "array([[0, 1, 2],\n",
              "       [1, 2, 3],\n",
              "       [2, 3, 4]])"
            ]
          },
          "metadata": {
            "tags": []
          },
          "execution_count": 215
        }
      ]
    },
    {
      "cell_type": "code",
      "metadata": {
        "id": "0xejf8hzFJhv",
        "outputId": "df00b662-f53d-4f33-f978-315110799314",
        "colab": {
          "base_uri": "https://localhost:8080/",
          "height": 69
        }
      },
      "source": [
        "y+x"
      ],
      "execution_count": null,
      "outputs": [
        {
          "output_type": "execute_result",
          "data": {
            "text/plain": [
              "array([[0, 1, 2],\n",
              "       [1, 2, 3],\n",
              "       [2, 3, 4]])"
            ]
          },
          "metadata": {
            "tags": []
          },
          "execution_count": 216
        }
      ]
    },
    {
      "cell_type": "markdown",
      "metadata": {
        "id": "XyWqbnOtO4yC"
      },
      "source": [
        "**centering of an array**"
      ]
    },
    {
      "cell_type": "code",
      "metadata": {
        "id": "Jz_WxyqRLrog",
        "outputId": "a58fbd17-451a-439f-cb46-990bef1ac56e",
        "colab": {
          "base_uri": "https://localhost:8080/",
          "height": 191
        }
      },
      "source": [
        "x = np.random.random((10,4))*10\n",
        "x"
      ],
      "execution_count": null,
      "outputs": [
        {
          "output_type": "execute_result",
          "data": {
            "text/plain": [
              "array([[8.09132819, 4.01627626, 5.39023256, 7.64506477],\n",
              "       [4.23405321, 8.54094027, 8.96881167, 8.50081697],\n",
              "       [8.18792457, 1.42259688, 7.97173522, 9.22921248],\n",
              "       [5.85388738, 8.54078975, 5.18660373, 5.33298185],\n",
              "       [8.6655938 , 5.9544914 , 0.0998476 , 2.4549557 ],\n",
              "       [8.99865138, 0.16323138, 6.78988053, 0.38418065],\n",
              "       [3.01383843, 8.79398504, 4.71121569, 1.17520296],\n",
              "       [2.26282277, 8.86171637, 6.8410258 , 9.32094801],\n",
              "       [4.86507387, 4.45804675, 3.85397098, 3.40100591],\n",
              "       [0.50743943, 8.89724248, 9.14780832, 8.63375484]])"
            ]
          },
          "metadata": {
            "tags": []
          },
          "execution_count": 217
        }
      ]
    },
    {
      "cell_type": "code",
      "metadata": {
        "id": "f2SS_8r7PFv9",
        "outputId": "d452756d-e287-4107-c196-5162c6290221",
        "colab": {
          "base_uri": "https://localhost:8080/",
          "height": 191
        }
      },
      "source": [
        "x = x.astype(int)\n",
        "x"
      ],
      "execution_count": null,
      "outputs": [
        {
          "output_type": "execute_result",
          "data": {
            "text/plain": [
              "array([[8, 4, 5, 7],\n",
              "       [4, 8, 8, 8],\n",
              "       [8, 1, 7, 9],\n",
              "       [5, 8, 5, 5],\n",
              "       [8, 5, 0, 2],\n",
              "       [8, 0, 6, 0],\n",
              "       [3, 8, 4, 1],\n",
              "       [2, 8, 6, 9],\n",
              "       [4, 4, 3, 3],\n",
              "       [0, 8, 9, 8]])"
            ]
          },
          "metadata": {
            "tags": []
          },
          "execution_count": 218
        }
      ]
    },
    {
      "cell_type": "code",
      "metadata": {
        "id": "RghnIsttP6Do",
        "outputId": "ce22be69-87ab-46fe-99f3-34df24b880f3",
        "colab": {
          "base_uri": "https://localhost:8080/",
          "height": 191
        }
      },
      "source": [
        "x.astype(float)"
      ],
      "execution_count": null,
      "outputs": [
        {
          "output_type": "execute_result",
          "data": {
            "text/plain": [
              "array([[8., 4., 5., 7.],\n",
              "       [4., 8., 8., 8.],\n",
              "       [8., 1., 7., 9.],\n",
              "       [5., 8., 5., 5.],\n",
              "       [8., 5., 0., 2.],\n",
              "       [8., 0., 6., 0.],\n",
              "       [3., 8., 4., 1.],\n",
              "       [2., 8., 6., 9.],\n",
              "       [4., 4., 3., 3.],\n",
              "       [0., 8., 9., 8.]])"
            ]
          },
          "metadata": {
            "tags": []
          },
          "execution_count": 219
        }
      ]
    },
    {
      "cell_type": "code",
      "metadata": {
        "id": "Ror5pxSmQBPH",
        "outputId": "e56c7b58-b437-4e0d-a0db-b4b843154b90",
        "colab": {
          "base_uri": "https://localhost:8080/",
          "height": 191
        }
      },
      "source": [
        "x.astype(bool)"
      ],
      "execution_count": null,
      "outputs": [
        {
          "output_type": "execute_result",
          "data": {
            "text/plain": [
              "array([[ True,  True,  True,  True],\n",
              "       [ True,  True,  True,  True],\n",
              "       [ True,  True,  True,  True],\n",
              "       [ True,  True,  True,  True],\n",
              "       [ True,  True, False,  True],\n",
              "       [ True, False,  True, False],\n",
              "       [ True,  True,  True,  True],\n",
              "       [ True,  True,  True,  True],\n",
              "       [ True,  True,  True,  True],\n",
              "       [False,  True,  True,  True]])"
            ]
          },
          "metadata": {
            "tags": []
          },
          "execution_count": 220
        }
      ]
    },
    {
      "cell_type": "code",
      "metadata": {
        "id": "GQV_dKSTQELh",
        "outputId": "a71842e9-2858-4bc6-c637-674035c9d74a",
        "colab": {
          "base_uri": "https://localhost:8080/",
          "height": 191
        }
      },
      "source": [
        "x"
      ],
      "execution_count": null,
      "outputs": [
        {
          "output_type": "execute_result",
          "data": {
            "text/plain": [
              "array([[8, 4, 5, 7],\n",
              "       [4, 8, 8, 8],\n",
              "       [8, 1, 7, 9],\n",
              "       [5, 8, 5, 5],\n",
              "       [8, 5, 0, 2],\n",
              "       [8, 0, 6, 0],\n",
              "       [3, 8, 4, 1],\n",
              "       [2, 8, 6, 9],\n",
              "       [4, 4, 3, 3],\n",
              "       [0, 8, 9, 8]])"
            ]
          },
          "metadata": {
            "tags": []
          },
          "execution_count": 221
        }
      ]
    },
    {
      "cell_type": "code",
      "metadata": {
        "id": "rMfGJCBQQI7T",
        "outputId": "9035f100-ea40-4673-9044-42ac77e7f60d",
        "colab": {
          "base_uri": "https://localhost:8080/",
          "height": 34
        }
      },
      "source": [
        "x_mean = x.mean(0)\n",
        "x_mean"
      ],
      "execution_count": null,
      "outputs": [
        {
          "output_type": "execute_result",
          "data": {
            "text/plain": [
              "array([5. , 5.4, 5.3, 5.2])"
            ]
          },
          "metadata": {
            "tags": []
          },
          "execution_count": 222
        }
      ]
    },
    {
      "cell_type": "code",
      "metadata": {
        "id": "TdSbw4VnQzWq",
        "outputId": "372c2951-3fb2-439f-b8fc-6ec4e4dde134",
        "colab": {
          "base_uri": "https://localhost:8080/",
          "height": 34
        }
      },
      "source": [
        "x.mean(1)"
      ],
      "execution_count": null,
      "outputs": [
        {
          "output_type": "execute_result",
          "data": {
            "text/plain": [
              "array([6.  , 7.  , 6.25, 5.75, 3.75, 3.5 , 4.  , 6.25, 3.5 , 6.25])"
            ]
          },
          "metadata": {
            "tags": []
          },
          "execution_count": 223
        }
      ]
    },
    {
      "cell_type": "code",
      "metadata": {
        "id": "AoALYMLuRQAU",
        "outputId": "d340a329-7fce-4327-d956-c761ca4e22fe",
        "colab": {
          "base_uri": "https://localhost:8080/",
          "height": 191
        }
      },
      "source": [
        "x_centered = x - x_mean\n",
        "x_centered"
      ],
      "execution_count": null,
      "outputs": [
        {
          "output_type": "execute_result",
          "data": {
            "text/plain": [
              "array([[ 3. , -1.4, -0.3,  1.8],\n",
              "       [-1. ,  2.6,  2.7,  2.8],\n",
              "       [ 3. , -4.4,  1.7,  3.8],\n",
              "       [ 0. ,  2.6, -0.3, -0.2],\n",
              "       [ 3. , -0.4, -5.3, -3.2],\n",
              "       [ 3. , -5.4,  0.7, -5.2],\n",
              "       [-2. ,  2.6, -1.3, -4.2],\n",
              "       [-3. ,  2.6,  0.7,  3.8],\n",
              "       [-1. , -1.4, -2.3, -2.2],\n",
              "       [-5. ,  2.6,  3.7,  2.8]])"
            ]
          },
          "metadata": {
            "tags": []
          },
          "execution_count": 224
        }
      ]
    },
    {
      "cell_type": "markdown",
      "metadata": {
        "id": "I1K4D5RMSE9P"
      },
      "source": [
        "To double-check that we’ve done this correctly, we can check that the centered array has near zero mean"
      ]
    },
    {
      "cell_type": "code",
      "metadata": {
        "id": "uTqTBPywRaqn",
        "outputId": "0d86e418-6eb7-4840-a52d-98283873418f",
        "colab": {
          "base_uri": "https://localhost:8080/",
          "height": 34
        }
      },
      "source": [
        "x_centered.mean(0)"
      ],
      "execution_count": null,
      "outputs": [
        {
          "output_type": "execute_result",
          "data": {
            "text/plain": [
              "array([ 0.00000000e+00, -3.55271368e-16,  1.77635684e-16, -1.77635684e-16])"
            ]
          },
          "metadata": {
            "tags": []
          },
          "execution_count": 225
        }
      ]
    },
    {
      "cell_type": "markdown",
      "metadata": {
        "id": "h-l-tOCvSh1-"
      },
      "source": [
        "**Ploting a two dimensional function**\n",
        "\n",
        "\n",
        "broadcasting is very useful is in displaying images based on two-dimensional functions. If we want to define a function z = f(x, y), broadcasting can be used to compute the function across the grid"
      ]
    },
    {
      "cell_type": "code",
      "metadata": {
        "id": "hq7O-TPmR1Rc",
        "outputId": "4bf4e6f6-8fe2-42d1-812a-f3a865500cba",
        "colab": {
          "base_uri": "https://localhost:8080/",
          "height": 434
        }
      },
      "source": [
        "x = np.linspace(0,5, 20)\n",
        "y = np.linspace(0, 5, 20)[:, np.newaxis]\n",
        "x,y"
      ],
      "execution_count": null,
      "outputs": [
        {
          "output_type": "execute_result",
          "data": {
            "text/plain": [
              "(array([0.        , 0.26315789, 0.52631579, 0.78947368, 1.05263158,\n",
              "        1.31578947, 1.57894737, 1.84210526, 2.10526316, 2.36842105,\n",
              "        2.63157895, 2.89473684, 3.15789474, 3.42105263, 3.68421053,\n",
              "        3.94736842, 4.21052632, 4.47368421, 4.73684211, 5.        ]),\n",
              " array([[0.        ],\n",
              "        [0.26315789],\n",
              "        [0.52631579],\n",
              "        [0.78947368],\n",
              "        [1.05263158],\n",
              "        [1.31578947],\n",
              "        [1.57894737],\n",
              "        [1.84210526],\n",
              "        [2.10526316],\n",
              "        [2.36842105],\n",
              "        [2.63157895],\n",
              "        [2.89473684],\n",
              "        [3.15789474],\n",
              "        [3.42105263],\n",
              "        [3.68421053],\n",
              "        [3.94736842],\n",
              "        [4.21052632],\n",
              "        [4.47368421],\n",
              "        [4.73684211],\n",
              "        [5.        ]]))"
            ]
          },
          "metadata": {
            "tags": []
          },
          "execution_count": 226
        }
      ]
    },
    {
      "cell_type": "code",
      "metadata": {
        "id": "6dDvKpCWT6BH",
        "outputId": "901e8f25-c737-4605-a60e-4d12a2b6f200",
        "colab": {
          "base_uri": "https://localhost:8080/",
          "height": 1000
        }
      },
      "source": [
        "z = np.sin(x)**10 + np.cos(10+y*x)*np.cos(x)\n",
        "z\n"
      ],
      "execution_count": null,
      "outputs": [
        {
          "output_type": "execute_result",
          "data": {
            "text/plain": [
              "array([[-0.83907153, -0.81018367, -0.72449123, -0.55834567, -0.17076126,\n",
              "         0.50818075,  1.00650709,  0.91377238,  0.65010414,  0.62813471,\n",
              "         0.73305838,  0.81363627,  0.83896004,  0.80652191,  0.71989513,\n",
              "         0.6192571 ,  0.67183826,  0.9484198 ,  0.97649852,  0.41940746],\n",
              "       [-0.83907153, -0.77189317, -0.65259983, -0.46661712, -0.08123045,\n",
              "         0.56731656,  1.00413519,  0.81992462,  0.44037959,  0.28795752,\n",
              "         0.26122527,  0.22465478,  0.16378603,  0.09146414,  0.02364954,\n",
              "         0.00824289,  0.21420959,  0.70729761,  1.0030864 ,  0.7467089 ],\n",
              "       [-0.83907153, -0.72990226, -0.56818974, -0.35342081,  0.03315978,\n",
              "         0.64455718,  1.00100304,  0.69588645,  0.16553203, -0.15012271,\n",
              "        -0.33060581, -0.48850938, -0.61813747, -0.69284963, -0.6919677 ,\n",
              "        -0.57329264, -0.18364878,  0.51886534,  1.02139943,  0.94047964],\n",
              "       [-0.83907153, -0.68441224, -0.47287765, -0.22362506,  0.16368785,\n",
              "         0.73073389,  0.99764367,  0.57024009, -0.09221417, -0.5213658 ,\n",
              "        -0.76976526, -0.93163834, -0.99718254, -0.95252597, -0.80535417,\n",
              "        -0.55227066, -0.08124578,  0.61548507,  1.00648084,  0.71093633],\n",
              "       [-0.83907153, -0.63564119, -0.36848905, -0.08281206,  0.30040174,\n",
              "         0.81561725,  0.99462878,  0.47193828, -0.25575073, -0.6861657 ,\n",
              "        -0.85392266, -0.85978239, -0.72630209, -0.4909343 , -0.21801964,\n",
              "         0.05059256,  0.40804254,  0.8780118 ,  0.9786615 ,  0.40136005],\n",
              "       [-0.83907153, -0.58382291, -0.25702327,  0.06296216,  0.43287783,\n",
              "         0.88913135,  0.99247144,  0.42363278, -0.27615347, -0.58254937,\n",
              "        -0.54430484, -0.31266156,  0.01795436,  0.34240167,  0.55986292,\n",
              "         0.64120064,  0.74249796,  0.98271513,  0.97585324,  0.47472087],\n",
              "       [-0.83907153, -0.52920581, -0.14061518,  0.20742818,  0.55101557,\n",
              "         0.94254984,  0.99153879,  0.43645466, -0.14731864, -0.24948176,\n",
              "         0.01644045,  0.40729055,  0.75050884,  0.9164682 ,  0.85260593,\n",
              "         0.63753414,  0.55182634,  0.80048191,  1.00188313,  0.82130798],\n",
              "       [-0.83907153, -0.47205173, -0.02149433,  0.34437288,  0.64580765,\n",
              "         0.96953176,  0.99198955,  0.50744935,  0.09221109,  0.18778699,\n",
              "         0.56996553,  0.90210387,  0.99391029,  0.79657403,  0.40592574,\n",
              "         0.04320624,  0.0471308 ,  0.55602996,  1.02127797,  0.92280177],\n",
              "       [-0.83907153, -0.41263465,  0.09805781,  0.46790657,  0.71002673,\n",
              "         0.9668743 ,  0.99374701,  0.62025751,  0.37077713,  0.56482185,\n",
              "         0.8612492 ,  0.89825898,  0.58951894,  0.07350471, -0.39218045,\n",
              "        -0.55609788, -0.21281224,  0.55080109,  1.00760671,  0.62741869],\n",
              "       [-0.83907153, -0.35123943,  0.21575147,  0.57271638,  0.73877648,\n",
              "         0.93489288,  0.99651209,  0.74888469,  0.60504268,  0.73983878,\n",
              "         0.75609068,  0.39788122, -0.19909837, -0.70522148, -0.84845832,\n",
              "        -0.56978921,  0.05979456,  0.79124319,  0.97950038,  0.37690293],\n",
              "       [-0.83907153, -0.28816038,  0.3293325 ,  0.65429468,  0.72986489,\n",
              "         0.87738382,  0.99981422,  0.86369125,  0.72492402,  0.64702263,\n",
              "         0.3029388 , -0.3224341 , -0.85795095, -0.9499421 , -0.56657388,\n",
              "         0.0156245 ,  0.56313311,  0.98085913,  0.97526192,  0.54589979],\n",
              "       [-0.83907153, -0.2236999 ,  0.4366255 ,  0.70913298,  0.68397142,\n",
              "         0.8011736 ,  1.00309144,  0.93822224,  0.69455702,  0.32127692,\n",
              "        -0.28942939, -0.86451615, -0.95762384, -0.47535125,  0.20862123,\n",
              "         0.62324262,  0.73992939,  0.88582722,  1.00066745,  0.88167515],\n",
              "       [-0.83907153, -0.15816702,  0.53557553,  0.73487282,  0.60459518,\n",
              "         0.71530863,  1.00578603,  0.95530344,  0.52302637, -0.11490159,\n",
              "        -0.74809683, -0.92871661, -0.43315405,  0.35918419,  0.80377381,\n",
              "         0.65428304,  0.39444244,  0.62333445,  1.02109464,  0.88207834],\n",
              "       [-0.83907153, -0.09187588,  0.62428741,  0.73040719,  0.49778815,\n",
              "         0.62998134,  1.00743942,  0.91099882,  0.26164781, -0.49748787,\n",
              "        -0.86174534, -0.47954723,  0.37362903,  0.92174224,  0.70191994,\n",
              "         0.07815672, -0.09081999,  0.51706935,  1.00870558,  0.54650638],\n",
              "       [-0.83907153, -0.02514429,  0.70106207,  0.69592814,  0.37169374,\n",
              "         0.55532034,  1.00777025,  0.81551752, -0.01138373, -0.68261027,\n",
              "        -0.57801456,  0.23470333,  0.93689496,  0.78634601, -0.00846764,\n",
              "        -0.53738805, -0.17859695,  0.69807095,  0.98038392,  0.37680578],\n",
              "       [-0.83907153,  0.04170785,  0.76442907,  0.63291854,  0.23592592,\n",
              "         0.50018813,  1.0067222 ,  0.69086136, -0.21438715, -0.60065345,\n",
              "        -0.02762549,  0.81921664,  0.8895285 ,  0.05551943, -0.71032911,\n",
              "        -0.58575778,  0.22829429,  0.94314017,  0.97472605,  0.62676308],\n",
              "       [-0.83907153,  0.10836005,  0.81317474,  0.54408828,  0.1008362 ,\n",
              "         0.47112908,  1.00447363,  0.56575492, -0.28663123, -0.28243731,\n",
              "         0.53584551,  0.95088956,  0.26240131, -0.71734531, -0.79401065,\n",
              "        -0.01928612,  0.67936189,  0.95007403,  0.99944245,  0.92256817],\n",
              "       [-0.83907153,  0.17449278,  0.84636549,  0.43325774, -0.02327563,\n",
              "         0.47159257,  1.00140722,  0.46902657, -0.20650317,  0.1523729 ,\n",
              "         0.85279495,  0.55693686, -0.53574905, -0.94702415, -0.18682445,\n",
              "         0.60379291,  0.67520389,  0.71032217,  1.02084992,  0.82184574],\n",
              "       [-0.83907153,  0.23978901,  0.8633656 ,  0.30519347, -0.12694674,\n",
              "         0.5015236 ,  0.9980448 ,  0.42296547,  0.00202563,  0.54026671,\n",
              "         0.77719725, -0.14487507, -0.98471862, -0.45960103,  0.5838129 ,\n",
              "         0.6694611 ,  0.22042385,  0.51953054,  1.00977464,  0.47522577],\n",
              "       [-0.83907153,  0.30393572,  0.86384949,  0.16540322, -0.20227283,\n",
              "         0.55736926,  0.99495859,  0.43818551,  0.27657095,  0.73537656,\n",
              "         0.34388194, -0.76660356, -0.79188616,  0.37584039,  0.84850716,\n",
              "         0.11300522, -0.18146603,  0.61297063,  0.98130986,  0.40107702]])"
            ]
          },
          "metadata": {
            "tags": []
          },
          "execution_count": 227
        }
      ]
    },
    {
      "cell_type": "code",
      "metadata": {
        "id": "3X8JQALJVQQJ",
        "outputId": "5ae1e394-91a5-4635-a162-773004cb44f2",
        "colab": {
          "base_uri": "https://localhost:8080/",
          "height": 286
        }
      },
      "source": [
        "plt.imshow(z, extent = [0,10,0,10])\n",
        "plt.colorbar()\n"
      ],
      "execution_count": null,
      "outputs": [
        {
          "output_type": "execute_result",
          "data": {
            "text/plain": [
              "<matplotlib.colorbar.Colorbar at 0x7f44cbf24a20>"
            ]
          },
          "metadata": {
            "tags": []
          },
          "execution_count": 228
        },
        {
          "output_type": "display_data",
          "data": {
            "image/png": "[encoded data removed]",
            "text/plain": [
              "<Figure size 432x288 with 2 Axes>"
            ]
          },
          "metadata": {
            "tags": [],
            "needs_background": "light"
          }
        }
      ]
    },
    {
      "cell_type": "code",
      "metadata": {
        "id": "Rc9_zY74VmH8",
        "outputId": "d7cb44c1-bc67-4942-bcfe-3fde50a560f4",
        "colab": {
          "base_uri": "https://localhost:8080/",
          "height": 1000
        }
      },
      "source": [
        "z = np.sin(x)**10 + np.cos(y)**10\n",
        "z"
      ],
      "execution_count": null,
      "outputs": [
        {
          "output_type": "execute_result",
          "data": {
            "text/plain": [
              "array([[1.00000000e+00, 1.00000142e+00, 1.00102347e+00, 1.03254452e+00,\n",
              "        1.24481966e+00, 1.71983826e+00, 1.99966785e+00, 1.68890732e+00,\n",
              "        1.22269596e+00, 1.02761189e+00, 1.00076892e+00, 1.00000076e+00,\n",
              "        1.00000000e+00, 1.00000255e+00, 1.00134800e+00, 1.03815658e+00,\n",
              "        1.26819506e+00, 1.75002610e+00, 1.99701439e+00, 1.65742033e+00],\n",
              "       [7.04453945e-01, 7.04455364e-01, 7.05477413e-01, 7.36998463e-01,\n",
              "        9.49273602e-01, 1.42429220e+00, 1.70412180e+00, 1.39336126e+00,\n",
              "        9.27149901e-01, 7.32065837e-01, 7.05222866e-01, 7.04454704e-01,\n",
              "        7.04453945e-01, 7.04456495e-01, 7.05801948e-01, 7.42610526e-01,\n",
              "        9.72649005e-01, 1.45448005e+00, 1.70146834e+00, 1.36187427e+00],\n",
              "       [2.33599699e-01, 2.33601118e-01, 2.34623167e-01, 2.66144217e-01,\n",
              "        4.78419356e-01, 9.53437955e-01, 1.23326755e+00, 9.22507018e-01,\n",
              "        4.56295655e-01, 2.61211591e-01, 2.34368620e-01, 2.33600458e-01,\n",
              "        2.33599699e-01, 2.33602249e-01, 2.34947702e-01, 2.71756280e-01,\n",
              "        5.01794759e-01, 9.83625803e-01, 1.23061409e+00, 8.91020025e-01],\n",
              "       [2.99970072e-02, 2.99984260e-02, 3.10204747e-02, 6.25415251e-02,\n",
              "        2.74816663e-01, 7.49835263e-01, 1.02966486e+00, 7.18904326e-01,\n",
              "        2.52692963e-01, 5.76088986e-02, 3.07659282e-02, 2.99977662e-02,\n",
              "        2.99970072e-02, 2.99995571e-02, 3.13450099e-02, 6.81535877e-02,\n",
              "        2.98192067e-01, 7.80023111e-01, 1.02701140e+00, 6.87417333e-01],\n",
              "       [8.88313146e-04, 8.89731947e-04, 1.91178063e-03, 3.34328311e-02,\n",
              "        2.45707969e-01, 7.20726569e-01, 1.00055617e+00, 6.89795632e-01,\n",
              "        2.23584269e-01, 2.85002045e-02, 1.65723420e-03, 8.89072135e-04,\n",
              "        8.88313146e-04, 8.90863023e-04, 2.23631585e-03, 3.90448937e-02,\n",
              "        2.69083373e-01, 7.50914417e-01, 9.97902704e-01, 6.58308639e-01],\n",
              "       [1.04315027e-06, 2.46195127e-06, 1.02451063e-03, 3.25455611e-02,\n",
              "        2.44820699e-01, 7.19839299e-01, 9.99668897e-01, 6.88908362e-01,\n",
              "        2.22696999e-01, 2.76129346e-02, 7.69964206e-04, 1.80213907e-06,\n",
              "        1.04315027e-06, 3.59302697e-06, 1.34904585e-03, 3.81576237e-02,\n",
              "        2.68196103e-01, 7.50027147e-01, 9.97015434e-01, 6.57421369e-01],\n",
              "       [1.29444326e-21, 1.41880100e-06, 1.02346748e-03, 3.25445179e-02,\n",
              "        2.44819656e-01, 7.19838256e-01, 9.99667854e-01, 6.88907319e-01,\n",
              "        2.22695956e-01, 2.76118914e-02, 7.68921056e-04, 7.58988806e-07,\n",
              "        1.32636408e-18, 2.54987670e-06, 1.34800270e-03, 3.81565805e-02,\n",
              "        2.68195060e-01, 7.50026104e-01, 9.97014391e-01, 6.57420325e-01],\n",
              "       [1.91086501e-06, 3.32966601e-06, 1.02537834e-03, 3.25464288e-02,\n",
              "        2.44821567e-01, 7.19840167e-01, 9.99669765e-01, 6.88909230e-01,\n",
              "        2.22697866e-01, 2.76138023e-02, 7.70831921e-04, 2.66985382e-06,\n",
              "        1.91086501e-06, 4.46074171e-06, 1.34991357e-03, 3.81584914e-02,\n",
              "        2.68196971e-01, 7.50028015e-01, 9.97016302e-01, 6.57422236e-01],\n",
              "       [1.17608440e-03, 1.17750320e-03, 2.19955188e-03, 3.37206023e-02,\n",
              "        2.45995741e-01, 7.21014340e-01, 1.00084394e+00, 6.90083403e-01,\n",
              "        2.23872040e-01, 2.87879758e-02, 1.94500545e-03, 1.17684338e-03,\n",
              "        1.17608440e-03, 1.17863427e-03, 2.52408710e-03, 3.93326649e-02,\n",
              "        2.69371144e-01, 7.51202188e-01, 9.98190476e-01, 6.58596410e-01],\n",
              "       [3.52618679e-02, 3.52632867e-02, 3.62853354e-02, 6.78063858e-02,\n",
              "        2.80081524e-01, 7.55100124e-01, 1.03492972e+00, 7.24169187e-01,\n",
              "        2.57957823e-01, 6.28737593e-02, 3.60307889e-02, 3.52626269e-02,\n",
              "        3.52618679e-02, 3.52644178e-02, 3.66098706e-02, 7.34184484e-02,\n",
              "        3.03456928e-01, 7.85287972e-01, 1.03227626e+00, 6.92682193e-01],\n",
              "       [2.56352730e-01, 2.56354149e-01, 2.57376198e-01, 2.88897248e-01,\n",
              "        5.01172387e-01, 9.76190986e-01, 1.25602058e+00, 9.45260049e-01,\n",
              "        4.79048686e-01, 2.83964622e-01, 2.57121651e-01, 2.56353489e-01,\n",
              "        2.56352730e-01, 2.56355280e-01, 2.57700733e-01, 2.94509311e-01,\n",
              "        5.24547790e-01, 1.00637883e+00, 1.25336712e+00, 9.13773056e-01],\n",
              "       [7.35036806e-01, 7.35038224e-01, 7.36060273e-01, 7.67581324e-01,\n",
              "        9.79856462e-01, 1.45487506e+00, 1.73470466e+00, 1.42394412e+00,\n",
              "        9.57732761e-01, 7.62648697e-01, 7.35805727e-01, 7.35037565e-01,\n",
              "        7.35036806e-01, 7.35039355e-01, 7.36384808e-01, 7.73193386e-01,\n",
              "        1.00323187e+00, 1.48506291e+00, 1.73205120e+00, 1.39245713e+00],\n",
              "       [9.98672034e-01, 9.98673453e-01, 9.99695502e-01, 1.03121655e+00,\n",
              "        1.24349169e+00, 1.71851029e+00, 1.99833989e+00, 1.68757935e+00,\n",
              "        1.22136799e+00, 1.02628393e+00, 9.99440955e-01, 9.98672793e-01,\n",
              "        9.98672034e-01, 9.98674584e-01, 1.00002004e+00, 1.03682861e+00,\n",
              "        1.26686709e+00, 1.74869814e+00, 1.99568643e+00, 1.65609236e+00],\n",
              "       [6.73221717e-01, 6.73223136e-01, 6.74245185e-01, 7.05766235e-01,\n",
              "        9.18041374e-01, 1.39305997e+00, 1.67288957e+00, 1.36212904e+00,\n",
              "        8.95917673e-01, 7.00833609e-01, 6.73990639e-01, 6.73222476e-01,\n",
              "        6.73221717e-01, 6.73224267e-01, 6.74569720e-01, 7.11378298e-01,\n",
              "        9.41416777e-01, 1.42324782e+00, 1.67023611e+00, 1.33064204e+00],\n",
              "       [2.12110773e-01, 2.12112192e-01, 2.13134241e-01, 2.44655291e-01,\n",
              "        4.56930429e-01, 9.31949029e-01, 1.21177863e+00, 9.01018092e-01,\n",
              "        4.34806729e-01, 2.39722665e-01, 2.12879694e-01, 2.12111532e-01,\n",
              "        2.12110773e-01, 2.12113323e-01, 2.13458776e-01, 2.50267354e-01,\n",
              "        4.80305833e-01, 9.62136877e-01, 1.20912516e+00, 8.69531099e-01],\n",
              "       [2.53818229e-02, 2.53832417e-02, 2.64052904e-02, 5.79263408e-02,\n",
              "        2.70201479e-01, 7.45220079e-01, 1.02504968e+00, 7.14289142e-01,\n",
              "        2.48077778e-01, 5.29937143e-02, 2.61507439e-02, 2.53825819e-02,\n",
              "        2.53818229e-02, 2.53843728e-02, 2.67298256e-02, 6.35384034e-02,\n",
              "        2.93576883e-01, 7.75407927e-01, 1.02239621e+00, 6.82802148e-01],\n",
              "       [6.63722565e-04, 6.65141366e-04, 1.68719004e-03, 3.32082405e-02,\n",
              "        2.45483379e-01, 7.20501978e-01, 1.00033158e+00, 6.89571041e-01,\n",
              "        2.23359678e-01, 2.82756140e-02, 1.43264362e-03, 6.64481554e-04,\n",
              "        6.63722565e-04, 6.66272441e-04, 2.01172527e-03, 3.88203031e-02,\n",
              "        2.68858782e-01, 7.50689826e-01, 9.97678114e-01, 6.58084048e-01],\n",
              "       [5.46121001e-07, 1.96492200e-06, 1.02401360e-03, 3.25450641e-02,\n",
              "        2.44820202e-01, 7.19838802e-01, 9.99668400e-01, 6.88907865e-01,\n",
              "        2.22696502e-01, 2.76124375e-02, 7.69467177e-04, 1.30510981e-06,\n",
              "        5.46121001e-07, 3.09599770e-06, 1.34854883e-03, 3.81571267e-02,\n",
              "        2.68195606e-01, 7.50026650e-01, 9.97014937e-01, 6.57420872e-01],\n",
              "       [7.63678975e-17, 1.41880100e-06, 1.02346748e-03, 3.25445179e-02,\n",
              "        2.44819656e-01, 7.19838256e-01, 9.99667854e-01, 6.88907319e-01,\n",
              "        2.22695956e-01, 2.76118914e-02, 7.68921056e-04, 7.58988806e-07,\n",
              "        7.76929672e-17, 2.54987670e-06, 1.34800270e-03, 3.81565805e-02,\n",
              "        2.68195060e-01, 7.50026104e-01, 9.97014391e-01, 6.57420325e-01],\n",
              "       [3.37298528e-06, 4.79178628e-06, 1.02684047e-03, 3.25478909e-02,\n",
              "        2.44823029e-01, 7.19841629e-01, 9.99671227e-01, 6.88910692e-01,\n",
              "        2.22699329e-01, 2.76152644e-02, 7.72294041e-04, 4.13197408e-06,\n",
              "        3.37298528e-06, 5.92286198e-06, 1.35137569e-03, 3.81599535e-02,\n",
              "        2.68198433e-01, 7.50029477e-01, 9.97017764e-01, 6.57423698e-01]])"
            ]
          },
          "metadata": {
            "tags": []
          },
          "execution_count": 229
        }
      ]
    },
    {
      "cell_type": "code",
      "metadata": {
        "id": "jP_BFTHIVtGq",
        "outputId": "7dc3281e-1d3c-4f5b-9c86-11235632202d",
        "colab": {
          "base_uri": "https://localhost:8080/",
          "height": 286
        }
      },
      "source": [
        "plt.imshow(z, origin='lower', extent=[0, 5, 0, 5],\n",
        "cmap='viridis')\n",
        "plt.colorbar()"
      ],
      "execution_count": null,
      "outputs": [
        {
          "output_type": "execute_result",
          "data": {
            "text/plain": [
              "<matplotlib.colorbar.Colorbar at 0x7f44cbe6aa90>"
            ]
          },
          "metadata": {
            "tags": []
          },
          "execution_count": 230
        },
        {
          "output_type": "display_data",
          "data": {
            "image/png": "[encoded data removed]",
            "text/plain": [
              "<Figure size 432x288 with 2 Axes>"
            ]
          },
          "metadata": {
            "tags": [],
            "needs_background": "light"
          }
        }
      ]
    },
    {
      "cell_type": "code",
      "metadata": {
        "id": "OptuO_6kVwbb",
        "outputId": "d84b06cd-0d60-4a25-c870-357b4a0ced2b",
        "colab": {
          "base_uri": "https://localhost:8080/",
          "height": 282
        }
      },
      "source": [
        "plt.imshow(z)\n",
        "plt.colorbar()"
      ],
      "execution_count": null,
      "outputs": [
        {
          "output_type": "execute_result",
          "data": {
            "text/plain": [
              "<matplotlib.colorbar.Colorbar at 0x7f44cbe176a0>"
            ]
          },
          "metadata": {
            "tags": []
          },
          "execution_count": 231
        },
        {
          "output_type": "display_data",
          "data": {
            "image/png": "[encoded data removed]",
            "text/plain": [
              "<Figure size 432x288 with 2 Axes>"
            ]
          },
          "metadata": {
            "tags": [],
            "needs_background": "light"
          }
        }
      ]
    },
    {
      "cell_type": "markdown",
      "metadata": {
        "id": "tlXsQ6wCYByZ"
      },
      "source": [
        "**Comparisons, Masks, and Boolean Logic**\n",
        "\n",
        "* Boolean masks to examine and manipulate values within NumPy arrays. \n",
        "\n",
        "* Masking comes up when you want to extract, modify, count, or otherwise manipulate values in an array based on some criterion: \n",
        "\n",
        "for example, you might wish to count all values greater than a certain value, or perhaps remove all outliers that are above some threshold"
      ]
    },
    {
      "cell_type": "code",
      "metadata": {
        "id": "YEnCB8HQXFBX",
        "outputId": "304bfe98-e15c-475a-e215-64847cdaecee",
        "colab": {
          "base_uri": "https://localhost:8080/",
          "height": 397
        }
      },
      "source": [
        "# counting rainy days\n",
        "from google.colab import drive\n",
        "drive.mount('/content/gdrive')\n",
        "# import pandas as pd\n",
        "data = pd.read_csv('gdrive/My Drive/Colab Notebooks/data/Seattle2014.csv')\n",
        "data.head()"
      ],
      "execution_count": null,
      "outputs": [
        {
          "output_type": "stream",
          "text": [
            "Mounted at /content/gdrive\n"
          ],
          "name": "stdout"
        },
        {
          "output_type": "execute_result",
          "data": {
            "text/html": [
              "<div>\n",
              "<style scoped>\n",
              "    .dataframe tbody tr th:only-of-type {\n",
              "        vertical-align: middle;\n",
              "    }\n",
              "\n",
              "    .dataframe tbody tr th {\n",
              "        vertical-align: top;\n",
              "    }\n",
              "\n",
              "    .dataframe thead th {\n",
              "        text-align: right;\n",
              "    }\n",
              "</style>\n",
              "<table border=\"1\" class=\"dataframe\">\n",
              "  <thead>\n",
              "    <tr style=\"text-align: right;\">\n",
              "      <th></th>\n",
              "      <th>STATION</th>\n",
              "      <th>STATION_NAME</th>\n",
              "      <th>DATE</th>\n",
              "      <th>PRCP</th>\n",
              "      <th>SNWD</th>\n",
              "      <th>SNOW</th>\n",
              "      <th>TMAX</th>\n",
              "      <th>TMIN</th>\n",
              "      <th>AWND</th>\n",
              "      <th>WDF2</th>\n",
              "      <th>WDF5</th>\n",
              "      <th>WSF2</th>\n",
              "      <th>WSF5</th>\n",
              "      <th>WT01</th>\n",
              "      <th>WT05</th>\n",
              "      <th>WT02</th>\n",
              "      <th>WT03</th>\n",
              "    </tr>\n",
              "  </thead>\n",
              "  <tbody>\n",
              "    <tr>\n",
              "      <th>0</th>\n",
              "      <td>GHCND:USW00024233</td>\n",
              "      <td>SEATTLE TACOMA INTERNATIONAL AIRPORT WA US</td>\n",
              "      <td>20140101</td>\n",
              "      <td>0</td>\n",
              "      <td>0</td>\n",
              "      <td>0</td>\n",
              "      <td>72</td>\n",
              "      <td>33</td>\n",
              "      <td>12</td>\n",
              "      <td>340</td>\n",
              "      <td>310</td>\n",
              "      <td>36</td>\n",
              "      <td>40</td>\n",
              "      <td>-9999</td>\n",
              "      <td>-9999</td>\n",
              "      <td>-9999</td>\n",
              "      <td>-9999</td>\n",
              "    </tr>\n",
              "    <tr>\n",
              "      <th>1</th>\n",
              "      <td>GHCND:USW00024233</td>\n",
              "      <td>SEATTLE TACOMA INTERNATIONAL AIRPORT WA US</td>\n",
              "      <td>20140102</td>\n",
              "      <td>41</td>\n",
              "      <td>0</td>\n",
              "      <td>0</td>\n",
              "      <td>106</td>\n",
              "      <td>61</td>\n",
              "      <td>32</td>\n",
              "      <td>190</td>\n",
              "      <td>200</td>\n",
              "      <td>94</td>\n",
              "      <td>116</td>\n",
              "      <td>-9999</td>\n",
              "      <td>-9999</td>\n",
              "      <td>-9999</td>\n",
              "      <td>-9999</td>\n",
              "    </tr>\n",
              "    <tr>\n",
              "      <th>2</th>\n",
              "      <td>GHCND:USW00024233</td>\n",
              "      <td>SEATTLE TACOMA INTERNATIONAL AIRPORT WA US</td>\n",
              "      <td>20140103</td>\n",
              "      <td>15</td>\n",
              "      <td>0</td>\n",
              "      <td>0</td>\n",
              "      <td>89</td>\n",
              "      <td>28</td>\n",
              "      <td>26</td>\n",
              "      <td>30</td>\n",
              "      <td>50</td>\n",
              "      <td>63</td>\n",
              "      <td>72</td>\n",
              "      <td>1</td>\n",
              "      <td>-9999</td>\n",
              "      <td>-9999</td>\n",
              "      <td>-9999</td>\n",
              "    </tr>\n",
              "    <tr>\n",
              "      <th>3</th>\n",
              "      <td>GHCND:USW00024233</td>\n",
              "      <td>SEATTLE TACOMA INTERNATIONAL AIRPORT WA US</td>\n",
              "      <td>20140104</td>\n",
              "      <td>0</td>\n",
              "      <td>0</td>\n",
              "      <td>0</td>\n",
              "      <td>78</td>\n",
              "      <td>6</td>\n",
              "      <td>27</td>\n",
              "      <td>40</td>\n",
              "      <td>40</td>\n",
              "      <td>45</td>\n",
              "      <td>58</td>\n",
              "      <td>1</td>\n",
              "      <td>-9999</td>\n",
              "      <td>-9999</td>\n",
              "      <td>-9999</td>\n",
              "    </tr>\n",
              "    <tr>\n",
              "      <th>4</th>\n",
              "      <td>GHCND:USW00024233</td>\n",
              "      <td>SEATTLE TACOMA INTERNATIONAL AIRPORT WA US</td>\n",
              "      <td>20140105</td>\n",
              "      <td>0</td>\n",
              "      <td>0</td>\n",
              "      <td>0</td>\n",
              "      <td>83</td>\n",
              "      <td>-5</td>\n",
              "      <td>37</td>\n",
              "      <td>10</td>\n",
              "      <td>10</td>\n",
              "      <td>67</td>\n",
              "      <td>76</td>\n",
              "      <td>-9999</td>\n",
              "      <td>-9999</td>\n",
              "      <td>-9999</td>\n",
              "      <td>-9999</td>\n",
              "    </tr>\n",
              "  </tbody>\n",
              "</table>\n",
              "</div>"
            ],
            "text/plain": [
              "             STATION                                STATION_NAME  ...  WT02  WT03\n",
              "0  GHCND:USW00024233  SEATTLE TACOMA INTERNATIONAL AIRPORT WA US  ... -9999 -9999\n",
              "1  GHCND:USW00024233  SEATTLE TACOMA INTERNATIONAL AIRPORT WA US  ... -9999 -9999\n",
              "2  GHCND:USW00024233  SEATTLE TACOMA INTERNATIONAL AIRPORT WA US  ... -9999 -9999\n",
              "3  GHCND:USW00024233  SEATTLE TACOMA INTERNATIONAL AIRPORT WA US  ... -9999 -9999\n",
              "4  GHCND:USW00024233  SEATTLE TACOMA INTERNATIONAL AIRPORT WA US  ... -9999 -9999\n",
              "\n",
              "[5 rows x 17 columns]"
            ]
          },
          "metadata": {
            "tags": []
          },
          "execution_count": 232
        }
      ]
    },
    {
      "cell_type": "code",
      "metadata": {
        "id": "2VO0wWEuaAir",
        "outputId": "1822de9a-22b0-46d1-c666-2cab5175a20a",
        "colab": {
          "base_uri": "https://localhost:8080/",
          "height": 86
        }
      },
      "source": [
        "data.columns"
      ],
      "execution_count": null,
      "outputs": [
        {
          "output_type": "execute_result",
          "data": {
            "text/plain": [
              "Index(['STATION', 'STATION_NAME', 'DATE', 'PRCP', 'SNWD', 'SNOW', 'TMAX',\n",
              "       'TMIN', 'AWND', 'WDF2', 'WDF5', 'WSF2', 'WSF5', 'WT01', 'WT05', 'WT02',\n",
              "       'WT03'],\n",
              "      dtype='object')"
            ]
          },
          "metadata": {
            "tags": []
          },
          "execution_count": 233
        }
      ]
    },
    {
      "cell_type": "code",
      "metadata": {
        "id": "XL3_vfmFaMlm",
        "outputId": "2b71a629-7ede-4f1d-c6c2-65d98c098285",
        "colab": {
          "base_uri": "https://localhost:8080/",
          "height": 521
        }
      },
      "source": [
        "# extract rainfall inches as a NumPy array\n",
        "rainfall = data['PRCP'].values\n",
        "rainfall"
      ],
      "execution_count": null,
      "outputs": [
        {
          "output_type": "execute_result",
          "data": {
            "text/plain": [
              "array([  0,  41,  15,   0,   0,   3, 122,  97,  58,  43, 213,  15,   0,\n",
              "         0,   0,   0,   0,   0,   0,   0,   0,   5,   0,   0,   0,   0,\n",
              "         0,  89, 216,   0,  23,  20,   0,   0,   0,   0,   0,   0,  51,\n",
              "         5, 183, 170,  46,  18,  94, 117, 264, 145, 152,  10,  30,  28,\n",
              "        25,  61, 130,   3,   0,   0,   0,   5, 191, 107, 165, 467,  30,\n",
              "         0, 323,  43, 188,   0,   0,   5,  69,  81, 277,   3,   0,   5,\n",
              "         0,   0,   0,   0,   0,  41,  36,   3, 221, 140,   0,   0,   0,\n",
              "         0,  25,   0,  46,   0,   0,  46,   0,   0,   0,   0,   0,   0,\n",
              "         5, 109, 185,   0, 137,   0,  51, 142,  89, 124,   0,  33,  69,\n",
              "         0,   0,   0,   0,   0, 333, 160,  51,   0,   0, 137,  20,   5,\n",
              "         0,   0,   0,   0,   0,   0,   0,   0,   0,   0,   0,   0,  38,\n",
              "         0,  56,   0,   0,   0,   0,   0,   0,   0,   0,   0,   0,   0,\n",
              "         0,   0,   0,   0,   0,   0,  18,  64,   0,   5,  36,  13,   0,\n",
              "         8,   3,   0,   0,   0,   0,   0,   0,  18,  23,   0,   0,   0,\n",
              "         0,   0,   0,   0,   0,   0,   0,   0,   0,   0,   0,   0,   0,\n",
              "         0,   0,   0,   0,   0,   0,   0,   3, 193,   0,   0,   0,   0,\n",
              "         0,   0,   0,   0,   0,   5,   0,   0,   0,   0,   0,   0,   0,\n",
              "         0,   5, 127, 216,   0,  10,   0,   0,   0,   0,   0,   0,   0,\n",
              "         0,   0,   0,   0,   0,   0,   0,  84,  13,   0,  30,   0,   0,\n",
              "         0,   0,   0,   0,   0,   0,   0,   0,   0,   0,   0,   0,   5,\n",
              "         3,   0,   0,   0,   3, 183, 203,  43,  89,   0,   0,   8,   0,\n",
              "         0,   0,   0,   0,   0,   0,   0,   0,   0,   3,  74,   0,  76,\n",
              "        71,  86,   0,  33, 150,   0, 117,  10, 320,  94,  41,  61,  15,\n",
              "         8, 127,   5, 254, 170,   0,  18, 109,  41,  48,  41,   0,   0,\n",
              "        51,   0,   0,   0,   0,   0,   0,   0,   0,   0,   0,  36, 152,\n",
              "         5, 119,  13, 183,   3,  33, 343,  36,   0,   0,   0,   0,   8,\n",
              "        30,  74,   0,  91,  99, 130,  69,   0,   0,   0,   0,   0,  28,\n",
              "       130,  30, 196,   0,   0, 206,  53,   0,   0,  33,  41,   0,   0,\n",
              "         0])"
            ]
          },
          "metadata": {
            "tags": []
          },
          "execution_count": 234
        }
      ]
    },
    {
      "cell_type": "code",
      "metadata": {
        "id": "yjkbP5FSaRO4",
        "outputId": "aa711d22-3e3c-4163-a856-c653900016af",
        "colab": {
          "base_uri": "https://localhost:8080/",
          "height": 34
        }
      },
      "source": [
        "# 1/10mm -> inches\n",
        "inches = rainfall / 254\n",
        "inches.shape\n"
      ],
      "execution_count": null,
      "outputs": [
        {
          "output_type": "execute_result",
          "data": {
            "text/plain": [
              "(365,)"
            ]
          },
          "metadata": {
            "tags": []
          },
          "execution_count": 235
        }
      ]
    },
    {
      "cell_type": "code",
      "metadata": {
        "id": "SqarrekUasln",
        "outputId": "14e3d2a3-dd24-4c7a-a3d1-682aee4aec34",
        "colab": {
          "base_uri": "https://localhost:8080/",
          "height": 354
        }
      },
      "source": [
        "plt.hist(inches)"
      ],
      "execution_count": null,
      "outputs": [
        {
          "output_type": "execute_result",
          "data": {
            "text/plain": [
              "(array([289.,  25.,  20.,  13.,  10.,   3.,   2.,   2.,   0.,   1.]),\n",
              " array([0.        , 0.18385827, 0.36771654, 0.5515748 , 0.73543307,\n",
              "        0.91929134, 1.10314961, 1.28700787, 1.47086614, 1.65472441,\n",
              "        1.83858268]),\n",
              " <a list of 10 Patch objects>)"
            ]
          },
          "metadata": {
            "tags": []
          },
          "execution_count": 236
        },
        {
          "output_type": "display_data",
          "data": {
            "image/png": "[encoded data removed]",
            "text/plain": [
              "<Figure size 432x288 with 1 Axes>"
            ]
          },
          "metadata": {
            "tags": [],
            "needs_background": "light"
          }
        }
      ]
    },
    {
      "cell_type": "code",
      "metadata": {
        "id": "Z9HsIopdrnmd",
        "outputId": "1269758c-c380-4087-b37c-8ef24eca2ea4",
        "colab": {
          "base_uri": "https://localhost:8080/",
          "height": 508
        }
      },
      "source": [
        "plt.hist(inches, 40)"
      ],
      "execution_count": null,
      "outputs": [
        {
          "output_type": "execute_result",
          "data": {
            "text/plain": [
              "(array([245.,  14.,  13.,  17.,   8.,   6.,   5.,   6.,   4.,   3.,   7.,\n",
              "          6.,   3.,   3.,   3.,   4.,   4.,   2.,   4.,   0.,   0.,   1.,\n",
              "          1.,   1.,   0.,   0.,   0.,   2.,   1.,   1.,   0.,   0.,   0.,\n",
              "          0.,   0.,   0.,   0.,   0.,   0.,   1.]),\n",
              " array([0.        , 0.04596457, 0.09192913, 0.1378937 , 0.18385827,\n",
              "        0.22982283, 0.2757874 , 0.32175197, 0.36771654, 0.4136811 ,\n",
              "        0.45964567, 0.50561024, 0.5515748 , 0.59753937, 0.64350394,\n",
              "        0.6894685 , 0.73543307, 0.78139764, 0.8273622 , 0.87332677,\n",
              "        0.91929134, 0.96525591, 1.01122047, 1.05718504, 1.10314961,\n",
              "        1.14911417, 1.19507874, 1.24104331, 1.28700787, 1.33297244,\n",
              "        1.37893701, 1.42490157, 1.47086614, 1.51683071, 1.56279528,\n",
              "        1.60875984, 1.65472441, 1.70068898, 1.74665354, 1.79261811,\n",
              "        1.83858268]),\n",
              " <a list of 40 Patch objects>)"
            ]
          },
          "metadata": {
            "tags": []
          },
          "execution_count": 237
        },
        {
          "output_type": "display_data",
          "data": {
            "image/png": "[encoded data removed]",
            "text/plain": [
              "<Figure size 432x288 with 1 Axes>"
            ]
          },
          "metadata": {
            "tags": [],
            "needs_background": "light"
          }
        }
      ]
    },
    {
      "cell_type": "markdown",
      "metadata": {
        "id": "j4xwn5yAsn_u"
      },
      "source": [
        "**Comparison Operators as ufuncs**"
      ]
    },
    {
      "cell_type": "markdown",
      "metadata": {
        "id": "Y3G6wQ3bsnk_"
      },
      "source": [
        ""
      ]
    },
    {
      "cell_type": "code",
      "metadata": {
        "id": "oq9QAdywrudb",
        "outputId": "36cfa842-2ecd-4947-9b26-7e7af79e1058",
        "colab": {
          "base_uri": "https://localhost:8080/",
          "height": 34
        }
      },
      "source": [
        "x = np.arange(6)\n",
        "x"
      ],
      "execution_count": null,
      "outputs": [
        {
          "output_type": "execute_result",
          "data": {
            "text/plain": [
              "array([0, 1, 2, 3, 4, 5])"
            ]
          },
          "metadata": {
            "tags": []
          },
          "execution_count": 238
        }
      ]
    },
    {
      "cell_type": "code",
      "metadata": {
        "id": "9xsmYE5Ws0Ge",
        "outputId": "f0d11782-1fbe-490b-921b-f6268e1f55d4",
        "colab": {
          "base_uri": "https://localhost:8080/",
          "height": 34
        }
      },
      "source": [
        "x.astype(bool)"
      ],
      "execution_count": null,
      "outputs": [
        {
          "output_type": "execute_result",
          "data": {
            "text/plain": [
              "array([False,  True,  True,  True,  True,  True])"
            ]
          },
          "metadata": {
            "tags": []
          },
          "execution_count": 239
        }
      ]
    },
    {
      "cell_type": "markdown",
      "metadata": {
        "id": "bDUW28oTtmhm"
      },
      "source": [
        "greater than 2 or not comparision operator"
      ]
    },
    {
      "cell_type": "code",
      "metadata": {
        "id": "tYQkwrd9s5eZ",
        "outputId": "20d9d322-5be2-46d1-be2f-f0657f5d3600",
        "colab": {
          "base_uri": "https://localhost:8080/",
          "height": 34
        }
      },
      "source": [
        "x > 2"
      ],
      "execution_count": null,
      "outputs": [
        {
          "output_type": "execute_result",
          "data": {
            "text/plain": [
              "array([False, False, False,  True,  True,  True])"
            ]
          },
          "metadata": {
            "tags": []
          },
          "execution_count": 240
        }
      ]
    },
    {
      "cell_type": "code",
      "metadata": {
        "id": "TxJPNODXtwi6",
        "outputId": "1ca86719-44f9-46ae-a13b-59e08889171d",
        "colab": {
          "base_uri": "https://localhost:8080/",
          "height": 34
        }
      },
      "source": [
        "np.greater(x, 2)"
      ],
      "execution_count": null,
      "outputs": [
        {
          "output_type": "execute_result",
          "data": {
            "text/plain": [
              "array([False, False, False,  True,  True,  True])"
            ]
          },
          "metadata": {
            "tags": []
          },
          "execution_count": 241
        }
      ]
    },
    {
      "cell_type": "markdown",
      "metadata": {
        "id": "NrwCCM9-t1sg"
      },
      "source": [
        "greater than or equal to comparision checking"
      ]
    },
    {
      "cell_type": "code",
      "metadata": {
        "id": "gzDBytABt0j0",
        "outputId": "73247a30-93f1-44e5-cf26-61c0e1c08ce9",
        "colab": {
          "base_uri": "https://localhost:8080/",
          "height": 34
        }
      },
      "source": [
        "x >= 2"
      ],
      "execution_count": null,
      "outputs": [
        {
          "output_type": "execute_result",
          "data": {
            "text/plain": [
              "array([False, False,  True,  True,  True,  True])"
            ]
          },
          "metadata": {
            "tags": []
          },
          "execution_count": 242
        }
      ]
    },
    {
      "cell_type": "code",
      "metadata": {
        "id": "HAk4W-1stDoK",
        "outputId": "c6afc27e-334e-4f61-8a23-921aa4c06443",
        "colab": {
          "base_uri": "https://localhost:8080/",
          "height": 34
        }
      },
      "source": [
        "np.greater_equal(x, 2)"
      ],
      "execution_count": null,
      "outputs": [
        {
          "output_type": "execute_result",
          "data": {
            "text/plain": [
              "array([False, False,  True,  True,  True,  True])"
            ]
          },
          "metadata": {
            "tags": []
          },
          "execution_count": 243
        }
      ]
    },
    {
      "cell_type": "markdown",
      "metadata": {
        "id": "ybizwDRFuBjL"
      },
      "source": [
        "less than two or not comparision checking"
      ]
    },
    {
      "cell_type": "code",
      "metadata": {
        "id": "6oPKacj9s8rW",
        "outputId": "f1d5d26c-dcd6-47be-9ba6-3d96b4f9d3d5",
        "colab": {
          "base_uri": "https://localhost:8080/",
          "height": 34
        }
      },
      "source": [
        "x < 2"
      ],
      "execution_count": null,
      "outputs": [
        {
          "output_type": "execute_result",
          "data": {
            "text/plain": [
              "array([ True,  True, False, False, False, False])"
            ]
          },
          "metadata": {
            "tags": []
          },
          "execution_count": 244
        }
      ]
    },
    {
      "cell_type": "code",
      "metadata": {
        "id": "2ghcFAm3uHAL",
        "outputId": "4a46a754-8078-46e4-bbda-601c7de034b2",
        "colab": {
          "base_uri": "https://localhost:8080/",
          "height": 34
        }
      },
      "source": [
        "np.less(x, 2)"
      ],
      "execution_count": null,
      "outputs": [
        {
          "output_type": "execute_result",
          "data": {
            "text/plain": [
              "array([ True,  True, False, False, False, False])"
            ]
          },
          "metadata": {
            "tags": []
          },
          "execution_count": 245
        }
      ]
    },
    {
      "cell_type": "markdown",
      "metadata": {
        "id": "75i5VNJPuNhy"
      },
      "source": [
        "less than or equal to 2 or not comparision checking"
      ]
    },
    {
      "cell_type": "code",
      "metadata": {
        "id": "09PBY_ufuNG0",
        "outputId": "feea9523-e647-4148-f45d-abaaf8b856ff",
        "colab": {
          "base_uri": "https://localhost:8080/",
          "height": 34
        }
      },
      "source": [
        "np.less_equal(x, 2)"
      ],
      "execution_count": null,
      "outputs": [
        {
          "output_type": "execute_result",
          "data": {
            "text/plain": [
              "array([ True,  True,  True, False, False, False])"
            ]
          },
          "metadata": {
            "tags": []
          },
          "execution_count": 246
        }
      ]
    },
    {
      "cell_type": "code",
      "metadata": {
        "id": "n-GZGi8MtA_l",
        "outputId": "6634bd40-3dd4-47e6-d673-08414c993a5c",
        "colab": {
          "base_uri": "https://localhost:8080/",
          "height": 34
        }
      },
      "source": [
        "x <= 2"
      ],
      "execution_count": null,
      "outputs": [
        {
          "output_type": "execute_result",
          "data": {
            "text/plain": [
              "array([ True,  True,  True, False, False, False])"
            ]
          },
          "metadata": {
            "tags": []
          },
          "execution_count": 247
        }
      ]
    },
    {
      "cell_type": "markdown",
      "metadata": {
        "id": "zgyTuxK1uYX9"
      },
      "source": [
        "not equal or not comparision checking"
      ]
    },
    {
      "cell_type": "code",
      "metadata": {
        "id": "FCXklRLVtJTz",
        "outputId": "7fb6dc40-d81f-461a-ad34-3e49fc8bd619",
        "colab": {
          "base_uri": "https://localhost:8080/",
          "height": 34
        }
      },
      "source": [
        "x != 2"
      ],
      "execution_count": null,
      "outputs": [
        {
          "output_type": "execute_result",
          "data": {
            "text/plain": [
              "array([ True,  True, False,  True,  True,  True])"
            ]
          },
          "metadata": {
            "tags": []
          },
          "execution_count": 248
        }
      ]
    },
    {
      "cell_type": "code",
      "metadata": {
        "id": "oa5nSgeGugiB",
        "outputId": "8d67e842-f443-4dbe-fee8-eb68b797707e",
        "colab": {
          "base_uri": "https://localhost:8080/",
          "height": 34
        }
      },
      "source": [
        "np.not_equal(x, 2)"
      ],
      "execution_count": null,
      "outputs": [
        {
          "output_type": "execute_result",
          "data": {
            "text/plain": [
              "array([ True,  True, False,  True,  True,  True])"
            ]
          },
          "metadata": {
            "tags": []
          },
          "execution_count": 249
        }
      ]
    },
    {
      "cell_type": "markdown",
      "metadata": {
        "id": "yE5kELTfumdC"
      },
      "source": [
        "equal or not ccomparision checking"
      ]
    },
    {
      "cell_type": "code",
      "metadata": {
        "id": "IGS1jqaItNGm",
        "outputId": "b384a3bf-aaf8-45bd-c71c-e320f5fa47fb",
        "colab": {
          "base_uri": "https://localhost:8080/",
          "height": 34
        }
      },
      "source": [
        "x == 2"
      ],
      "execution_count": null,
      "outputs": [
        {
          "output_type": "execute_result",
          "data": {
            "text/plain": [
              "array([False, False,  True, False, False, False])"
            ]
          },
          "metadata": {
            "tags": []
          },
          "execution_count": 250
        }
      ]
    },
    {
      "cell_type": "code",
      "metadata": {
        "id": "XlmveKRRus1H",
        "outputId": "40235a8a-12b7-46c9-c7bc-0512dde0f332",
        "colab": {
          "base_uri": "https://localhost:8080/",
          "height": 34
        }
      },
      "source": [
        "np.equal(x, 2)"
      ],
      "execution_count": null,
      "outputs": [
        {
          "output_type": "execute_result",
          "data": {
            "text/plain": [
              "array([False, False,  True, False, False, False])"
            ]
          },
          "metadata": {
            "tags": []
          },
          "execution_count": 251
        }
      ]
    },
    {
      "cell_type": "code",
      "metadata": {
        "id": "x4GFF_x_tOb_",
        "outputId": "8cab3ef9-7641-497a-ac2c-58c88a61febc",
        "colab": {
          "base_uri": "https://localhost:8080/",
          "height": 34
        }
      },
      "source": [
        "2 * x == 2 ** x"
      ],
      "execution_count": null,
      "outputs": [
        {
          "output_type": "execute_result",
          "data": {
            "text/plain": [
              "array([False,  True,  True, False, False, False])"
            ]
          },
          "metadata": {
            "tags": []
          },
          "execution_count": 252
        }
      ]
    },
    {
      "cell_type": "code",
      "metadata": {
        "id": "da26fzAHtWuR",
        "outputId": "30a0103e-9a1c-4e31-b6eb-c445fa05c98f",
        "colab": {
          "base_uri": "https://localhost:8080/",
          "height": 34
        }
      },
      "source": [
        "np.equal(2*x, 2**x)"
      ],
      "execution_count": null,
      "outputs": [
        {
          "output_type": "execute_result",
          "data": {
            "text/plain": [
              "array([False,  True,  True, False, False, False])"
            ]
          },
          "metadata": {
            "tags": []
          },
          "execution_count": 253
        }
      ]
    },
    {
      "cell_type": "code",
      "metadata": {
        "id": "tDtkLnZSuzwR",
        "outputId": "9fcd8838-2c93-4994-ff10-163d609e9b0c",
        "colab": {
          "base_uri": "https://localhost:8080/",
          "height": 34
        }
      },
      "source": [
        "rng = np.random.RandomState()\n",
        "rng"
      ],
      "execution_count": null,
      "outputs": [
        {
          "output_type": "execute_result",
          "data": {
            "text/plain": [
              "RandomState(MT19937) at 0x7F44CEBE0888"
            ]
          },
          "metadata": {
            "tags": []
          },
          "execution_count": 254
        }
      ]
    },
    {
      "cell_type": "code",
      "metadata": {
        "id": "Lbo_d-ndvI1q",
        "outputId": "8bc9a749-9663-451d-a878-1f6b107f2130",
        "colab": {
          "base_uri": "https://localhost:8080/",
          "height": 86
        }
      },
      "source": [
        "x = rng.randint(10, size = (4, 3))\n",
        "x"
      ],
      "execution_count": null,
      "outputs": [
        {
          "output_type": "execute_result",
          "data": {
            "text/plain": [
              "array([[2, 8, 8],\n",
              "       [1, 7, 0],\n",
              "       [3, 4, 0],\n",
              "       [5, 2, 3]])"
            ]
          },
          "metadata": {
            "tags": []
          },
          "execution_count": 255
        }
      ]
    },
    {
      "cell_type": "code",
      "metadata": {
        "id": "r6rY2HtUvNRq",
        "outputId": "fd99e7ff-fefc-4633-82bd-ca356cbeb2a2",
        "colab": {
          "base_uri": "https://localhost:8080/",
          "height": 86
        }
      },
      "source": [
        "y = np.random.randint(10, size = (4, 3))\n",
        "y"
      ],
      "execution_count": null,
      "outputs": [
        {
          "output_type": "execute_result",
          "data": {
            "text/plain": [
              "array([[4, 2, 7],\n",
              "       [5, 6, 8],\n",
              "       [5, 8, 9],\n",
              "       [0, 9, 3]])"
            ]
          },
          "metadata": {
            "tags": []
          },
          "execution_count": 256
        }
      ]
    },
    {
      "cell_type": "code",
      "metadata": {
        "id": "rRYZV41qvb7z",
        "outputId": "f33333c6-4507-49c1-af40-2e118b47d5b0",
        "colab": {
          "base_uri": "https://localhost:8080/",
          "height": 52
        }
      },
      "source": [
        "%timeit np.less(y, 5)"
      ],
      "execution_count": null,
      "outputs": [
        {
          "output_type": "stream",
          "text": [
            "The slowest run took 21.83 times longer than the fastest. This could mean that an intermediate result is being cached.\n",
            "1000000 loops, best of 3: 803 ns per loop\n"
          ],
          "name": "stdout"
        }
      ]
    },
    {
      "cell_type": "code",
      "metadata": {
        "id": "n8EplI1vvkcn",
        "outputId": "3cd2891b-9dbf-4524-849b-a0053c962233",
        "colab": {
          "base_uri": "https://localhost:8080/",
          "height": 52
        }
      },
      "source": [
        "%timeit x < 5"
      ],
      "execution_count": null,
      "outputs": [
        {
          "output_type": "stream",
          "text": [
            "The slowest run took 29.56 times longer than the fastest. This could mean that an intermediate result is being cached.\n",
            "1000000 loops, best of 3: 903 ns per loop\n"
          ],
          "name": "stdout"
        }
      ]
    },
    {
      "cell_type": "code",
      "metadata": {
        "id": "9EScogLBvnaC",
        "outputId": "42e84791-b32f-4244-eb02-98e9df83376f",
        "colab": {
          "base_uri": "https://localhost:8080/",
          "height": 86
        }
      },
      "source": [
        "np.less(x, 5)"
      ],
      "execution_count": null,
      "outputs": [
        {
          "output_type": "execute_result",
          "data": {
            "text/plain": [
              "array([[ True, False, False],\n",
              "       [ True, False,  True],\n",
              "       [ True,  True,  True],\n",
              "       [False,  True,  True]])"
            ]
          },
          "metadata": {
            "tags": []
          },
          "execution_count": 259
        }
      ]
    },
    {
      "cell_type": "markdown",
      "metadata": {
        "id": "mp2rwLN0wOiU"
      },
      "source": [
        "**Working with boolean arrays**"
      ]
    },
    {
      "cell_type": "code",
      "metadata": {
        "id": "TxERCU8_vsH4",
        "outputId": "2675e56b-c338-451d-f50f-a8eb676562f2",
        "colab": {
          "base_uri": "https://localhost:8080/",
          "height": 86
        }
      },
      "source": [
        "x"
      ],
      "execution_count": null,
      "outputs": [
        {
          "output_type": "execute_result",
          "data": {
            "text/plain": [
              "array([[2, 8, 8],\n",
              "       [1, 7, 0],\n",
              "       [3, 4, 0],\n",
              "       [5, 2, 3]])"
            ]
          },
          "metadata": {
            "tags": []
          },
          "execution_count": 260
        }
      ]
    },
    {
      "cell_type": "markdown",
      "metadata": {
        "id": "Cu7-MBSAw3jN"
      },
      "source": [
        "* countig entries"
      ]
    },
    {
      "cell_type": "code",
      "metadata": {
        "id": "V5-JGI7IwgRl",
        "outputId": "4ddd9e4e-5480-49ab-801c-b8398502e719",
        "colab": {
          "base_uri": "https://localhost:8080/",
          "height": 34
        }
      },
      "source": [
        "# counting number of true entries in array\n",
        "np.count_nonzero(x < 5)"
      ],
      "execution_count": null,
      "outputs": [
        {
          "output_type": "execute_result",
          "data": {
            "text/plain": [
              "8"
            ]
          },
          "metadata": {
            "tags": []
          },
          "execution_count": 261
        }
      ]
    },
    {
      "cell_type": "markdown",
      "metadata": {
        "id": "jBfS6yWexr2T"
      },
      "source": [
        "Another way to get at this information is to use np.sum ; in this case, False is interpreted as 0 , and True is interpreted as 1"
      ]
    },
    {
      "cell_type": "code",
      "metadata": {
        "id": "hoch2-f2xB5h",
        "outputId": "93eb6269-87fe-4440-d2bb-3763b6d14469",
        "colab": {
          "base_uri": "https://localhost:8080/",
          "height": 34
        }
      },
      "source": [
        "np.sum(x < 5)"
      ],
      "execution_count": null,
      "outputs": [
        {
          "output_type": "execute_result",
          "data": {
            "text/plain": [
              "8"
            ]
          },
          "metadata": {
            "tags": []
          },
          "execution_count": 262
        }
      ]
    },
    {
      "cell_type": "code",
      "metadata": {
        "id": "lObJUfgixibY",
        "outputId": "50535c10-ba7d-4290-fcf7-8ae783939772",
        "colab": {
          "base_uri": "https://localhost:8080/",
          "height": 34
        }
      },
      "source": [
        "# how many values less than 6 in each row?\n",
        "\n",
        "np.sum(x<5, axis=1)"
      ],
      "execution_count": null,
      "outputs": [
        {
          "output_type": "execute_result",
          "data": {
            "text/plain": [
              "array([1, 2, 3, 2])"
            ]
          },
          "metadata": {
            "tags": []
          },
          "execution_count": 263
        }
      ]
    },
    {
      "cell_type": "code",
      "metadata": {
        "id": "llSprAW0x6r-",
        "outputId": "21c6e14a-da8f-4bb9-f4ff-14f942199124",
        "colab": {
          "base_uri": "https://localhost:8080/",
          "height": 34
        }
      },
      "source": [
        "np.sum(x<5, axis=0)"
      ],
      "execution_count": null,
      "outputs": [
        {
          "output_type": "execute_result",
          "data": {
            "text/plain": [
              "array([3, 2, 3])"
            ]
          },
          "metadata": {
            "tags": []
          },
          "execution_count": 264
        }
      ]
    },
    {
      "cell_type": "markdown",
      "metadata": {
        "id": "0DVmAHWnyP7r"
      },
      "source": [
        "To quickly checking whether any or all the values are true"
      ]
    },
    {
      "cell_type": "code",
      "metadata": {
        "id": "VKCKMXBCyAnq",
        "outputId": "19428ad5-5808-4825-b5af-50b83b2ed237",
        "colab": {
          "base_uri": "https://localhost:8080/",
          "height": 34
        }
      },
      "source": [
        "np.any(x<5)"
      ],
      "execution_count": null,
      "outputs": [
        {
          "output_type": "execute_result",
          "data": {
            "text/plain": [
              "True"
            ]
          },
          "metadata": {
            "tags": []
          },
          "execution_count": 265
        }
      ]
    },
    {
      "cell_type": "code",
      "metadata": {
        "id": "sbrERLFPyTiV",
        "outputId": "7bc31260-c2fe-42c3-86ca-8b2e1a9f4a97",
        "colab": {
          "base_uri": "https://localhost:8080/",
          "height": 34
        }
      },
      "source": [
        "np.all(x<5)"
      ],
      "execution_count": null,
      "outputs": [
        {
          "output_type": "execute_result",
          "data": {
            "text/plain": [
              "False"
            ]
          },
          "metadata": {
            "tags": []
          },
          "execution_count": 266
        }
      ]
    },
    {
      "cell_type": "code",
      "metadata": {
        "id": "_QtQ1kNWyVJj",
        "outputId": "1f07ce0f-80b0-4309-cdb3-68de64f77144",
        "colab": {
          "base_uri": "https://localhost:8080/",
          "height": 34
        }
      },
      "source": [
        "np.all(x<10)"
      ],
      "execution_count": null,
      "outputs": [
        {
          "output_type": "execute_result",
          "data": {
            "text/plain": [
              "True"
            ]
          },
          "metadata": {
            "tags": []
          },
          "execution_count": 267
        }
      ]
    },
    {
      "cell_type": "code",
      "metadata": {
        "id": "XersgETlyXMZ",
        "outputId": "065c85bd-a666-40dd-e6a9-d1eeee7e2242",
        "colab": {
          "base_uri": "https://localhost:8080/",
          "height": 34
        }
      },
      "source": [
        "np.all(x<5, axis=0)"
      ],
      "execution_count": null,
      "outputs": [
        {
          "output_type": "execute_result",
          "data": {
            "text/plain": [
              "array([False, False, False])"
            ]
          },
          "metadata": {
            "tags": []
          },
          "execution_count": 268
        }
      ]
    },
    {
      "cell_type": "code",
      "metadata": {
        "id": "JgQsNPkYyhd_",
        "outputId": "9e3e5432-5654-47da-8d6e-e2b12ada142e",
        "colab": {
          "base_uri": "https://localhost:8080/",
          "height": 34
        }
      },
      "source": [
        "np.all(x<5, axis=1)"
      ],
      "execution_count": null,
      "outputs": [
        {
          "output_type": "execute_result",
          "data": {
            "text/plain": [
              "array([False, False,  True, False])"
            ]
          },
          "metadata": {
            "tags": []
          },
          "execution_count": 269
        }
      ]
    },
    {
      "cell_type": "markdown",
      "metadata": {
        "id": "K21AyWzxyvNt"
      },
      "source": [
        "Python has built-in sum() , any() , and all() functions"
      ]
    },
    {
      "cell_type": "code",
      "metadata": {
        "id": "htHAWnupykyH",
        "outputId": "e90b5b7a-6cf9-4ed4-c283-7495304e3fca",
        "colab": {
          "base_uri": "https://localhost:8080/",
          "height": 34
        }
      },
      "source": [
        "sum(x<5)"
      ],
      "execution_count": null,
      "outputs": [
        {
          "output_type": "execute_result",
          "data": {
            "text/plain": [
              "array([3, 2, 3])"
            ]
          },
          "metadata": {
            "tags": []
          },
          "execution_count": 270
        }
      ]
    },
    {
      "cell_type": "markdown",
      "metadata": {
        "id": "QkK4BfDBzrJR"
      },
      "source": [
        "to know about all days with rain less than four inches and greater than one inch"
      ]
    },
    {
      "cell_type": "code",
      "metadata": {
        "id": "2K-eMoBAyw1f",
        "outputId": "27b595c7-50f7-4e41-9a26-35d89f8dda3c",
        "colab": {
          "base_uri": "https://localhost:8080/",
          "height": 1000
        }
      },
      "source": [
        "inches"
      ],
      "execution_count": null,
      "outputs": [
        {
          "output_type": "execute_result",
          "data": {
            "text/plain": [
              "array([0.        , 0.16141732, 0.05905512, 0.        , 0.        ,\n",
              "       0.01181102, 0.48031496, 0.38188976, 0.22834646, 0.16929134,\n",
              "       0.83858268, 0.05905512, 0.        , 0.        , 0.        ,\n",
              "       0.        , 0.        , 0.        , 0.        , 0.        ,\n",
              "       0.        , 0.01968504, 0.        , 0.        , 0.        ,\n",
              "       0.        , 0.        , 0.3503937 , 0.8503937 , 0.        ,\n",
              "       0.09055118, 0.07874016, 0.        , 0.        , 0.        ,\n",
              "       0.        , 0.        , 0.        , 0.2007874 , 0.01968504,\n",
              "       0.72047244, 0.66929134, 0.18110236, 0.07086614, 0.37007874,\n",
              "       0.46062992, 1.03937008, 0.57086614, 0.5984252 , 0.03937008,\n",
              "       0.11811024, 0.11023622, 0.0984252 , 0.24015748, 0.51181102,\n",
              "       0.01181102, 0.        , 0.        , 0.        , 0.01968504,\n",
              "       0.7519685 , 0.42125984, 0.6496063 , 1.83858268, 0.11811024,\n",
              "       0.        , 1.27165354, 0.16929134, 0.74015748, 0.        ,\n",
              "       0.        , 0.01968504, 0.27165354, 0.31889764, 1.09055118,\n",
              "       0.01181102, 0.        , 0.01968504, 0.        , 0.        ,\n",
              "       0.        , 0.        , 0.        , 0.16141732, 0.14173228,\n",
              "       0.01181102, 0.87007874, 0.5511811 , 0.        , 0.        ,\n",
              "       0.        , 0.        , 0.0984252 , 0.        , 0.18110236,\n",
              "       0.        , 0.        , 0.18110236, 0.        , 0.        ,\n",
              "       0.        , 0.        , 0.        , 0.        , 0.01968504,\n",
              "       0.42913386, 0.72834646, 0.        , 0.53937008, 0.        ,\n",
              "       0.2007874 , 0.55905512, 0.3503937 , 0.48818898, 0.        ,\n",
              "       0.12992126, 0.27165354, 0.        , 0.        , 0.        ,\n",
              "       0.        , 0.        , 1.31102362, 0.62992126, 0.2007874 ,\n",
              "       0.        , 0.        , 0.53937008, 0.07874016, 0.01968504,\n",
              "       0.        , 0.        , 0.        , 0.        , 0.        ,\n",
              "       0.        , 0.        , 0.        , 0.        , 0.        ,\n",
              "       0.        , 0.        , 0.1496063 , 0.        , 0.22047244,\n",
              "       0.        , 0.        , 0.        , 0.        , 0.        ,\n",
              "       0.        , 0.        , 0.        , 0.        , 0.        ,\n",
              "       0.        , 0.        , 0.        , 0.        , 0.        ,\n",
              "       0.        , 0.        , 0.07086614, 0.2519685 , 0.        ,\n",
              "       0.01968504, 0.14173228, 0.0511811 , 0.        , 0.03149606,\n",
              "       0.01181102, 0.        , 0.        , 0.        , 0.        ,\n",
              "       0.        , 0.        , 0.07086614, 0.09055118, 0.        ,\n",
              "       0.        , 0.        , 0.        , 0.        , 0.        ,\n",
              "       0.        , 0.        , 0.        , 0.        , 0.        ,\n",
              "       0.        , 0.        , 0.        , 0.        , 0.        ,\n",
              "       0.        , 0.        , 0.        , 0.        , 0.        ,\n",
              "       0.        , 0.        , 0.01181102, 0.75984252, 0.        ,\n",
              "       0.        , 0.        , 0.        , 0.        , 0.        ,\n",
              "       0.        , 0.        , 0.        , 0.01968504, 0.        ,\n",
              "       0.        , 0.        , 0.        , 0.        , 0.        ,\n",
              "       0.        , 0.        , 0.01968504, 0.5       , 0.8503937 ,\n",
              "       0.        , 0.03937008, 0.        , 0.        , 0.        ,\n",
              "       0.        , 0.        , 0.        , 0.        , 0.        ,\n",
              "       0.        , 0.        , 0.        , 0.        , 0.        ,\n",
              "       0.        , 0.33070866, 0.0511811 , 0.        , 0.11811024,\n",
              "       0.        , 0.        , 0.        , 0.        , 0.        ,\n",
              "       0.        , 0.        , 0.        , 0.        , 0.        ,\n",
              "       0.        , 0.        , 0.        , 0.        , 0.01968504,\n",
              "       0.01181102, 0.        , 0.        , 0.        , 0.01181102,\n",
              "       0.72047244, 0.7992126 , 0.16929134, 0.3503937 , 0.        ,\n",
              "       0.        , 0.03149606, 0.        , 0.        , 0.        ,\n",
              "       0.        , 0.        , 0.        , 0.        , 0.        ,\n",
              "       0.        , 0.        , 0.01181102, 0.29133858, 0.        ,\n",
              "       0.2992126 , 0.27952756, 0.33858268, 0.        , 0.12992126,\n",
              "       0.59055118, 0.        , 0.46062992, 0.03937008, 1.25984252,\n",
              "       0.37007874, 0.16141732, 0.24015748, 0.05905512, 0.03149606,\n",
              "       0.5       , 0.01968504, 1.        , 0.66929134, 0.        ,\n",
              "       0.07086614, 0.42913386, 0.16141732, 0.18897638, 0.16141732,\n",
              "       0.        , 0.        , 0.2007874 , 0.        , 0.        ,\n",
              "       0.        , 0.        , 0.        , 0.        , 0.        ,\n",
              "       0.        , 0.        , 0.        , 0.14173228, 0.5984252 ,\n",
              "       0.01968504, 0.46850394, 0.0511811 , 0.72047244, 0.01181102,\n",
              "       0.12992126, 1.3503937 , 0.14173228, 0.        , 0.        ,\n",
              "       0.        , 0.        , 0.03149606, 0.11811024, 0.29133858,\n",
              "       0.        , 0.35826772, 0.38976378, 0.51181102, 0.27165354,\n",
              "       0.        , 0.        , 0.        , 0.        , 0.        ,\n",
              "       0.11023622, 0.51181102, 0.11811024, 0.77165354, 0.        ,\n",
              "       0.        , 0.81102362, 0.20866142, 0.        , 0.        ,\n",
              "       0.12992126, 0.16141732, 0.        , 0.        , 0.        ])"
            ]
          },
          "metadata": {
            "tags": []
          },
          "execution_count": 271
        }
      ]
    },
    {
      "cell_type": "code",
      "metadata": {
        "id": "BjEwKd7_yyw2",
        "outputId": "bc57763d-5b2d-471d-b032-fcd30662b360",
        "colab": {
          "base_uri": "https://localhost:8080/",
          "height": 34
        }
      },
      "source": [
        "np.sum(np.less(inches, 1) & np.greater(inches, 0.5))"
      ],
      "execution_count": null,
      "outputs": [
        {
          "output_type": "execute_result",
          "data": {
            "text/plain": [
              "29"
            ]
          },
          "metadata": {
            "tags": []
          },
          "execution_count": 272
        }
      ]
    },
    {
      "cell_type": "code",
      "metadata": {
        "id": "ody9T4HFz-Pk",
        "outputId": "6c06e511-d890-4018-9e94-a40eaf8d601c",
        "colab": {
          "base_uri": "https://localhost:8080/",
          "height": 34
        }
      },
      "source": [
        "np.sum((inches<1) & (inches>0.5))"
      ],
      "execution_count": null,
      "outputs": [
        {
          "output_type": "execute_result",
          "data": {
            "text/plain": [
              "29"
            ]
          },
          "metadata": {
            "tags": []
          },
          "execution_count": 273
        }
      ]
    },
    {
      "cell_type": "code",
      "metadata": {
        "id": "vSeBJEVm0JDC",
        "outputId": "47e7e807-62e8-4285-b61b-1ed6f01b61bb",
        "colab": {
          "base_uri": "https://localhost:8080/",
          "height": 34
        }
      },
      "source": [
        "np.sum(~((inches>=1) | (inches<=0.5)))"
      ],
      "execution_count": null,
      "outputs": [
        {
          "output_type": "execute_result",
          "data": {
            "text/plain": [
              "29"
            ]
          },
          "metadata": {
            "tags": []
          },
          "execution_count": 274
        }
      ]
    },
    {
      "cell_type": "code",
      "metadata": {
        "id": "6627gVVZegsH",
        "outputId": "0ba6bd7d-a3ae-4f28-b3fa-689d526c7eb5",
        "colab": {
          "base_uri": "https://localhost:8080/",
          "height": 86
        }
      },
      "source": [
        "print(\"number of days without rainfall: \", np.sum(inches==0))\n",
        "print(\"number of days with rainfall: \", np.sum(inches!=0))\n",
        "print(\"days with more than 0.5 inches: \", np.sum(inches>0.5))\n",
        "print(\"Rainy days with < 0.1 inches: \", np.sum((inches>0) & (inches<0.2)))"
      ],
      "execution_count": null,
      "outputs": [
        {
          "output_type": "stream",
          "text": [
            "number of days without rainfall:  215\n",
            "number of days with rainfall:  150\n",
            "days with more than 0.5 inches:  37\n",
            "Rainy days with < 0.1 inches:  75\n"
          ],
          "name": "stdout"
        }
      ]
    },
    {
      "cell_type": "markdown",
      "metadata": {
        "id": "geB0PS3fnX6S"
      },
      "source": [
        "**Boolean arrays as masks**"
      ]
    },
    {
      "cell_type": "code",
      "metadata": {
        "id": "hh8x1eqXinHS",
        "outputId": "c8048184-0be4-48c5-b71b-c134785b7b36",
        "colab": {
          "base_uri": "https://localhost:8080/",
          "height": 86
        }
      },
      "source": [
        "x"
      ],
      "execution_count": null,
      "outputs": [
        {
          "output_type": "execute_result",
          "data": {
            "text/plain": [
              "array([[2, 8, 8],\n",
              "       [1, 7, 0],\n",
              "       [3, 4, 0],\n",
              "       [5, 2, 3]])"
            ]
          },
          "metadata": {
            "tags": []
          },
          "execution_count": 276
        }
      ]
    },
    {
      "cell_type": "code",
      "metadata": {
        "id": "2p5J2cPApVDe",
        "outputId": "eb7b0e1b-ff07-42d1-b309-9f52b0abbc1f",
        "colab": {
          "base_uri": "https://localhost:8080/",
          "height": 86
        }
      },
      "source": [
        "x<5"
      ],
      "execution_count": null,
      "outputs": [
        {
          "output_type": "execute_result",
          "data": {
            "text/plain": [
              "array([[ True, False, False],\n",
              "       [ True, False,  True],\n",
              "       [ True,  True,  True],\n",
              "       [False,  True,  True]])"
            ]
          },
          "metadata": {
            "tags": []
          },
          "execution_count": 277
        }
      ]
    },
    {
      "cell_type": "markdown",
      "metadata": {
        "id": "7p7NYbfuqQ-A"
      },
      "source": [
        "To select these values from the array, we can simply index on this Boolean array; this is known as a masking operation:"
      ]
    },
    {
      "cell_type": "code",
      "metadata": {
        "id": "wpCQi2mIqGIs",
        "outputId": "a6a7a399-e668-47b0-cc2b-192279da5bf7",
        "colab": {
          "base_uri": "https://localhost:8080/",
          "height": 34
        }
      },
      "source": [
        "x[x<5]"
      ],
      "execution_count": null,
      "outputs": [
        {
          "output_type": "execute_result",
          "data": {
            "text/plain": [
              "array([2, 1, 0, 3, 4, 0, 2, 3])"
            ]
          },
          "metadata": {
            "tags": []
          },
          "execution_count": 278
        }
      ]
    },
    {
      "cell_type": "code",
      "metadata": {
        "id": "-aeWvJmwqaRI",
        "outputId": "e6c7303a-0c85-4220-e7ca-fc231049aac4",
        "colab": {
          "base_uri": "https://localhost:8080/",
          "height": 34
        }
      },
      "source": [
        "x[x>5]"
      ],
      "execution_count": null,
      "outputs": [
        {
          "output_type": "execute_result",
          "data": {
            "text/plain": [
              "array([8, 8, 7])"
            ]
          },
          "metadata": {
            "tags": []
          },
          "execution_count": 279
        }
      ]
    },
    {
      "cell_type": "code",
      "metadata": {
        "id": "izqpzGqZqzik",
        "outputId": "9005e9a0-e9c1-4a48-c87c-599b3060dec0",
        "colab": {
          "base_uri": "https://localhost:8080/",
          "height": 729
        }
      },
      "source": [
        "# construct a mask of all rainy days\n",
        "\n",
        "rainy = inches>0\n",
        "rainy"
      ],
      "execution_count": null,
      "outputs": [
        {
          "output_type": "execute_result",
          "data": {
            "text/plain": [
              "array([False,  True,  True, False, False,  True,  True,  True,  True,\n",
              "        True,  True,  True, False, False, False, False, False, False,\n",
              "       False, False, False,  True, False, False, False, False, False,\n",
              "        True,  True, False,  True,  True, False, False, False, False,\n",
              "       False, False,  True,  True,  True,  True,  True,  True,  True,\n",
              "        True,  True,  True,  True,  True,  True,  True,  True,  True,\n",
              "        True,  True, False, False, False,  True,  True,  True,  True,\n",
              "        True,  True, False,  True,  True,  True, False, False,  True,\n",
              "        True,  True,  True,  True, False,  True, False, False, False,\n",
              "       False, False,  True,  True,  True,  True,  True, False, False,\n",
              "       False, False,  True, False,  True, False, False,  True, False,\n",
              "       False, False, False, False, False,  True,  True,  True, False,\n",
              "        True, False,  True,  True,  True,  True, False,  True,  True,\n",
              "       False, False, False, False, False,  True,  True,  True, False,\n",
              "       False,  True,  True,  True, False, False, False, False, False,\n",
              "       False, False, False, False, False, False, False,  True, False,\n",
              "        True, False, False, False, False, False, False, False, False,\n",
              "       False, False, False, False, False, False, False, False, False,\n",
              "        True,  True, False,  True,  True,  True, False,  True,  True,\n",
              "       False, False, False, False, False, False,  True,  True, False,\n",
              "       False, False, False, False, False, False, False, False, False,\n",
              "       False, False, False, False, False, False, False, False, False,\n",
              "       False, False, False, False,  True,  True, False, False, False,\n",
              "       False, False, False, False, False, False,  True, False, False,\n",
              "       False, False, False, False, False, False,  True,  True,  True,\n",
              "       False,  True, False, False, False, False, False, False, False,\n",
              "       False, False, False, False, False, False, False,  True,  True,\n",
              "       False,  True, False, False, False, False, False, False, False,\n",
              "       False, False, False, False, False, False, False,  True,  True,\n",
              "       False, False, False,  True,  True,  True,  True,  True, False,\n",
              "       False,  True, False, False, False, False, False, False, False,\n",
              "       False, False, False,  True,  True, False,  True,  True,  True,\n",
              "       False,  True,  True, False,  True,  True,  True,  True,  True,\n",
              "        True,  True,  True,  True,  True,  True,  True, False,  True,\n",
              "        True,  True,  True,  True, False, False,  True, False, False,\n",
              "       False, False, False, False, False, False, False, False,  True,\n",
              "        True,  True,  True,  True,  True,  True,  True,  True,  True,\n",
              "       False, False, False, False,  True,  True,  True, False,  True,\n",
              "        True,  True,  True, False, False, False, False, False,  True,\n",
              "        True,  True,  True, False, False,  True,  True, False, False,\n",
              "        True,  True, False, False, False])"
            ]
          },
          "metadata": {
            "tags": []
          },
          "execution_count": 280
        }
      ]
    },
    {
      "cell_type": "code",
      "metadata": {
        "id": "iOEgX3SxwH2s",
        "outputId": "549e1ea7-4330-4b6c-b18b-eb67626bf724",
        "colab": {
          "base_uri": "https://localhost:8080/",
          "height": 729
        }
      },
      "source": [
        "np.arange(365) - 172 < 90"
      ],
      "execution_count": null,
      "outputs": [
        {
          "output_type": "execute_result",
          "data": {
            "text/plain": [
              "array([ True,  True,  True,  True,  True,  True,  True,  True,  True,\n",
              "        True,  True,  True,  True,  True,  True,  True,  True,  True,\n",
              "        True,  True,  True,  True,  True,  True,  True,  True,  True,\n",
              "        True,  True,  True,  True,  True,  True,  True,  True,  True,\n",
              "        True,  True,  True,  True,  True,  True,  True,  True,  True,\n",
              "        True,  True,  True,  True,  True,  True,  True,  True,  True,\n",
              "        True,  True,  True,  True,  True,  True,  True,  True,  True,\n",
              "        True,  True,  True,  True,  True,  True,  True,  True,  True,\n",
              "        True,  True,  True,  True,  True,  True,  True,  True,  True,\n",
              "        True,  True,  True,  True,  True,  True,  True,  True,  True,\n",
              "        True,  True,  True,  True,  True,  True,  True,  True,  True,\n",
              "        True,  True,  True,  True,  True,  True,  True,  True,  True,\n",
              "        True,  True,  True,  True,  True,  True,  True,  True,  True,\n",
              "        True,  True,  True,  True,  True,  True,  True,  True,  True,\n",
              "        True,  True,  True,  True,  True,  True,  True,  True,  True,\n",
              "        True,  True,  True,  True,  True,  True,  True,  True,  True,\n",
              "        True,  True,  True,  True,  True,  True,  True,  True,  True,\n",
              "        True,  True,  True,  True,  True,  True,  True,  True,  True,\n",
              "        True,  True,  True,  True,  True,  True,  True,  True,  True,\n",
              "        True,  True,  True,  True,  True,  True,  True,  True,  True,\n",
              "        True,  True,  True,  True,  True,  True,  True,  True,  True,\n",
              "        True,  True,  True,  True,  True,  True,  True,  True,  True,\n",
              "        True,  True,  True,  True,  True,  True,  True,  True,  True,\n",
              "        True,  True,  True,  True,  True,  True,  True,  True,  True,\n",
              "        True,  True,  True,  True,  True,  True,  True,  True,  True,\n",
              "        True,  True,  True,  True,  True,  True,  True,  True,  True,\n",
              "        True,  True,  True,  True,  True,  True,  True,  True,  True,\n",
              "        True,  True,  True,  True,  True,  True,  True,  True,  True,\n",
              "        True,  True,  True,  True,  True,  True,  True,  True,  True,\n",
              "        True, False, False, False, False, False, False, False, False,\n",
              "       False, False, False, False, False, False, False, False, False,\n",
              "       False, False, False, False, False, False, False, False, False,\n",
              "       False, False, False, False, False, False, False, False, False,\n",
              "       False, False, False, False, False, False, False, False, False,\n",
              "       False, False, False, False, False, False, False, False, False,\n",
              "       False, False, False, False, False, False, False, False, False,\n",
              "       False, False, False, False, False, False, False, False, False,\n",
              "       False, False, False, False, False, False, False, False, False,\n",
              "       False, False, False, False, False, False, False, False, False,\n",
              "       False, False, False, False, False, False, False, False, False,\n",
              "       False, False, False, False, False])"
            ]
          },
          "metadata": {
            "tags": []
          },
          "execution_count": 281
        }
      ]
    },
    {
      "cell_type": "code",
      "metadata": {
        "id": "DMEd64qPunJX",
        "outputId": "64333368-b71a-4d57-ad80-35d39ebb8e2a",
        "colab": {
          "base_uri": "https://localhost:8080/",
          "height": 729
        }
      },
      "source": [
        "# construct a mask of all summer days (June 21st is the 172nd day)\n",
        "summer = (np.arange(365)-172 < 90) & (np.arange(365)-172 > 0)\n",
        "summer "
      ],
      "execution_count": null,
      "outputs": [
        {
          "output_type": "execute_result",
          "data": {
            "text/plain": [
              "array([False, False, False, False, False, False, False, False, False,\n",
              "       False, False, False, False, False, False, False, False, False,\n",
              "       False, False, False, False, False, False, False, False, False,\n",
              "       False, False, False, False, False, False, False, False, False,\n",
              "       False, False, False, False, False, False, False, False, False,\n",
              "       False, False, False, False, False, False, False, False, False,\n",
              "       False, False, False, False, False, False, False, False, False,\n",
              "       False, False, False, False, False, False, False, False, False,\n",
              "       False, False, False, False, False, False, False, False, False,\n",
              "       False, False, False, False, False, False, False, False, False,\n",
              "       False, False, False, False, False, False, False, False, False,\n",
              "       False, False, False, False, False, False, False, False, False,\n",
              "       False, False, False, False, False, False, False, False, False,\n",
              "       False, False, False, False, False, False, False, False, False,\n",
              "       False, False, False, False, False, False, False, False, False,\n",
              "       False, False, False, False, False, False, False, False, False,\n",
              "       False, False, False, False, False, False, False, False, False,\n",
              "       False, False, False, False, False, False, False, False, False,\n",
              "       False, False, False, False, False, False, False, False, False,\n",
              "       False, False,  True,  True,  True,  True,  True,  True,  True,\n",
              "        True,  True,  True,  True,  True,  True,  True,  True,  True,\n",
              "        True,  True,  True,  True,  True,  True,  True,  True,  True,\n",
              "        True,  True,  True,  True,  True,  True,  True,  True,  True,\n",
              "        True,  True,  True,  True,  True,  True,  True,  True,  True,\n",
              "        True,  True,  True,  True,  True,  True,  True,  True,  True,\n",
              "        True,  True,  True,  True,  True,  True,  True,  True,  True,\n",
              "        True,  True,  True,  True,  True,  True,  True,  True,  True,\n",
              "        True,  True,  True,  True,  True,  True,  True,  True,  True,\n",
              "        True,  True,  True,  True,  True,  True,  True,  True,  True,\n",
              "        True, False, False, False, False, False, False, False, False,\n",
              "       False, False, False, False, False, False, False, False, False,\n",
              "       False, False, False, False, False, False, False, False, False,\n",
              "       False, False, False, False, False, False, False, False, False,\n",
              "       False, False, False, False, False, False, False, False, False,\n",
              "       False, False, False, False, False, False, False, False, False,\n",
              "       False, False, False, False, False, False, False, False, False,\n",
              "       False, False, False, False, False, False, False, False, False,\n",
              "       False, False, False, False, False, False, False, False, False,\n",
              "       False, False, False, False, False, False, False, False, False,\n",
              "       False, False, False, False, False, False, False, False, False,\n",
              "       False, False, False, False, False])"
            ]
          },
          "metadata": {
            "tags": []
          },
          "execution_count": 282
        }
      ]
    },
    {
      "cell_type": "code",
      "metadata": {
        "id": "XwjbZbGbxljT",
        "outputId": "e422817b-9029-4345-e979-a2304a297c42",
        "colab": {
          "base_uri": "https://localhost:8080/",
          "height": 139
        }
      },
      "source": [
        "print(\"median precip on rainy days in 2014 (inches) : \", np.median(inches[rainy]))\n",
        "print(\"median precip on summerr days in 2014 (inches) : \", np.median(inches[summer]))\n",
        "print(\"median precip on non-summer rainy days (inches) : \", np.median(inches[~summer & rainy]))\n",
        "print(\"median presip on summer and rainy days (inches) : \", np.median(inches[rainy & summer]))\n",
        "print(\"median presip on summer or rainy days (inches) : \", np.median(inches[rainy | summer]))\n",
        "print(\"maximum precip on summer days in 2014 (inches) : \", np.max(inches[summer]))\n",
        "print(\"maximum precip on rainy days in 2014 (inches) : \", np.max(inches[rainy]))"
      ],
      "execution_count": null,
      "outputs": [
        {
          "output_type": "stream",
          "text": [
            "median precip on rainy days in 2014 (inches) :  0.19488188976377951\n",
            "median precip on summerr days in 2014 (inches) :  0.0\n",
            "median precip on non-summer rainy days (inches) :  0.20078740157480315\n",
            "median presip on summer and rainy days (inches) :  0.0610236220472441\n",
            "median presip on summer or rainy days (inches) :  0.07086614173228346\n",
            "maximum precip on summer days in 2014 (inches) :  0.8503937007874016\n",
            "maximum precip on rainy days in 2014 (inches) :  1.8385826771653544\n"
          ],
          "name": "stdout"
        }
      ]
    },
    {
      "cell_type": "markdown",
      "metadata": {
        "id": "6y6W2uAgxfpb"
      },
      "source": [
        "Using the keywords and/or  versus the operator &/|\n",
        "\n",
        "in python all non-zero integers will evalute as True and zero as False"
      ]
    },
    {
      "cell_type": "code",
      "metadata": {
        "id": "ycukLVLhvVyM",
        "outputId": "a0c1243e-1938-47f5-ec57-ff681b241654",
        "colab": {
          "base_uri": "https://localhost:8080/",
          "height": 34
        }
      },
      "source": [
        "bool(1), bool(0)"
      ],
      "execution_count": null,
      "outputs": [
        {
          "output_type": "execute_result",
          "data": {
            "text/plain": [
              "(True, False)"
            ]
          },
          "metadata": {
            "tags": []
          },
          "execution_count": 284
        }
      ]
    },
    {
      "cell_type": "code",
      "metadata": {
        "id": "6PKkvaQHyfdI",
        "outputId": "86c382e5-3c75-4945-afe8-9616de9d39ea",
        "colab": {
          "base_uri": "https://localhost:8080/",
          "height": 34
        }
      },
      "source": [
        "bool(3), bool(5 or 0), bool(6)"
      ],
      "execution_count": null,
      "outputs": [
        {
          "output_type": "execute_result",
          "data": {
            "text/plain": [
              "(True, True, True)"
            ]
          },
          "metadata": {
            "tags": []
          },
          "execution_count": 285
        }
      ]
    },
    {
      "cell_type": "code",
      "metadata": {
        "id": "rhunkOZlylLj",
        "outputId": "c723fdbe-d09b-4886-db2d-d134c46d901f",
        "colab": {
          "base_uri": "https://localhost:8080/",
          "height": 34
        }
      },
      "source": [
        "bool(1 & 0), bool(1 | 0)"
      ],
      "execution_count": null,
      "outputs": [
        {
          "output_type": "execute_result",
          "data": {
            "text/plain": [
              "(False, True)"
            ]
          },
          "metadata": {
            "tags": []
          },
          "execution_count": 286
        }
      ]
    },
    {
      "cell_type": "code",
      "metadata": {
        "id": "SsDroBISyr8F",
        "outputId": "10c5c914-0a73-4291-8c4c-4382ba72d5fb",
        "colab": {
          "base_uri": "https://localhost:8080/",
          "height": 34
        }
      },
      "source": [
        "bin(5), bin(10)"
      ],
      "execution_count": null,
      "outputs": [
        {
          "output_type": "execute_result",
          "data": {
            "text/plain": [
              "('0b101', '0b1010')"
            ]
          },
          "metadata": {
            "tags": []
          },
          "execution_count": 287
        }
      ]
    },
    {
      "cell_type": "code",
      "metadata": {
        "id": "CVebp2v2zLaP",
        "outputId": "e14e144c-b71b-404a-9649-d6dba04d543f",
        "colab": {
          "base_uri": "https://localhost:8080/",
          "height": 34
        }
      },
      "source": [
        "bin(5 and 10), bin(5 or 10)"
      ],
      "execution_count": null,
      "outputs": [
        {
          "output_type": "execute_result",
          "data": {
            "text/plain": [
              "('0b1010', '0b101')"
            ]
          },
          "metadata": {
            "tags": []
          },
          "execution_count": 288
        }
      ]
    },
    {
      "cell_type": "code",
      "metadata": {
        "id": "tc7j_MQizQpE",
        "outputId": "dc7fbc3c-047a-4baf-fb54-d4cb684684a9",
        "colab": {
          "base_uri": "https://localhost:8080/",
          "height": 34
        }
      },
      "source": [
        "bin(5 & 10), bin(5 | 10)"
      ],
      "execution_count": null,
      "outputs": [
        {
          "output_type": "execute_result",
          "data": {
            "text/plain": [
              "('0b0', '0b1111')"
            ]
          },
          "metadata": {
            "tags": []
          },
          "execution_count": 289
        }
      ]
    },
    {
      "cell_type": "code",
      "metadata": {
        "id": "XCSzVGbYzgcw",
        "outputId": "ad7d4e2b-011e-49d7-c6a4-3beb0d331784",
        "colab": {
          "base_uri": "https://localhost:8080/",
          "height": 34
        }
      },
      "source": [
        "bin(42), bin(59)"
      ],
      "execution_count": null,
      "outputs": [
        {
          "output_type": "execute_result",
          "data": {
            "text/plain": [
              "('0b101010', '0b111011')"
            ]
          },
          "metadata": {
            "tags": []
          },
          "execution_count": 290
        }
      ]
    },
    {
      "cell_type": "code",
      "metadata": {
        "id": "IZz2AQ80z6nK",
        "outputId": "51f5e746-9d18-4f14-9d93-fffe83026646",
        "colab": {
          "base_uri": "https://localhost:8080/",
          "height": 34
        }
      },
      "source": [
        "bin(42 & 59), bin(42 | 59)"
      ],
      "execution_count": null,
      "outputs": [
        {
          "output_type": "execute_result",
          "data": {
            "text/plain": [
              "('0b101010', '0b111011')"
            ]
          },
          "metadata": {
            "tags": []
          },
          "execution_count": 291
        }
      ]
    },
    {
      "cell_type": "code",
      "metadata": {
        "id": "IrpEfbLwz8rb",
        "outputId": "b5b8b7cf-baf1-4fec-cc84-c96cc4228f44",
        "colab": {
          "base_uri": "https://localhost:8080/",
          "height": 34
        }
      },
      "source": [
        "bin(12), bin(15), bin(12 & 15), bin(12 | 15)"
      ],
      "execution_count": null,
      "outputs": [
        {
          "output_type": "execute_result",
          "data": {
            "text/plain": [
              "('0b1100', '0b1111', '0b1100', '0b1111')"
            ]
          },
          "metadata": {
            "tags": []
          },
          "execution_count": 292
        }
      ]
    },
    {
      "cell_type": "code",
      "metadata": {
        "id": "5qecM5bl0KoO",
        "outputId": "ff090e70-9c40-425b-a845-510b78f5e01b",
        "colab": {
          "base_uri": "https://localhost:8080/",
          "height": 34
        }
      },
      "source": [
        "bin(5), bin(6), bin(5 & 6), bin(5 | 6)"
      ],
      "execution_count": null,
      "outputs": [
        {
          "output_type": "execute_result",
          "data": {
            "text/plain": [
              "('0b101', '0b110', '0b100', '0b111')"
            ]
          },
          "metadata": {
            "tags": []
          },
          "execution_count": 293
        }
      ]
    },
    {
      "cell_type": "code",
      "metadata": {
        "id": "zt3a4WCC0TS7",
        "outputId": "9569f28f-db20-4e83-e0d1-2d309798fa2d",
        "colab": {
          "base_uri": "https://localhost:8080/",
          "height": 34
        }
      },
      "source": [
        "a = np.array([1, 0, 1, 0, 1, 1], dtype = bool)\n",
        "b = np.array([1, 1, 1, 0, 1, 0], dtype = bool)\n",
        "a | b"
      ],
      "execution_count": null,
      "outputs": [
        {
          "output_type": "execute_result",
          "data": {
            "text/plain": [
              "array([ True,  True,  True, False,  True,  True])"
            ]
          },
          "metadata": {
            "tags": []
          },
          "execution_count": 294
        }
      ]
    },
    {
      "cell_type": "code",
      "metadata": {
        "id": "MAFXruTG0vsm",
        "outputId": "28b557ae-e40d-4538-ca2e-0160ce5f9bae",
        "colab": {
          "base_uri": "https://localhost:8080/",
          "height": 34
        }
      },
      "source": [
        "a & b"
      ],
      "execution_count": null,
      "outputs": [
        {
          "output_type": "execute_result",
          "data": {
            "text/plain": [
              "array([ True, False,  True, False,  True, False])"
            ]
          },
          "metadata": {
            "tags": []
          },
          "execution_count": 295
        }
      ]
    },
    {
      "cell_type": "code",
      "metadata": {
        "id": "28zKMJGH0zHm",
        "outputId": "f932e481-7cdf-4f9b-a586-5e47d2b26ca6",
        "colab": {
          "base_uri": "https://localhost:8080/",
          "height": 52
        }
      },
      "source": [
        "c = np.arange(10)\n",
        "(c>3) & (c<8)"
      ],
      "execution_count": null,
      "outputs": [
        {
          "output_type": "execute_result",
          "data": {
            "text/plain": [
              "array([False, False, False, False,  True,  True,  True,  True, False,\n",
              "       False])"
            ]
          },
          "metadata": {
            "tags": []
          },
          "execution_count": 296
        }
      ]
    },
    {
      "cell_type": "markdown",
      "metadata": {
        "id": "bZLbhvBx1LKD"
      },
      "source": [
        "**Fancy Indexing:**  we pass arrays of indices in place of single scalars. This allows us to very quickly access and modify complicated subsets of an array’s value\n"
      ]
    },
    {
      "cell_type": "code",
      "metadata": {
        "id": "jTt_5OGN1B21",
        "outputId": "b5eab597-ef54-4940-8600-c4ec0ed7ec53",
        "colab": {
          "base_uri": "https://localhost:8080/",
          "height": 34
        }
      },
      "source": [
        "rand = np.random.RandomState(50)\n",
        "x = rand.randint(100, size=10)\n",
        "x"
      ],
      "execution_count": null,
      "outputs": [
        {
          "output_type": "execute_result",
          "data": {
            "text/plain": [
              "array([48, 96, 11, 33, 94,  4, 70, 70, 22,  5])"
            ]
          },
          "metadata": {
            "tags": []
          },
          "execution_count": 297
        }
      ]
    },
    {
      "cell_type": "code",
      "metadata": {
        "id": "wjl4Dh7U3o59",
        "outputId": "6e843090-4e1c-4dae-8800-180c7ea65fbb",
        "colab": {
          "base_uri": "https://localhost:8080/",
          "height": 34
        }
      },
      "source": [
        "[x[1], x[3], x[8]]"
      ],
      "execution_count": null,
      "outputs": [
        {
          "output_type": "execute_result",
          "data": {
            "text/plain": [
              "[96, 33, 22]"
            ]
          },
          "metadata": {
            "tags": []
          },
          "execution_count": 298
        }
      ]
    },
    {
      "cell_type": "code",
      "metadata": {
        "id": "UhzZA03K4A9m",
        "outputId": "d5b1a5db-df53-4d22-c28e-8e12f617acf0",
        "colab": {
          "base_uri": "https://localhost:8080/",
          "height": 34
        }
      },
      "source": [
        "indexes = [1,2,8]\n",
        "x[indexes]"
      ],
      "execution_count": null,
      "outputs": [
        {
          "output_type": "execute_result",
          "data": {
            "text/plain": [
              "array([96, 11, 22])"
            ]
          },
          "metadata": {
            "tags": []
          },
          "execution_count": 299
        }
      ]
    },
    {
      "cell_type": "code",
      "metadata": {
        "id": "CFsCsgmT4IBS",
        "outputId": "66f96280-7cc4-45c2-888f-f1f579083a08",
        "colab": {
          "base_uri": "https://localhost:8080/",
          "height": 52
        }
      },
      "source": [
        "ind = np.array([[1,2],[8,9]])\n",
        "x[ind]"
      ],
      "execution_count": null,
      "outputs": [
        {
          "output_type": "execute_result",
          "data": {
            "text/plain": [
              "array([[96, 11],\n",
              "       [22,  5]])"
            ]
          },
          "metadata": {
            "tags": []
          },
          "execution_count": 300
        }
      ]
    },
    {
      "cell_type": "markdown",
      "metadata": {
        "id": "OY9FeuGL4w8K"
      },
      "source": [
        "indexing also works in multiple dimentions"
      ]
    },
    {
      "cell_type": "code",
      "metadata": {
        "id": "L9Tbmj8F5TlK",
        "outputId": "0960fc4f-e0ba-4634-bae7-796927bca514",
        "colab": {
          "base_uri": "https://localhost:8080/",
          "height": 69
        }
      },
      "source": [
        "x = np.arange(15).reshape((3,5))\n",
        "x"
      ],
      "execution_count": null,
      "outputs": [
        {
          "output_type": "execute_result",
          "data": {
            "text/plain": [
              "array([[ 0,  1,  2,  3,  4],\n",
              "       [ 5,  6,  7,  8,  9],\n",
              "       [10, 11, 12, 13, 14]])"
            ]
          },
          "metadata": {
            "tags": []
          },
          "execution_count": 301
        }
      ]
    },
    {
      "cell_type": "code",
      "metadata": {
        "id": "gr1jGhsj6bD9",
        "outputId": "fb537a95-a0bc-417a-9ae7-643506b03762",
        "colab": {
          "base_uri": "https://localhost:8080/",
          "height": 34
        }
      },
      "source": [
        "# first index refers to the row and 2nd index refers to column\n",
        "row = np.array([0,1,2])\n",
        "col = np.array([3,2,4])\n",
        "x[row, col]"
      ],
      "execution_count": null,
      "outputs": [
        {
          "output_type": "execute_result",
          "data": {
            "text/plain": [
              "array([ 3,  7, 14])"
            ]
          },
          "metadata": {
            "tags": []
          },
          "execution_count": 302
        }
      ]
    },
    {
      "cell_type": "code",
      "metadata": {
        "id": "VqCxYN0M7yGE",
        "outputId": "ca7b21da-5a23-44e6-9bfa-394b39b5d087",
        "colab": {
          "base_uri": "https://localhost:8080/",
          "height": 104
        }
      },
      "source": [
        "x[row[:, np.newaxis]]"
      ],
      "execution_count": null,
      "outputs": [
        {
          "output_type": "execute_result",
          "data": {
            "text/plain": [
              "array([[[ 0,  1,  2,  3,  4]],\n",
              "\n",
              "       [[ 5,  6,  7,  8,  9]],\n",
              "\n",
              "       [[10, 11, 12, 13, 14]]])"
            ]
          },
          "metadata": {
            "tags": []
          },
          "execution_count": 303
        }
      ]
    },
    {
      "cell_type": "code",
      "metadata": {
        "id": "zAFKTRwB6khZ",
        "outputId": "ba276d77-f7a9-4ca6-a6ad-3f80c30ab025",
        "colab": {
          "base_uri": "https://localhost:8080/",
          "height": 69
        }
      },
      "source": [
        "x[row[:, np.newaxis], col]"
      ],
      "execution_count": null,
      "outputs": [
        {
          "output_type": "execute_result",
          "data": {
            "text/plain": [
              "array([[ 3,  2,  4],\n",
              "       [ 8,  7,  9],\n",
              "       [13, 12, 14]])"
            ]
          },
          "metadata": {
            "tags": []
          },
          "execution_count": 304
        }
      ]
    },
    {
      "cell_type": "code",
      "metadata": {
        "id": "4MQodK4r64Y6",
        "outputId": "55d6846b-c085-4192-e0a9-5f962d8165cb",
        "colab": {
          "base_uri": "https://localhost:8080/",
          "height": 69
        }
      },
      "source": [
        "row[:, np.newaxis]*col"
      ],
      "execution_count": null,
      "outputs": [
        {
          "output_type": "execute_result",
          "data": {
            "text/plain": [
              "array([[0, 0, 0],\n",
              "       [3, 2, 4],\n",
              "       [6, 4, 8]])"
            ]
          },
          "metadata": {
            "tags": []
          },
          "execution_count": 305
        }
      ]
    },
    {
      "cell_type": "markdown",
      "metadata": {
        "id": "Xaao0Y038kee"
      },
      "source": [
        "**Combined Indexing**\n",
        "\n"
      ]
    },
    {
      "cell_type": "code",
      "metadata": {
        "id": "zdfcPp4z8I8-",
        "outputId": "fa430fda-dea4-4931-cfbe-5b89f19f149d",
        "colab": {
          "base_uri": "https://localhost:8080/",
          "height": 69
        }
      },
      "source": [
        "x"
      ],
      "execution_count": null,
      "outputs": [
        {
          "output_type": "execute_result",
          "data": {
            "text/plain": [
              "array([[ 0,  1,  2,  3,  4],\n",
              "       [ 5,  6,  7,  8,  9],\n",
              "       [10, 11, 12, 13, 14]])"
            ]
          },
          "metadata": {
            "tags": []
          },
          "execution_count": 306
        }
      ]
    },
    {
      "cell_type": "code",
      "metadata": {
        "id": "7UyJYAVI8pbT",
        "outputId": "7c90e6ed-00f0-4c1c-a712-8d6dc9a6623c",
        "colab": {
          "base_uri": "https://localhost:8080/",
          "height": 34
        }
      },
      "source": [
        "x[1,[2,3,4]]"
      ],
      "execution_count": null,
      "outputs": [
        {
          "output_type": "execute_result",
          "data": {
            "text/plain": [
              "array([7, 8, 9])"
            ]
          },
          "metadata": {
            "tags": []
          },
          "execution_count": 307
        }
      ]
    },
    {
      "cell_type": "code",
      "metadata": {
        "id": "926G_34D8r6P",
        "outputId": "c223afed-e2c4-4d52-dba9-5cd65e40e878",
        "colab": {
          "base_uri": "https://localhost:8080/",
          "height": 52
        }
      },
      "source": [
        "x[:2,[2,3,4]]"
      ],
      "execution_count": null,
      "outputs": [
        {
          "output_type": "execute_result",
          "data": {
            "text/plain": [
              "array([[2, 3, 4],\n",
              "       [7, 8, 9]])"
            ]
          },
          "metadata": {
            "tags": []
          },
          "execution_count": 308
        }
      ]
    },
    {
      "cell_type": "code",
      "metadata": {
        "id": "0_YjGG3H8yfh",
        "outputId": "8f072163-8260-41fb-867e-0dbeaad600a2",
        "colab": {
          "base_uri": "https://localhost:8080/",
          "height": 34
        }
      },
      "source": [
        "mask = np.array([1, 1, 0, 1, 0], dtype= bool)\n",
        "mask"
      ],
      "execution_count": null,
      "outputs": [
        {
          "output_type": "execute_result",
          "data": {
            "text/plain": [
              "array([ True,  True, False,  True, False])"
            ]
          },
          "metadata": {
            "tags": []
          },
          "execution_count": 309
        }
      ]
    },
    {
      "cell_type": "code",
      "metadata": {
        "id": "jq2iplCr9bnB"
      },
      "source": [
        "row = np.array([1,2])"
      ],
      "execution_count": null,
      "outputs": []
    },
    {
      "cell_type": "code",
      "metadata": {
        "id": "06m8qMvI9Og7",
        "outputId": "dacc9522-590c-4808-b7c3-478565f7fd7f",
        "colab": {
          "base_uri": "https://localhost:8080/",
          "height": 69
        }
      },
      "source": [
        "x[row[:,np.newaxis]]"
      ],
      "execution_count": null,
      "outputs": [
        {
          "output_type": "execute_result",
          "data": {
            "text/plain": [
              "array([[[ 5,  6,  7,  8,  9]],\n",
              "\n",
              "       [[10, 11, 12, 13, 14]]])"
            ]
          },
          "metadata": {
            "tags": []
          },
          "execution_count": 311
        }
      ]
    },
    {
      "cell_type": "code",
      "metadata": {
        "id": "PHaBhl0Y9GRa",
        "outputId": "af72eaee-211d-454b-ffee-2a5ba91bf691",
        "colab": {
          "base_uri": "https://localhost:8080/",
          "height": 52
        }
      },
      "source": [
        "x[row[:,np.newaxis], mask]"
      ],
      "execution_count": null,
      "outputs": [
        {
          "output_type": "execute_result",
          "data": {
            "text/plain": [
              "array([[ 5,  6,  8],\n",
              "       [10, 11, 13]])"
            ]
          },
          "metadata": {
            "tags": []
          },
          "execution_count": 312
        }
      ]
    },
    {
      "cell_type": "markdown",
      "metadata": {
        "id": "A7n79b5b9v6e"
      },
      "source": [
        "**Selecting random points**"
      ]
    },
    {
      "cell_type": "code",
      "metadata": {
        "id": "OReG-A5K9MbC",
        "outputId": "ed0893b5-6520-446f-db17-a5ef8163f587",
        "colab": {
          "base_uri": "https://localhost:8080/",
          "height": 34
        }
      },
      "source": [
        "mean = [0,0]\n",
        "cov = [[1,2], [2,5]]\n",
        "\n",
        "x = rand.multivariate_normal(mean, cov, 100)\n",
        "x.shape"
      ],
      "execution_count": null,
      "outputs": [
        {
          "output_type": "execute_result",
          "data": {
            "text/plain": [
              "(100, 2)"
            ]
          },
          "metadata": {
            "tags": []
          },
          "execution_count": 313
        }
      ]
    },
    {
      "cell_type": "code",
      "metadata": {
        "id": "0OuCIt7R-Dc6",
        "outputId": "d4520152-8d29-4362-b20f-47324bf3b34b",
        "colab": {
          "base_uri": "https://localhost:8080/",
          "height": 282
        }
      },
      "source": [
        "plt.scatter(x[:, 0], x[:, 1])"
      ],
      "execution_count": null,
      "outputs": [
        {
          "output_type": "execute_result",
          "data": {
            "text/plain": [
              "<matplotlib.collections.PathCollection at 0x7f44cbbe7dd8>"
            ]
          },
          "metadata": {
            "tags": []
          },
          "execution_count": 314
        },
        {
          "output_type": "display_data",
          "data": {
            "image/png": "[encoded data removed]",
            "text/plain": [
              "<Figure size 432x288 with 1 Axes>"
            ]
          },
          "metadata": {
            "tags": [],
            "needs_background": "light"
          }
        }
      ]
    },
    {
      "cell_type": "code",
      "metadata": {
        "id": "jfsNzi8N9n9n"
      },
      "source": [
        "import "
      ],
      "execution_count": null,
      "outputs": []
    },
    {
      "cell_type": "code",
      "metadata": {
        "id": "2TEs8Lap-LBV",
        "outputId": "16800872-1870-45f4-9df5-47211ae0c8c9",
        "colab": {
          "base_uri": "https://localhost:8080/",
          "height": 52
        }
      },
      "source": [
        "indices = np.random.choice(x.shape[0], 20, replace=False)\n",
        "indices"
      ],
      "execution_count": null,
      "outputs": [
        {
          "output_type": "execute_result",
          "data": {
            "text/plain": [
              "array([42, 73, 72, 63, 82, 55, 57, 19, 13, 83, 54, 99, 91, 25, 24,  8, 53,\n",
              "       18, 43, 80])"
            ]
          },
          "metadata": {
            "tags": []
          },
          "execution_count": 315
        }
      ]
    },
    {
      "cell_type": "code",
      "metadata": {
        "id": "8MBiQquf-q3C",
        "outputId": "81489082-f196-4838-eb92-103a9067a920",
        "colab": {
          "base_uri": "https://localhost:8080/",
          "height": 34
        }
      },
      "source": [
        "select = x[indices]\n",
        "select.shape"
      ],
      "execution_count": null,
      "outputs": [
        {
          "output_type": "execute_result",
          "data": {
            "text/plain": [
              "(20, 2)"
            ]
          },
          "metadata": {
            "tags": []
          },
          "execution_count": 316
        }
      ]
    },
    {
      "cell_type": "code",
      "metadata": {
        "id": "cbbzd4YN-4wE",
        "outputId": "67fd3e94-38eb-49cb-f35c-972c3282fee1",
        "colab": {
          "base_uri": "https://localhost:8080/",
          "height": 282
        }
      },
      "source": [
        "plt.scatter(x[:, 0], x[:, 1], alpha=0.5)"
      ],
      "execution_count": null,
      "outputs": [
        {
          "output_type": "execute_result",
          "data": {
            "text/plain": [
              "<matplotlib.collections.PathCollection at 0x7f44c9bd6438>"
            ]
          },
          "metadata": {
            "tags": []
          },
          "execution_count": 317
        },
        {
          "output_type": "display_data",
          "data": {
            "image/png": "[encoded data removed]",
            "text/plain": [
              "<Figure size 432x288 with 1 Axes>"
            ]
          },
          "metadata": {
            "tags": [],
            "needs_background": "light"
          }
        }
      ]
    },
    {
      "cell_type": "code",
      "metadata": {
        "id": "8Jt3kNvj_BD2",
        "outputId": "03efc674-3640-413d-8b94-dab4d86e39b9",
        "colab": {
          "base_uri": "https://localhost:8080/",
          "height": 282
        }
      },
      "source": [
        "plt.scatter(select[:, 0], select[:, 1], facecolor=\"blue\", s=20)"
      ],
      "execution_count": null,
      "outputs": [
        {
          "output_type": "execute_result",
          "data": {
            "text/plain": [
              "<matplotlib.collections.PathCollection at 0x7f44c9b33908>"
            ]
          },
          "metadata": {
            "tags": []
          },
          "execution_count": 318
        },
        {
          "output_type": "display_data",
          "data": {
            "image/png": "[encoded data removed]",
            "text/plain": [
              "<Figure size 432x288 with 1 Axes>"
            ]
          },
          "metadata": {
            "tags": [],
            "needs_background": "light"
          }
        }
      ]
    },
    {
      "cell_type": "code",
      "metadata": {
        "id": "F_ZVoe6j_FNO",
        "outputId": "2904fba7-d247-43c5-87e7-37e440a5d8e5",
        "colab": {
          "base_uri": "https://localhost:8080/",
          "height": 265
        }
      },
      "source": [
        "plt.scatter(x[:, 0], x[:, 1], alpha=0.5, s=10)\n",
        "plt.scatter(select[:, 0], select[:, 1], facecolor='none', edgecolors='r', s=70);"
      ],
      "execution_count": null,
      "outputs": [
        {
          "output_type": "display_data",
          "data": {
            "image/png": "[encoded data removed]",
            "text/plain": [
              "<Figure size 432x288 with 1 Axes>"
            ]
          },
          "metadata": {
            "tags": [],
            "needs_background": "light"
          }
        }
      ]
    },
    {
      "cell_type": "code",
      "metadata": {
        "id": "ZlJ7wYe1pMM8",
        "outputId": "283acaef-13c8-4192-ec66-08d6c0450f6c",
        "colab": {
          "base_uri": "https://localhost:8080/",
          "height": 52
        }
      },
      "source": [
        "x = np.arange(10)\n",
        "print(\"before changing values of x: \", x)\n",
        "\n",
        "i = np.array([2,5,7,9])\n",
        "x[i] = 84\n",
        "print(\"after chaing values of x: \", x)"
      ],
      "execution_count": null,
      "outputs": [
        {
          "output_type": "stream",
          "text": [
            "before changing values of x:  [0 1 2 3 4 5 6 7 8 9]\n",
            "after chaing values of x:  [ 0  1 84  3  4 84  6 84  8 84]\n"
          ],
          "name": "stdout"
        }
      ]
    },
    {
      "cell_type": "markdown",
      "metadata": {
        "id": "nSe8xEyZhndq"
      },
      "source": [
        "**Modifying values with Fancy indexing**\n",
        "\n",
        "* used tp access partss of an array, also used to modify parts of an array"
      ]
    },
    {
      "cell_type": "code",
      "metadata": {
        "id": "BRZ17tfP_ioq",
        "outputId": "09410664-069a-4455-e316-0db9eee6d9e5",
        "colab": {
          "base_uri": "https://localhost:8080/",
          "height": 317
        }
      },
      "source": [
        "x = np.arange(0, 50, 5)\n",
        "print(\"before changing values of x : \", x)\n",
        "plt.scatter(x,x, alpha=0.5, s=10)\n",
        "\n",
        "i = np.array([5,7,9,2])\n",
        "x[i] = [89, 84, 15, 21]\n",
        "print(\"After changing values of x: \", x)\n",
        "plt.scatter(x, x, facecolor='none', edgecolors='r', s=70)"
      ],
      "execution_count": null,
      "outputs": [
        {
          "output_type": "stream",
          "text": [
            "before changing values of x :  [ 0  5 10 15 20 25 30 35 40 45]\n",
            "After changing values of x:  [ 0  5 21 15 20 89 30 84 40 15]\n"
          ],
          "name": "stdout"
        },
        {
          "output_type": "execute_result",
          "data": {
            "text/plain": [
              "<matplotlib.collections.PathCollection at 0x7f44c988aa58>"
            ]
          },
          "metadata": {
            "tags": []
          },
          "execution_count": 528
        },
        {
          "output_type": "display_data",
          "data": {
            "image/png": "[encoded data removed]",
            "text/plain": [
              "<Figure size 432x288 with 1 Axes>"
            ]
          },
          "metadata": {
            "tags": [],
            "needs_background": "light"
          }
        }
      ]
    },
    {
      "cell_type": "code",
      "metadata": {
        "id": "MgDAF-yeiUoR",
        "outputId": "246e726b-460e-45bb-e633-730cc9fb0374",
        "colab": {
          "base_uri": "https://localhost:8080/",
          "height": 34
        }
      },
      "source": [
        "x"
      ],
      "execution_count": null,
      "outputs": [
        {
          "output_type": "execute_result",
          "data": {
            "text/plain": [
              "array([ 0,  5, 21, 15, 20, 89, 30, 84, 40, 15])"
            ]
          },
          "metadata": {
            "tags": []
          },
          "execution_count": 529
        }
      ]
    },
    {
      "cell_type": "code",
      "metadata": {
        "id": "EeK9DK2xqNvL",
        "outputId": "df31ba10-b17a-4527-b4fa-ffc04eda20c1",
        "colab": {
          "base_uri": "https://localhost:8080/",
          "height": 34
        }
      },
      "source": [
        "x[i] -= 10\n",
        "x"
      ],
      "execution_count": null,
      "outputs": [
        {
          "output_type": "execute_result",
          "data": {
            "text/plain": [
              "array([ 0,  5, 11, 15, 20, 79, 30, 74, 40,  5])"
            ]
          },
          "metadata": {
            "tags": []
          },
          "execution_count": 530
        }
      ]
    },
    {
      "cell_type": "code",
      "metadata": {
        "id": "iSl2Urp4qRJp",
        "outputId": "432f6a31-3b8b-4217-fa9d-0c571c204b3e",
        "colab": {
          "base_uri": "https://localhost:8080/",
          "height": 34
        }
      },
      "source": [
        "x = np.zeros(10)\n",
        "x"
      ],
      "execution_count": null,
      "outputs": [
        {
          "output_type": "execute_result",
          "data": {
            "text/plain": [
              "array([0., 0., 0., 0., 0., 0., 0., 0., 0., 0.])"
            ]
          },
          "metadata": {
            "tags": []
          },
          "execution_count": 547
        }
      ]
    },
    {
      "cell_type": "code",
      "metadata": {
        "id": "B80p3dSwquoj",
        "outputId": "7fb91acc-40c6-48d0-89ea-722bc9a6977f",
        "colab": {
          "base_uri": "https://localhost:8080/",
          "height": 34
        }
      },
      "source": [
        "x[[0,0]] = [4]\n",
        "x"
      ],
      "execution_count": null,
      "outputs": [
        {
          "output_type": "execute_result",
          "data": {
            "text/plain": [
              "array([4., 0., 0., 0., 0., 0., 0., 0., 0., 0.])"
            ]
          },
          "metadata": {
            "tags": []
          },
          "execution_count": 548
        }
      ]
    },
    {
      "cell_type": "code",
      "metadata": {
        "id": "a1fUXy5Kq2QO",
        "outputId": "f2edeffb-0a14-4705-dfbe-80bbb1a28cdb",
        "colab": {
          "base_uri": "https://localhost:8080/",
          "height": 34
        }
      },
      "source": [
        "x[[0,0]] = [1,3]\n",
        "x"
      ],
      "execution_count": null,
      "outputs": [
        {
          "output_type": "execute_result",
          "data": {
            "text/plain": [
              "array([3., 0., 0., 0., 0., 0., 0., 0., 0., 0.])"
            ]
          },
          "metadata": {
            "tags": []
          },
          "execution_count": 549
        }
      ]
    },
    {
      "cell_type": "code",
      "metadata": {
        "id": "lrx4Q0hRq6Pp",
        "outputId": "6bb6181d-2a5a-49fc-aa59-2c20004a39ad",
        "colab": {
          "base_uri": "https://localhost:8080/",
          "height": 69
        }
      },
      "source": [
        "i = [1, 4, 2, 2, 4, 1, 3, 5]\n",
        "print(\"before: \", x)\n",
        "x[i] += 5\n",
        "print(\"After: \", x)\n",
        "x"
      ],
      "execution_count": null,
      "outputs": [
        {
          "output_type": "stream",
          "text": [
            "before:  [3. 0. 0. 0. 0. 0. 0. 0. 0. 0.]\n",
            "After:  [3. 5. 5. 5. 5. 5. 0. 0. 0. 0.]\n"
          ],
          "name": "stdout"
        },
        {
          "output_type": "execute_result",
          "data": {
            "text/plain": [
              "array([3., 5., 5., 5., 5., 5., 0., 0., 0., 0.])"
            ]
          },
          "metadata": {
            "tags": []
          },
          "execution_count": 550
        }
      ]
    },
    {
      "cell_type": "code",
      "metadata": {
        "id": "8L77FUnOrWaS",
        "outputId": "ce8b3864-fe6f-474a-cc42-5fe8f848d72c",
        "colab": {
          "base_uri": "https://localhost:8080/",
          "height": 52
        }
      },
      "source": [
        "#ufunction at()\n",
        "\n",
        "x = np.ones(10)\n",
        "i = np.array([3,6,1,8])\n",
        "print(\"Before: \", x)\n",
        "np.add.at(x, i, 5)\n",
        "print(\"After: \", x)"
      ],
      "execution_count": null,
      "outputs": [
        {
          "output_type": "stream",
          "text": [
            "Before:  [1. 1. 1. 1. 1. 1. 1. 1. 1. 1.]\n",
            "After:  [1. 6. 1. 6. 1. 1. 6. 1. 6. 1.]\n"
          ],
          "name": "stdout"
        }
      ]
    },
    {
      "cell_type": "code",
      "metadata": {
        "id": "OvI0j6JUsQV0",
        "outputId": "25a871f4-30bb-45eb-9ffe-8ae9b105a980",
        "colab": {
          "base_uri": "https://localhost:8080/",
          "height": 34
        }
      },
      "source": [
        "np.subtract.at(x, i, 10)\n",
        "x"
      ],
      "execution_count": null,
      "outputs": [
        {
          "output_type": "execute_result",
          "data": {
            "text/plain": [
              "array([ 1., -4.,  1., -4.,  1.,  1., -4.,  1., -4.,  1.])"
            ]
          },
          "metadata": {
            "tags": []
          },
          "execution_count": 554
        }
      ]
    },
    {
      "cell_type": "markdown",
      "metadata": {
        "id": "sehj8Nnmsq4r"
      },
      "source": [
        "**Binning Data**\n",
        "\n",
        "- For\n",
        "example, imagine we have 1,000 values and would like to quickly find where they fall within an array of bins.\n",
        "\n",
        "- We could compute it using ufunc.at like this:"
      ]
    },
    {
      "cell_type": "code",
      "metadata": {
        "id": "KGS9hv9usYLu",
        "outputId": "24ac655a-d512-456f-f6b6-83a10f18a64f",
        "colab": {
          "base_uri": "https://localhost:8080/",
          "height": 191
        }
      },
      "source": [
        "np.random.seed(42)\n",
        "x = np.random.randn(100)\n",
        "\n",
        "#compute histograms by hand\n",
        "bins = np.linspace(-5, 5, 20)\n",
        "print(\"bins: \", bins)\n",
        "counts = np.zeros_like(bins)\n",
        "print(\"Counts: \", counts)\n",
        "\n",
        "#Find the appropriate bin for each x\n",
        "i = np.searchsorted(bins, x)\n",
        "print(\"i: \", i)\n",
        "\n",
        "# add 1 to each of these bins: \n",
        "np.add.at(counts, i, 1)"
      ],
      "execution_count": null,
      "outputs": [
        {
          "output_type": "stream",
          "text": [
            "bins:  [-5.         -4.47368421 -3.94736842 -3.42105263 -2.89473684 -2.36842105\n",
            " -1.84210526 -1.31578947 -0.78947368 -0.26315789  0.26315789  0.78947368\n",
            "  1.31578947  1.84210526  2.36842105  2.89473684  3.42105263  3.94736842\n",
            "  4.47368421  5.        ]\n",
            "Counts:  [0. 0. 0. 0. 0. 0. 0. 0. 0. 0. 0. 0. 0. 0. 0. 0. 0. 0. 0. 0.]\n",
            "i:  [11 10 11 13 10 10 13 11  9 11  9  9 10  6  7  9  8 11  8  7 13 10 10  7\n",
            "  9 10  8 11  9  9  9 14 10  8 12  8 10  6  7 10 11 10 10  9  7  9  9 12\n",
            " 11  7 11  9  9 11 12 12  8  9 11 12  9 10  8  8 12 13 10 12 11  9 11 13\n",
            " 10 13  5 12 10  9 10  6 10 11 13  9  8  9 12 11  9 11 10 12  9  9  9  7\n",
            " 11 10 10 10]\n"
          ],
          "name": "stdout"
        }
      ]
    },
    {
      "cell_type": "code",
      "metadata": {
        "id": "2Mcpxvm0tQCW",
        "outputId": "42a2218f-de66-479b-ed2b-f2e2412bc049",
        "colab": {
          "base_uri": "https://localhost:8080/",
          "height": 337
        }
      },
      "source": [
        "plt.plot(bins, counts, linestyle ='steps')"
      ],
      "execution_count": null,
      "outputs": [
        {
          "output_type": "stream",
          "text": [
            "/usr/local/lib/python3.6/dist-packages/ipykernel_launcher.py:1: MatplotlibDeprecationWarning: Passing the drawstyle with the linestyle as a single string is deprecated since Matplotlib 3.1 and support will be removed in 3.3; please pass the drawstyle separately using the drawstyle keyword argument to Line2D or set_drawstyle() method (or ds/set_ds()).\n",
            "  \"\"\"Entry point for launching an IPython kernel.\n"
          ],
          "name": "stderr"
        },
        {
          "output_type": "execute_result",
          "data": {
            "text/plain": [
              "[<matplotlib.lines.Line2D at 0x7f44c99a6208>]"
            ]
          },
          "metadata": {
            "tags": []
          },
          "execution_count": 571
        },
        {
          "output_type": "display_data",
          "data": {
            "image/png": "[encoded data removed]",
            "text/plain": [
              "<Figure size 432x288 with 1 Axes>"
            ]
          },
          "metadata": {
            "tags": [],
            "needs_background": "light"
          }
        }
      ]
    },
    {
      "cell_type": "code",
      "metadata": {
        "id": "fhwcHoTmt1mY",
        "outputId": "16c28a60-8d04-4e45-c3bf-ede0bc830c0b",
        "colab": {
          "base_uri": "https://localhost:8080/",
          "height": 34
        }
      },
      "source": [
        "np.random.randint(5)"
      ],
      "execution_count": null,
      "outputs": [
        {
          "output_type": "execute_result",
          "data": {
            "text/plain": [
              "2"
            ]
          },
          "metadata": {
            "tags": []
          },
          "execution_count": 562
        }
      ]
    },
    {
      "cell_type": "code",
      "metadata": {
        "id": "edy-n-2Dt6Zw"
      },
      "source": [
        ""
      ],
      "execution_count": null,
      "outputs": []
    }
  ]
}