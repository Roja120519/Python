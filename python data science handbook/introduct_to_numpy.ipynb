{
  "nbformat": 4,
  "nbformat_minor": 0,
  "metadata": {
    "colab": {
      "name": "introduct_to_numpy.ipynb",
      "provenance": [],
      "authorship_tag": "ABX9TyPocqX8PGAp+E9QCGED8XXH",
      "include_colab_link": true
    },
    "kernelspec": {
      "name": "python3",
      "display_name": "Python 3"
    }
  },
  "cells": [
    {
      "cell_type": "markdown",
      "metadata": {
        "id": "view-in-github",
        "colab_type": "text"
      },
      "source": [
        "<a href=\"https://colab.research.google.com/github/Roja120519/Python/blob/master/python%20data%20science%20handbook/introduct_to_numpy.ipynb\" target=\"_parent\"><img src=\"https://colab.research.google.com/assets/colab-badge.svg\" alt=\"Open In Colab\"/></a>"
      ]
    },
    {
      "cell_type": "markdown",
      "metadata": {
        "id": "mEhBVtLicejI",
        "colab_type": "text"
      },
      "source": [
        "**Introduction to NumPy** "
      ]
    },
    {
      "cell_type": "markdown",
      "metadata": {
        "id": "7UNFKkW_arcF",
        "colab_type": "text"
      },
      "source": [
        "Techniques for effectively loading, stor‐ ing, and manipulating in-memory data in Python. The topic is very broad: datasets can come from a wide range of sources and a wide range of formats, including collec‐ tions of documents, collections of images, collections of sound clips, collections of numerical measurements, or nearly anything else. Despite this apparent heterogene‐ ity, it will help us to think of all data fundamentally as arrays of numbers"
      ]
    },
    {
      "cell_type": "markdown",
      "metadata": {
        "id": "aVhHQusfcD-B",
        "colab_type": "text"
      },
      "source": [
        "images—particularly digital images—can be thought of as simply two- dimensional arrays of numbers representing pixel brightness across the area. Sound clips can be thought of as one-dimensional arrays of intensity versus time. Text can be converted in various ways into numerical representations, perhaps binary digits rep‐ resenting the frequency of certain words or pairs of words. No matter what the data are, the first step in making them analyzable will be to transform them into arrays of numbers"
      ]
    },
    {
      "cell_type": "markdown",
      "metadata": {
        "id": "iBLbR5gRz7mU",
        "colab_type": "text"
      },
      "source": [
        "NumPy (short for Numerical Python) pro‐ vides an efficient interface to store and operate on dense data buffers. In some ways, NumPy arrays are like Python’s built-in list type, but NumPy arrays provide much more efficient storage and data operations as the arrays grow larger in size. NumPy arrays form the core of nearly the entire ecosystem of data science tools in Python, so time spent learning to use NumPy effectively will be valuable no matter what aspect of data science interests you."
      ]
    },
    {
      "cell_type": "code",
      "metadata": {
        "id": "WI2m-CM7bJUN",
        "colab_type": "code",
        "outputId": "591a61bd-eacd-420f-ea81-cf8553a3abfd",
        "colab": {
          "base_uri": "https://localhost:8080/",
          "height": 816
        }
      },
      "source": [
        "import numpy as np\n",
        "for i in dir(dir(np)):\n",
        "  print(i)"
      ],
      "execution_count": 4,
      "outputs": [
        {
          "output_type": "stream",
          "text": [
            "__add__\n",
            "__class__\n",
            "__contains__\n",
            "__delattr__\n",
            "__delitem__\n",
            "__dir__\n",
            "__doc__\n",
            "__eq__\n",
            "__format__\n",
            "__ge__\n",
            "__getattribute__\n",
            "__getitem__\n",
            "__gt__\n",
            "__hash__\n",
            "__iadd__\n",
            "__imul__\n",
            "__init__\n",
            "__init_subclass__\n",
            "__iter__\n",
            "__le__\n",
            "__len__\n",
            "__lt__\n",
            "__mul__\n",
            "__ne__\n",
            "__new__\n",
            "__reduce__\n",
            "__reduce_ex__\n",
            "__repr__\n",
            "__reversed__\n",
            "__rmul__\n",
            "__setattr__\n",
            "__setitem__\n",
            "__sizeof__\n",
            "__str__\n",
            "__subclasshook__\n",
            "append\n",
            "clear\n",
            "copy\n",
            "count\n",
            "extend\n",
            "index\n",
            "insert\n",
            "pop\n",
            "remove\n",
            "reverse\n",
            "sort\n"
          ],
          "name": "stdout"
        }
      ]
    },
    {
      "cell_type": "code",
      "metadata": {
        "id": "JTjSFeat0Onv",
        "colab_type": "code",
        "outputId": "149bc9d1-9ef6-4f9f-b90b-4e4eda45c8c5",
        "colab": {
          "base_uri": "https://localhost:8080/",
          "height": 34
        }
      },
      "source": [
        "np.__version__\n"
      ],
      "execution_count": 5,
      "outputs": [
        {
          "output_type": "execute_result",
          "data": {
            "text/plain": [
              "'1.18.2'"
            ]
          },
          "metadata": {
            "tags": []
          },
          "execution_count": 5
        }
      ]
    },
    {
      "cell_type": "code",
      "metadata": {
        "id": "0FguA7Ll0Sw7",
        "colab_type": "code",
        "colab": {}
      },
      "source": [
        "np?"
      ],
      "execution_count": 0,
      "outputs": []
    },
    {
      "cell_type": "markdown",
      "metadata": {
        "id": "FEjsqPPl14Q7",
        "colab_type": "text"
      },
      "source": [
        "**A Python List Is More Than Just a List**\n",
        "\n",
        "standard mutable multielement container in Python is the list."
      ]
    },
    {
      "cell_type": "code",
      "metadata": {
        "id": "i0gojxpc0hD9",
        "colab_type": "code",
        "outputId": "fef4a1eb-2b13-41eb-f98f-33ebcfeed6d8",
        "colab": {
          "base_uri": "https://localhost:8080/",
          "height": 34
        }
      },
      "source": [
        "l= list(range(5))\n",
        "l"
      ],
      "execution_count": 7,
      "outputs": [
        {
          "output_type": "execute_result",
          "data": {
            "text/plain": [
              "[0, 1, 2, 3, 4]"
            ]
          },
          "metadata": {
            "tags": []
          },
          "execution_count": 7
        }
      ]
    },
    {
      "cell_type": "code",
      "metadata": {
        "id": "r3ftRktJ869m",
        "colab_type": "code",
        "outputId": "888375a4-9986-48c3-99c4-ea367693e955",
        "colab": {
          "base_uri": "https://localhost:8080/",
          "height": 34
        }
      },
      "source": [
        "list(range(10, 20))"
      ],
      "execution_count": 8,
      "outputs": [
        {
          "output_type": "execute_result",
          "data": {
            "text/plain": [
              "[10, 11, 12, 13, 14, 15, 16, 17, 18, 19]"
            ]
          },
          "metadata": {
            "tags": []
          },
          "execution_count": 8
        }
      ]
    },
    {
      "cell_type": "code",
      "metadata": {
        "id": "LtYvvpGL9ALA",
        "colab_type": "code",
        "outputId": "b367a382-f362-4b6a-f2d7-3ceec312fac3",
        "colab": {
          "base_uri": "https://localhost:8080/",
          "height": 34
        }
      },
      "source": [
        "list(range(10, 20, 2))"
      ],
      "execution_count": 9,
      "outputs": [
        {
          "output_type": "execute_result",
          "data": {
            "text/plain": [
              "[10, 12, 14, 16, 18]"
            ]
          },
          "metadata": {
            "tags": []
          },
          "execution_count": 9
        }
      ]
    },
    {
      "cell_type": "code",
      "metadata": {
        "id": "cEBE0DwL2SB5",
        "colab_type": "code",
        "outputId": "35a7901a-9d65-46a8-b69d-a77559a36b2d",
        "colab": {
          "base_uri": "https://localhost:8080/",
          "height": 34
        }
      },
      "source": [
        "type(l)"
      ],
      "execution_count": 10,
      "outputs": [
        {
          "output_type": "execute_result",
          "data": {
            "text/plain": [
              "list"
            ]
          },
          "metadata": {
            "tags": []
          },
          "execution_count": 10
        }
      ]
    },
    {
      "cell_type": "code",
      "metadata": {
        "id": "iZJ5-0Du2e5P",
        "colab_type": "code",
        "outputId": "90c946b5-8074-49cc-a84a-e1b338f4752f",
        "colab": {
          "base_uri": "https://localhost:8080/",
          "height": 34
        }
      },
      "source": [
        "type(l[0])"
      ],
      "execution_count": 11,
      "outputs": [
        {
          "output_type": "execute_result",
          "data": {
            "text/plain": [
              "int"
            ]
          },
          "metadata": {
            "tags": []
          },
          "execution_count": 11
        }
      ]
    },
    {
      "cell_type": "code",
      "metadata": {
        "id": "QB988ZoR2gk1",
        "colab_type": "code",
        "outputId": "5d053e71-a8cd-4221-ad3c-a003e340145f",
        "colab": {
          "base_uri": "https://localhost:8080/",
          "height": 34
        }
      },
      "source": [
        "ll = [str(i) for i in l]\n",
        "ll"
      ],
      "execution_count": 12,
      "outputs": [
        {
          "output_type": "execute_result",
          "data": {
            "text/plain": [
              "['0', '1', '2', '3', '4']"
            ]
          },
          "metadata": {
            "tags": []
          },
          "execution_count": 12
        }
      ]
    },
    {
      "cell_type": "code",
      "metadata": {
        "id": "UcOOut_W2yC3",
        "colab_type": "code",
        "outputId": "8c4828cb-c949-4fa5-d477-e82f72256a98",
        "colab": {
          "base_uri": "https://localhost:8080/",
          "height": 52
        }
      },
      "source": [
        "print(\"type of ll: \", type(ll))\n",
        "print(\"type of ll[0]: \", type(ll[0]))"
      ],
      "execution_count": 13,
      "outputs": [
        {
          "output_type": "stream",
          "text": [
            "type of ll:  <class 'list'>\n",
            "type of ll[0]:  <class 'str'>\n"
          ],
          "name": "stdout"
        }
      ]
    },
    {
      "cell_type": "code",
      "metadata": {
        "id": "DXAbS3BI29FY",
        "colab_type": "code",
        "outputId": "6ce23212-3680-41a1-aa34-967ffabf828f",
        "colab": {
          "base_uri": "https://localhost:8080/",
          "height": 34
        }
      },
      "source": [
        "arr = [True, 0.00, 4.0, 5.5, 4, '123', 'lally']\n",
        "typesOfArr = []\n",
        "for i in arr:\n",
        "  typesOfArr.append(type(i))\n",
        "print(typesOfArr)"
      ],
      "execution_count": 14,
      "outputs": [
        {
          "output_type": "stream",
          "text": [
            "[<class 'bool'>, <class 'float'>, <class 'float'>, <class 'float'>, <class 'int'>, <class 'str'>, <class 'str'>]\n"
          ],
          "name": "stdout"
        }
      ]
    },
    {
      "cell_type": "markdown",
      "metadata": {
        "id": "lj046fKI4JtB",
        "colab_type": "text"
      },
      "source": [
        "**Creating Arrays from Python Lists**"
      ]
    },
    {
      "cell_type": "code",
      "metadata": {
        "id": "YkOXRc_X3h0c",
        "colab_type": "code",
        "outputId": "e5602934-b317-4e29-9862-b3a1edc2658c",
        "colab": {
          "base_uri": "https://localhost:8080/",
          "height": 69
        }
      },
      "source": [
        "arr = np.array(l)\n",
        "print(l)\n",
        "print(\"type of l: \", type(l))\n",
        "print(\"type of arr: \", type(arr))"
      ],
      "execution_count": 15,
      "outputs": [
        {
          "output_type": "stream",
          "text": [
            "[0, 1, 2, 3, 4]\n",
            "type of l:  <class 'list'>\n",
            "type of arr:  <class 'numpy.ndarray'>\n"
          ],
          "name": "stdout"
        }
      ]
    },
    {
      "cell_type": "markdown",
      "metadata": {
        "id": "Lw1PlJT45H1W",
        "colab_type": "text"
      },
      "source": [
        "**unlike Python lists, NumPy is constrained to arrays that all contain the same type. If types do not match, NumPy will upcast if possible**"
      ]
    },
    {
      "cell_type": "code",
      "metadata": {
        "id": "3PiLeN-Y4TBJ",
        "colab_type": "code",
        "outputId": "3c89d49f-3156-4e66-a364-086294a75e0d",
        "colab": {
          "base_uri": "https://localhost:8080/",
          "height": 34
        }
      },
      "source": [
        "arr = [1, 3, 5, 3.3, 6]\n",
        "np.array(arr)"
      ],
      "execution_count": 16,
      "outputs": [
        {
          "output_type": "execute_result",
          "data": {
            "text/plain": [
              "array([1. , 3. , 5. , 3.3, 6. ])"
            ]
          },
          "metadata": {
            "tags": []
          },
          "execution_count": 16
        }
      ]
    },
    {
      "cell_type": "code",
      "metadata": {
        "id": "YgfBZF3Z6LOf",
        "colab_type": "code",
        "outputId": "a0105314-3b1f-470b-85f9-61532502b2c3",
        "colab": {
          "base_uri": "https://localhost:8080/",
          "height": 34
        }
      },
      "source": [
        "arr = [True, 1.1, 3, 'roja']\n",
        "np.array(arr)"
      ],
      "execution_count": 17,
      "outputs": [
        {
          "output_type": "execute_result",
          "data": {
            "text/plain": [
              "array(['True', '1.1', '3', 'roja'], dtype='<U32')"
            ]
          },
          "metadata": {
            "tags": []
          },
          "execution_count": 17
        }
      ]
    },
    {
      "cell_type": "code",
      "metadata": {
        "id": "jeWhsOYQ6op9",
        "colab_type": "code",
        "outputId": "d850e8d2-fc3b-4c45-a34d-3e06dc8bee93",
        "colab": {
          "base_uri": "https://localhost:8080/",
          "height": 34
        }
      },
      "source": [
        "arr = [True, 1.1, 3]\n",
        "np.array(arr)"
      ],
      "execution_count": 18,
      "outputs": [
        {
          "output_type": "execute_result",
          "data": {
            "text/plain": [
              "array([1. , 1.1, 3. ])"
            ]
          },
          "metadata": {
            "tags": []
          },
          "execution_count": 18
        }
      ]
    },
    {
      "cell_type": "code",
      "metadata": {
        "id": "6tii67QF6_2Z",
        "colab_type": "code",
        "outputId": "2efd8cc2-1e7c-4850-ca7c-ea12e92e77e8",
        "colab": {
          "base_uri": "https://localhost:8080/",
          "height": 34
        }
      },
      "source": [
        "arr = [False, 1.1, 3]\n",
        "np.array(arr)"
      ],
      "execution_count": 19,
      "outputs": [
        {
          "output_type": "execute_result",
          "data": {
            "text/plain": [
              "array([0. , 1.1, 3. ])"
            ]
          },
          "metadata": {
            "tags": []
          },
          "execution_count": 19
        }
      ]
    },
    {
      "cell_type": "code",
      "metadata": {
        "id": "VRYbmMTq7Us1",
        "colab_type": "code",
        "outputId": "dba8376c-0481-425d-eac5-3811990145e6",
        "colab": {
          "base_uri": "https://localhost:8080/",
          "height": 34
        }
      },
      "source": [
        "arr = [True, False, True]\n",
        "np.array(arr)"
      ],
      "execution_count": 20,
      "outputs": [
        {
          "output_type": "execute_result",
          "data": {
            "text/plain": [
              "array([ True, False,  True])"
            ]
          },
          "metadata": {
            "tags": []
          },
          "execution_count": 20
        }
      ]
    },
    {
      "cell_type": "code",
      "metadata": {
        "id": "wdDjHsjt7iQf",
        "colab_type": "code",
        "outputId": "a91ae6ab-89d2-4495-c4ce-d703ef0841be",
        "colab": {
          "base_uri": "https://localhost:8080/",
          "height": 34
        }
      },
      "source": [
        "np.array([1, 2, 3, 4], dtype='float32')"
      ],
      "execution_count": 21,
      "outputs": [
        {
          "output_type": "execute_result",
          "data": {
            "text/plain": [
              "array([1., 2., 3., 4.], dtype=float32)"
            ]
          },
          "metadata": {
            "tags": []
          },
          "execution_count": 21
        }
      ]
    },
    {
      "cell_type": "code",
      "metadata": {
        "id": "lGzECKwM8QRL",
        "colab_type": "code",
        "outputId": "892d64f1-a476-476d-e13f-1f4bbdecc389",
        "colab": {
          "base_uri": "https://localhost:8080/",
          "height": 34
        }
      },
      "source": [
        "np.array([1, 2, 3, 4], dtype='float64')"
      ],
      "execution_count": 22,
      "outputs": [
        {
          "output_type": "execute_result",
          "data": {
            "text/plain": [
              "array([1., 2., 3., 4.])"
            ]
          },
          "metadata": {
            "tags": []
          },
          "execution_count": 22
        }
      ]
    },
    {
      "cell_type": "markdown",
      "metadata": {
        "id": "or8V299V9aWs",
        "colab_type": "text"
      },
      "source": [
        "**Multidimensional array**"
      ]
    },
    {
      "cell_type": "code",
      "metadata": {
        "id": "TxwnFQti8TwE",
        "colab_type": "code",
        "outputId": "a649486a-aec2-467c-b3d6-6841b2b2fc90",
        "colab": {
          "base_uri": "https://localhost:8080/",
          "height": 34
        }
      },
      "source": [
        "list([range(i, i+20, 2) for i in [1,2,3]])"
      ],
      "execution_count": 23,
      "outputs": [
        {
          "output_type": "execute_result",
          "data": {
            "text/plain": [
              "[range(1, 21, 2), range(2, 22, 2), range(3, 23, 2)]"
            ]
          },
          "metadata": {
            "tags": []
          },
          "execution_count": 23
        }
      ]
    },
    {
      "cell_type": "code",
      "metadata": {
        "id": "9QPe7OwN8WoQ",
        "colab_type": "code",
        "outputId": "9dbf389c-eb1b-4276-a81f-43ea6dc84017",
        "colab": {
          "base_uri": "https://localhost:8080/",
          "height": 69
        }
      },
      "source": [
        "np.array([range(i, i + 10, 2) for i in [1, 2, 3]])"
      ],
      "execution_count": 24,
      "outputs": [
        {
          "output_type": "execute_result",
          "data": {
            "text/plain": [
              "array([[ 1,  3,  5,  7,  9],\n",
              "       [ 2,  4,  6,  8, 10],\n",
              "       [ 3,  5,  7,  9, 11]])"
            ]
          },
          "metadata": {
            "tags": []
          },
          "execution_count": 24
        }
      ]
    },
    {
      "cell_type": "markdown",
      "metadata": {
        "id": "V6dmDCBB-NWZ",
        "colab_type": "text"
      },
      "source": [
        "**Creating Arrays from Scratch**"
      ]
    },
    {
      "cell_type": "code",
      "metadata": {
        "id": "mHSj4mki95AB",
        "colab_type": "code",
        "outputId": "ff1e343c-4e4c-4a19-8f88-d183853f7479",
        "colab": {
          "base_uri": "https://localhost:8080/",
          "height": 34
        }
      },
      "source": [
        "np.zeros(10)"
      ],
      "execution_count": 25,
      "outputs": [
        {
          "output_type": "execute_result",
          "data": {
            "text/plain": [
              "array([0., 0., 0., 0., 0., 0., 0., 0., 0., 0.])"
            ]
          },
          "metadata": {
            "tags": []
          },
          "execution_count": 25
        }
      ]
    },
    {
      "cell_type": "code",
      "metadata": {
        "id": "By-lW_Lw-Yy9",
        "colab_type": "code",
        "outputId": "00e2c8be-6496-4d5d-e328-67b9588437cf",
        "colab": {
          "base_uri": "https://localhost:8080/",
          "height": 34
        }
      },
      "source": [
        "np.zeros(10, dtype=int)"
      ],
      "execution_count": 26,
      "outputs": [
        {
          "output_type": "execute_result",
          "data": {
            "text/plain": [
              "array([0, 0, 0, 0, 0, 0, 0, 0, 0, 0])"
            ]
          },
          "metadata": {
            "tags": []
          },
          "execution_count": 26
        }
      ]
    },
    {
      "cell_type": "code",
      "metadata": {
        "id": "TnO5YY5Z-eik",
        "colab_type": "code",
        "outputId": "5293aff9-6403-4175-89ba-5a329c3fce46",
        "colab": {
          "base_uri": "https://localhost:8080/",
          "height": 52
        }
      },
      "source": [
        "np.zeros((2,5), dtype=float)"
      ],
      "execution_count": 27,
      "outputs": [
        {
          "output_type": "execute_result",
          "data": {
            "text/plain": [
              "array([[0., 0., 0., 0., 0.],\n",
              "       [0., 0., 0., 0., 0.]])"
            ]
          },
          "metadata": {
            "tags": []
          },
          "execution_count": 27
        }
      ]
    },
    {
      "cell_type": "markdown",
      "metadata": {
        "id": "8nZEMvyx-qzh",
        "colab_type": "text"
      },
      "source": [
        "Creating an array with dimentions 2 x 4 value as 10"
      ]
    },
    {
      "cell_type": "code",
      "metadata": {
        "id": "pUh2l1UB-md8",
        "colab_type": "code",
        "outputId": "f54dee76-99a1-4a0b-ca41-8e8f55970a7e",
        "colab": {
          "base_uri": "https://localhost:8080/",
          "height": 52
        }
      },
      "source": [
        "np.full((2,4), 10)"
      ],
      "execution_count": 28,
      "outputs": [
        {
          "output_type": "execute_result",
          "data": {
            "text/plain": [
              "array([[10, 10, 10, 10],\n",
              "       [10, 10, 10, 10]])"
            ]
          },
          "metadata": {
            "tags": []
          },
          "execution_count": 28
        }
      ]
    },
    {
      "cell_type": "markdown",
      "metadata": {
        "id": "Yz4SK14i_HOy",
        "colab_type": "text"
      },
      "source": [
        "\n",
        "\n",
        "\n",
        "*   Create an array filled with a linear sequence\n",
        "*   Starting at 100, ending at 150, stepping by 2\n",
        "\n"
      ]
    },
    {
      "cell_type": "code",
      "metadata": {
        "id": "JLshAV9N-66J",
        "colab_type": "code",
        "outputId": "3122b7eb-d174-477a-f35f-51639b36cf96",
        "colab": {
          "base_uri": "https://localhost:8080/",
          "height": 52
        }
      },
      "source": [
        "np.arange(100, 150, 2)"
      ],
      "execution_count": 29,
      "outputs": [
        {
          "output_type": "execute_result",
          "data": {
            "text/plain": [
              "array([100, 102, 104, 106, 108, 110, 112, 114, 116, 118, 120, 122, 124,\n",
              "       126, 128, 130, 132, 134, 136, 138, 140, 142, 144, 146, 148])"
            ]
          },
          "metadata": {
            "tags": []
          },
          "execution_count": 29
        }
      ]
    },
    {
      "cell_type": "markdown",
      "metadata": {
        "id": "ISmLITo9_eAu",
        "colab_type": "text"
      },
      "source": [
        "**Create an array of five values evenly spaced between 0 and 1**"
      ]
    },
    {
      "cell_type": "code",
      "metadata": {
        "id": "OmLZfeq3_Ym7",
        "colab_type": "code",
        "outputId": "3998c3ff-5860-4deb-d4f5-1bf025e53271",
        "colab": {
          "base_uri": "https://localhost:8080/",
          "height": 86
        }
      },
      "source": [
        "np.linspace(10, 20, 20)"
      ],
      "execution_count": 30,
      "outputs": [
        {
          "output_type": "execute_result",
          "data": {
            "text/plain": [
              "array([10.        , 10.52631579, 11.05263158, 11.57894737, 12.10526316,\n",
              "       12.63157895, 13.15789474, 13.68421053, 14.21052632, 14.73684211,\n",
              "       15.26315789, 15.78947368, 16.31578947, 16.84210526, 17.36842105,\n",
              "       17.89473684, 18.42105263, 18.94736842, 19.47368421, 20.        ])"
            ]
          },
          "metadata": {
            "tags": []
          },
          "execution_count": 30
        }
      ]
    },
    {
      "cell_type": "markdown",
      "metadata": {
        "id": "eLX9SDNE_625",
        "colab_type": "text"
      },
      "source": [
        "Create a 3x3 array of uniformly distributed\n",
        "\n",
        "random values between 0 and 1"
      ]
    },
    {
      "cell_type": "code",
      "metadata": {
        "id": "iknxuo4Y_ndI",
        "colab_type": "code",
        "outputId": "0a190155-046d-40dc-b498-b4a5ef9c5863",
        "colab": {
          "base_uri": "https://localhost:8080/",
          "height": 69
        }
      },
      "source": [
        "np.random.random((3,3))"
      ],
      "execution_count": 31,
      "outputs": [
        {
          "output_type": "execute_result",
          "data": {
            "text/plain": [
              "array([[0.73623177, 0.8378417 , 0.55621292],\n",
              "       [0.99170019, 0.33838039, 0.97012538],\n",
              "       [0.92038782, 0.89574433, 0.61610311]])"
            ]
          },
          "metadata": {
            "tags": []
          },
          "execution_count": 31
        }
      ]
    },
    {
      "cell_type": "markdown",
      "metadata": {
        "id": "OPPvH7FTXfSW",
        "colab_type": "text"
      },
      "source": [
        "Create a 3x3 array of normally distributed random values\n",
        "\n",
        "with mean 0 and standard deviation 1"
      ]
    },
    {
      "cell_type": "code",
      "metadata": {
        "id": "OKTaWbTLW11p",
        "colab_type": "code",
        "outputId": "ed6d1350-df6c-4d25-ae5e-36be7ac32ca4",
        "colab": {
          "base_uri": "https://localhost:8080/",
          "height": 69
        }
      },
      "source": [
        "np.random.normal(0, 1, (3,3))"
      ],
      "execution_count": 32,
      "outputs": [
        {
          "output_type": "execute_result",
          "data": {
            "text/plain": [
              "array([[-0.82692203,  0.1094903 ,  0.83458881],\n",
              "       [ 1.10715128,  0.01939694, -0.51203134],\n",
              "       [ 2.38939959,  1.04365868,  0.94505928]])"
            ]
          },
          "metadata": {
            "tags": []
          },
          "execution_count": 32
        }
      ]
    },
    {
      "cell_type": "code",
      "metadata": {
        "id": "r8tJgpNeXll5",
        "colab_type": "code",
        "outputId": "697249a5-9db9-4498-df85-262fcdf2c6cf",
        "colab": {
          "base_uri": "https://localhost:8080/",
          "height": 34
        }
      },
      "source": [
        "np.random.randint(1,10)"
      ],
      "execution_count": 33,
      "outputs": [
        {
          "output_type": "execute_result",
          "data": {
            "text/plain": [
              "8"
            ]
          },
          "metadata": {
            "tags": []
          },
          "execution_count": 33
        }
      ]
    },
    {
      "cell_type": "code",
      "metadata": {
        "id": "Big2ELtzX2cQ",
        "colab_type": "code",
        "outputId": "efaea557-016a-4206-937d-56b1c72ddcb0",
        "colab": {
          "base_uri": "https://localhost:8080/",
          "height": 52
        }
      },
      "source": [
        "np.random.randn(1, 10)"
      ],
      "execution_count": 34,
      "outputs": [
        {
          "output_type": "execute_result",
          "data": {
            "text/plain": [
              "array([[-1.81630576,  0.07822885,  0.33436927, -1.6527226 ,  1.53081136,\n",
              "        -0.13997411, -1.95176206, -0.52507783, -1.31144593,  0.39252462]])"
            ]
          },
          "metadata": {
            "tags": []
          },
          "execution_count": 34
        }
      ]
    },
    {
      "cell_type": "markdown",
      "metadata": {
        "id": "sdG59KBRYccP",
        "colab_type": "text"
      },
      "source": [
        "create a 3x3 array of random integers in the interval [0, 10]"
      ]
    },
    {
      "cell_type": "code",
      "metadata": {
        "id": "bKKNUk4HYOzj",
        "colab_type": "code",
        "outputId": "99b16dba-d312-46a6-821e-24cf9bca288b",
        "colab": {
          "base_uri": "https://localhost:8080/",
          "height": 69
        }
      },
      "source": [
        "np.random.randint(0, 10, (3,3))"
      ],
      "execution_count": 35,
      "outputs": [
        {
          "output_type": "execute_result",
          "data": {
            "text/plain": [
              "array([[6, 2, 3],\n",
              "       [5, 6, 8],\n",
              "       [3, 4, 8]])"
            ]
          },
          "metadata": {
            "tags": []
          },
          "execution_count": 35
        }
      ]
    },
    {
      "cell_type": "markdown",
      "metadata": {
        "id": "F20G4Q9RYseJ",
        "colab_type": "text"
      },
      "source": [
        "Create a 3x3 identity matrix"
      ]
    },
    {
      "cell_type": "code",
      "metadata": {
        "id": "SpBY6ABHYipz",
        "colab_type": "code",
        "outputId": "2cb79699-fb1b-490c-8027-d7454b5e05ab",
        "colab": {
          "base_uri": "https://localhost:8080/",
          "height": 69
        }
      },
      "source": [
        "np.eye(3)"
      ],
      "execution_count": 36,
      "outputs": [
        {
          "output_type": "execute_result",
          "data": {
            "text/plain": [
              "array([[1., 0., 0.],\n",
              "       [0., 1., 0.],\n",
              "       [0., 0., 1.]])"
            ]
          },
          "metadata": {
            "tags": []
          },
          "execution_count": 36
        }
      ]
    },
    {
      "cell_type": "code",
      "metadata": {
        "id": "4WS_TEU-YvM5",
        "colab_type": "code",
        "outputId": "06fa6d33-fd79-4b3f-e438-305c6a1936f7",
        "colab": {
          "base_uri": "https://localhost:8080/",
          "height": 104
        }
      },
      "source": [
        "np.eye(5)"
      ],
      "execution_count": 37,
      "outputs": [
        {
          "output_type": "execute_result",
          "data": {
            "text/plain": [
              "array([[1., 0., 0., 0., 0.],\n",
              "       [0., 1., 0., 0., 0.],\n",
              "       [0., 0., 1., 0., 0.],\n",
              "       [0., 0., 0., 1., 0.],\n",
              "       [0., 0., 0., 0., 1.]])"
            ]
          },
          "metadata": {
            "tags": []
          },
          "execution_count": 37
        }
      ]
    },
    {
      "cell_type": "markdown",
      "metadata": {
        "id": "sd3nXUQPZBWM",
        "colab_type": "text"
      },
      "source": [
        "Create an uninitialized array of three integers\n",
        "\n",
        "The values will be whatever happens to already exist at that memory location"
      ]
    },
    {
      "cell_type": "code",
      "metadata": {
        "id": "iZ8xEnB7Y11A",
        "colab_type": "code",
        "outputId": "fc94b15a-a616-4399-f044-e4ed15d3c8e8",
        "colab": {
          "base_uri": "https://localhost:8080/",
          "height": 34
        }
      },
      "source": [
        "np.empty((3))"
      ],
      "execution_count": 38,
      "outputs": [
        {
          "output_type": "execute_result",
          "data": {
            "text/plain": [
              "array([1., 1., 1.])"
            ]
          },
          "metadata": {
            "tags": []
          },
          "execution_count": 38
        }
      ]
    },
    {
      "cell_type": "code",
      "metadata": {
        "id": "VxoVXnoHZGMA",
        "colab_type": "code",
        "outputId": "dff56893-f83a-4c5e-f7eb-80ea4a62a4ae",
        "colab": {
          "base_uri": "https://localhost:8080/",
          "height": 69
        }
      },
      "source": [
        "np.empty((3,2))"
      ],
      "execution_count": 39,
      "outputs": [
        {
          "output_type": "execute_result",
          "data": {
            "text/plain": [
              "array([[1.7172117e-316, 0.0000000e+000],\n",
              "       [0.0000000e+000, 0.0000000e+000],\n",
              "       [0.0000000e+000, 0.0000000e+000]])"
            ]
          },
          "metadata": {
            "tags": []
          },
          "execution_count": 39
        }
      ]
    },
    {
      "cell_type": "code",
      "metadata": {
        "id": "elLyzIuoZJl3",
        "colab_type": "code",
        "outputId": "7a9ab8e5-54fe-4779-cc1d-7d56626c810d",
        "colab": {
          "base_uri": "https://localhost:8080/",
          "height": 34
        }
      },
      "source": [
        "np.empty(2)"
      ],
      "execution_count": 40,
      "outputs": [
        {
          "output_type": "execute_result",
          "data": {
            "text/plain": [
              "array([1.5e-323, 1.5e-323])"
            ]
          },
          "metadata": {
            "tags": []
          },
          "execution_count": 40
        }
      ]
    },
    {
      "cell_type": "code",
      "metadata": {
        "id": "YMNshCcxZT9b",
        "colab_type": "code",
        "outputId": "5e642b6e-c087-45cc-e356-a2934b47b4b1",
        "colab": {
          "base_uri": "https://localhost:8080/",
          "height": 34
        }
      },
      "source": [
        "np.empty(1)"
      ],
      "execution_count": 41,
      "outputs": [
        {
          "output_type": "execute_result",
          "data": {
            "text/plain": [
              "array([1.5e-323])"
            ]
          },
          "metadata": {
            "tags": []
          },
          "execution_count": 41
        }
      ]
    },
    {
      "cell_type": "code",
      "metadata": {
        "id": "0wY_FsKnZY5v",
        "colab_type": "code",
        "outputId": "e6d44c0f-bbde-4c3a-9a3b-a36c37cdc5c3",
        "colab": {
          "base_uri": "https://localhost:8080/",
          "height": 52
        }
      },
      "source": [
        "np.empty((2,1))"
      ],
      "execution_count": 42,
      "outputs": [
        {
          "output_type": "execute_result",
          "data": {
            "text/plain": [
              "array([[1.5e-323],\n",
              "       [1.5e-323]])"
            ]
          },
          "metadata": {
            "tags": []
          },
          "execution_count": 42
        }
      ]
    },
    {
      "cell_type": "code",
      "metadata": {
        "id": "WVqOPy6uZbQi",
        "colab_type": "code",
        "outputId": "4cce03d4-d21b-4a1f-eb6b-32739defff6b",
        "colab": {
          "base_uri": "https://localhost:8080/",
          "height": 34
        }
      },
      "source": [
        "np.ones(10, dtype='int16')"
      ],
      "execution_count": 43,
      "outputs": [
        {
          "output_type": "execute_result",
          "data": {
            "text/plain": [
              "array([1, 1, 1, 1, 1, 1, 1, 1, 1, 1], dtype=int16)"
            ]
          },
          "metadata": {
            "tags": []
          },
          "execution_count": 43
        }
      ]
    },
    {
      "cell_type": "code",
      "metadata": {
        "id": "sy5S4dezZtYV",
        "colab_type": "code",
        "outputId": "d786fffe-1cdb-4c40-d994-afed64b84aab",
        "colab": {
          "base_uri": "https://localhost:8080/",
          "height": 34
        }
      },
      "source": [
        "np.zeros(10, dtype='float32')"
      ],
      "execution_count": 44,
      "outputs": [
        {
          "output_type": "execute_result",
          "data": {
            "text/plain": [
              "array([0., 0., 0., 0., 0., 0., 0., 0., 0., 0.], dtype=float32)"
            ]
          },
          "metadata": {
            "tags": []
          },
          "execution_count": 44
        }
      ]
    },
    {
      "cell_type": "markdown",
      "metadata": {
        "id": "VWqr76xnaGcN",
        "colab_type": "text"
      },
      "source": [
        "**Basics of NumPy Arrays**"
      ]
    },
    {
      "cell_type": "markdown",
      "metadata": {
        "id": "t5g6ARyWaQTn",
        "colab_type": "text"
      },
      "source": [
        "**Attributes of arrays**\n",
        "\n",
        "*   size\n",
        "*   shape\n",
        "*   memory consumption\n",
        "*   data types of arrays\n",
        "\n",
        "**Indexing of arrays**\n",
        "\n",
        "* Getting and setting the value of individual array elements\n",
        "\n",
        "**Slicing of arrays**\n",
        "\n",
        "* Getting and setting smaller subarrays within a larger array\n",
        "\n",
        "**Reshaping of arrays**\n",
        "\n",
        "* Changing the shape of a given array\n",
        "\n",
        "**Joining and splitting of arrays**\n",
        "\n",
        "* Combining multiple arrays into one, and splitting one array into many\n",
        "\n",
        "\n",
        "\n",
        "\n"
      ]
    },
    {
      "cell_type": "markdown",
      "metadata": {
        "id": "IqBXZZWjbl-n",
        "colab_type": "text"
      },
      "source": [
        "NumPy’s random number generator, which we will seed with a set value in order to ensure that the same random arrays are generated each time this code is run"
      ]
    },
    {
      "cell_type": "code",
      "metadata": {
        "id": "_sDN4rudZyd-",
        "colab_type": "code",
        "outputId": "30f34818-fdb9-4534-b996-f8fe6f40c22f",
        "colab": {
          "base_uri": "https://localhost:8080/",
          "height": 243
        }
      },
      "source": [
        "np.random.seed(0)\n",
        "x = np.random.randint(10, size=(6))\n",
        "print(\"x: \\n\", x)\n",
        "\n",
        "y = np.random.randint(100.0, size=(2,3))\n",
        "print(\"\\ny: \\n\", y)\n",
        "\n",
        "z = np.random.randint(100, size=(2,2,3))\n",
        "print(\"\\nz: \\n\", z)"
      ],
      "execution_count": 45,
      "outputs": [
        {
          "output_type": "stream",
          "text": [
            "x: \n",
            " [5 0 3 3 7 9]\n",
            "\n",
            "y: \n",
            " [[83 21 36]\n",
            " [87 70 88]]\n",
            "\n",
            "z: \n",
            " [[[88 12 58]\n",
            "  [65 39 87]]\n",
            "\n",
            " [[46 88 81]\n",
            "  [37 25 77]]]\n"
          ],
          "name": "stdout"
        }
      ]
    },
    {
      "cell_type": "markdown",
      "metadata": {
        "id": "JHl0bNZ2eCnI",
        "colab_type": "text"
      },
      "source": [
        "itemsize , which lists the size (in bytes) of each array element\n",
        "\n",
        "nbytes , which lists the total size (in bytes) of the array"
      ]
    },
    {
      "cell_type": "code",
      "metadata": {
        "id": "UJwK58FsbWcW",
        "colab_type": "code",
        "outputId": "0a0ee85b-2028-480f-cd93-98279373bfc0",
        "colab": {
          "base_uri": "https://localhost:8080/",
          "height": 364
        }
      },
      "source": [
        "print(\"shape of x: \", x.shape)\n",
        "print(\"dimentions of x: \", x.ndim)\n",
        "print(\"size of x: \", x.size)\n",
        "print(\"data type of x\", x.dtype)\n",
        "print(\"itemsize of x: \", x.itemsize)\n",
        "print(\"nbytes of x: \", x.nbytes)\n",
        "\n",
        "print()\n",
        "\n",
        "print(\"shape of y: \", y.shape)\n",
        "print(\"dimentions of y: \", y.ndim)\n",
        "print(\"size of y: \", y.size)\n",
        "print(\"data type of y: \", y.dtype)\n",
        "print(\"itemsize of y: \", y.itemsize)\n",
        "print(\"nbytes of y: \", y.nbytes)\n",
        "\n",
        "print()\n",
        "\n",
        "print(\"shape of z: \", z.shape)\n",
        "print(\"dimentions of z:\", z.ndim)\n",
        "print(\"size of z: \", z.size)\n",
        "print(\"Data type of z: \", z.dtype)\n",
        "print(\"itemsize of z: \", z.itemsize)\n",
        "print(\"nbytes of z: \", z.nbytes)"
      ],
      "execution_count": 46,
      "outputs": [
        {
          "output_type": "stream",
          "text": [
            "shape of x:  (6,)\n",
            "dimentions of x:  1\n",
            "size of x:  6\n",
            "data type of x int64\n",
            "itemsize of x:  8\n",
            "nbytes of x:  48\n",
            "\n",
            "shape of y:  (2, 3)\n",
            "dimentions of y:  2\n",
            "size of y:  6\n",
            "data type of y:  int64\n",
            "itemsize of y:  8\n",
            "nbytes of y:  48\n",
            "\n",
            "shape of z:  (2, 2, 3)\n",
            "dimentions of z: 3\n",
            "size of z:  12\n",
            "Data type of z:  int64\n",
            "itemsize of z:  8\n",
            "nbytes of z:  96\n"
          ],
          "name": "stdout"
        }
      ]
    },
    {
      "cell_type": "markdown",
      "metadata": {
        "id": "EPQp7yvOenWC",
        "colab_type": "text"
      },
      "source": [
        "**Array Indexing: Accessing Single Elements**"
      ]
    },
    {
      "cell_type": "code",
      "metadata": {
        "id": "nDatfzU8dAI8",
        "colab_type": "code",
        "outputId": "3b1c8574-e023-4932-b777-258b58297f62",
        "colab": {
          "base_uri": "https://localhost:8080/",
          "height": 34
        }
      },
      "source": [
        "print(x)"
      ],
      "execution_count": 47,
      "outputs": [
        {
          "output_type": "stream",
          "text": [
            "[5 0 3 3 7 9]\n"
          ],
          "name": "stdout"
        }
      ]
    },
    {
      "cell_type": "code",
      "metadata": {
        "id": "SEUC3gePeyEM",
        "colab_type": "code",
        "outputId": "a629a609-9239-47a6-cee9-c10702c07366",
        "colab": {
          "base_uri": "https://localhost:8080/",
          "height": 34
        }
      },
      "source": [
        "x[0]"
      ],
      "execution_count": 48,
      "outputs": [
        {
          "output_type": "execute_result",
          "data": {
            "text/plain": [
              "5"
            ]
          },
          "metadata": {
            "tags": []
          },
          "execution_count": 48
        }
      ]
    },
    {
      "cell_type": "code",
      "metadata": {
        "id": "pQeQPxGWezw9",
        "colab_type": "code",
        "outputId": "1e83a9a8-facb-4b51-a2d6-3076e8ea6e21",
        "colab": {
          "base_uri": "https://localhost:8080/",
          "height": 34
        }
      },
      "source": [
        "x[len(x)-1]"
      ],
      "execution_count": 49,
      "outputs": [
        {
          "output_type": "execute_result",
          "data": {
            "text/plain": [
              "9"
            ]
          },
          "metadata": {
            "tags": []
          },
          "execution_count": 49
        }
      ]
    },
    {
      "cell_type": "code",
      "metadata": {
        "id": "1oBsEgAre2L2",
        "colab_type": "code",
        "outputId": "06f4de61-1635-4a6b-8ce5-b73fe8ec87b9",
        "colab": {
          "base_uri": "https://localhost:8080/",
          "height": 34
        }
      },
      "source": [
        "x[-1]"
      ],
      "execution_count": 50,
      "outputs": [
        {
          "output_type": "execute_result",
          "data": {
            "text/plain": [
              "9"
            ]
          },
          "metadata": {
            "tags": []
          },
          "execution_count": 50
        }
      ]
    },
    {
      "cell_type": "code",
      "metadata": {
        "id": "HDlL8ui5fFYI",
        "colab_type": "code",
        "outputId": "7930d22a-9487-470f-b1eb-704bc3cf1045",
        "colab": {
          "base_uri": "https://localhost:8080/",
          "height": 34
        }
      },
      "source": [
        "x[-3]"
      ],
      "execution_count": 51,
      "outputs": [
        {
          "output_type": "execute_result",
          "data": {
            "text/plain": [
              "3"
            ]
          },
          "metadata": {
            "tags": []
          },
          "execution_count": 51
        }
      ]
    },
    {
      "cell_type": "code",
      "metadata": {
        "id": "yXGdbJ59fOr-",
        "colab_type": "code",
        "outputId": "c10e49f3-c4a0-41a4-e88c-43e757f96b27",
        "colab": {
          "base_uri": "https://localhost:8080/",
          "height": 34
        }
      },
      "source": [
        "x[3]"
      ],
      "execution_count": 52,
      "outputs": [
        {
          "output_type": "execute_result",
          "data": {
            "text/plain": [
              "3"
            ]
          },
          "metadata": {
            "tags": []
          },
          "execution_count": 52
        }
      ]
    },
    {
      "cell_type": "code",
      "metadata": {
        "id": "Q-A9X3enfQWy",
        "colab_type": "code",
        "outputId": "b31bf0e3-deec-4a16-f256-2b8561a1a5e2",
        "colab": {
          "base_uri": "https://localhost:8080/",
          "height": 52
        }
      },
      "source": [
        "print(y)"
      ],
      "execution_count": 53,
      "outputs": [
        {
          "output_type": "stream",
          "text": [
            "[[83 21 36]\n",
            " [87 70 88]]\n"
          ],
          "name": "stdout"
        }
      ]
    },
    {
      "cell_type": "code",
      "metadata": {
        "id": "b-Yb0CItfUVZ",
        "colab_type": "code",
        "outputId": "aeb25be3-cc12-4866-9a99-85e218e215b9",
        "colab": {
          "base_uri": "https://localhost:8080/",
          "height": 34
        }
      },
      "source": [
        "y[0,1]"
      ],
      "execution_count": 54,
      "outputs": [
        {
          "output_type": "execute_result",
          "data": {
            "text/plain": [
              "21"
            ]
          },
          "metadata": {
            "tags": []
          },
          "execution_count": 54
        }
      ]
    },
    {
      "cell_type": "code",
      "metadata": {
        "id": "Wwm6hZc-fWrS",
        "colab_type": "code",
        "outputId": "b63e4c00-f320-4e3e-d6f6-0b3f913fb2ba",
        "colab": {
          "base_uri": "https://localhost:8080/",
          "height": 34
        }
      },
      "source": [
        "y[-1,-1]"
      ],
      "execution_count": 55,
      "outputs": [
        {
          "output_type": "execute_result",
          "data": {
            "text/plain": [
              "88"
            ]
          },
          "metadata": {
            "tags": []
          },
          "execution_count": 55
        }
      ]
    },
    {
      "cell_type": "code",
      "metadata": {
        "id": "gYaQWCB1fkUw",
        "colab_type": "code",
        "outputId": "c577401c-fc50-4b6c-8f67-68a9fe7461d8",
        "colab": {
          "base_uri": "https://localhost:8080/",
          "height": 34
        }
      },
      "source": [
        "y[len(y)-1, len(y[0])-2]"
      ],
      "execution_count": 56,
      "outputs": [
        {
          "output_type": "execute_result",
          "data": {
            "text/plain": [
              "70"
            ]
          },
          "metadata": {
            "tags": []
          },
          "execution_count": 56
        }
      ]
    },
    {
      "cell_type": "code",
      "metadata": {
        "id": "8OKB3Yz9fuv5",
        "colab_type": "code",
        "colab": {}
      },
      "source": [
        "y[0] = 32"
      ],
      "execution_count": 0,
      "outputs": []
    },
    {
      "cell_type": "code",
      "metadata": {
        "id": "Ik-hngnQf-e4",
        "colab_type": "code",
        "outputId": "716c081d-07e1-4c95-b2fc-c300c320db95",
        "colab": {
          "base_uri": "https://localhost:8080/",
          "height": 34
        }
      },
      "source": [
        "y[0]"
      ],
      "execution_count": 58,
      "outputs": [
        {
          "output_type": "execute_result",
          "data": {
            "text/plain": [
              "array([32, 32, 32])"
            ]
          },
          "metadata": {
            "tags": []
          },
          "execution_count": 58
        }
      ]
    },
    {
      "cell_type": "code",
      "metadata": {
        "id": "EO2H9eRNf_LI",
        "colab_type": "code",
        "colab": {}
      },
      "source": [
        "y[0]= [32,12,3]"
      ],
      "execution_count": 0,
      "outputs": []
    },
    {
      "cell_type": "code",
      "metadata": {
        "id": "tddecfuhgFu5",
        "colab_type": "code",
        "outputId": "97a30e27-0bd0-4992-bf55-b4c24097ca5a",
        "colab": {
          "base_uri": "https://localhost:8080/",
          "height": 52
        }
      },
      "source": [
        "y"
      ],
      "execution_count": 60,
      "outputs": [
        {
          "output_type": "execute_result",
          "data": {
            "text/plain": [
              "array([[32, 12,  3],\n",
              "       [87, 70, 88]])"
            ]
          },
          "metadata": {
            "tags": []
          },
          "execution_count": 60
        }
      ]
    },
    {
      "cell_type": "markdown",
      "metadata": {
        "id": "HN-TTjjLg6zk",
        "colab_type": "text"
      },
      "source": [
        "**Array Slicing: Accessing Subarrays**"
      ]
    },
    {
      "cell_type": "code",
      "metadata": {
        "id": "eXJ5GUVAgJQB",
        "colab_type": "code",
        "outputId": "367d54b0-d94e-49a9-e03c-94006e826eed",
        "colab": {
          "base_uri": "https://localhost:8080/",
          "height": 34
        }
      },
      "source": [
        "a=np.arange(10)\n",
        "a"
      ],
      "execution_count": 61,
      "outputs": [
        {
          "output_type": "execute_result",
          "data": {
            "text/plain": [
              "array([0, 1, 2, 3, 4, 5, 6, 7, 8, 9])"
            ]
          },
          "metadata": {
            "tags": []
          },
          "execution_count": 61
        }
      ]
    },
    {
      "cell_type": "code",
      "metadata": {
        "id": "HPYEEL3zhBFQ",
        "colab_type": "code",
        "outputId": "832dd565-f097-400c-9c1b-0dbcd9216ac6",
        "colab": {
          "base_uri": "https://localhost:8080/",
          "height": 34
        }
      },
      "source": [
        "a[:3]"
      ],
      "execution_count": 62,
      "outputs": [
        {
          "output_type": "execute_result",
          "data": {
            "text/plain": [
              "array([0, 1, 2])"
            ]
          },
          "metadata": {
            "tags": []
          },
          "execution_count": 62
        }
      ]
    },
    {
      "cell_type": "code",
      "metadata": {
        "id": "dVasE-b_hjfp",
        "colab_type": "code",
        "outputId": "146fc8f1-2de6-4672-e3b8-915851adc238",
        "colab": {
          "base_uri": "https://localhost:8080/",
          "height": 34
        }
      },
      "source": [
        "a[:]"
      ],
      "execution_count": 63,
      "outputs": [
        {
          "output_type": "execute_result",
          "data": {
            "text/plain": [
              "array([0, 1, 2, 3, 4, 5, 6, 7, 8, 9])"
            ]
          },
          "metadata": {
            "tags": []
          },
          "execution_count": 63
        }
      ]
    },
    {
      "cell_type": "code",
      "metadata": {
        "id": "ZfsLkvglhl9U",
        "colab_type": "code",
        "outputId": "fa283ba2-b8b6-4ea8-cf47-374626d386b3",
        "colab": {
          "base_uri": "https://localhost:8080/",
          "height": 34
        }
      },
      "source": [
        "a[:6]"
      ],
      "execution_count": 64,
      "outputs": [
        {
          "output_type": "execute_result",
          "data": {
            "text/plain": [
              "array([0, 1, 2, 3, 4, 5])"
            ]
          },
          "metadata": {
            "tags": []
          },
          "execution_count": 64
        }
      ]
    },
    {
      "cell_type": "code",
      "metadata": {
        "id": "cQJPoq3lhHxX",
        "colab_type": "code",
        "outputId": "9ddd36aa-73b5-475d-8625-e2a586240bef",
        "colab": {
          "base_uri": "https://localhost:8080/",
          "height": 34
        }
      },
      "source": [
        "a[3:8]"
      ],
      "execution_count": 65,
      "outputs": [
        {
          "output_type": "execute_result",
          "data": {
            "text/plain": [
              "array([3, 4, 5, 6, 7])"
            ]
          },
          "metadata": {
            "tags": []
          },
          "execution_count": 65
        }
      ]
    },
    {
      "cell_type": "code",
      "metadata": {
        "id": "XK4fe3IdhJSm",
        "colab_type": "code",
        "outputId": "ae7edc9a-8782-49c2-9896-d09b45f296b5",
        "colab": {
          "base_uri": "https://localhost:8080/",
          "height": 34
        }
      },
      "source": [
        "a[-1:4]"
      ],
      "execution_count": 66,
      "outputs": [
        {
          "output_type": "execute_result",
          "data": {
            "text/plain": [
              "array([], dtype=int64)"
            ]
          },
          "metadata": {
            "tags": []
          },
          "execution_count": 66
        }
      ]
    },
    {
      "cell_type": "code",
      "metadata": {
        "id": "inaewg85hcXR",
        "colab_type": "code",
        "outputId": "de0d36f9-eb27-4e36-8022-bd781d43918b",
        "colab": {
          "base_uri": "https://localhost:8080/",
          "height": 34
        }
      },
      "source": [
        "a[4:-1]"
      ],
      "execution_count": 67,
      "outputs": [
        {
          "output_type": "execute_result",
          "data": {
            "text/plain": [
              "array([4, 5, 6, 7, 8])"
            ]
          },
          "metadata": {
            "tags": []
          },
          "execution_count": 67
        }
      ]
    },
    {
      "cell_type": "code",
      "metadata": {
        "id": "vnNUBEOWhK7E",
        "colab_type": "code",
        "outputId": "fca23135-6325-4ffd-f0cb-b0a1243b4599",
        "colab": {
          "base_uri": "https://localhost:8080/",
          "height": 34
        }
      },
      "source": [
        "a[-1:-5]"
      ],
      "execution_count": 68,
      "outputs": [
        {
          "output_type": "execute_result",
          "data": {
            "text/plain": [
              "array([], dtype=int64)"
            ]
          },
          "metadata": {
            "tags": []
          },
          "execution_count": 68
        }
      ]
    },
    {
      "cell_type": "code",
      "metadata": {
        "id": "iCf51eqXhUmO",
        "colab_type": "code",
        "outputId": "7794e765-97bd-4d2f-a28a-7031f501d5f4",
        "colab": {
          "base_uri": "https://localhost:8080/",
          "height": 34
        }
      },
      "source": [
        "a[-5:-1]"
      ],
      "execution_count": 69,
      "outputs": [
        {
          "output_type": "execute_result",
          "data": {
            "text/plain": [
              "array([5, 6, 7, 8])"
            ]
          },
          "metadata": {
            "tags": []
          },
          "execution_count": 69
        }
      ]
    },
    {
      "cell_type": "code",
      "metadata": {
        "id": "_9qpzH2nhfew",
        "colab_type": "code",
        "outputId": "adce6bb3-ab63-41d9-fee0-46170e93a19b",
        "colab": {
          "base_uri": "https://localhost:8080/",
          "height": 34
        }
      },
      "source": [
        "a[::1]  # every other thing after that"
      ],
      "execution_count": 70,
      "outputs": [
        {
          "output_type": "execute_result",
          "data": {
            "text/plain": [
              "array([0, 1, 2, 3, 4, 5, 6, 7, 8, 9])"
            ]
          },
          "metadata": {
            "tags": []
          },
          "execution_count": 70
        }
      ]
    },
    {
      "cell_type": "code",
      "metadata": {
        "id": "WvzQ0hVShwLe",
        "colab_type": "code",
        "outputId": "f50e0c80-d273-4c27-866d-4dc72849cc5e",
        "colab": {
          "base_uri": "https://localhost:8080/",
          "height": 34
        }
      },
      "source": [
        "a[::2]  # every other element"
      ],
      "execution_count": 71,
      "outputs": [
        {
          "output_type": "execute_result",
          "data": {
            "text/plain": [
              "array([0, 2, 4, 6, 8])"
            ]
          },
          "metadata": {
            "tags": []
          },
          "execution_count": 71
        }
      ]
    },
    {
      "cell_type": "code",
      "metadata": {
        "id": "RCEIkC-ihyg-",
        "colab_type": "code",
        "outputId": "e12c0352-996d-4ef1-fd19-a6fe9b8f09b4",
        "colab": {
          "base_uri": "https://localhost:8080/",
          "height": 34
        }
      },
      "source": [
        "a[::3]"
      ],
      "execution_count": 72,
      "outputs": [
        {
          "output_type": "execute_result",
          "data": {
            "text/plain": [
              "array([0, 3, 6, 9])"
            ]
          },
          "metadata": {
            "tags": []
          },
          "execution_count": 72
        }
      ]
    },
    {
      "cell_type": "code",
      "metadata": {
        "id": "VS7VHfzyh0Vj",
        "colab_type": "code",
        "outputId": "31c0664e-6149-4e0b-8d5b-fcb301eb0c21",
        "colab": {
          "base_uri": "https://localhost:8080/",
          "height": 34
        }
      },
      "source": [
        "a[2::2]  # very other element, starting at indexx 2"
      ],
      "execution_count": 73,
      "outputs": [
        {
          "output_type": "execute_result",
          "data": {
            "text/plain": [
              "array([2, 4, 6, 8])"
            ]
          },
          "metadata": {
            "tags": []
          },
          "execution_count": 73
        }
      ]
    },
    {
      "cell_type": "code",
      "metadata": {
        "id": "s8QDIxyvh2gS",
        "colab_type": "code",
        "outputId": "645fe51f-f9b1-4269-f92b-b7ace380a9f2",
        "colab": {
          "base_uri": "https://localhost:8080/",
          "height": 34
        }
      },
      "source": [
        "a[::-1]  # reversing array"
      ],
      "execution_count": 74,
      "outputs": [
        {
          "output_type": "execute_result",
          "data": {
            "text/plain": [
              "array([9, 8, 7, 6, 5, 4, 3, 2, 1, 0])"
            ]
          },
          "metadata": {
            "tags": []
          },
          "execution_count": 74
        }
      ]
    },
    {
      "cell_type": "code",
      "metadata": {
        "id": "PcRhdmHviYB7",
        "colab_type": "code",
        "outputId": "0c420816-3dd7-4cb4-8c46-fdfd1c951c5f",
        "colab": {
          "base_uri": "https://localhost:8080/",
          "height": 34
        }
      },
      "source": [
        "a[3::-1] # reversed from starting to 3rd index"
      ],
      "execution_count": 75,
      "outputs": [
        {
          "output_type": "execute_result",
          "data": {
            "text/plain": [
              "array([3, 2, 1, 0])"
            ]
          },
          "metadata": {
            "tags": []
          },
          "execution_count": 75
        }
      ]
    },
    {
      "cell_type": "code",
      "metadata": {
        "id": "GfbKHrkcihSH",
        "colab_type": "code",
        "outputId": "1ca1863e-9d30-4718-f6a6-5bde666d8dd1",
        "colab": {
          "base_uri": "https://localhost:8080/",
          "height": 34
        }
      },
      "source": [
        "a[::-2]"
      ],
      "execution_count": 76,
      "outputs": [
        {
          "output_type": "execute_result",
          "data": {
            "text/plain": [
              "array([9, 7, 5, 3, 1])"
            ]
          },
          "metadata": {
            "tags": []
          },
          "execution_count": 76
        }
      ]
    },
    {
      "cell_type": "code",
      "metadata": {
        "id": "RpOzTTYFiya5",
        "colab_type": "code",
        "outputId": "64f22a9f-5825-4ba9-d08c-d285dd69b1d0",
        "colab": {
          "base_uri": "https://localhost:8080/",
          "height": 34
        }
      },
      "source": [
        "a[6::-2]"
      ],
      "execution_count": 77,
      "outputs": [
        {
          "output_type": "execute_result",
          "data": {
            "text/plain": [
              "array([6, 4, 2, 0])"
            ]
          },
          "metadata": {
            "tags": []
          },
          "execution_count": 77
        }
      ]
    },
    {
      "cell_type": "code",
      "metadata": {
        "id": "ZX-DgdkEi0oy",
        "colab_type": "code",
        "outputId": "13bfd8fb-5baf-4530-94eb-458d81e4da70",
        "colab": {
          "base_uri": "https://localhost:8080/",
          "height": 69
        }
      },
      "source": [
        "l=np.array([[10, 5, 8, 4],\n",
        "[ 7, 12, 8, 8],\n",
        "[ 1, 6, 13, 7]])\n",
        "\n",
        "l"
      ],
      "execution_count": 78,
      "outputs": [
        {
          "output_type": "execute_result",
          "data": {
            "text/plain": [
              "array([[10,  5,  8,  4],\n",
              "       [ 7, 12,  8,  8],\n",
              "       [ 1,  6, 13,  7]])"
            ]
          },
          "metadata": {
            "tags": []
          },
          "execution_count": 78
        }
      ]
    },
    {
      "cell_type": "code",
      "metadata": {
        "id": "OzkSVaWgjFgN",
        "colab_type": "code",
        "outputId": "b8c0349a-bb20-4173-9e63-26f06dff24ab",
        "colab": {
          "base_uri": "https://localhost:8080/",
          "height": 52
        }
      },
      "source": [
        "l[:2, 2:]"
      ],
      "execution_count": 79,
      "outputs": [
        {
          "output_type": "execute_result",
          "data": {
            "text/plain": [
              "array([[8, 4],\n",
              "       [8, 8]])"
            ]
          },
          "metadata": {
            "tags": []
          },
          "execution_count": 79
        }
      ]
    },
    {
      "cell_type": "code",
      "metadata": {
        "id": "3Q8_Btl7jQff",
        "colab_type": "code",
        "outputId": "e20e836e-e4a7-4e78-8764-d801a36b38fd",
        "colab": {
          "base_uri": "https://localhost:8080/",
          "height": 69
        }
      },
      "source": [
        "l[:3, :3]"
      ],
      "execution_count": 80,
      "outputs": [
        {
          "output_type": "execute_result",
          "data": {
            "text/plain": [
              "array([[10,  5,  8],\n",
              "       [ 7, 12,  8],\n",
              "       [ 1,  6, 13]])"
            ]
          },
          "metadata": {
            "tags": []
          },
          "execution_count": 80
        }
      ]
    },
    {
      "cell_type": "code",
      "metadata": {
        "id": "e3XFo51bjjE7",
        "colab_type": "code",
        "outputId": "ea67e368-ce80-4916-dbc0-ed65e348b2ec",
        "colab": {
          "base_uri": "https://localhost:8080/",
          "height": 69
        }
      },
      "source": [
        "l[::-1, ::-1]"
      ],
      "execution_count": 81,
      "outputs": [
        {
          "output_type": "execute_result",
          "data": {
            "text/plain": [
              "array([[ 7, 13,  6,  1],\n",
              "       [ 8,  8, 12,  7],\n",
              "       [ 4,  8,  5, 10]])"
            ]
          },
          "metadata": {
            "tags": []
          },
          "execution_count": 81
        }
      ]
    },
    {
      "cell_type": "code",
      "metadata": {
        "id": "0gXZ1wTBjnHs",
        "colab_type": "code",
        "outputId": "775ecfc5-1134-4ad0-ba0e-abc0185135fe",
        "colab": {
          "base_uri": "https://localhost:8080/",
          "height": 69
        }
      },
      "source": [
        "l[::-1]"
      ],
      "execution_count": 82,
      "outputs": [
        {
          "output_type": "execute_result",
          "data": {
            "text/plain": [
              "array([[ 1,  6, 13,  7],\n",
              "       [ 7, 12,  8,  8],\n",
              "       [10,  5,  8,  4]])"
            ]
          },
          "metadata": {
            "tags": []
          },
          "execution_count": 82
        }
      ]
    },
    {
      "cell_type": "code",
      "metadata": {
        "id": "KzeNpByhjs8f",
        "colab_type": "code",
        "outputId": "dd90b1ce-1020-4c4a-c134-8b243acd15a6",
        "colab": {
          "base_uri": "https://localhost:8080/",
          "height": 52
        }
      },
      "source": [
        "sub_array_l = l[:2, :3]\n",
        "sub_array_l"
      ],
      "execution_count": 83,
      "outputs": [
        {
          "output_type": "execute_result",
          "data": {
            "text/plain": [
              "array([[10,  5,  8],\n",
              "       [ 7, 12,  8]])"
            ]
          },
          "metadata": {
            "tags": []
          },
          "execution_count": 83
        }
      ]
    },
    {
      "cell_type": "code",
      "metadata": {
        "id": "QbcNTN7SkF4p",
        "colab_type": "code",
        "outputId": "3171b240-e528-40d5-89a7-c9bbb8bfa820",
        "colab": {
          "base_uri": "https://localhost:8080/",
          "height": 52
        }
      },
      "source": [
        "sub_array= l[:2, :3].copy()\n",
        "sub_array"
      ],
      "execution_count": 84,
      "outputs": [
        {
          "output_type": "execute_result",
          "data": {
            "text/plain": [
              "array([[10,  5,  8],\n",
              "       [ 7, 12,  8]])"
            ]
          },
          "metadata": {
            "tags": []
          },
          "execution_count": 84
        }
      ]
    },
    {
      "cell_type": "markdown",
      "metadata": {
        "id": "So-Luj7PkX3V",
        "colab_type": "text"
      },
      "source": [
        "**Reshaping of Arrays**"
      ]
    },
    {
      "cell_type": "code",
      "metadata": {
        "id": "v2h0o29mkOq-",
        "colab_type": "code",
        "outputId": "5679c5b8-4353-4597-ac4f-5963f85027fd",
        "colab": {
          "base_uri": "https://localhost:8080/",
          "height": 52
        }
      },
      "source": [
        "array = np.random.randint(1, 100, size=(2,5))\n",
        "array"
      ],
      "execution_count": 85,
      "outputs": [
        {
          "output_type": "execute_result",
          "data": {
            "text/plain": [
              "array([[73, 10, 21, 81, 70],\n",
              "       [80, 48, 65, 83, 89]])"
            ]
          },
          "metadata": {
            "tags": []
          },
          "execution_count": 85
        }
      ]
    },
    {
      "cell_type": "code",
      "metadata": {
        "id": "T48uukPokhBX",
        "colab_type": "code",
        "outputId": "cfde65f4-0c1a-4dd1-b42e-25b0ba4d751e",
        "colab": {
          "base_uri": "https://localhost:8080/",
          "height": 69
        }
      },
      "source": [
        "s=np.arange(1,10).reshape((3,3))\n",
        "s"
      ],
      "execution_count": 86,
      "outputs": [
        {
          "output_type": "execute_result",
          "data": {
            "text/plain": [
              "array([[1, 2, 3],\n",
              "       [4, 5, 6],\n",
              "       [7, 8, 9]])"
            ]
          },
          "metadata": {
            "tags": []
          },
          "execution_count": 86
        }
      ]
    },
    {
      "cell_type": "code",
      "metadata": {
        "id": "uicYh6vOk6lP",
        "colab_type": "code",
        "outputId": "863fe89e-ec3b-46d0-f38b-e7de0a6bc8bc",
        "colab": {
          "base_uri": "https://localhost:8080/",
          "height": 69
        }
      },
      "source": [
        "r = np.arange(1, 13).reshape((3, 4))\n",
        "r"
      ],
      "execution_count": 87,
      "outputs": [
        {
          "output_type": "execute_result",
          "data": {
            "text/plain": [
              "array([[ 1,  2,  3,  4],\n",
              "       [ 5,  6,  7,  8],\n",
              "       [ 9, 10, 11, 12]])"
            ]
          },
          "metadata": {
            "tags": []
          },
          "execution_count": 87
        }
      ]
    },
    {
      "cell_type": "code",
      "metadata": {
        "id": "LtA4dkGSlIa-",
        "colab_type": "code",
        "outputId": "ac8f5052-aa58-406e-b532-ae1b6856d17f",
        "colab": {
          "base_uri": "https://localhost:8080/",
          "height": 86
        }
      },
      "source": [
        "r.reshape(4,3)"
      ],
      "execution_count": 88,
      "outputs": [
        {
          "output_type": "execute_result",
          "data": {
            "text/plain": [
              "array([[ 1,  2,  3],\n",
              "       [ 4,  5,  6],\n",
              "       [ 7,  8,  9],\n",
              "       [10, 11, 12]])"
            ]
          },
          "metadata": {
            "tags": []
          },
          "execution_count": 88
        }
      ]
    },
    {
      "cell_type": "code",
      "metadata": {
        "id": "oqY2wNnYlvOq",
        "colab_type": "code",
        "outputId": "7b8b12ec-3f11-4b47-f15c-84e637a378eb",
        "colab": {
          "base_uri": "https://localhost:8080/",
          "height": 69
        }
      },
      "source": [
        "r"
      ],
      "execution_count": 89,
      "outputs": [
        {
          "output_type": "execute_result",
          "data": {
            "text/plain": [
              "array([[ 1,  2,  3,  4],\n",
              "       [ 5,  6,  7,  8],\n",
              "       [ 9, 10, 11, 12]])"
            ]
          },
          "metadata": {
            "tags": []
          },
          "execution_count": 89
        }
      ]
    },
    {
      "cell_type": "code",
      "metadata": {
        "id": "LIXNoxsTl03s",
        "colab_type": "code",
        "outputId": "99773157-b90d-44c4-9cf9-7c7598dfa3f2",
        "colab": {
          "base_uri": "https://localhost:8080/",
          "height": 52
        }
      },
      "source": [
        "r[np.newaxis, :2]"
      ],
      "execution_count": 90,
      "outputs": [
        {
          "output_type": "execute_result",
          "data": {
            "text/plain": [
              "array([[[1, 2, 3, 4],\n",
              "        [5, 6, 7, 8]]])"
            ]
          },
          "metadata": {
            "tags": []
          },
          "execution_count": 90
        }
      ]
    },
    {
      "cell_type": "code",
      "metadata": {
        "id": "1vG3Nj-Bl48w",
        "colab_type": "code",
        "outputId": "5a020aa7-a649-4d85-9233-c6649a1ea2f4",
        "colab": {
          "base_uri": "https://localhost:8080/",
          "height": 52
        }
      },
      "source": [
        "r[np.newaxis, :2, :4]"
      ],
      "execution_count": 91,
      "outputs": [
        {
          "output_type": "execute_result",
          "data": {
            "text/plain": [
              "array([[[1, 2, 3, 4],\n",
              "        [5, 6, 7, 8]]])"
            ]
          },
          "metadata": {
            "tags": []
          },
          "execution_count": 91
        }
      ]
    },
    {
      "cell_type": "markdown",
      "metadata": {
        "id": "24RfANAbmVdG",
        "colab_type": "text"
      },
      "source": [
        "**Array Concatenation and Splitting**"
      ]
    },
    {
      "cell_type": "markdown",
      "metadata": {
        "id": "t_-nEKq8mZDd",
        "colab_type": "text"
      },
      "source": [
        "* Concatenation of arrays"
      ]
    },
    {
      "cell_type": "code",
      "metadata": {
        "id": "2U3kub2PmA8E",
        "colab_type": "code",
        "outputId": "fd6b2305-dda6-40db-d514-b6c892a21b82",
        "colab": {
          "base_uri": "https://localhost:8080/",
          "height": 52
        }
      },
      "source": [
        "x=np.arange(5)\n",
        "print(x)\n",
        "y=np.arange(6,10)\n",
        "print(y)"
      ],
      "execution_count": 92,
      "outputs": [
        {
          "output_type": "stream",
          "text": [
            "[0 1 2 3 4]\n",
            "[6 7 8 9]\n"
          ],
          "name": "stdout"
        }
      ]
    },
    {
      "cell_type": "code",
      "metadata": {
        "id": "2fubQOkBmjDL",
        "colab_type": "code",
        "outputId": "e47ad207-75b1-4b6b-c874-2b0134694695",
        "colab": {
          "base_uri": "https://localhost:8080/",
          "height": 34
        }
      },
      "source": [
        "np.concatenate([x,y])"
      ],
      "execution_count": 93,
      "outputs": [
        {
          "output_type": "execute_result",
          "data": {
            "text/plain": [
              "array([0, 1, 2, 3, 4, 6, 7, 8, 9])"
            ]
          },
          "metadata": {
            "tags": []
          },
          "execution_count": 93
        }
      ]
    },
    {
      "cell_type": "code",
      "metadata": {
        "id": "25SdLHp1m0qJ",
        "colab_type": "code",
        "outputId": "69798dd3-52d7-47b4-baba-82f13f88fa00",
        "colab": {
          "base_uri": "https://localhost:8080/",
          "height": 34
        }
      },
      "source": [
        "np.concatenate([y,x])"
      ],
      "execution_count": 94,
      "outputs": [
        {
          "output_type": "execute_result",
          "data": {
            "text/plain": [
              "array([6, 7, 8, 9, 0, 1, 2, 3, 4])"
            ]
          },
          "metadata": {
            "tags": []
          },
          "execution_count": 94
        }
      ]
    },
    {
      "cell_type": "code",
      "metadata": {
        "id": "5vb6FUD-nFeY",
        "colab_type": "code",
        "outputId": "9bce62cf-5ae8-4edb-831a-d1abd00b33c9",
        "colab": {
          "base_uri": "https://localhost:8080/",
          "height": 34
        }
      },
      "source": [
        "z=[23,54,7]\n",
        "np.concatenate([z,x,y])"
      ],
      "execution_count": 95,
      "outputs": [
        {
          "output_type": "execute_result",
          "data": {
            "text/plain": [
              "array([23, 54,  7,  0,  1,  2,  3,  4,  6,  7,  8,  9])"
            ]
          },
          "metadata": {
            "tags": []
          },
          "execution_count": 95
        }
      ]
    },
    {
      "cell_type": "code",
      "metadata": {
        "id": "V0M5-EVwnNq6",
        "colab_type": "code",
        "outputId": "9c149e41-75d7-4a46-d482-911150689ca7",
        "colab": {
          "base_uri": "https://localhost:8080/",
          "height": 52
        }
      },
      "source": [
        "s=np.array([[1,2,3],[5,6,7]])\n",
        "s"
      ],
      "execution_count": 96,
      "outputs": [
        {
          "output_type": "execute_result",
          "data": {
            "text/plain": [
              "array([[1, 2, 3],\n",
              "       [5, 6, 7]])"
            ]
          },
          "metadata": {
            "tags": []
          },
          "execution_count": 96
        }
      ]
    },
    {
      "cell_type": "code",
      "metadata": {
        "id": "AYawNVZcnhtn",
        "colab_type": "code",
        "outputId": "041ff771-421e-4baf-94a5-5e5e021ff78f",
        "colab": {
          "base_uri": "https://localhost:8080/",
          "height": 86
        }
      },
      "source": [
        "np.concatenate([s,s])"
      ],
      "execution_count": 97,
      "outputs": [
        {
          "output_type": "execute_result",
          "data": {
            "text/plain": [
              "array([[1, 2, 3],\n",
              "       [5, 6, 7],\n",
              "       [1, 2, 3],\n",
              "       [5, 6, 7]])"
            ]
          },
          "metadata": {
            "tags": []
          },
          "execution_count": 97
        }
      ]
    },
    {
      "cell_type": "code",
      "metadata": {
        "id": "wPgrkkwsnlQn",
        "colab_type": "code",
        "outputId": "4c436438-b2b8-475c-c57f-6637081b8531",
        "colab": {
          "base_uri": "https://localhost:8080/",
          "height": 52
        }
      },
      "source": [
        "# concatenate along the second axis (zero-indexed)\n",
        "np.concatenate([s,s], axis=1)"
      ],
      "execution_count": 98,
      "outputs": [
        {
          "output_type": "execute_result",
          "data": {
            "text/plain": [
              "array([[1, 2, 3, 1, 2, 3],\n",
              "       [5, 6, 7, 5, 6, 7]])"
            ]
          },
          "metadata": {
            "tags": []
          },
          "execution_count": 98
        }
      ]
    },
    {
      "cell_type": "code",
      "metadata": {
        "id": "cf6iqVTwnrgJ",
        "colab_type": "code",
        "outputId": "454910a8-db45-46a9-b697-89032266f32e",
        "colab": {
          "base_uri": "https://localhost:8080/",
          "height": 52
        }
      },
      "source": [
        "s"
      ],
      "execution_count": 99,
      "outputs": [
        {
          "output_type": "execute_result",
          "data": {
            "text/plain": [
              "array([[1, 2, 3],\n",
              "       [5, 6, 7]])"
            ]
          },
          "metadata": {
            "tags": []
          },
          "execution_count": 99
        }
      ]
    },
    {
      "cell_type": "code",
      "metadata": {
        "id": "nmbSf5tcoEJS",
        "colab_type": "code",
        "outputId": "57c5c2a6-710d-44ca-da45-1bef7addc703",
        "colab": {
          "base_uri": "https://localhost:8080/",
          "height": 69
        }
      },
      "source": [
        "r= np.array([31,32,33])\n",
        "#vertically stack the arrays\n",
        "np.vstack([s,r])"
      ],
      "execution_count": 100,
      "outputs": [
        {
          "output_type": "execute_result",
          "data": {
            "text/plain": [
              "array([[ 1,  2,  3],\n",
              "       [ 5,  6,  7],\n",
              "       [31, 32, 33]])"
            ]
          },
          "metadata": {
            "tags": []
          },
          "execution_count": 100
        }
      ]
    },
    {
      "cell_type": "code",
      "metadata": {
        "id": "HT379WN6oRxK",
        "colab_type": "code",
        "outputId": "dd9ede3f-40b0-4556-ee72-e74abdf99e9a",
        "colab": {
          "base_uri": "https://localhost:8080/",
          "height": 52
        }
      },
      "source": [
        "r=np.array([[31],[35]])\n",
        "#horizontally stack the arrays\n",
        "np.hstack([s,r])"
      ],
      "execution_count": 101,
      "outputs": [
        {
          "output_type": "execute_result",
          "data": {
            "text/plain": [
              "array([[ 1,  2,  3, 31],\n",
              "       [ 5,  6,  7, 35]])"
            ]
          },
          "metadata": {
            "tags": []
          },
          "execution_count": 101
        }
      ]
    },
    {
      "cell_type": "markdown",
      "metadata": {
        "id": "y8oGrePapEe6",
        "colab_type": "text"
      },
      "source": [
        "* splitting of arrays"
      ]
    },
    {
      "cell_type": "code",
      "metadata": {
        "id": "jHVQPSMsobrh",
        "colab_type": "code",
        "outputId": "2a3de4f7-7e76-447a-fcf3-551e9b66b1ce",
        "colab": {
          "base_uri": "https://localhost:8080/",
          "height": 34
        }
      },
      "source": [
        "s=np.arange(1,10)\n",
        "s"
      ],
      "execution_count": 102,
      "outputs": [
        {
          "output_type": "execute_result",
          "data": {
            "text/plain": [
              "array([1, 2, 3, 4, 5, 6, 7, 8, 9])"
            ]
          },
          "metadata": {
            "tags": []
          },
          "execution_count": 102
        }
      ]
    },
    {
      "cell_type": "code",
      "metadata": {
        "id": "-iFu8dxSqDzW",
        "colab_type": "code",
        "outputId": "1ae135ee-f8c8-481d-ca82-a2852a0dc58f",
        "colab": {
          "base_uri": "https://localhost:8080/",
          "height": 34
        }
      },
      "source": [
        "np.split(s,3)"
      ],
      "execution_count": 103,
      "outputs": [
        {
          "output_type": "execute_result",
          "data": {
            "text/plain": [
              "[array([1, 2, 3]), array([4, 5, 6]), array([7, 8, 9])]"
            ]
          },
          "metadata": {
            "tags": []
          },
          "execution_count": 103
        }
      ]
    },
    {
      "cell_type": "code",
      "metadata": {
        "id": "a90ukhjgqH8q",
        "colab_type": "code",
        "outputId": "3e0c0eb1-3208-48c4-acf2-2fdf6f5d0a93",
        "colab": {
          "base_uri": "https://localhost:8080/",
          "height": 173
        }
      },
      "source": [
        "np.split(s,9)"
      ],
      "execution_count": 104,
      "outputs": [
        {
          "output_type": "execute_result",
          "data": {
            "text/plain": [
              "[array([1]),\n",
              " array([2]),\n",
              " array([3]),\n",
              " array([4]),\n",
              " array([5]),\n",
              " array([6]),\n",
              " array([7]),\n",
              " array([8]),\n",
              " array([9])]"
            ]
          },
          "metadata": {
            "tags": []
          },
          "execution_count": 104
        }
      ]
    },
    {
      "cell_type": "code",
      "metadata": {
        "id": "uFdVPh8dozBT",
        "colab_type": "code",
        "outputId": "221200d4-0bc6-45ff-82fe-24daa5fe21b0",
        "colab": {
          "base_uri": "https://localhost:8080/",
          "height": 34
        }
      },
      "source": [
        "x,y,z=np.split(s, (2,4))\n",
        "print(\"x: \", x, \"y: \", y, \"z: \", z)"
      ],
      "execution_count": 105,
      "outputs": [
        {
          "output_type": "stream",
          "text": [
            "x:  [1 2] y:  [3 4] z:  [5 6 7 8 9]\n"
          ],
          "name": "stdout"
        }
      ]
    },
    {
      "cell_type": "code",
      "metadata": {
        "id": "u0Cpri03pV8w",
        "colab_type": "code",
        "outputId": "a523ab30-2500-4ce1-95c9-de73b90a42ff",
        "colab": {
          "base_uri": "https://localhost:8080/",
          "height": 34
        }
      },
      "source": [
        "x,y,z=np.split(s, (2,5))\n",
        "print(\"x: \", x, \"y: \", y, \"z: \", z)"
      ],
      "execution_count": 106,
      "outputs": [
        {
          "output_type": "stream",
          "text": [
            "x:  [1 2] y:  [3 4 5] z:  [6 7 8 9]\n"
          ],
          "name": "stdout"
        }
      ]
    },
    {
      "cell_type": "code",
      "metadata": {
        "id": "8peUBRBdpqPl",
        "colab_type": "code",
        "outputId": "a5165ca2-d3fb-4aa6-f69a-953647f5454c",
        "colab": {
          "base_uri": "https://localhost:8080/",
          "height": 34
        }
      },
      "source": [
        "x,y,z=np.split(s, (2,2))\n",
        "print(\"x: \", x, \"y: \", y, \"z: \", z)"
      ],
      "execution_count": 107,
      "outputs": [
        {
          "output_type": "stream",
          "text": [
            "x:  [1 2] y:  [] z:  [3 4 5 6 7 8 9]\n"
          ],
          "name": "stdout"
        }
      ]
    },
    {
      "cell_type": "code",
      "metadata": {
        "id": "FAuSB3J1puz1",
        "colab_type": "code",
        "outputId": "0f96f704-b0f9-44d8-8a91-33ff69612447",
        "colab": {
          "base_uri": "https://localhost:8080/",
          "height": 34
        }
      },
      "source": [
        "np.split(s,(2,4,10))"
      ],
      "execution_count": 108,
      "outputs": [
        {
          "output_type": "execute_result",
          "data": {
            "text/plain": [
              "[array([1, 2]), array([3, 4]), array([5, 6, 7, 8, 9]), array([], dtype=int64)]"
            ]
          },
          "metadata": {
            "tags": []
          },
          "execution_count": 108
        }
      ]
    },
    {
      "cell_type": "code",
      "metadata": {
        "id": "ro-b3kUHqhQH",
        "colab_type": "code",
        "outputId": "a42a01aa-9cca-48ba-bafe-629b5baddd44",
        "colab": {
          "base_uri": "https://localhost:8080/",
          "height": 86
        }
      },
      "source": [
        "np.split(s,(2,2,10))"
      ],
      "execution_count": 109,
      "outputs": [
        {
          "output_type": "execute_result",
          "data": {
            "text/plain": [
              "[array([1, 2]),\n",
              " array([], dtype=int64),\n",
              " array([3, 4, 5, 6, 7, 8, 9]),\n",
              " array([], dtype=int64)]"
            ]
          },
          "metadata": {
            "tags": []
          },
          "execution_count": 109
        }
      ]
    },
    {
      "cell_type": "code",
      "metadata": {
        "id": "akeFiZWGqmwJ",
        "colab_type": "code",
        "outputId": "7d406d98-572b-4e13-c2e4-32aea3602b29",
        "colab": {
          "base_uri": "https://localhost:8080/",
          "height": 312
        }
      },
      "source": [
        "d=np.arange(0,30).reshape(3,5,2)\n",
        "d"
      ],
      "execution_count": 110,
      "outputs": [
        {
          "output_type": "execute_result",
          "data": {
            "text/plain": [
              "array([[[ 0,  1],\n",
              "        [ 2,  3],\n",
              "        [ 4,  5],\n",
              "        [ 6,  7],\n",
              "        [ 8,  9]],\n",
              "\n",
              "       [[10, 11],\n",
              "        [12, 13],\n",
              "        [14, 15],\n",
              "        [16, 17],\n",
              "        [18, 19]],\n",
              "\n",
              "       [[20, 21],\n",
              "        [22, 23],\n",
              "        [24, 25],\n",
              "        [26, 27],\n",
              "        [28, 29]]])"
            ]
          },
          "metadata": {
            "tags": []
          },
          "execution_count": 110
        }
      ]
    },
    {
      "cell_type": "code",
      "metadata": {
        "id": "GQ2ThQ9aqun8",
        "colab_type": "code",
        "outputId": "dfc296d6-2d2c-400a-a210-0f094e3bce24",
        "colab": {
          "base_uri": "https://localhost:8080/",
          "height": 278
        }
      },
      "source": [
        "np.split(d, (1,4,6))"
      ],
      "execution_count": 111,
      "outputs": [
        {
          "output_type": "execute_result",
          "data": {
            "text/plain": [
              "[array([[[0, 1],\n",
              "         [2, 3],\n",
              "         [4, 5],\n",
              "         [6, 7],\n",
              "         [8, 9]]]), array([[[10, 11],\n",
              "         [12, 13],\n",
              "         [14, 15],\n",
              "         [16, 17],\n",
              "         [18, 19]],\n",
              " \n",
              "        [[20, 21],\n",
              "         [22, 23],\n",
              "         [24, 25],\n",
              "         [26, 27],\n",
              "         [28, 29]]]), array([], shape=(0, 5, 2), dtype=int64), array([], shape=(0, 5, 2), dtype=int64)]"
            ]
          },
          "metadata": {
            "tags": []
          },
          "execution_count": 111
        }
      ]
    },
    {
      "cell_type": "code",
      "metadata": {
        "id": "WglN4D8Lq0Fi",
        "colab_type": "code",
        "outputId": "949326b4-348d-4be3-c783-2f58346d8981",
        "colab": {
          "base_uri": "https://localhost:8080/",
          "height": 86
        }
      },
      "source": [
        "f= np.arange(20).reshape(4,5)\n",
        "f"
      ],
      "execution_count": 112,
      "outputs": [
        {
          "output_type": "execute_result",
          "data": {
            "text/plain": [
              "array([[ 0,  1,  2,  3,  4],\n",
              "       [ 5,  6,  7,  8,  9],\n",
              "       [10, 11, 12, 13, 14],\n",
              "       [15, 16, 17, 18, 19]])"
            ]
          },
          "metadata": {
            "tags": []
          },
          "execution_count": 112
        }
      ]
    },
    {
      "cell_type": "code",
      "metadata": {
        "id": "JHaU5C_-rRHn",
        "colab_type": "code",
        "outputId": "a864e2f2-340c-418f-b6bd-23c5fd2e209c",
        "colab": {
          "base_uri": "https://localhost:8080/",
          "height": 69
        }
      },
      "source": [
        "# vertically splitting array\n",
        "np.vsplit(f,[2])"
      ],
      "execution_count": 113,
      "outputs": [
        {
          "output_type": "execute_result",
          "data": {
            "text/plain": [
              "[array([[0, 1, 2, 3, 4],\n",
              "        [5, 6, 7, 8, 9]]), array([[10, 11, 12, 13, 14],\n",
              "        [15, 16, 17, 18, 19]])]"
            ]
          },
          "metadata": {
            "tags": []
          },
          "execution_count": 113
        }
      ]
    },
    {
      "cell_type": "code",
      "metadata": {
        "id": "R6UUlEzsrcLg",
        "colab_type": "code",
        "outputId": "80284f9b-a53a-4315-ad73-134cf90f0800",
        "colab": {
          "base_uri": "https://localhost:8080/",
          "height": 69
        }
      },
      "source": [
        "np.vsplit(f, [1,4])"
      ],
      "execution_count": 114,
      "outputs": [
        {
          "output_type": "execute_result",
          "data": {
            "text/plain": [
              "[array([[0, 1, 2, 3, 4]]), array([[ 5,  6,  7,  8,  9],\n",
              "        [10, 11, 12, 13, 14],\n",
              "        [15, 16, 17, 18, 19]]), array([], shape=(0, 5), dtype=int64)]"
            ]
          },
          "metadata": {
            "tags": []
          },
          "execution_count": 114
        }
      ]
    },
    {
      "cell_type": "code",
      "metadata": {
        "id": "7zyo8k-6rfWV",
        "colab_type": "code",
        "outputId": "837c0add-a2cd-43e6-c054-c8c199a92169",
        "colab": {
          "base_uri": "https://localhost:8080/",
          "height": 69
        }
      },
      "source": [
        "np.vsplit(f, [2,4])"
      ],
      "execution_count": 115,
      "outputs": [
        {
          "output_type": "execute_result",
          "data": {
            "text/plain": [
              "[array([[0, 1, 2, 3, 4],\n",
              "        [5, 6, 7, 8, 9]]), array([[10, 11, 12, 13, 14],\n",
              "        [15, 16, 17, 18, 19]]), array([], shape=(0, 5), dtype=int64)]"
            ]
          },
          "metadata": {
            "tags": []
          },
          "execution_count": 115
        }
      ]
    },
    {
      "cell_type": "code",
      "metadata": {
        "id": "IIYsDXrqrvs5",
        "colab_type": "code",
        "outputId": "3164bc9f-54ff-4b6b-f2fd-6f1e57ddbe78",
        "colab": {
          "base_uri": "https://localhost:8080/",
          "height": 139
        }
      },
      "source": [
        "#horizontally splitting\n",
        "np.hsplit(f, [2])"
      ],
      "execution_count": 116,
      "outputs": [
        {
          "output_type": "execute_result",
          "data": {
            "text/plain": [
              "[array([[ 0,  1],\n",
              "        [ 5,  6],\n",
              "        [10, 11],\n",
              "        [15, 16]]), array([[ 2,  3,  4],\n",
              "        [ 7,  8,  9],\n",
              "        [12, 13, 14],\n",
              "        [17, 18, 19]])]"
            ]
          },
          "metadata": {
            "tags": []
          },
          "execution_count": 116
        }
      ]
    },
    {
      "cell_type": "code",
      "metadata": {
        "id": "Vj2T7gYwr6bE",
        "colab_type": "code",
        "outputId": "5d5e0674-d557-4959-f24c-16a6d6e9475e",
        "colab": {
          "base_uri": "https://localhost:8080/",
          "height": 173
        }
      },
      "source": [
        "np.hsplit(f,[3,2])"
      ],
      "execution_count": 117,
      "outputs": [
        {
          "output_type": "execute_result",
          "data": {
            "text/plain": [
              "[array([[ 0,  1,  2],\n",
              "        [ 5,  6,  7],\n",
              "        [10, 11, 12],\n",
              "        [15, 16, 17]]),\n",
              " array([], shape=(4, 0), dtype=int64),\n",
              " array([[ 2,  3,  4],\n",
              "        [ 7,  8,  9],\n",
              "        [12, 13, 14],\n",
              "        [17, 18, 19]])]"
            ]
          },
          "metadata": {
            "tags": []
          },
          "execution_count": 117
        }
      ]
    },
    {
      "cell_type": "code",
      "metadata": {
        "id": "FfHl6L0csBG-",
        "colab_type": "code",
        "outputId": "f9007fdc-b60d-4397-a324-96737e743481",
        "colab": {
          "base_uri": "https://localhost:8080/",
          "height": 139
        }
      },
      "source": [
        "np.hsplit(f,[3,3])"
      ],
      "execution_count": 118,
      "outputs": [
        {
          "output_type": "execute_result",
          "data": {
            "text/plain": [
              "[array([[ 0,  1,  2],\n",
              "        [ 5,  6,  7],\n",
              "        [10, 11, 12],\n",
              "        [15, 16, 17]]), array([], shape=(4, 0), dtype=int64), array([[ 3,  4],\n",
              "        [ 8,  9],\n",
              "        [13, 14],\n",
              "        [18, 19]])]"
            ]
          },
          "metadata": {
            "tags": []
          },
          "execution_count": 118
        }
      ]
    },
    {
      "cell_type": "markdown",
      "metadata": {
        "id": "dTFR-BDfs0xx",
        "colab_type": "text"
      },
      "source": [
        "The dsplit() function is used to split an array into multiple sub-arrays.\n",
        "The only difference between these functions is that dsplit allows indices_or_sections to be an integer that does not equally divide the axis. For an array of length l that should be split into n sections, it returns l % n sub-arrays of size l//n + 1 and the rest of size l//n"
      ]
    },
    {
      "cell_type": "markdown",
      "metadata": {
        "id": "UGnmVWuls7mk",
        "colab_type": "text"
      },
      "source": [
        "**Syntax:**\n",
        "\n",
        "numpy.dsplit(ary, indices_or_sections, axis=0)"
      ]
    },
    {
      "cell_type": "code",
      "metadata": {
        "id": "6k6YVGygsNWq",
        "colab_type": "code",
        "outputId": "c7bb1a72-6c50-4a96-8e7a-afb65b57fc33",
        "colab": {
          "base_uri": "https://localhost:8080/",
          "height": 104
        }
      },
      "source": [
        "d=np.arange(12).reshape(2,2,3)\n",
        "d"
      ],
      "execution_count": 119,
      "outputs": [
        {
          "output_type": "execute_result",
          "data": {
            "text/plain": [
              "array([[[ 0,  1,  2],\n",
              "        [ 3,  4,  5]],\n",
              "\n",
              "       [[ 6,  7,  8],\n",
              "        [ 9, 10, 11]]])"
            ]
          },
          "metadata": {
            "tags": []
          },
          "execution_count": 119
        }
      ]
    },
    {
      "cell_type": "code",
      "metadata": {
        "id": "fMhKbOX7tOja",
        "colab_type": "code",
        "outputId": "4e9d0364-a1f5-44de-fee6-7c982ce07d55",
        "colab": {
          "base_uri": "https://localhost:8080/",
          "height": 243
        }
      },
      "source": [
        "np.dsplit(d, 3)"
      ],
      "execution_count": 120,
      "outputs": [
        {
          "output_type": "execute_result",
          "data": {
            "text/plain": [
              "[array([[[0],\n",
              "         [3]],\n",
              " \n",
              "        [[6],\n",
              "         [9]]]), array([[[ 1],\n",
              "         [ 4]],\n",
              " \n",
              "        [[ 7],\n",
              "         [10]]]), array([[[ 2],\n",
              "         [ 5]],\n",
              " \n",
              "        [[ 8],\n",
              "         [11]]])]"
            ]
          },
          "metadata": {
            "tags": []
          },
          "execution_count": 120
        }
      ]
    },
    {
      "cell_type": "code",
      "metadata": {
        "id": "6mVGt5hdtWuL",
        "colab_type": "code",
        "outputId": "9732b13b-bd90-46e4-e6e6-898d204552be",
        "colab": {
          "base_uri": "https://localhost:8080/",
          "height": 104
        }
      },
      "source": [
        "np.dsplit(d,1)"
      ],
      "execution_count": 121,
      "outputs": [
        {
          "output_type": "execute_result",
          "data": {
            "text/plain": [
              "[array([[[ 0,  1,  2],\n",
              "         [ 3,  4,  5]],\n",
              " \n",
              "        [[ 6,  7,  8],\n",
              "         [ 9, 10, 11]]])]"
            ]
          },
          "metadata": {
            "tags": []
          },
          "execution_count": 121
        }
      ]
    },
    {
      "cell_type": "code",
      "metadata": {
        "id": "yNMGZ2dYthEj",
        "colab_type": "code",
        "outputId": "ab899a9f-28f2-4669-eee1-e734bc4c5f97",
        "colab": {
          "base_uri": "https://localhost:8080/",
          "height": 173
        }
      },
      "source": [
        "np.dsplit(d, [2,2])"
      ],
      "execution_count": 122,
      "outputs": [
        {
          "output_type": "execute_result",
          "data": {
            "text/plain": [
              "[array([[[ 0,  1],\n",
              "         [ 3,  4]],\n",
              " \n",
              "        [[ 6,  7],\n",
              "         [ 9, 10]]]), array([], shape=(2, 2, 0), dtype=int64), array([[[ 2],\n",
              "         [ 5]],\n",
              " \n",
              "        [[ 8],\n",
              "         [11]]])]"
            ]
          },
          "metadata": {
            "tags": []
          },
          "execution_count": 122
        }
      ]
    },
    {
      "cell_type": "code",
      "metadata": {
        "id": "q-3v3wxjtspX",
        "colab_type": "code",
        "outputId": "9a9818cc-1825-48ed-897a-81daa563e24e",
        "colab": {
          "base_uri": "https://localhost:8080/",
          "height": 208
        }
      },
      "source": [
        "np.dsplit(d, [3,1])"
      ],
      "execution_count": 123,
      "outputs": [
        {
          "output_type": "execute_result",
          "data": {
            "text/plain": [
              "[array([[[ 0,  1,  2],\n",
              "         [ 3,  4,  5]],\n",
              " \n",
              "        [[ 6,  7,  8],\n",
              "         [ 9, 10, 11]]]),\n",
              " array([], shape=(2, 2, 0), dtype=int64),\n",
              " array([[[ 1,  2],\n",
              "         [ 4,  5]],\n",
              " \n",
              "        [[ 7,  8],\n",
              "         [10, 11]]])]"
            ]
          },
          "metadata": {
            "tags": []
          },
          "execution_count": 123
        }
      ]
    },
    {
      "cell_type": "code",
      "metadata": {
        "id": "MuP2a8CXt0xJ",
        "colab_type": "code",
        "outputId": "505a0cd9-9ee3-469a-e7c2-f3f0d64042da",
        "colab": {
          "base_uri": "https://localhost:8080/",
          "height": 208
        }
      },
      "source": [
        "np.dsplit(d, [3,2])"
      ],
      "execution_count": 124,
      "outputs": [
        {
          "output_type": "execute_result",
          "data": {
            "text/plain": [
              "[array([[[ 0,  1,  2],\n",
              "         [ 3,  4,  5]],\n",
              " \n",
              "        [[ 6,  7,  8],\n",
              "         [ 9, 10, 11]]]),\n",
              " array([], shape=(2, 2, 0), dtype=int64),\n",
              " array([[[ 2],\n",
              "         [ 5]],\n",
              " \n",
              "        [[ 8],\n",
              "         [11]]])]"
            ]
          },
          "metadata": {
            "tags": []
          },
          "execution_count": 124
        }
      ]
    },
    {
      "cell_type": "code",
      "metadata": {
        "id": "I6LWxngZt8iE",
        "colab_type": "code",
        "outputId": "2cca15e3-9911-47e6-e1f0-d323b6507f3f",
        "colab": {
          "base_uri": "https://localhost:8080/",
          "height": 208
        }
      },
      "source": [
        "np.dsplit(d, [4,2])"
      ],
      "execution_count": 125,
      "outputs": [
        {
          "output_type": "execute_result",
          "data": {
            "text/plain": [
              "[array([[[ 0,  1,  2],\n",
              "         [ 3,  4,  5]],\n",
              " \n",
              "        [[ 6,  7,  8],\n",
              "         [ 9, 10, 11]]]),\n",
              " array([], shape=(2, 2, 0), dtype=int64),\n",
              " array([[[ 2],\n",
              "         [ 5]],\n",
              " \n",
              "        [[ 8],\n",
              "         [11]]])]"
            ]
          },
          "metadata": {
            "tags": []
          },
          "execution_count": 125
        }
      ]
    },
    {
      "cell_type": "markdown",
      "metadata": {
        "id": "dJoRxCR-eiYD",
        "colab_type": "text"
      },
      "source": [
        "**Computation on NumPy Arrays: Universal Functions**\n",
        "\n",
        "* NumPy provides an easy and flexible interface to optimized computation with arrays of data\n",
        "\n",
        "* NumPy arrays can be very fast, or it can be very slow. The key to making it fast is to use vectorized operations, generally implemented through NumPy’s universal functions (ufuncs)."
      ]
    },
    {
      "cell_type": "markdown",
      "metadata": {
        "id": "6i0tJSabfh55",
        "colab_type": "text"
      },
      "source": [
        "Cython project: converts Python code to compilable C code\n",
        "\n",
        "Numba project: converts snippets(small region of re-usable source code, machine code, or text) of Python code to fast LLVM (used to store the intermediate representation on disk in compacted form) bytecode"
      ]
    },
    {
      "cell_type": "code",
      "metadata": {
        "id": "gzgQAaZRuCFp",
        "colab_type": "code",
        "outputId": "55bb28c1-e955-4efd-eaec-a2f48141db97",
        "colab": {
          "base_uri": "https://localhost:8080/",
          "height": 34
        }
      },
      "source": [
        "np.empty(5)"
      ],
      "execution_count": 126,
      "outputs": [
        {
          "output_type": "execute_result",
          "data": {
            "text/plain": [
              "array([0.0e+000, 4.9e-324, 9.9e-324, 1.5e-323, 2.0e-323])"
            ]
          },
          "metadata": {
            "tags": []
          },
          "execution_count": 126
        }
      ]
    },
    {
      "cell_type": "code",
      "metadata": {
        "id": "dTmgj3VwhUnk",
        "colab_type": "code",
        "outputId": "d035bcb5-b455-409a-d5db-db3c5e844370",
        "colab": {
          "base_uri": "https://localhost:8080/",
          "height": 86
        }
      },
      "source": [
        "def compute_reciprocals(arr):\n",
        "    output = np.empty(len(arr))\n",
        "\n",
        "    for i in range(len(arr)):\n",
        "        output[i] = 1/arr[i]\n",
        "    return output\n",
        "\n",
        "\n",
        "arr = np.arange(1,5)\n",
        "print(\"arr: \", arr)\n",
        "%timeit output = compute_reciprocals(arr)\n",
        "print(\"outPut: \", compute_reciprocals(arr))"
      ],
      "execution_count": 127,
      "outputs": [
        {
          "output_type": "stream",
          "text": [
            "arr:  [1 2 3 4]\n",
            "The slowest run took 12.64 times longer than the fastest. This could mean that an intermediate result is being cached.\n",
            "100000 loops, best of 3: 2.79 µs per loop\n",
            "outPut:  [1.         0.5        0.33333333 0.25      ]\n"
          ],
          "name": "stdout"
        }
      ]
    },
    {
      "cell_type": "code",
      "metadata": {
        "id": "EDz6IRAWh7AK",
        "colab_type": "code",
        "outputId": "80a452b5-156e-4ac5-a888-731900e57b28",
        "colab": {
          "base_uri": "https://localhost:8080/",
          "height": 34
        }
      },
      "source": [
        "%timeit compute_reciprocals(np.arange(1,1001))"
      ],
      "execution_count": 128,
      "outputs": [
        {
          "output_type": "stream",
          "text": [
            "1000 loops, best of 3: 411 µs per loop\n"
          ],
          "name": "stdout"
        }
      ]
    },
    {
      "cell_type": "markdown",
      "metadata": {
        "id": "MrLzboEHj4N6",
        "colab_type": "text"
      },
      "source": [
        "Vectorized operation: You can accomplish this by simply performing an operation on the array, which will then be applied to each element. This vectorized approach is designed to push the loop into the compiled layer that underlies NumPy, leading to much faster execution."
      ]
    },
    {
      "cell_type": "code",
      "metadata": {
        "id": "dXe-zwWpioyE",
        "colab_type": "code",
        "outputId": "9f86b7d2-c1d2-4f73-896e-886e9907eb3c",
        "colab": {
          "base_uri": "https://localhost:8080/",
          "height": 34
        }
      },
      "source": [
        "arr = np.array([1,3,4.02, 'roja'])\n",
        "arr"
      ],
      "execution_count": 129,
      "outputs": [
        {
          "output_type": "execute_result",
          "data": {
            "text/plain": [
              "array(['1', '3', '4.02', 'roja'], dtype='<U32')"
            ]
          },
          "metadata": {
            "tags": []
          },
          "execution_count": 129
        }
      ]
    },
    {
      "cell_type": "code",
      "metadata": {
        "id": "T4OuN8q1kDdE",
        "colab_type": "code",
        "outputId": "1be20fa4-4274-41fe-f87c-7861d351c657",
        "colab": {
          "base_uri": "https://localhost:8080/",
          "height": 69
        }
      },
      "source": [
        "arr = np.arange(1, 10)\n",
        "print(\"Arr: \", arr)\n",
        "1/arr"
      ],
      "execution_count": 130,
      "outputs": [
        {
          "output_type": "stream",
          "text": [
            "Arr:  [1 2 3 4 5 6 7 8 9]\n"
          ],
          "name": "stdout"
        },
        {
          "output_type": "execute_result",
          "data": {
            "text/plain": [
              "array([1.        , 0.5       , 0.33333333, 0.25      , 0.2       ,\n",
              "       0.16666667, 0.14285714, 0.125     , 0.11111111])"
            ]
          },
          "metadata": {
            "tags": []
          },
          "execution_count": 130
        }
      ]
    },
    {
      "cell_type": "code",
      "metadata": {
        "id": "X0upf3N1kNUv",
        "colab_type": "code",
        "outputId": "35c079c1-52d0-441d-bb67-4e4993ae07ad",
        "colab": {
          "base_uri": "https://localhost:8080/",
          "height": 52
        }
      },
      "source": [
        "%timeit 1/np.arange(1,1000)"
      ],
      "execution_count": 131,
      "outputs": [
        {
          "output_type": "stream",
          "text": [
            "The slowest run took 101.05 times longer than the fastest. This could mean that an intermediate result is being cached.\n",
            "100000 loops, best of 3: 5.81 µs per loop\n"
          ],
          "name": "stdout"
        }
      ]
    },
    {
      "cell_type": "code",
      "metadata": {
        "id": "NpWGSGcLka8d",
        "colab_type": "code",
        "outputId": "d4332ae6-d93b-40de-a631-cbf298885298",
        "colab": {
          "base_uri": "https://localhost:8080/",
          "height": 52
        }
      },
      "source": [
        "%timeit np.arange(5)/np.arange(1,6)"
      ],
      "execution_count": 132,
      "outputs": [
        {
          "output_type": "stream",
          "text": [
            "The slowest run took 115.19 times longer than the fastest. This could mean that an intermediate result is being cached.\n",
            "100000 loops, best of 3: 2.47 µs per loop\n"
          ],
          "name": "stdout"
        }
      ]
    },
    {
      "cell_type": "code",
      "metadata": {
        "id": "75cOCr8kk2gv",
        "colab_type": "code",
        "outputId": "ebb2de48-6a8a-41dd-9f4d-6a495e6872d3",
        "colab": {
          "base_uri": "https://localhost:8080/",
          "height": 86
        }
      },
      "source": [
        "arr = np.arange(1,21).reshape(4,5)\n",
        "arr"
      ],
      "execution_count": 133,
      "outputs": [
        {
          "output_type": "execute_result",
          "data": {
            "text/plain": [
              "array([[ 1,  2,  3,  4,  5],\n",
              "       [ 6,  7,  8,  9, 10],\n",
              "       [11, 12, 13, 14, 15],\n",
              "       [16, 17, 18, 19, 20]])"
            ]
          },
          "metadata": {
            "tags": []
          },
          "execution_count": 133
        }
      ]
    },
    {
      "cell_type": "markdown",
      "metadata": {
        "id": "2tmAGCdxpWDC",
        "colab_type": "text"
      },
      "source": [
        "**Arthematic Functions**"
      ]
    },
    {
      "cell_type": "code",
      "metadata": {
        "id": "0orhUpyJmUiM",
        "colab_type": "code",
        "outputId": "65c4e5c9-1895-49c4-eca9-1ce845e69d36",
        "colab": {
          "base_uri": "https://localhost:8080/",
          "height": 86
        }
      },
      "source": [
        "np.add(arr,2)"
      ],
      "execution_count": 134,
      "outputs": [
        {
          "output_type": "execute_result",
          "data": {
            "text/plain": [
              "array([[ 3,  4,  5,  6,  7],\n",
              "       [ 8,  9, 10, 11, 12],\n",
              "       [13, 14, 15, 16, 17],\n",
              "       [18, 19, 20, 21, 22]])"
            ]
          },
          "metadata": {
            "tags": []
          },
          "execution_count": 134
        }
      ]
    },
    {
      "cell_type": "code",
      "metadata": {
        "id": "-2rLFiAXlAt6",
        "colab_type": "code",
        "outputId": "e73d3154-4fc2-44b3-8273-abd876880904",
        "colab": {
          "base_uri": "https://localhost:8080/",
          "height": 156
        }
      },
      "source": [
        "print(np.multiply(2,arr))\n",
        "2*arr"
      ],
      "execution_count": 135,
      "outputs": [
        {
          "output_type": "stream",
          "text": [
            "[[ 2  4  6  8 10]\n",
            " [12 14 16 18 20]\n",
            " [22 24 26 28 30]\n",
            " [32 34 36 38 40]]\n"
          ],
          "name": "stdout"
        },
        {
          "output_type": "execute_result",
          "data": {
            "text/plain": [
              "array([[ 2,  4,  6,  8, 10],\n",
              "       [12, 14, 16, 18, 20],\n",
              "       [22, 24, 26, 28, 30],\n",
              "       [32, 34, 36, 38, 40]])"
            ]
          },
          "metadata": {
            "tags": []
          },
          "execution_count": 135
        }
      ]
    },
    {
      "cell_type": "code",
      "metadata": {
        "id": "D8aEvtjslS3K",
        "colab_type": "code",
        "outputId": "aba1c318-d67c-43fa-c816-c6f18f6804ff",
        "colab": {
          "base_uri": "https://localhost:8080/",
          "height": 86
        }
      },
      "source": [
        "2+arr"
      ],
      "execution_count": 136,
      "outputs": [
        {
          "output_type": "execute_result",
          "data": {
            "text/plain": [
              "array([[ 3,  4,  5,  6,  7],\n",
              "       [ 8,  9, 10, 11, 12],\n",
              "       [13, 14, 15, 16, 17],\n",
              "       [18, 19, 20, 21, 22]])"
            ]
          },
          "metadata": {
            "tags": []
          },
          "execution_count": 136
        }
      ]
    },
    {
      "cell_type": "code",
      "metadata": {
        "id": "xm4s-KhAlVDG",
        "colab_type": "code",
        "outputId": "4b6ab1d6-4e58-45b3-a249-c306ba1d13e3",
        "colab": {
          "base_uri": "https://localhost:8080/",
          "height": 156
        }
      },
      "source": [
        "print(np.subtract(2,arr))\n",
        "2-arr"
      ],
      "execution_count": 137,
      "outputs": [
        {
          "output_type": "stream",
          "text": [
            "[[  1   0  -1  -2  -3]\n",
            " [ -4  -5  -6  -7  -8]\n",
            " [ -9 -10 -11 -12 -13]\n",
            " [-14 -15 -16 -17 -18]]\n"
          ],
          "name": "stdout"
        },
        {
          "output_type": "execute_result",
          "data": {
            "text/plain": [
              "array([[  1,   0,  -1,  -2,  -3],\n",
              "       [ -4,  -5,  -6,  -7,  -8],\n",
              "       [ -9, -10, -11, -12, -13],\n",
              "       [-14, -15, -16, -17, -18]])"
            ]
          },
          "metadata": {
            "tags": []
          },
          "execution_count": 137
        }
      ]
    },
    {
      "cell_type": "code",
      "metadata": {
        "id": "miYMtdl3lXSi",
        "colab_type": "code",
        "outputId": "6f06c14c-6926-4796-db81-e224a01e1342",
        "colab": {
          "base_uri": "https://localhost:8080/",
          "height": 86
        }
      },
      "source": [
        "arr-2"
      ],
      "execution_count": 138,
      "outputs": [
        {
          "output_type": "execute_result",
          "data": {
            "text/plain": [
              "array([[-1,  0,  1,  2,  3],\n",
              "       [ 4,  5,  6,  7,  8],\n",
              "       [ 9, 10, 11, 12, 13],\n",
              "       [14, 15, 16, 17, 18]])"
            ]
          },
          "metadata": {
            "tags": []
          },
          "execution_count": 138
        }
      ]
    },
    {
      "cell_type": "code",
      "metadata": {
        "id": "sMj504X7laHe",
        "colab_type": "code",
        "outputId": "7b091ae7-4c1a-4590-b438-0583ed1e8059",
        "colab": {
          "base_uri": "https://localhost:8080/",
          "height": 156
        }
      },
      "source": [
        "print(np.divide(2,arr))\n",
        "2/arr"
      ],
      "execution_count": 139,
      "outputs": [
        {
          "output_type": "stream",
          "text": [
            "[[2.         1.         0.66666667 0.5        0.4       ]\n",
            " [0.33333333 0.28571429 0.25       0.22222222 0.2       ]\n",
            " [0.18181818 0.16666667 0.15384615 0.14285714 0.13333333]\n",
            " [0.125      0.11764706 0.11111111 0.10526316 0.1       ]]\n"
          ],
          "name": "stdout"
        },
        {
          "output_type": "execute_result",
          "data": {
            "text/plain": [
              "array([[2.        , 1.        , 0.66666667, 0.5       , 0.4       ],\n",
              "       [0.33333333, 0.28571429, 0.25      , 0.22222222, 0.2       ],\n",
              "       [0.18181818, 0.16666667, 0.15384615, 0.14285714, 0.13333333],\n",
              "       [0.125     , 0.11764706, 0.11111111, 0.10526316, 0.1       ]])"
            ]
          },
          "metadata": {
            "tags": []
          },
          "execution_count": 139
        }
      ]
    },
    {
      "cell_type": "code",
      "metadata": {
        "id": "at04a1oglc7E",
        "colab_type": "code",
        "outputId": "b41f00f3-75d5-4a1b-b680-ddc86e19d2cf",
        "colab": {
          "base_uri": "https://localhost:8080/",
          "height": 86
        }
      },
      "source": [
        "2**arr"
      ],
      "execution_count": 140,
      "outputs": [
        {
          "output_type": "execute_result",
          "data": {
            "text/plain": [
              "array([[      2,       4,       8,      16,      32],\n",
              "       [     64,     128,     256,     512,    1024],\n",
              "       [   2048,    4096,    8192,   16384,   32768],\n",
              "       [  65536,  131072,  262144,  524288, 1048576]])"
            ]
          },
          "metadata": {
            "tags": []
          },
          "execution_count": 140
        }
      ]
    },
    {
      "cell_type": "code",
      "metadata": {
        "id": "yb-SPezxlntj",
        "colab_type": "code",
        "outputId": "290ea7dc-4186-4fa9-cfb5-07ff68fea8d6",
        "colab": {
          "base_uri": "https://localhost:8080/",
          "height": 156
        }
      },
      "source": [
        "print(np.power(arr, 2))\n",
        "arr**2"
      ],
      "execution_count": 141,
      "outputs": [
        {
          "output_type": "stream",
          "text": [
            "[[  1   4   9  16  25]\n",
            " [ 36  49  64  81 100]\n",
            " [121 144 169 196 225]\n",
            " [256 289 324 361 400]]\n"
          ],
          "name": "stdout"
        },
        {
          "output_type": "execute_result",
          "data": {
            "text/plain": [
              "array([[  1,   4,   9,  16,  25],\n",
              "       [ 36,  49,  64,  81, 100],\n",
              "       [121, 144, 169, 196, 225],\n",
              "       [256, 289, 324, 361, 400]])"
            ]
          },
          "metadata": {
            "tags": []
          },
          "execution_count": 141
        }
      ]
    },
    {
      "cell_type": "code",
      "metadata": {
        "id": "91ipHrSBlrtm",
        "colab_type": "code",
        "outputId": "03d901ff-a832-42bb-993b-f83a4a7d1f96",
        "colab": {
          "base_uri": "https://localhost:8080/",
          "height": 156
        }
      },
      "source": [
        "print(np.negative(arr))\n",
        "-arr"
      ],
      "execution_count": 142,
      "outputs": [
        {
          "output_type": "stream",
          "text": [
            "[[ -1  -2  -3  -4  -5]\n",
            " [ -6  -7  -8  -9 -10]\n",
            " [-11 -12 -13 -14 -15]\n",
            " [-16 -17 -18 -19 -20]]\n"
          ],
          "name": "stdout"
        },
        {
          "output_type": "execute_result",
          "data": {
            "text/plain": [
              "array([[ -1,  -2,  -3,  -4,  -5],\n",
              "       [ -6,  -7,  -8,  -9, -10],\n",
              "       [-11, -12, -13, -14, -15],\n",
              "       [-16, -17, -18, -19, -20]])"
            ]
          },
          "metadata": {
            "tags": []
          },
          "execution_count": 142
        }
      ]
    },
    {
      "cell_type": "code",
      "metadata": {
        "id": "RMkjIEWymBCx",
        "colab_type": "code",
        "outputId": "e14ec4b2-82e4-4eb9-dd3d-ad5f0f4175d0",
        "colab": {
          "base_uri": "https://localhost:8080/",
          "height": 156
        }
      },
      "source": [
        "print(np.floor_divide(2, arr))\n",
        "2//arr"
      ],
      "execution_count": 143,
      "outputs": [
        {
          "output_type": "stream",
          "text": [
            "[[2 1 0 0 0]\n",
            " [0 0 0 0 0]\n",
            " [0 0 0 0 0]\n",
            " [0 0 0 0 0]]\n"
          ],
          "name": "stdout"
        },
        {
          "output_type": "execute_result",
          "data": {
            "text/plain": [
              "array([[2, 1, 0, 0, 0],\n",
              "       [0, 0, 0, 0, 0],\n",
              "       [0, 0, 0, 0, 0],\n",
              "       [0, 0, 0, 0, 0]])"
            ]
          },
          "metadata": {
            "tags": []
          },
          "execution_count": 143
        }
      ]
    },
    {
      "cell_type": "code",
      "metadata": {
        "id": "wKT7-z7VmJ4w",
        "colab_type": "code",
        "outputId": "efead899-8e13-41f0-96ae-1bf714a6ca5c",
        "colab": {
          "base_uri": "https://localhost:8080/",
          "height": 156
        }
      },
      "source": [
        "print(np.mod(arr,10))\n",
        "arr%10"
      ],
      "execution_count": 144,
      "outputs": [
        {
          "output_type": "stream",
          "text": [
            "[[1 2 3 4 5]\n",
            " [6 7 8 9 0]\n",
            " [1 2 3 4 5]\n",
            " [6 7 8 9 0]]\n"
          ],
          "name": "stdout"
        },
        {
          "output_type": "execute_result",
          "data": {
            "text/plain": [
              "array([[1, 2, 3, 4, 5],\n",
              "       [6, 7, 8, 9, 0],\n",
              "       [1, 2, 3, 4, 5],\n",
              "       [6, 7, 8, 9, 0]])"
            ]
          },
          "metadata": {
            "tags": []
          },
          "execution_count": 144
        }
      ]
    },
    {
      "cell_type": "code",
      "metadata": {
        "id": "keG_k1rioDqd",
        "colab_type": "code",
        "outputId": "c007ada1-7255-4a01-c709-214999bf7ad7",
        "colab": {
          "base_uri": "https://localhost:8080/",
          "height": 86
        }
      },
      "source": [
        "# Absolute value\n",
        "a = np.arange(-5,5)\n",
        "print(\"a: \", a)\n",
        "%timeit abs(a)\n",
        "print(\"absolute values of a: \", abs(a))"
      ],
      "execution_count": 145,
      "outputs": [
        {
          "output_type": "stream",
          "text": [
            "a:  [-5 -4 -3 -2 -1  0  1  2  3  4]\n",
            "The slowest run took 42.00 times longer than the fastest. This could mean that an intermediate result is being cached.\n",
            "1000000 loops, best of 3: 445 ns per loop\n",
            "absolute values of a:  [5 4 3 2 1 0 1 2 3 4]\n"
          ],
          "name": "stdout"
        }
      ]
    },
    {
      "cell_type": "code",
      "metadata": {
        "id": "tOHx3JQwoeiV",
        "colab_type": "code",
        "outputId": "6e4f698c-c0c3-4673-8181-fdb59b5fd01a",
        "colab": {
          "base_uri": "https://localhost:8080/",
          "height": 69
        }
      },
      "source": [
        "%timeit np.absolute(a)\n",
        "np.absolute(a)"
      ],
      "execution_count": 146,
      "outputs": [
        {
          "output_type": "stream",
          "text": [
            "The slowest run took 40.68 times longer than the fastest. This could mean that an intermediate result is being cached.\n",
            "1000000 loops, best of 3: 456 ns per loop\n"
          ],
          "name": "stdout"
        },
        {
          "output_type": "execute_result",
          "data": {
            "text/plain": [
              "array([5, 4, 3, 2, 1, 0, 1, 2, 3, 4])"
            ]
          },
          "metadata": {
            "tags": []
          },
          "execution_count": 146
        }
      ]
    },
    {
      "cell_type": "code",
      "metadata": {
        "id": "-LUMVhEwo67z",
        "colab_type": "code",
        "outputId": "89e6fb6f-482d-4206-cbdf-9925ce24149f",
        "colab": {
          "base_uri": "https://localhost:8080/",
          "height": 52
        }
      },
      "source": [
        "%timeit np.abs(a)"
      ],
      "execution_count": 147,
      "outputs": [
        {
          "output_type": "stream",
          "text": [
            "The slowest run took 43.40 times longer than the fastest. This could mean that an intermediate result is being cached.\n",
            "1000000 loops, best of 3: 451 ns per loop\n"
          ],
          "name": "stdout"
        }
      ]
    },
    {
      "cell_type": "markdown",
      "metadata": {
        "id": "cAgWHT6XpRGI",
        "colab_type": "text"
      },
      "source": [
        "**Trigonometric functions**"
      ]
    },
    {
      "cell_type": "code",
      "metadata": {
        "id": "NBf2UcTHpFOd",
        "colab_type": "code",
        "outputId": "263720a9-fe38-43f7-9630-777c7314d8e5",
        "colab": {
          "base_uri": "https://localhost:8080/",
          "height": 34
        }
      },
      "source": [
        "np.pi"
      ],
      "execution_count": 148,
      "outputs": [
        {
          "output_type": "execute_result",
          "data": {
            "text/plain": [
              "3.141592653589793"
            ]
          },
          "metadata": {
            "tags": []
          },
          "execution_count": 148
        }
      ]
    },
    {
      "cell_type": "code",
      "metadata": {
        "id": "4JqZ_lCMpnZZ",
        "colab_type": "code",
        "outputId": "3eba2e52-1dae-46ca-8e4e-afa5f1fa4944",
        "colab": {
          "base_uri": "https://localhost:8080/",
          "height": 34
        }
      },
      "source": [
        "theta = np.linspace(0,2,4)\n",
        "theta"
      ],
      "execution_count": 149,
      "outputs": [
        {
          "output_type": "execute_result",
          "data": {
            "text/plain": [
              "array([0.        , 0.66666667, 1.33333333, 2.        ])"
            ]
          },
          "metadata": {
            "tags": []
          },
          "execution_count": 149
        }
      ]
    },
    {
      "cell_type": "code",
      "metadata": {
        "id": "AoHmxhW8pzm-",
        "colab_type": "code",
        "outputId": "ab3c17cd-9dfa-4f03-8448-78a84576cc48",
        "colab": {
          "base_uri": "https://localhost:8080/",
          "height": 69
        }
      },
      "source": [
        "print(\"sin(theta): \", np.sin(theta))\n",
        "print(\"cos(theta): \", np.cos(theta))\n",
        "print(\"tan(theta): \", np.tan(theta))"
      ],
      "execution_count": 150,
      "outputs": [
        {
          "output_type": "stream",
          "text": [
            "sin(theta):  [0.         0.6183698  0.9719379  0.90929743]\n",
            "cos(theta):  [ 1.          0.78588726  0.23523757 -0.41614684]\n",
            "tan(theta):  [ 0.          0.78684289  4.13172899 -2.18503986]\n"
          ],
          "name": "stdout"
        }
      ]
    },
    {
      "cell_type": "code",
      "metadata": {
        "id": "W4UKQ3NZqlOA",
        "colab_type": "code",
        "outputId": "55716fb2-c7a3-435c-afaa-f21250701549",
        "colab": {
          "base_uri": "https://localhost:8080/",
          "height": 121
        }
      },
      "source": [
        "x=np.array([-1, 0, 1])\n",
        "\n",
        "print(\"arctan(x): \", np.arctan(x))\n",
        "print(\"arctanh(x): \", np.arctanh(x))\n",
        "print(\"arcsin(x): \", np.arcsin(x))\n",
        "print(\"arccos(x): \", np.arccos(x))"
      ],
      "execution_count": 151,
      "outputs": [
        {
          "output_type": "stream",
          "text": [
            "arctan(x):  [-0.78539816  0.          0.78539816]\n",
            "arctanh(x):  [-inf   0.  inf]\n",
            "arcsin(x):  [-1.57079633  0.          1.57079633]\n",
            "arccos(x):  [3.14159265 1.57079633 0.        ]\n"
          ],
          "name": "stdout"
        },
        {
          "output_type": "stream",
          "text": [
            "/usr/local/lib/python3.6/dist-packages/ipykernel_launcher.py:4: RuntimeWarning: divide by zero encountered in arctanh\n",
            "  after removing the cwd from sys.path.\n"
          ],
          "name": "stderr"
        }
      ]
    },
    {
      "cell_type": "code",
      "metadata": {
        "id": "A7aNHzXuq6fN",
        "colab_type": "code",
        "outputId": "35ee89b7-5194-42fe-b0f8-3c04e0b05835",
        "colab": {
          "base_uri": "https://localhost:8080/",
          "height": 86
        }
      },
      "source": [
        "x=np.random.randint(-1, 2, (5))\n",
        "print(x)\n",
        "print(\"arctan(x): \", np.arctan(x))\n",
        "print(\"arcsin(x): \", np.arcsin(x))\n",
        "print(\"arccos(x): \", np.arccos(x))"
      ],
      "execution_count": 152,
      "outputs": [
        {
          "output_type": "stream",
          "text": [
            "[ 0  0  1 -1  0]\n",
            "arctan(x):  [ 0.          0.          0.78539816 -0.78539816  0.        ]\n",
            "arcsin(x):  [ 0.          0.          1.57079633 -1.57079633  0.        ]\n",
            "arccos(x):  [1.57079633 1.57079633 0.         3.14159265 1.57079633]\n"
          ],
          "name": "stdout"
        }
      ]
    },
    {
      "cell_type": "markdown",
      "metadata": {
        "id": "yaf59AD_r_fA",
        "colab_type": "text"
      },
      "source": [
        "**Exponents and logarithms**"
      ]
    },
    {
      "cell_type": "code",
      "metadata": {
        "id": "-YiTI7P1raMH",
        "colab_type": "code",
        "outputId": "29e480bd-3fb4-4740-d73c-06aeb7ee4a70",
        "colab": {
          "base_uri": "https://localhost:8080/",
          "height": 104
        }
      },
      "source": [
        "x=np.arange(5)\n",
        "print(x)\n",
        "print(\"e^x: \", np.exp(x))\n",
        "print(\"2^x: \", np.exp2(x))\n",
        "print(\"3^x\", np.power(3,x))\n",
        "print(\"e^1: \", np.exp(1))"
      ],
      "execution_count": 153,
      "outputs": [
        {
          "output_type": "stream",
          "text": [
            "[0 1 2 3 4]\n",
            "e^x:  [ 1.          2.71828183  7.3890561  20.08553692 54.59815003]\n",
            "2^x:  [ 1.  2.  4.  8. 16.]\n",
            "3^x [ 1  3  9 27 81]\n",
            "e^1:  2.718281828459045\n"
          ],
          "name": "stdout"
        }
      ]
    },
    {
      "cell_type": "markdown",
      "metadata": {
        "id": "EmWAFdBVs5JX",
        "colab_type": "text"
      },
      "source": [
        "inverse of the exponentials are logarithms"
      ]
    },
    {
      "cell_type": "code",
      "metadata": {
        "id": "WIyg6oifsVe6",
        "colab_type": "code",
        "outputId": "267f9ee8-2e4e-4302-afb6-75dac5e4fdbd",
        "colab": {
          "base_uri": "https://localhost:8080/",
          "height": 191
        }
      },
      "source": [
        "x=np.arange(1,11)\n",
        "print(x)\n",
        "print(\"\\nlog(x): \", np.log(x))\n",
        "print(\"\\nlog2(x): \", np.log2(x))\n",
        "print(\"\\nlog10(x): \", np.log10(x))"
      ],
      "execution_count": 154,
      "outputs": [
        {
          "output_type": "stream",
          "text": [
            "[ 1  2  3  4  5  6  7  8  9 10]\n",
            "\n",
            "log(x):  [0.         0.69314718 1.09861229 1.38629436 1.60943791 1.79175947\n",
            " 1.94591015 2.07944154 2.19722458 2.30258509]\n",
            "\n",
            "log2(x):  [0.         1.         1.5849625  2.         2.32192809 2.5849625\n",
            " 2.80735492 3.         3.169925   3.32192809]\n",
            "\n",
            "log10(x):  [0.         0.30103    0.47712125 0.60205999 0.69897    0.77815125\n",
            " 0.84509804 0.90308999 0.95424251 1.        ]\n"
          ],
          "name": "stdout"
        }
      ]
    },
    {
      "cell_type": "code",
      "metadata": {
        "id": "mQwkA1n3tSEv",
        "colab_type": "code",
        "outputId": "bd7dbb30-1fcc-425a-8359-6d9a3aeb4ffc",
        "colab": {
          "base_uri": "https://localhost:8080/",
          "height": 69
        }
      },
      "source": [
        "x=np.array([0, 0.01, 0.1, 10])\n",
        "print(x)\n",
        "print(\"exp(x)-1: \", np.expm1(x))\n",
        "print('log(1+x): ', np.log1p(x))"
      ],
      "execution_count": 155,
      "outputs": [
        {
          "output_type": "stream",
          "text": [
            "[ 0.    0.01  0.1  10.  ]\n",
            "exp(x)-1:  [0.00000000e+00 1.00501671e-02 1.05170918e-01 2.20254658e+04]\n",
            "log(1+x):  [0.         0.00995033 0.09531018 2.39789527]\n"
          ],
          "name": "stdout"
        }
      ]
    },
    {
      "cell_type": "markdown",
      "metadata": {
        "id": "WWRpn-qxf6ux",
        "colab_type": "text"
      },
      "source": [
        "**Specilized UFunctions**\n"
      ]
    },
    {
      "cell_type": "markdown",
      "metadata": {
        "id": "ndpoN_eziSUX",
        "colab_type": "text"
      },
      "source": [
        "gamma(x) means \n",
        "* for positive integer (x-1)!\n",
        "* for negative integers gamma function is not defined\n",
        "* for positive half integers \n",
        "[formula](https://wikimedia.org/api/rest_v1/media/math/render/svg/efb738055021cb3d3b77c02010195d3b75b87bef)\n",
        "\n",
        "\n",
        "![alt text](https://wikimedia.org/api/rest_v1/media/math/render/svg/efb738055021cb3d3b77c02010195d3b75b87bef)\n",
        "\n",
        "\n",
        " equivalently, for non-negative integer values of n: \n",
        "\n",
        " ![alt text](https://wikimedia.org/api/rest_v1/media/math/render/svg/ea99218c0f7647b303c2cefe004358990c7b0a7e)"
      ]
    },
    {
      "cell_type": "code",
      "metadata": {
        "id": "Okur4oTQuhdd",
        "colab_type": "code",
        "outputId": "061b3a85-dc28-45fd-8bbd-4102f2f28c69",
        "colab": {
          "base_uri": "https://localhost:8080/",
          "height": 69
        }
      },
      "source": [
        "from scipy import special\n",
        "x=np.array([1,5,10,15])\n",
        "print(\"gamma(x): \", special.gamma(x))\n",
        "print(\"ln/gamma(x): \", special.gammaln(x))\n",
        "print(\"beta(x): \", special.beta(x,2))"
      ],
      "execution_count": 156,
      "outputs": [
        {
          "output_type": "stream",
          "text": [
            "gamma(x):  [1.00000000e+00 2.40000000e+01 3.62880000e+05 8.71782912e+10]\n",
            "ln/gamma(x):  [ 0.          3.17805383 12.80182748 25.19122118]\n",
            "beta(x):  [0.5        0.03333333 0.00909091 0.00416667]\n"
          ],
          "name": "stdout"
        }
      ]
    },
    {
      "cell_type": "code",
      "metadata": {
        "id": "4YXU_kWHuucQ",
        "colab_type": "code",
        "outputId": "e18a9b4b-acb3-4374-e234-c1da5c5d402b",
        "colab": {
          "base_uri": "https://localhost:8080/",
          "height": 34
        }
      },
      "source": [
        "special.gamma([-5,0,5])"
      ],
      "execution_count": 157,
      "outputs": [
        {
          "output_type": "execute_result",
          "data": {
            "text/plain": [
              "array([inf, inf, 24.])"
            ]
          },
          "metadata": {
            "tags": []
          },
          "execution_count": 157
        }
      ]
    },
    {
      "cell_type": "code",
      "metadata": {
        "id": "TModZ2N7hVEl",
        "colab_type": "code",
        "outputId": "42d46894-8619-496d-ca6e-041ecab0dcc1",
        "colab": {
          "base_uri": "https://localhost:8080/",
          "height": 34
        }
      },
      "source": [
        "special.gamma(10)"
      ],
      "execution_count": 158,
      "outputs": [
        {
          "output_type": "execute_result",
          "data": {
            "text/plain": [
              "362880.0"
            ]
          },
          "metadata": {
            "tags": []
          },
          "execution_count": 158
        }
      ]
    },
    {
      "cell_type": "code",
      "metadata": {
        "id": "th5V-v1bhvpS",
        "colab_type": "code",
        "outputId": "44201fd6-6015-4b3f-a76e-58045c309c59",
        "colab": {
          "base_uri": "https://localhost:8080/",
          "height": 34
        }
      },
      "source": [
        "special.gamma(1/5)"
      ],
      "execution_count": 159,
      "outputs": [
        {
          "output_type": "execute_result",
          "data": {
            "text/plain": [
              "4.5908437119988035"
            ]
          },
          "metadata": {
            "tags": []
          },
          "execution_count": 159
        }
      ]
    },
    {
      "cell_type": "markdown",
      "metadata": {
        "id": "qLug57TTlath",
        "colab_type": "text"
      },
      "source": [
        "beta function, also called the Euler integral of the first kind:\n",
        "\n",
        "![alt text](https://wikimedia.org/api/rest_v1/media/math/render/svg/f4ab12be9722687a96ea0aa6ee3a3e45969053c9)\n",
        "\n",
        "for Re x > 0, Re y > 0. "
      ]
    },
    {
      "cell_type": "code",
      "metadata": {
        "id": "lp9OwMZ6lO3m",
        "colab_type": "code",
        "outputId": "e095c9fe-54d4-4d4a-e083-3574e84552e6",
        "colab": {
          "base_uri": "https://localhost:8080/",
          "height": 34
        }
      },
      "source": [
        "special.beta(2,5)"
      ],
      "execution_count": 160,
      "outputs": [
        {
          "output_type": "execute_result",
          "data": {
            "text/plain": [
              "0.03333333333333333"
            ]
          },
          "metadata": {
            "tags": []
          },
          "execution_count": 160
        }
      ]
    },
    {
      "cell_type": "code",
      "metadata": {
        "id": "N2XTDflIll0e",
        "colab_type": "code",
        "outputId": "ce7510b1-dc49-40da-fefe-fa931afcb019",
        "colab": {
          "base_uri": "https://localhost:8080/",
          "height": 34
        }
      },
      "source": [
        "special.beta(5,2)"
      ],
      "execution_count": 161,
      "outputs": [
        {
          "output_type": "execute_result",
          "data": {
            "text/plain": [
              "0.03333333333333333"
            ]
          },
          "metadata": {
            "tags": []
          },
          "execution_count": 161
        }
      ]
    },
    {
      "cell_type": "markdown",
      "metadata": {
        "id": "bdkxfp9lmI_h",
        "colab_type": "text"
      },
      "source": [
        "relationship between gamma and beta: \n",
        "\n",
        "\n",
        "![alt text](https://wikimedia.org/api/rest_v1/media/math/render/svg/70c94c96b6a5b81af91bc24bf2bbfea915c8071c)\n",
        "\n",
        "\n",
        "\n",
        "![alt text](https://wikimedia.org/api/rest_v1/media/math/render/svg/68d798e3c491712526127e639047ac555fde795f)"
      ]
    },
    {
      "cell_type": "markdown",
      "metadata": {
        "id": "Spe0eXYXmilZ",
        "colab_type": "text"
      },
      "source": [
        "![alt text](https://wikimedia.org/api/rest_v1/media/math/render/svg/12d5eb773aa2c48f53219229a906e1cdc9523d38)"
      ]
    },
    {
      "cell_type": "code",
      "metadata": {
        "id": "Jjps1g6ql8Rb",
        "colab_type": "code",
        "outputId": "4be7d1df-452e-4176-d8e4-13204634c148",
        "colab": {
          "base_uri": "https://localhost:8080/",
          "height": 86
        }
      },
      "source": [
        "# Error function (integral of Gaussian)\n",
        "# its complement, and its inverse\n",
        "x=np.array([0,0.2, 0.6, 1, 5])\n",
        "print(\"erf(x): \", special.erf(x))\n",
        "print(\"erfc(x): \", special.erfc(x))\n",
        "print(\"erfinv(x): \", special.erfinv(x))"
      ],
      "execution_count": 162,
      "outputs": [
        {
          "output_type": "stream",
          "text": [
            "erf(x):  [0.         0.22270259 0.60385609 0.84270079 1.        ]\n",
            "erfc(x):  [1.00000000e+00 7.77297411e-01 3.96143909e-01 1.57299207e-01\n",
            " 1.53745979e-12]\n",
            "erfinv(x):  [0.         0.17914345 0.59511608        inf        nan]\n"
          ],
          "name": "stdout"
        }
      ]
    },
    {
      "cell_type": "markdown",
      "metadata": {
        "id": "WOVpJguMo2JE",
        "colab_type": "text"
      },
      "source": [
        "Specifying output: \n",
        "\n",
        "For large calculations, it is sometimes useful to be able to specify the array where the result of the calculation will be stored. Rather than creating a temporary array, you can use this to write computation results directly to the memory location where you’d like them to be"
      ]
    },
    {
      "cell_type": "code",
      "metadata": {
        "id": "9ssI91dwnt35",
        "colab_type": "code",
        "outputId": "0a91855c-65c3-4bf8-fd45-7fb5dbbd4066",
        "colab": {
          "base_uri": "https://localhost:8080/",
          "height": 69
        }
      },
      "source": [
        "x=np.random.randint(1,10, (5))\n",
        "print(\"x: \", x)\n",
        "y=np.empty(len(x))\n",
        "print(\"y: \", y)\n",
        "np.multiply(x, 10, out=y)\n",
        "print(\"y: \", y)"
      ],
      "execution_count": 163,
      "outputs": [
        {
          "output_type": "stream",
          "text": [
            "x:  [1 5 8 4 3]\n",
            "y:  [0.  0.2 0.6 1.  5. ]\n",
            "y:  [10. 50. 80. 40. 30.]\n"
          ],
          "name": "stdout"
        }
      ]
    },
    {
      "cell_type": "code",
      "metadata": {
        "id": "ADi2EUvfpNd5",
        "colab_type": "code",
        "outputId": "2364fe0c-b820-4ec7-be8f-beb9854ecf85",
        "colab": {
          "base_uri": "https://localhost:8080/",
          "height": 104
        }
      },
      "source": [
        "y=np.empty(10)\n",
        "print(\"y: \", y)\n",
        "x=np.arange(5)\n",
        "print(\"x: \",x)\n",
        "np.power(x,2, out=y[::2])\n",
        "print(\"y: \", y)"
      ],
      "execution_count": 164,
      "outputs": [
        {
          "output_type": "stream",
          "text": [
            "y:  [4.9e-324 9.9e-324 1.5e-323 2.0e-323 2.5e-323 3.0e-323 3.5e-323 4.0e-323\n",
            " 4.4e-323 4.9e-323]\n",
            "x:  [0 1 2 3 4]\n",
            "y:  [0.0e+000 9.9e-324 1.0e+000 2.0e-323 4.0e+000 3.0e-323 9.0e+000 4.0e-323\n",
            " 1.6e+001 4.9e-323]\n"
          ],
          "name": "stdout"
        }
      ]
    },
    {
      "cell_type": "markdown",
      "metadata": {
        "id": "Nthw7iYXrfAz",
        "colab_type": "text"
      },
      "source": [
        "**Aggregations**"
      ]
    },
    {
      "cell_type": "code",
      "metadata": {
        "id": "Z9FDk_Y_p9DT",
        "colab_type": "code",
        "outputId": "8d991cbe-ad89-4a9b-e201-47471c0f1ef2",
        "colab": {
          "base_uri": "https://localhost:8080/",
          "height": 34
        }
      },
      "source": [
        "# calling reduce on the add ufunc returns the sum of all elements in the array \n",
        "\n",
        "x = np.arange(1,11)\n",
        "np.add.reduce(x)"
      ],
      "execution_count": 165,
      "outputs": [
        {
          "output_type": "execute_result",
          "data": {
            "text/plain": [
              "55"
            ]
          },
          "metadata": {
            "tags": []
          },
          "execution_count": 165
        }
      ]
    },
    {
      "cell_type": "code",
      "metadata": {
        "id": "nrbwzWyIsRUk",
        "colab_type": "code",
        "outputId": "b4ddb7f6-aab8-4629-aa54-c3581a1212e3",
        "colab": {
          "base_uri": "https://localhost:8080/",
          "height": 34
        }
      },
      "source": [
        "#calling reduce on the multiply ufunc results in the product of all array elements\n",
        "\n",
        "np.multiply.reduce(x)"
      ],
      "execution_count": 166,
      "outputs": [
        {
          "output_type": "execute_result",
          "data": {
            "text/plain": [
              "3628800"
            ]
          },
          "metadata": {
            "tags": []
          },
          "execution_count": 166
        }
      ]
    },
    {
      "cell_type": "code",
      "metadata": {
        "id": "94unC83xshqH",
        "colab_type": "code",
        "outputId": "cf3d51d6-601f-42cd-a63d-a737010c51ff",
        "colab": {
          "base_uri": "https://localhost:8080/",
          "height": 34
        }
      },
      "source": [
        "# To store all the intermediate results of the computation, we can instead use accumulate\n",
        "\n",
        "np.add.accumulate(x)"
      ],
      "execution_count": 167,
      "outputs": [
        {
          "output_type": "execute_result",
          "data": {
            "text/plain": [
              "array([ 1,  3,  6, 10, 15, 21, 28, 36, 45, 55])"
            ]
          },
          "metadata": {
            "tags": []
          },
          "execution_count": 167
        }
      ]
    },
    {
      "cell_type": "code",
      "metadata": {
        "id": "Tn_vRLMytGvc",
        "colab_type": "code",
        "outputId": "ee9223c5-e2de-42d8-9e94-b332c5c7bc74",
        "colab": {
          "base_uri": "https://localhost:8080/",
          "height": 52
        }
      },
      "source": [
        "np.multiply.accumulate(x)"
      ],
      "execution_count": 168,
      "outputs": [
        {
          "output_type": "execute_result",
          "data": {
            "text/plain": [
              "array([      1,       2,       6,      24,     120,     720,    5040,\n",
              "         40320,  362880, 3628800])"
            ]
          },
          "metadata": {
            "tags": []
          },
          "execution_count": 168
        }
      ]
    },
    {
      "cell_type": "markdown",
      "metadata": {
        "id": "pPB_5uL-tgUr",
        "colab_type": "text"
      },
      "source": [
        "**Outer functions**\n",
        "\n",
        "any ufunc can compute the output of all pairs of two different inputs using the outer method. This allows you, in one line, to do things like create a multiplication table"
      ]
    },
    {
      "cell_type": "code",
      "metadata": {
        "id": "lJfcB-SKtKLu",
        "colab_type": "code",
        "outputId": "c75ab145-4c78-4689-d558-fb7c65fb381e",
        "colab": {
          "base_uri": "https://localhost:8080/",
          "height": 225
        }
      },
      "source": [
        "print(x)\n",
        "print()\n",
        "np.add.outer(x,x)\n"
      ],
      "execution_count": 169,
      "outputs": [
        {
          "output_type": "stream",
          "text": [
            "[ 1  2  3  4  5  6  7  8  9 10]\n",
            "\n"
          ],
          "name": "stdout"
        },
        {
          "output_type": "execute_result",
          "data": {
            "text/plain": [
              "array([[ 2,  3,  4,  5,  6,  7,  8,  9, 10, 11],\n",
              "       [ 3,  4,  5,  6,  7,  8,  9, 10, 11, 12],\n",
              "       [ 4,  5,  6,  7,  8,  9, 10, 11, 12, 13],\n",
              "       [ 5,  6,  7,  8,  9, 10, 11, 12, 13, 14],\n",
              "       [ 6,  7,  8,  9, 10, 11, 12, 13, 14, 15],\n",
              "       [ 7,  8,  9, 10, 11, 12, 13, 14, 15, 16],\n",
              "       [ 8,  9, 10, 11, 12, 13, 14, 15, 16, 17],\n",
              "       [ 9, 10, 11, 12, 13, 14, 15, 16, 17, 18],\n",
              "       [10, 11, 12, 13, 14, 15, 16, 17, 18, 19],\n",
              "       [11, 12, 13, 14, 15, 16, 17, 18, 19, 20]])"
            ]
          },
          "metadata": {
            "tags": []
          },
          "execution_count": 169
        }
      ]
    },
    {
      "cell_type": "code",
      "metadata": {
        "id": "7SHzK5LNuN9R",
        "colab_type": "code",
        "outputId": "a65ca741-c9ac-4426-fc94-6c5a7ce038f9",
        "colab": {
          "base_uri": "https://localhost:8080/",
          "height": 191
        }
      },
      "source": [
        "np.multiply.outer(x,x)"
      ],
      "execution_count": 170,
      "outputs": [
        {
          "output_type": "execute_result",
          "data": {
            "text/plain": [
              "array([[  1,   2,   3,   4,   5,   6,   7,   8,   9,  10],\n",
              "       [  2,   4,   6,   8,  10,  12,  14,  16,  18,  20],\n",
              "       [  3,   6,   9,  12,  15,  18,  21,  24,  27,  30],\n",
              "       [  4,   8,  12,  16,  20,  24,  28,  32,  36,  40],\n",
              "       [  5,  10,  15,  20,  25,  30,  35,  40,  45,  50],\n",
              "       [  6,  12,  18,  24,  30,  36,  42,  48,  54,  60],\n",
              "       [  7,  14,  21,  28,  35,  42,  49,  56,  63,  70],\n",
              "       [  8,  16,  24,  32,  40,  48,  56,  64,  72,  80],\n",
              "       [  9,  18,  27,  36,  45,  54,  63,  72,  81,  90],\n",
              "       [ 10,  20,  30,  40,  50,  60,  70,  80,  90, 100]])"
            ]
          },
          "metadata": {
            "tags": []
          },
          "execution_count": 170
        }
      ]
    },
    {
      "cell_type": "markdown",
      "metadata": {
        "id": "0p_5tmOmuveh",
        "colab_type": "text"
      },
      "source": [
        "**Aggregations: Min, Max, and Everything in Between**\n",
        "\n",
        "* mean and standard deviation\n",
        "* sum\n",
        "* product\n",
        "* median\n",
        "* minimum and maximum\n",
        "* quantiles\n",
        "* etc."
      ]
    },
    {
      "cell_type": "code",
      "metadata": {
        "id": "d4tjUcZLuh31",
        "colab_type": "code",
        "outputId": "933c95ac-7b45-4df6-dbca-4f566f39fb20",
        "colab": {
          "base_uri": "https://localhost:8080/",
          "height": 69
        }
      },
      "source": [
        "x = np.random.random(1000)\n",
        "print(sum(x))\n",
        "%timeit sum(x)"
      ],
      "execution_count": 171,
      "outputs": [
        {
          "output_type": "stream",
          "text": [
            "492.2422341790189\n",
            "The slowest run took 5.59 times longer than the fastest. This could mean that an intermediate result is being cached.\n",
            "10000 loops, best of 3: 171 µs per loop\n"
          ],
          "name": "stdout"
        }
      ]
    },
    {
      "cell_type": "code",
      "metadata": {
        "id": "eAEFqD10wP35",
        "colab_type": "code",
        "outputId": "16d7e0a9-199d-4155-e4a4-ba0baa6b735c",
        "colab": {
          "base_uri": "https://localhost:8080/",
          "height": 69
        }
      },
      "source": [
        "print(np.sum(x))\n",
        "%timeit np.sum(x)"
      ],
      "execution_count": 172,
      "outputs": [
        {
          "output_type": "stream",
          "text": [
            "492.24223417901885\n",
            "The slowest run took 55.57 times longer than the fastest. This could mean that an intermediate result is being cached.\n",
            "100000 loops, best of 3: 4.64 µs per loop\n"
          ],
          "name": "stdout"
        }
      ]
    },
    {
      "cell_type": "code",
      "metadata": {
        "id": "LjiuUoIowa3J",
        "colab_type": "code",
        "outputId": "e29c78cc-b71a-4834-c292-578e0dd5076f",
        "colab": {
          "base_uri": "https://localhost:8080/",
          "height": 52
        }
      },
      "source": [
        "x = np.random.random(100000)\n",
        "%timeit np.sum(x)\n",
        "%timeit sum(x)"
      ],
      "execution_count": 173,
      "outputs": [
        {
          "output_type": "stream",
          "text": [
            "10000 loops, best of 3: 39.2 µs per loop\n",
            "100 loops, best of 3: 16.9 ms per loop\n"
          ],
          "name": "stdout"
        }
      ]
    },
    {
      "cell_type": "code",
      "metadata": {
        "id": "TVexFbuHwpPn",
        "colab_type": "code",
        "outputId": "d7d8357b-3b51-43ae-fe43-bbf11dedfd2f",
        "colab": {
          "base_uri": "https://localhost:8080/",
          "height": 52
        }
      },
      "source": [
        "# minimum number and maximum number\n",
        "\n",
        "%timeit max(x)\n",
        "%timeit min(x)"
      ],
      "execution_count": 174,
      "outputs": [
        {
          "output_type": "stream",
          "text": [
            "100 loops, best of 3: 10.3 ms per loop\n",
            "100 loops, best of 3: 10.3 ms per loop\n"
          ],
          "name": "stdout"
        }
      ]
    },
    {
      "cell_type": "code",
      "metadata": {
        "id": "Mr9GuTokxPLK",
        "colab_type": "code",
        "outputId": "11088cd6-e474-47c5-d2d6-c326d7244bc6",
        "colab": {
          "base_uri": "https://localhost:8080/",
          "height": 86
        }
      },
      "source": [
        "%timeit np.min(x)\n",
        "%timeit np.max(x)"
      ],
      "execution_count": 175,
      "outputs": [
        {
          "output_type": "stream",
          "text": [
            "The slowest run took 6.60 times longer than the fastest. This could mean that an intermediate result is being cached.\n",
            "10000 loops, best of 3: 47 µs per loop\n",
            "The slowest run took 11.19 times longer than the fastest. This could mean that an intermediate result is being cached.\n",
            "10000 loops, best of 3: 47 µs per loop\n"
          ],
          "name": "stdout"
        }
      ]
    },
    {
      "cell_type": "code",
      "metadata": {
        "id": "zvggWAcbxTc6",
        "colab_type": "code",
        "outputId": "f181cbb0-82eb-4829-e5a3-109f0d24ecbf",
        "colab": {
          "base_uri": "https://localhost:8080/",
          "height": 69
        }
      },
      "source": [
        "# shortcut methods to find min, max, sum of numpy arrays in NumPy\n",
        "print(\"min: \", x.min())\n",
        "print(\"max: \", x.max())\n",
        "print(\"sum: \", x.sum())"
      ],
      "execution_count": 176,
      "outputs": [
        {
          "output_type": "stream",
          "text": [
            "min:  3.3105544573475143e-06\n",
            "max:  0.9999779517807228\n",
            "sum:  49955.1501309146\n"
          ],
          "name": "stdout"
        }
      ]
    },
    {
      "cell_type": "markdown",
      "metadata": {
        "id": "eZG4130rx-2M",
        "colab_type": "text"
      },
      "source": [
        "**Multidimensional aggregates**"
      ]
    },
    {
      "cell_type": "code",
      "metadata": {
        "id": "9NdohTzWxxQN",
        "colab_type": "code",
        "outputId": "76a82a91-c45a-44ba-d245-a40758d51555",
        "colab": {
          "base_uri": "https://localhost:8080/",
          "height": 52
        }
      },
      "source": [
        "y = np.random.random((2,3))\n",
        "y"
      ],
      "execution_count": 177,
      "outputs": [
        {
          "output_type": "execute_result",
          "data": {
            "text/plain": [
              "array([[0.44790469, 0.41303923, 0.410408  ],\n",
              "       [0.94539657, 0.08733021, 0.05436383]])"
            ]
          },
          "metadata": {
            "tags": []
          },
          "execution_count": 177
        }
      ]
    },
    {
      "cell_type": "code",
      "metadata": {
        "id": "sDhMhW8LyFIK",
        "colab_type": "code",
        "outputId": "1d9f2a72-613d-4a28-cfb5-c5c210fa1c9e",
        "colab": {
          "base_uri": "https://localhost:8080/",
          "height": 34
        }
      },
      "source": [
        "y.sum()\n"
      ],
      "execution_count": 178,
      "outputs": [
        {
          "output_type": "execute_result",
          "data": {
            "text/plain": [
              "2.3584425369971127"
            ]
          },
          "metadata": {
            "tags": []
          },
          "execution_count": 178
        }
      ]
    },
    {
      "cell_type": "code",
      "metadata": {
        "id": "nYgevs66yH6c",
        "colab_type": "code",
        "outputId": "95fd7340-8907-4dee-bf4d-5ce1d1d07d6b",
        "colab": {
          "base_uri": "https://localhost:8080/",
          "height": 34
        }
      },
      "source": [
        "y.min()"
      ],
      "execution_count": 179,
      "outputs": [
        {
          "output_type": "execute_result",
          "data": {
            "text/plain": [
              "0.05436383304043935"
            ]
          },
          "metadata": {
            "tags": []
          },
          "execution_count": 179
        }
      ]
    },
    {
      "cell_type": "code",
      "metadata": {
        "id": "wTlkZaieyKKv",
        "colab_type": "code",
        "outputId": "e66d8023-58b5-4a3c-8560-c6d050582325",
        "colab": {
          "base_uri": "https://localhost:8080/",
          "height": 34
        }
      },
      "source": [
        "y.max()"
      ],
      "execution_count": 180,
      "outputs": [
        {
          "output_type": "execute_result",
          "data": {
            "text/plain": [
              "0.9453965702277041"
            ]
          },
          "metadata": {
            "tags": []
          },
          "execution_count": 180
        }
      ]
    },
    {
      "cell_type": "markdown",
      "metadata": {
        "id": "VBZrxkNSyZzU",
        "colab_type": "text"
      },
      "source": [
        "Aggregation functions take an additional argument specifying the axis along which the aggregate is computed."
      ]
    },
    {
      "cell_type": "code",
      "metadata": {
        "id": "05SxM8CNyL09",
        "colab_type": "code",
        "outputId": "97c94b05-6b8d-4869-8af6-9fa9ac1b2836",
        "colab": {
          "base_uri": "https://localhost:8080/",
          "height": 34
        }
      },
      "source": [
        "y.max(axis=0)"
      ],
      "execution_count": 181,
      "outputs": [
        {
          "output_type": "execute_result",
          "data": {
            "text/plain": [
              "array([0.94539657, 0.41303923, 0.410408  ])"
            ]
          },
          "metadata": {
            "tags": []
          },
          "execution_count": 181
        }
      ]
    },
    {
      "cell_type": "code",
      "metadata": {
        "id": "JN3pqjknyeTi",
        "colab_type": "code",
        "outputId": "59f8ea6b-e14c-4954-9fcd-539dd6a9d3b0",
        "colab": {
          "base_uri": "https://localhost:8080/",
          "height": 34
        }
      },
      "source": [
        "y.min(axis=0)"
      ],
      "execution_count": 182,
      "outputs": [
        {
          "output_type": "execute_result",
          "data": {
            "text/plain": [
              "array([0.44790469, 0.08733021, 0.05436383])"
            ]
          },
          "metadata": {
            "tags": []
          },
          "execution_count": 182
        }
      ]
    },
    {
      "cell_type": "code",
      "metadata": {
        "id": "Yt9k9CTGylEp",
        "colab_type": "code",
        "outputId": "ed15a7a4-52ce-444e-e936-bc0ac6c6d42c",
        "colab": {
          "base_uri": "https://localhost:8080/",
          "height": 34
        }
      },
      "source": [
        "y.min(axis=1)"
      ],
      "execution_count": 183,
      "outputs": [
        {
          "output_type": "execute_result",
          "data": {
            "text/plain": [
              "array([0.410408  , 0.05436383])"
            ]
          },
          "metadata": {
            "tags": []
          },
          "execution_count": 183
        }
      ]
    },
    {
      "cell_type": "code",
      "metadata": {
        "id": "t760ut6cy3z6",
        "colab_type": "code",
        "outputId": "e8ec523a-9dec-4713-8ede-78c7345d0bde",
        "colab": {
          "base_uri": "https://localhost:8080/",
          "height": 34
        }
      },
      "source": [
        "y.max(axis=1)"
      ],
      "execution_count": 184,
      "outputs": [
        {
          "output_type": "execute_result",
          "data": {
            "text/plain": [
              "array([0.44790469, 0.94539657])"
            ]
          },
          "metadata": {
            "tags": []
          },
          "execution_count": 184
        }
      ]
    },
    {
      "cell_type": "code",
      "metadata": {
        "id": "5VAyqdUtzHPR",
        "colab_type": "code",
        "outputId": "21dadee8-5261-4552-cdca-1a1a6fef4ec4",
        "colab": {
          "base_uri": "https://localhost:8080/",
          "height": 52
        }
      },
      "source": [
        "# product of the elements\n",
        "# nan safe np.nanprod(y)\n",
        "print(np.nanprod(y))\n",
        "np.prod(y)"
      ],
      "execution_count": 185,
      "outputs": [
        {
          "output_type": "stream",
          "text": [
            "0.0003407856639757675\n"
          ],
          "name": "stdout"
        },
        {
          "output_type": "execute_result",
          "data": {
            "text/plain": [
              "0.0003407856639757675"
            ]
          },
          "metadata": {
            "tags": []
          },
          "execution_count": 185
        }
      ]
    },
    {
      "cell_type": "code",
      "metadata": {
        "id": "IT4FvA8lzK8g",
        "colab_type": "code",
        "outputId": "2aa80f0a-057a-4895-bfd3-9195462f0bb9",
        "colab": {
          "base_uri": "https://localhost:8080/",
          "height": 52
        }
      },
      "source": [
        "# mean of the of the elements\n",
        "\n",
        "print(np.nanmean(y))\n",
        "np.mean(y)"
      ],
      "execution_count": 186,
      "outputs": [
        {
          "output_type": "stream",
          "text": [
            "0.39307375616618545\n"
          ],
          "name": "stdout"
        },
        {
          "output_type": "execute_result",
          "data": {
            "text/plain": [
              "0.39307375616618545"
            ]
          },
          "metadata": {
            "tags": []
          },
          "execution_count": 186
        }
      ]
    },
    {
      "cell_type": "code",
      "metadata": {
        "id": "rAsxqMuQ0KnT",
        "colab_type": "code",
        "outputId": "5dc33f14-fcfe-4bbd-9c73-3477e8aad225",
        "colab": {
          "base_uri": "https://localhost:8080/",
          "height": 52
        }
      },
      "source": [
        "# standasrd deviation\n",
        "\n",
        "print(np.nanstd(y))\n",
        "np.std(y)"
      ],
      "execution_count": 187,
      "outputs": [
        {
          "output_type": "stream",
          "text": [
            "0.29353294790318846\n"
          ],
          "name": "stdout"
        },
        {
          "output_type": "execute_result",
          "data": {
            "text/plain": [
              "0.29353294790318846"
            ]
          },
          "metadata": {
            "tags": []
          },
          "execution_count": 187
        }
      ]
    },
    {
      "cell_type": "code",
      "metadata": {
        "id": "p6Yl8ir30SRd",
        "colab_type": "code",
        "outputId": "9909dd0f-f15a-4155-c992-b4ee123a84d8",
        "colab": {
          "base_uri": "https://localhost:8080/",
          "height": 52
        }
      },
      "source": [
        "# compute variance\n",
        "\n",
        "print(np.nanvar(y))\n",
        "np.var(y)"
      ],
      "execution_count": 188,
      "outputs": [
        {
          "output_type": "stream",
          "text": [
            "0.08616159150473596\n"
          ],
          "name": "stdout"
        },
        {
          "output_type": "execute_result",
          "data": {
            "text/plain": [
              "0.08616159150473596"
            ]
          },
          "metadata": {
            "tags": []
          },
          "execution_count": 188
        }
      ]
    },
    {
      "cell_type": "code",
      "metadata": {
        "id": "Jzxjxr2K0lDF",
        "colab_type": "code",
        "outputId": "36bf3d7a-d6a8-4055-c522-fc859de8ff27",
        "colab": {
          "base_uri": "https://localhost:8080/",
          "height": 86
        }
      },
      "source": [
        "# index of minimum value of array\n",
        "print(y)\n",
        "print(np.nanargmin(y))\n",
        "np.argmin(y)"
      ],
      "execution_count": 189,
      "outputs": [
        {
          "output_type": "stream",
          "text": [
            "[[0.44790469 0.41303923 0.410408  ]\n",
            " [0.94539657 0.08733021 0.05436383]]\n",
            "5\n"
          ],
          "name": "stdout"
        },
        {
          "output_type": "execute_result",
          "data": {
            "text/plain": [
              "5"
            ]
          },
          "metadata": {
            "tags": []
          },
          "execution_count": 189
        }
      ]
    },
    {
      "cell_type": "code",
      "metadata": {
        "id": "Qmostfb804A0",
        "colab_type": "code",
        "outputId": "97162f3b-a6a0-4d30-80e4-76e09bcc2bb2",
        "colab": {
          "base_uri": "https://localhost:8080/",
          "height": 52
        }
      },
      "source": [
        "print(np.nanargmax(y))\n",
        "np.argmax(y)"
      ],
      "execution_count": 190,
      "outputs": [
        {
          "output_type": "stream",
          "text": [
            "3\n"
          ],
          "name": "stdout"
        },
        {
          "output_type": "execute_result",
          "data": {
            "text/plain": [
              "3"
            ]
          },
          "metadata": {
            "tags": []
          },
          "execution_count": 190
        }
      ]
    },
    {
      "cell_type": "code",
      "metadata": {
        "id": "mZtV-S5_1Cow",
        "colab_type": "code",
        "outputId": "6ef5bc95-78c3-4741-bc83-7777a98815c4",
        "colab": {
          "base_uri": "https://localhost:8080/",
          "height": 34
        }
      },
      "source": [
        "np.median(y)"
      ],
      "execution_count": 191,
      "outputs": [
        {
          "output_type": "execute_result",
          "data": {
            "text/plain": [
              "0.4117236179647613"
            ]
          },
          "metadata": {
            "tags": []
          },
          "execution_count": 191
        }
      ]
    },
    {
      "cell_type": "code",
      "metadata": {
        "id": "jviprYRp1VG6",
        "colab_type": "code",
        "outputId": "8c99592c-2094-47d1-ff58-2a5aed9199e4",
        "colab": {
          "base_uri": "https://localhost:8080/",
          "height": 34
        }
      },
      "source": [
        "np.mean(y)"
      ],
      "execution_count": 192,
      "outputs": [
        {
          "output_type": "execute_result",
          "data": {
            "text/plain": [
              "0.39307375616618545"
            ]
          },
          "metadata": {
            "tags": []
          },
          "execution_count": 192
        }
      ]
    },
    {
      "cell_type": "code",
      "metadata": {
        "id": "F2dsC_X11WuK",
        "colab_type": "code",
        "outputId": "c2a6e739-fc33-4e1d-c836-64e439ef58bd",
        "colab": {
          "base_uri": "https://localhost:8080/",
          "height": 34
        }
      },
      "source": [
        "np.any(y)"
      ],
      "execution_count": 193,
      "outputs": [
        {
          "output_type": "execute_result",
          "data": {
            "text/plain": [
              "True"
            ]
          },
          "metadata": {
            "tags": []
          },
          "execution_count": 193
        }
      ]
    },
    {
      "cell_type": "code",
      "metadata": {
        "id": "3LYAyyN-1asX",
        "colab_type": "code",
        "outputId": "e876c68b-2c3d-4c62-c444-9560ade30630",
        "colab": {
          "base_uri": "https://localhost:8080/",
          "height": 34
        }
      },
      "source": [
        "np.all(y)"
      ],
      "execution_count": 194,
      "outputs": [
        {
          "output_type": "execute_result",
          "data": {
            "text/plain": [
              "True"
            ]
          },
          "metadata": {
            "tags": []
          },
          "execution_count": 194
        }
      ]
    },
    {
      "cell_type": "markdown",
      "metadata": {
        "id": "Ee62bTGy1Wxe",
        "colab_type": "text"
      },
      "source": [
        "**Avergae height of the US president**\n"
      ]
    },
    {
      "cell_type": "code",
      "metadata": {
        "id": "2f3NIVlz1ihw",
        "colab_type": "code",
        "outputId": "1ffa2e05-0080-4abe-ccd5-8c433eff3dec",
        "colab": {
          "base_uri": "https://localhost:8080/",
          "height": 224
        }
      },
      "source": [
        "from google.colab import drive\n",
        "drive.mount('/content/gdrive')\n",
        "import pandas as pd\n",
        "data = pd.read_csv('gdrive/My Drive/Colab Notebooks/data/president_heights.csv')\n",
        "data.head()"
      ],
      "execution_count": 196,
      "outputs": [
        {
          "output_type": "stream",
          "text": [
            "Drive already mounted at /content/gdrive; to attempt to forcibly remount, call drive.mount(\"/content/gdrive\", force_remount=True).\n"
          ],
          "name": "stdout"
        },
        {
          "output_type": "execute_result",
          "data": {
            "text/html": [
              "<div>\n",
              "<style scoped>\n",
              "    .dataframe tbody tr th:only-of-type {\n",
              "        vertical-align: middle;\n",
              "    }\n",
              "\n",
              "    .dataframe tbody tr th {\n",
              "        vertical-align: top;\n",
              "    }\n",
              "\n",
              "    .dataframe thead th {\n",
              "        text-align: right;\n",
              "    }\n",
              "</style>\n",
              "<table border=\"1\" class=\"dataframe\">\n",
              "  <thead>\n",
              "    <tr style=\"text-align: right;\">\n",
              "      <th></th>\n",
              "      <th>order</th>\n",
              "      <th>name</th>\n",
              "      <th>height(cm)</th>\n",
              "    </tr>\n",
              "  </thead>\n",
              "  <tbody>\n",
              "    <tr>\n",
              "      <th>0</th>\n",
              "      <td>1</td>\n",
              "      <td>George Washington</td>\n",
              "      <td>189</td>\n",
              "    </tr>\n",
              "    <tr>\n",
              "      <th>1</th>\n",
              "      <td>2</td>\n",
              "      <td>John Adams</td>\n",
              "      <td>170</td>\n",
              "    </tr>\n",
              "    <tr>\n",
              "      <th>2</th>\n",
              "      <td>3</td>\n",
              "      <td>Thomas Jefferson</td>\n",
              "      <td>189</td>\n",
              "    </tr>\n",
              "    <tr>\n",
              "      <th>3</th>\n",
              "      <td>4</td>\n",
              "      <td>James Madison</td>\n",
              "      <td>163</td>\n",
              "    </tr>\n",
              "    <tr>\n",
              "      <th>4</th>\n",
              "      <td>5</td>\n",
              "      <td>James Monroe</td>\n",
              "      <td>183</td>\n",
              "    </tr>\n",
              "  </tbody>\n",
              "</table>\n",
              "</div>"
            ],
            "text/plain": [
              "   order               name  height(cm)\n",
              "0      1  George Washington         189\n",
              "1      2         John Adams         170\n",
              "2      3   Thomas Jefferson         189\n",
              "3      4      James Madison         163\n",
              "4      5       James Monroe         183"
            ]
          },
          "metadata": {
            "tags": []
          },
          "execution_count": 196
        }
      ]
    },
    {
      "cell_type": "code",
      "metadata": {
        "id": "hokzAmqL4UJi",
        "colab_type": "code",
        "colab": {
          "base_uri": "https://localhost:8080/",
          "height": 34
        },
        "outputId": "6c89297e-2fa2-4faa-c98e-1a9eef33886b"
      },
      "source": [
        "len(data)"
      ],
      "execution_count": 197,
      "outputs": [
        {
          "output_type": "execute_result",
          "data": {
            "text/plain": [
              "42"
            ]
          },
          "metadata": {
            "tags": []
          },
          "execution_count": 197
        }
      ]
    },
    {
      "cell_type": "code",
      "metadata": {
        "id": "MHGbbm8J6Dts",
        "colab_type": "code",
        "colab": {
          "base_uri": "https://localhost:8080/",
          "height": 86
        },
        "outputId": "e0464496-9ef6-4caf-ce85-7bccc1fc91cc"
      },
      "source": [
        "# getting all heights into a numpy array\n",
        "\n",
        "heights = np.array(data['height(cm)'])\n",
        "heights "
      ],
      "execution_count": 200,
      "outputs": [
        {
          "output_type": "execute_result",
          "data": {
            "text/plain": [
              "array([189, 170, 189, 163, 183, 171, 185, 168, 173, 183, 173, 173, 175,\n",
              "       178, 183, 193, 178, 173, 174, 183, 183, 168, 170, 178, 182, 180,\n",
              "       183, 178, 182, 188, 175, 179, 183, 193, 182, 183, 177, 185, 188,\n",
              "       188, 182, 185])"
            ]
          },
          "metadata": {
            "tags": []
          },
          "execution_count": 200
        }
      ]
    },
    {
      "cell_type": "code",
      "metadata": {
        "id": "NqUJkWNk8CFd",
        "colab_type": "code",
        "colab": {
          "base_uri": "https://localhost:8080/",
          "height": 34
        },
        "outputId": "1daa43f3-2ed4-4370-b13f-4f842c13ba14"
      },
      "source": [
        "d={}\n",
        "for i in heights: \n",
        "  if (i in d) : \n",
        "    d[i]+=1\n",
        "  else:\n",
        "    d[i]=1\n",
        "print(d)"
      ],
      "execution_count": 209,
      "outputs": [
        {
          "output_type": "stream",
          "text": [
            "{189: 2, 170: 2, 163: 1, 183: 8, 171: 1, 185: 3, 168: 2, 173: 4, 175: 2, 178: 4, 193: 2, 174: 1, 182: 4, 180: 1, 188: 3, 179: 1, 177: 1}\n"
          ],
          "name": "stdout"
        }
      ]
    },
    {
      "cell_type": "code",
      "metadata": {
        "id": "rfC74yPX6TLe",
        "colab_type": "code",
        "colab": {
          "base_uri": "https://localhost:8080/",
          "height": 104
        },
        "outputId": "a42a4bf9-b572-4e65-cc1f-4f294e42fced"
      },
      "source": [
        "print(\"minimum height: \", heights.min())\n",
        "print(\"maximum height: \", heights.max())\n",
        "print(\"mean of heights: \", heights.mean())\n",
        "print(\"standard deviation: \", heights.std())\n",
        "print(\"median of heightS: \", np.median(heights))"
      ],
      "execution_count": 204,
      "outputs": [
        {
          "output_type": "stream",
          "text": [
            "minimum height:  163\n",
            "maximum height:  193\n",
            "mean of heights:  179.73809523809524\n",
            "standard deviation:  6.931843442745892\n",
            "median of heightS:  182.0\n"
          ],
          "name": "stdout"
        }
      ]
    },
    {
      "cell_type": "code",
      "metadata": {
        "id": "04TYPjiq6tox",
        "colab_type": "code",
        "colab": {
          "base_uri": "https://localhost:8080/",
          "height": 86
        },
        "outputId": "f5bbee2e-410e-4e53-8371-047ad0e81c48"
      },
      "source": [
        "#nth percentile of the data\n",
        "print(\"20 percentile: \", np.percentile(heights, 20))\n",
        "print(\"50 percentile: \", np.percentile(heights, 50))\n",
        "print(\"75 percentile: \", np.percentile(heights, 75))\n",
        "print(\"100 percentile: \", np.percentile(heights, 100))\n"
      ],
      "execution_count": 205,
      "outputs": [
        {
          "output_type": "stream",
          "text": [
            "20 percentile:  173.0\n",
            "50 percentile:  182.0\n",
            "75 percentile:  183.0\n",
            "100 percentile:  193.0\n"
          ],
          "name": "stdout"
        }
      ]
    },
    {
      "cell_type": "code",
      "metadata": {
        "id": "rLvdTDw576BG",
        "colab_type": "code",
        "colab": {
          "base_uri": "https://localhost:8080/",
          "height": 52
        },
        "outputId": "9e813093-729f-41a8-be2a-ac5fc072c66c"
      },
      "source": [
        "print(d[173])\n",
        "d[182]"
      ],
      "execution_count": 211,
      "outputs": [
        {
          "output_type": "stream",
          "text": [
            "4\n"
          ],
          "name": "stdout"
        },
        {
          "output_type": "execute_result",
          "data": {
            "text/plain": [
              "4"
            ]
          },
          "metadata": {
            "tags": []
          },
          "execution_count": 211
        }
      ]
    },
    {
      "cell_type": "code",
      "metadata": {
        "id": "DQ_DmNMh88eI",
        "colab_type": "code",
        "colab": {
          "base_uri": "https://localhost:8080/",
          "height": 34
        },
        "outputId": "e57beb16-075f-47a0-a10c-c63071fd55f6"
      },
      "source": [
        "d[183]"
      ],
      "execution_count": 212,
      "outputs": [
        {
          "output_type": "execute_result",
          "data": {
            "text/plain": [
              "8"
            ]
          },
          "metadata": {
            "tags": []
          },
          "execution_count": 212
        }
      ]
    },
    {
      "cell_type": "code",
      "metadata": {
        "id": "itXVCW_n9A6N",
        "colab_type": "code",
        "colab": {
          "base_uri": "https://localhost:8080/",
          "height": 86
        },
        "outputId": "58a0efaf-f70f-4405-b4e9-119eecae0a32"
      },
      "source": [
        "#nth percentile of the data\n",
        "print(\"20 percentile: \", np.percentile(heights, 20, axis=0))\n",
        "print(\"50 percentile: \", np.percentile(heights, 50, axis=0))\n",
        "print(\"75 percentile: \", np.percentile(heights, 75,  axis=0))\n",
        "print(\"100 percentile: \", np.percentile(heights, 100,  axis=0))\n"
      ],
      "execution_count": 215,
      "outputs": [
        {
          "output_type": "stream",
          "text": [
            "20 percentile:  173.0\n",
            "50 percentile:  182.0\n",
            "75 percentile:  183.0\n",
            "100 percentile:  193.0\n"
          ],
          "name": "stdout"
        }
      ]
    },
    {
      "cell_type": "code",
      "metadata": {
        "id": "iB2PLmGf9CJ8",
        "colab_type": "code",
        "colab": {
          "base_uri": "https://localhost:8080/",
          "height": 86
        },
        "outputId": "9f0e98e1-3b0f-48bd-af9b-4c486c4f6d6d"
      },
      "source": [
        "heights"
      ],
      "execution_count": 219,
      "outputs": [
        {
          "output_type": "execute_result",
          "data": {
            "text/plain": [
              "array([189, 170, 189, 163, 183, 171, 185, 168, 173, 183, 173, 173, 175,\n",
              "       178, 183, 193, 178, 173, 174, 183, 183, 168, 170, 178, 182, 180,\n",
              "       183, 178, 182, 188, 175, 179, 183, 193, 182, 183, 177, 185, 188,\n",
              "       188, 182, 185])"
            ]
          },
          "metadata": {
            "tags": []
          },
          "execution_count": 219
        }
      ]
    },
    {
      "cell_type": "code",
      "metadata": {
        "id": "M9WwcLiI9rpO",
        "colab_type": "code",
        "colab": {
          "base_uri": "https://localhost:8080/",
          "height": 34
        },
        "outputId": "37840ff9-ad7a-4ebd-9b05-9c7355ccd003"
      },
      "source": [
        "len(heights)"
      ],
      "execution_count": 220,
      "outputs": [
        {
          "output_type": "execute_result",
          "data": {
            "text/plain": [
              "42"
            ]
          },
          "metadata": {
            "tags": []
          },
          "execution_count": 220
        }
      ]
    },
    {
      "cell_type": "code",
      "metadata": {
        "id": "mRuN7g_t-R5y",
        "colab_type": "code",
        "colab": {
          "base_uri": "https://localhost:8080/",
          "height": 282
        },
        "outputId": "6311c10d-6824-42ad-c028-20b03b799f41"
      },
      "source": [
        "import matplotlib.pyplot as plt\n",
        "plt.plot(heights)"
      ],
      "execution_count": 229,
      "outputs": [
        {
          "output_type": "execute_result",
          "data": {
            "text/plain": [
              "[<matplotlib.lines.Line2D at 0x7fc7a15ab860>]"
            ]
          },
          "metadata": {
            "tags": []
          },
          "execution_count": 229
        },
        {
          "output_type": "display_data",
          "data": {
            "image/png": "[encoded data removed]",
            "text/plain": [
              "<Figure size 432x288 with 1 Axes>"
            ]
          },
          "metadata": {
            "tags": [],
            "needs_background": "light"
          }
        }
      ]
    },
    {
      "cell_type": "code",
      "metadata": {
        "id": "9NQgzevu-YKk",
        "colab_type": "code",
        "colab": {
          "base_uri": "https://localhost:8080/",
          "height": 296
        },
        "outputId": "332b1b9d-d884-4f28-fe55-1ec833602ff4"
      },
      "source": [
        "plt.hist(heights)\n",
        "plt.xlabel(\"height(cm)\")\n",
        "plt.ylabel(\"number\")"
      ],
      "execution_count": 230,
      "outputs": [
        {
          "output_type": "execute_result",
          "data": {
            "text/plain": [
              "Text(0, 0.5, 'number')"
            ]
          },
          "metadata": {
            "tags": []
          },
          "execution_count": 230
        },
        {
          "output_type": "display_data",
          "data": {
            "image/png": "[encoded data removed]",
            "text/plain": [
              "<Figure size 432x288 with 1 Axes>"
            ]
          },
          "metadata": {
            "tags": [],
            "needs_background": "light"
          }
        }
      ]
    },
    {
      "cell_type": "markdown",
      "metadata": {
        "id": "vXaem9Sp_mjY",
        "colab_type": "text"
      },
      "source": [
        "**Computation on Arrays: Broadcasting**\n",
        "\n",
        "Broadcasting is simply a set of rules for applying binary ufuncs (addition, subtraction, multiplication, etc.) on arrays of different sizes"
      ]
    },
    {
      "cell_type": "code",
      "metadata": {
        "id": "kU7OdIsU-aLd",
        "colab_type": "code",
        "colab": {
          "base_uri": "https://localhost:8080/",
          "height": 34
        },
        "outputId": "fc23f0a4-4a72-4d77-df3d-846e2ddb81e1"
      },
      "source": [
        "# for the same size arrays operations are performed element by element \n",
        "\n",
        "a = np.array([1,2,3])\n",
        "b= np.array([5,2,9])\n",
        "a+b"
      ],
      "execution_count": 231,
      "outputs": [
        {
          "output_type": "execute_result",
          "data": {
            "text/plain": [
              "array([ 6,  4, 12])"
            ]
          },
          "metadata": {
            "tags": []
          },
          "execution_count": 231
        }
      ]
    },
    {
      "cell_type": "code",
      "metadata": {
        "id": "bvPVLldRAubw",
        "colab_type": "code",
        "colab": {
          "base_uri": "https://localhost:8080/",
          "height": 52
        },
        "outputId": "f430e6f7-5a60-45fc-9bb5-f51c05dd68e2"
      },
      "source": [
        "# Broadcasting allows these types of binary operations to be performed on arrays of different sizes \n",
        "\n",
        "print(a)\n",
        "a+5"
      ],
      "execution_count": 232,
      "outputs": [
        {
          "output_type": "stream",
          "text": [
            "[1 2 3]\n"
          ],
          "name": "stdout"
        },
        {
          "output_type": "execute_result",
          "data": {
            "text/plain": [
              "array([6, 7, 8])"
            ]
          },
          "metadata": {
            "tags": []
          },
          "execution_count": 232
        }
      ]
    },
    {
      "cell_type": "code",
      "metadata": {
        "id": "vhJrmrvrA7Lg",
        "colab_type": "code",
        "colab": {
          "base_uri": "https://localhost:8080/",
          "height": 208
        },
        "outputId": "dc399631-386a-45e0-855a-0bde84c38ea7"
      },
      "source": [
        "x = np.ones((3,3))\n",
        "print(\"x: \\n\", x)\n",
        "print(\"\\na: \", a)\n",
        "print(\"\\nx+a: \\n\", x+a)\n"
      ],
      "execution_count": 234,
      "outputs": [
        {
          "output_type": "stream",
          "text": [
            "x: \n",
            " [[1. 1. 1.]\n",
            " [1. 1. 1.]\n",
            " [1. 1. 1.]]\n",
            "\n",
            "a:  [1 2 3]\n",
            "\n",
            "x+a: \n",
            " [[2. 3. 4.]\n",
            " [2. 3. 4.]\n",
            " [2. 3. 4.]]\n"
          ],
          "name": "stdout"
        }
      ]
    },
    {
      "cell_type": "code",
      "metadata": {
        "id": "UGs8QJOZBRnK",
        "colab_type": "code",
        "colab": {
          "base_uri": "https://localhost:8080/",
          "height": 191
        },
        "outputId": "ad926eb6-3df0-4852-f6d8-3274c3b4a5a7"
      },
      "source": [
        "x = np.arange(1,4)\n",
        "y = np.arange(1,4)[:,np.newaxis]\n",
        "print(\"x: \", x)\n",
        "print(\"\\ny: \", y)\n",
        "print(\"\\nx+y: \\n\", x+y)"
      ],
      "execution_count": 235,
      "outputs": [
        {
          "output_type": "stream",
          "text": [
            "x:  [1 2 3]\n",
            "\n",
            "y:  [[1]\n",
            " [2]\n",
            " [3]]\n",
            "\n",
            "x+y: \n",
            " [[2 3 4]\n",
            " [3 4 5]\n",
            " [4 5 6]]\n"
          ],
          "name": "stdout"
        }
      ]
    },
    {
      "cell_type": "code",
      "metadata": {
        "id": "7I5SfdI0B-GW",
        "colab_type": "code",
        "colab": {
          "base_uri": "https://localhost:8080/",
          "height": 69
        },
        "outputId": "bcef2222-7d39-465f-cab2-63d3b41da2dc"
      },
      "source": [
        "x*y"
      ],
      "execution_count": 236,
      "outputs": [
        {
          "output_type": "execute_result",
          "data": {
            "text/plain": [
              "array([[1, 2, 3],\n",
              "       [2, 4, 6],\n",
              "       [3, 6, 9]])"
            ]
          },
          "metadata": {
            "tags": []
          },
          "execution_count": 236
        }
      ]
    },
    {
      "cell_type": "code",
      "metadata": {
        "id": "hKdB2pmtCC7s",
        "colab_type": "code",
        "colab": {
          "base_uri": "https://localhost:8080/",
          "height": 69
        },
        "outputId": "dd9c379a-287c-45bb-a825-85424a9921f3"
      },
      "source": [
        "x-y"
      ],
      "execution_count": 237,
      "outputs": [
        {
          "output_type": "execute_result",
          "data": {
            "text/plain": [
              "array([[ 0,  1,  2],\n",
              "       [-1,  0,  1],\n",
              "       [-2, -1,  0]])"
            ]
          },
          "metadata": {
            "tags": []
          },
          "execution_count": 237
        }
      ]
    },
    {
      "cell_type": "markdown",
      "metadata": {
        "id": "ebjBVGxNCVS1",
        "colab_type": "text"
      },
      "source": [
        "**Rules of Brodcasting**\n",
        "\n",
        "• Rule 1: If the two arrays differ in their number of dimensions, the shape of the one with fewer dimensions is padded with ones on its leading (left) side.\n",
        "\n",
        "• Rule 2: If the shape of the two arrays does not match in any dimension, the array with shape equal to 1 in that dimension is stretched to match the other shape.\n",
        "\n",
        "• Rule 3: If in any dimension the sizes disagree and neither is equal to 1, an error is raised."
      ]
    },
    {
      "cell_type": "code",
      "metadata": {
        "id": "gWncE2e-CGXY",
        "colab_type": "code",
        "colab": {
          "base_uri": "https://localhost:8080/",
          "height": 139
        },
        "outputId": "456656bb-6b0e-445d-a97c-10ffd897b3a1"
      },
      "source": [
        "a = np.ones((2,3))\n",
        "b = np.ones(3)\n",
        "print(\"shape of a: \", a.shape)\n",
        "print(\"shape of b: \", b.shape)\n",
        "print(\"a: \", a)\n",
        "print(\"b: \",b)\n",
        "print(\"a+b: \", a+b)"
      ],
      "execution_count": 248,
      "outputs": [
        {
          "output_type": "stream",
          "text": [
            "shape of a:  (2, 3)\n",
            "shape of b:  (3,)\n",
            "a:  [[1. 1. 1.]\n",
            " [1. 1. 1.]]\n",
            "b:  [1. 1. 1.]\n",
            "a+b:  [[2. 2. 2.]\n",
            " [2. 2. 2.]]\n"
          ],
          "name": "stdout"
        }
      ]
    },
    {
      "cell_type": "code",
      "metadata": {
        "id": "7qh9mOe8DNV2",
        "colab_type": "code",
        "colab": {
          "base_uri": "https://localhost:8080/",
          "height": 173
        },
        "outputId": "b0bda7a8-7eeb-4f99-9d3c-a0a2bb71c064"
      },
      "source": [
        "a = np.ones((3,2))\n",
        "b = np.ones(3)[:,np.newaxis]\n",
        "print(\"a: \", a)\n",
        "print(\"b: \",b)\n",
        "print(\"a+b: \", a+b)"
      ],
      "execution_count": 245,
      "outputs": [
        {
          "output_type": "stream",
          "text": [
            "a:  [[1. 1.]\n",
            " [1. 1.]\n",
            " [1. 1.]]\n",
            "b:  [[1.]\n",
            " [1.]\n",
            " [1.]]\n",
            "a+b:  [[2. 2.]\n",
            " [2. 2.]\n",
            " [2. 2.]]\n"
          ],
          "name": "stdout"
        }
      ]
    },
    {
      "cell_type": "code",
      "metadata": {
        "id": "SH8T-r79Deo9",
        "colab_type": "code",
        "colab": {
          "base_uri": "https://localhost:8080/",
          "height": 52
        },
        "outputId": "ae399a60-5359-4f04-f4ad-7eae8b22ecf6"
      },
      "source": [
        "print(\"shape of a: \",a.shape)\n",
        "print(\"shape of b: \", b.shape)\n"
      ],
      "execution_count": 247,
      "outputs": [
        {
          "output_type": "stream",
          "text": [
            "shape of a:  (3, 2)\n",
            "shape of b:  (3, 1)\n"
          ],
          "name": "stdout"
        }
      ]
    },
    {
      "cell_type": "code",
      "metadata": {
        "id": "gRQCFcLkEHLX",
        "colab_type": "code",
        "colab": {
          "base_uri": "https://localhost:8080/",
          "height": 191
        },
        "outputId": "d1949a54-576b-43f4-95c4-1052a3927896"
      },
      "source": [
        "x = np.arange(3)\n",
        "y = np.arange(3)[:,np.newaxis]\n",
        "print(\"shape of x: \", x.shape)\n",
        "print(x)\n",
        "print(\"Shape of y: \", y.shape)\n",
        "print(\"y: \", y)\n",
        "print(\"shape of x+y: \", (x+y).shape)\n",
        "x+y"
      ],
      "execution_count": 252,
      "outputs": [
        {
          "output_type": "stream",
          "text": [
            "shape of x:  (3,)\n",
            "[0 1 2]\n",
            "Shape of y:  (3, 1)\n",
            "y:  [[0]\n",
            " [1]\n",
            " [2]]\n",
            "shape of x+y:  (3, 3)\n"
          ],
          "name": "stdout"
        },
        {
          "output_type": "execute_result",
          "data": {
            "text/plain": [
              "array([[0, 1, 2],\n",
              "       [1, 2, 3],\n",
              "       [2, 3, 4]])"
            ]
          },
          "metadata": {
            "tags": []
          },
          "execution_count": 252
        }
      ]
    },
    {
      "cell_type": "code",
      "metadata": {
        "id": "0xejf8hzFJhv",
        "colab_type": "code",
        "colab": {
          "base_uri": "https://localhost:8080/",
          "height": 69
        },
        "outputId": "490d6cf0-392b-4503-fe62-13875d0a6b10"
      },
      "source": [
        "y+x"
      ],
      "execution_count": 250,
      "outputs": [
        {
          "output_type": "execute_result",
          "data": {
            "text/plain": [
              "array([[0, 1, 2],\n",
              "       [1, 2, 3],\n",
              "       [2, 3, 4]])"
            ]
          },
          "metadata": {
            "tags": []
          },
          "execution_count": 250
        }
      ]
    }
  ]
}