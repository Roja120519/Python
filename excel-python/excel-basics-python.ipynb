{
 "cells": [
  {
   "cell_type": "markdown",
   "metadata": {},
   "source": [
    "### Working with excel sheets\n",
    "- xlrd --> excel sheet read\n",
    "- xlwt --> excel sheet write(create,insert,adding styles,modifying) \n",
    "- list of available methods in xlrd package\n",
    "- excel sheet read\n",
    "- extracting all data from excel sheet\n",
    "- How many rows and columns in excel sheet\n",
    "- excel sheet write\n",
    "- save excel sheet\n",
    "- read columns\n",
    "- read rows\n"
   ]
  },
  {
   "cell_type": "code",
   "execution_count": 6,
   "metadata": {},
   "outputs": [
    {
     "name": "stdout",
     "output_type": "stream",
     "text": [
      "xlrd package version is  1.2.0 \n",
      "\n",
      "xlrd.Book\n",
      "xlrd.FMLA_TYPE_ARRAY\n",
      "xlrd.FMLA_TYPE_CELL\n",
      "xlrd.FMLA_TYPE_COND_FMT\n",
      "xlrd.FMLA_TYPE_DATA_VAL\n",
      "xlrd.FMLA_TYPE_NAME\n",
      "xlrd.FMLA_TYPE_SHARED\n",
      "xlrd.MMAP_AVAILABLE\n",
      "xlrd.Operand\n",
      "xlrd.Ref3D\n",
      "xlrd.USE_MMAP\n",
      "xlrd.X12Book\n",
      "xlrd.XLDateError\n",
      "xlrd.XLRDError\n",
      "xlrd.XL_CELL_BLANK\n",
      "xlrd.XL_CELL_BOOLEAN\n",
      "xlrd.XL_CELL_DATE\n",
      "xlrd.XL_CELL_EMPTY\n",
      "xlrd.XL_CELL_ERROR\n",
      "xlrd.XL_CELL_NUMBER\n",
      "xlrd.XL_CELL_TEXT\n",
      "xlrd.__VERSION__\n",
      "xlrd.__builtins__\n",
      "xlrd.__cached__\n",
      "xlrd.__doc__\n",
      "xlrd.__file__\n",
      "xlrd.__loader__\n",
      "xlrd.__name__\n",
      "xlrd.__package__\n",
      "xlrd.__path__\n",
      "xlrd.__spec__\n",
      "xlrd.__version__\n",
      "xlrd.biff_text_from_num\n",
      "xlrd.biffh\n",
      "xlrd.book\n",
      "xlrd.cellname\n",
      "xlrd.cellnameabs\n",
      "xlrd.colname\n",
      "xlrd.compdoc\n",
      "xlrd.count_records\n",
      "xlrd.decompile_formula\n",
      "xlrd.dump\n",
      "xlrd.dump_formula\n",
      "xlrd.empty_cell\n",
      "xlrd.error_text_from_code\n",
      "xlrd.evaluate_name_formula\n",
      "xlrd.formatting\n",
      "xlrd.formula\n",
      "xlrd.info\n",
      "xlrd.mmap\n",
      "xlrd.oBOOL\n",
      "xlrd.oERR\n",
      "xlrd.oNUM\n",
      "xlrd.oREF\n",
      "xlrd.oREL\n",
      "xlrd.oSTRG\n",
      "xlrd.oUNK\n",
      "xlrd.okind_dict\n",
      "xlrd.open_workbook\n",
      "xlrd.os\n",
      "xlrd.pprint\n",
      "xlrd.rangename3d\n",
      "xlrd.rangename3drel\n",
      "xlrd.sheet\n",
      "xlrd.sys\n",
      "xlrd.timemachine\n",
      "xlrd.xldate\n",
      "xlrd.xldate_as_datetime\n",
      "xlrd.xldate_as_tuple\n",
      "xlrd.xlsx\n",
      "xlrd.zipfile\n"
     ]
    }
   ],
   "source": [
    "# list of available methods in xlrd package\n",
    "import xlrd\n",
    "print(\"xlrd package version is \",xlrd.__version__,\"\\n\")\n",
    "for i in dir(xlrd):\n",
    "    print(\"xlrd.\",end=\"\")\n",
    "    print(i)"
   ]
  },
  {
   "cell_type": "code",
   "execution_count": 28,
   "metadata": {},
   "outputs": [
    {
     "data": {
      "text/plain": [
       "'roja'"
      ]
     },
     "execution_count": 28,
     "metadata": {},
     "output_type": "execute_result"
    }
   ],
   "source": [
    "# Reading an excel file\n",
    "import xlrd\n",
    "\n",
    "path=(\"example.xlsx\")\n",
    "\n",
    "data=xlrd.open_workbook(path)\n",
    "sheet=data.sheet_by_index(0)\n",
    "sheet.cell_value(0,0)\n"
   ]
  },
  {
   "cell_type": "code",
   "execution_count": 36,
   "metadata": {},
   "outputs": [
    {
     "name": "stdout",
     "output_type": "stream",
     "text": [
      "\n",
      "roja 90.0 \n",
      "nani 100.0 \n",
      "lally 85.0 \n",
      "narendra 99.0 \n",
      "preakash 95.0 \n",
      "venky 69.0 \n",
      "chani  "
     ]
    }
   ],
   "source": [
    "# Reading an excel file using loop\n",
    "\n",
    "import xlrd \n",
    "loc = (\"example.xlsx\") \n",
    "  \n",
    "# To open Workbook \n",
    "wbook = xlrd.open_workbook(loc) \n",
    "data = wbook.sheet_by_index(0) \n",
    "r=data.nrows\n",
    "c=data.ncols\n",
    "for i in range(0,r,1):\n",
    "    print()\n",
    "    for j in range(0,c,1):\n",
    "        print(data.cell_value(i,j),end=\" \")\n",
    "        "
   ]
  },
  {
   "cell_type": "code",
   "execution_count": 35,
   "metadata": {},
   "outputs": [
    {
     "name": "stdout",
     "output_type": "stream",
     "text": [
      "We have  7 Rows in our excel sheet\n",
      "We have  2 Columns in our excel sheet\n"
     ]
    }
   ],
   "source": [
    "# to know how many rows and columns we have in our excel sheet\n",
    "import xlrd \n",
    "path = (\"example.xlsx\") \n",
    "  \n",
    "# To open Workbook \n",
    "book = xlrd.open_workbook(path) \n",
    "data = book.sheet_by_index(0) \n",
    "print(\"We have \",data.nrows,\"Rows in our excel sheet\")\n",
    "print(\"We have \",data.ncols,\"Columns in our excel sheet\")"
   ]
  },
  {
   "cell_type": "code",
   "execution_count": 38,
   "metadata": {},
   "outputs": [
    {
     "name": "stdout",
     "output_type": "stream",
     "text": [
      "['nani', 100.0]\n"
     ]
    }
   ],
   "source": [
    "# extracting particulr row value\n",
    "\n",
    "import xlrd\n",
    "path=('example.xlsx')\n",
    "\n",
    "book=xlrd.open_workbook(path)\n",
    "data=book.sheet_by_index(0)\n",
    "print(data.row_values(1))"
   ]
  },
  {
   "cell_type": "code",
   "execution_count": 55,
   "metadata": {},
   "outputs": [
    {
     "name": "stdout",
     "output_type": "stream",
     "text": [
      "['roja', 90.0]\n",
      "['nani', 85.0]\n",
      "['prakash', 89.0]\n",
      "['chani', 95.0]\n"
     ]
    }
   ],
   "source": [
    "# extracting rows value\n",
    "\n",
    "import xlrd\n",
    "path=('sample.xls')\n",
    "\n",
    "book=xlrd.open_workbook(path)\n",
    "data=book.sheet_by_index(0)\n",
    "r=data.nrows\n",
    "for i in range(0,r,1):\n",
    "    print(data.row_values(i))"
   ]
  },
  {
   "cell_type": "code",
   "execution_count": 48,
   "metadata": {},
   "outputs": [],
   "source": [
    "# Writing an excel sheet\n",
    "\n",
    "import xlrd\n",
    "from xlwt import Workbook\n",
    "\n",
    "book=Workbook()\n",
    "\n",
    "sheet1=book.add_sheet('sheet1')\n",
    "\n",
    "names=[\"roja\",\"nani\",\"prakash\",\"chani\"]\n",
    "values=[90,85,89,95]\n",
    "\n",
    "for i in range(0,len(names),1):\n",
    "    for j in range(0,2,1):\n",
    "        if j==0:\n",
    "            sheet1.write(i,j,names[i])\n",
    "        else:\n",
    "            sheet1.write(i,j,values[i])\n",
    "book.save('marks.xlsx')\n",
    "        "
   ]
  },
  {
   "cell_type": "code",
   "execution_count": 57,
   "metadata": {},
   "outputs": [],
   "source": [
    "# Adding styles in a sheet\n",
    "\n",
    "import xlwt\n",
    "\n",
    "book=xlwt.Workbook()\n",
    "sheet=book.add_sheet('sample')\n",
    "style = xlwt.easyxf('font: bold 1, color red;') \n",
    "  \n",
    "for i in range(0,len(names),1):\n",
    "    for j in range(0,2,1):\n",
    "        if j==0:\n",
    "            sheet.write(i,j,names[i],style)\n",
    "        else:\n",
    "            sheet.write(i,j,values[i],style)\n",
    "book.save(\"sample.xls\") "
   ]
  },
  {
   "cell_type": "code",
   "execution_count": null,
   "metadata": {},
   "outputs": [],
   "source": []
  }
 ],
 "metadata": {
  "kernelspec": {
   "display_name": "Python 3",
   "language": "python",
   "name": "python3"
  },
  "language_info": {
   "codemirror_mode": {
    "name": "ipython",
    "version": 3
   },
   "file_extension": ".py",
   "mimetype": "text/x-python",
   "name": "python",
   "nbconvert_exporter": "python",
   "pygments_lexer": "ipython3",
   "version": "3.7.3"
  }
 },
 "nbformat": 4,
 "nbformat_minor": 2
}
