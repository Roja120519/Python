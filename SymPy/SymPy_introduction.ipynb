{
 "cells": [
  {
   "cell_type": "markdown",
   "metadata": {},
   "source": [
    "#### Sympy\n",
    "- SymPy is a Python library for symbolic mathematics\n",
    "- deals with the computation of mathematical objects symbolically\n",
    "- unevaluated variables are left in symbolic form\n",
    "- symbolic results can be symbolically simplified\n",
    "- called computer algebra systems\n",
    "- SymPy can simplify expressions, compute derivatives, integrals, and limits, solve equations, work with matrices, and much, much more, and do it all symbolically\n",
    "-  It includes modules for plotting, printing (like 2D pretty printed output of math formulas, or LATEX), code generation, physics, statistics, combinatorics, number theory, geometry, logic, and more.\n",
    "\n",
    "\n",
    "#### Problems\n",
    "- square root\n",
    "    - if the value or number has perfect square it will the value\n",
    "    - else it will give output as sqrt(number)\n",
    "- symbols\n",
    "    "
   ]
  },
  {
   "cell_type": "code",
   "execution_count": 1,
   "metadata": {},
   "outputs": [
    {
     "name": "stdout",
     "output_type": "stream",
     "text": [
      "1.3\n",
      "sympy.Abs\n",
      "sympy.AccumBounds\n",
      "sympy.Add\n",
      "sympy.Adjoint\n",
      "sympy.AlgebraicField\n",
      "sympy.AlgebraicNumber\n",
      "sympy.And\n",
      "sympy.AppliedPredicate\n",
      "sympy.Array\n",
      "sympy.AssumptionsContext\n",
      "sympy.Atom\n",
      "sympy.AtomicExpr\n",
      "sympy.BasePolynomialError\n",
      "sympy.Basic\n",
      "sympy.BlockDiagMatrix\n",
      "sympy.BlockMatrix\n",
      "sympy.C\n",
      "sympy.CC\n",
      "sympy.CRootOf\n",
      "sympy.Catalan\n",
      "sympy.Chi\n",
      "sympy.Ci\n",
      "sympy.Circle\n",
      "sympy.ClassRegistry\n",
      "sympy.CoercionFailed\n",
      "sympy.Complement\n",
      "sympy.ComplexField\n",
      "sympy.ComplexRegion\n",
      "sympy.ComplexRootOf\n",
      "sympy.Complexes\n",
      "sympy.ComputationFailed\n",
      "sympy.ConditionSet\n",
      "sympy.Contains\n",
      "sympy.CosineTransform\n",
      "sympy.Curve\n",
      "sympy.DeferredVector\n",
      "sympy.DenseNDimArray\n",
      "sympy.Derivative\n",
      "sympy.Determinant\n",
      "sympy.DiagonalMatrix\n",
      "sympy.DiagonalOf\n",
      "sympy.Dict\n",
      "sympy.DiracDelta\n",
      "sympy.Domain\n",
      "sympy.DomainError\n",
      "sympy.DotProduct\n",
      "sympy.Dummy\n",
      "sympy.E\n",
      "sympy.E1\n",
      "sympy.EPath\n",
      "sympy.EX\n",
      "sympy.Ei\n",
      "sympy.Eijk\n",
      "sympy.Ellipse\n",
      "sympy.EmptySequence\n",
      "sympy.EmptySet\n",
      "sympy.Eq\n",
      "sympy.Equality\n",
      "sympy.Equivalent\n",
      "sympy.EulerGamma\n",
      "sympy.EvaluationFailed\n",
      "sympy.ExactQuotientFailed\n",
      "sympy.Expr\n",
      "sympy.ExpressionDomain\n",
      "sympy.ExtraneousFactors\n",
      "sympy.FF\n",
      "sympy.FF_gmpy\n",
      "sympy.FF_python\n",
      "sympy.FU\n",
      "sympy.FallingFactorial\n",
      "sympy.FiniteField\n",
      "sympy.FiniteSet\n",
      "sympy.FlagError\n",
      "sympy.Float\n",
      "sympy.FourierTransform\n",
      "sympy.FractionField\n",
      "sympy.Function\n",
      "sympy.FunctionClass\n",
      "sympy.FunctionMatrix\n",
      "sympy.GF\n",
      "sympy.GMPYFiniteField\n",
      "sympy.GMPYIntegerRing\n",
      "sympy.GMPYRationalField\n",
      "sympy.Ge\n",
      "sympy.GeneratorsError\n",
      "sympy.GeneratorsNeeded\n",
      "sympy.GeometryError\n",
      "sympy.GoldenRatio\n",
      "sympy.GramSchmidt\n",
      "sympy.GreaterThan\n",
      "sympy.GroebnerBasis\n",
      "sympy.Gt\n",
      "sympy.HadamardProduct\n",
      "sympy.HankelTransform\n",
      "sympy.Heaviside\n",
      "sympy.HeuristicGCDFailed\n",
      "sympy.HomomorphismFailed\n",
      "sympy.I\n",
      "sympy.ITE\n",
      "sympy.Id\n",
      "sympy.Identity\n",
      "sympy.Idx\n",
      "sympy.ImageSet\n",
      "sympy.ImmutableDenseMatrix\n",
      "sympy.ImmutableDenseNDimArray\n",
      "sympy.ImmutableMatrix\n",
      "sympy.ImmutableSparseMatrix\n",
      "sympy.ImmutableSparseNDimArray\n",
      "sympy.Implies\n",
      "sympy.Indexed\n",
      "sympy.IndexedBase\n",
      "sympy.Integer\n",
      "sympy.IntegerRing\n",
      "sympy.Integers\n",
      "sympy.Integral\n",
      "sympy.Intersection\n",
      "sympy.Interval\n",
      "sympy.Inverse\n",
      "sympy.InverseCosineTransform\n",
      "sympy.InverseFourierTransform\n",
      "sympy.InverseHankelTransform\n",
      "sympy.InverseLaplaceTransform\n",
      "sympy.InverseMellinTransform\n",
      "sympy.InverseSineTransform\n",
      "sympy.IsomorphismFailed\n",
      "sympy.KroneckerDelta\n",
      "sympy.KroneckerProduct\n",
      "sympy.LC\n",
      "sympy.LM\n",
      "sympy.LT\n",
      "sympy.Lambda\n",
      "sympy.LambertW\n",
      "sympy.LaplaceTransform\n",
      "sympy.Le\n",
      "sympy.LessThan\n",
      "sympy.LeviCivita\n",
      "sympy.Li\n",
      "sympy.Limit\n",
      "sympy.Line\n",
      "sympy.Line2D\n",
      "sympy.Line3D\n",
      "sympy.Lt\n",
      "sympy.MatAdd\n",
      "sympy.MatMul\n",
      "sympy.MatPow\n",
      "sympy.Matrix\n",
      "sympy.MatrixBase\n",
      "sympy.MatrixExpr\n",
      "sympy.MatrixSlice\n",
      "sympy.MatrixSymbol\n",
      "sympy.Max\n",
      "sympy.MellinTransform\n",
      "sympy.Min\n",
      "sympy.Mod\n",
      "sympy.Monomial\n",
      "sympy.Mul\n",
      "sympy.MultivariatePolynomialError\n",
      "sympy.MutableDenseMatrix\n",
      "sympy.MutableDenseNDimArray\n",
      "sympy.MutableMatrix\n",
      "sympy.MutableSparseMatrix\n",
      "sympy.MutableSparseNDimArray\n",
      "sympy.N\n",
      "sympy.NDimArray\n",
      "sympy.Nand\n",
      "sympy.Naturals\n",
      "sympy.Naturals0\n",
      "sympy.Ne\n",
      "sympy.NonSquareMatrixError\n",
      "sympy.Nor\n",
      "sympy.Not\n",
      "sympy.NotAlgebraic\n",
      "sympy.NotInvertible\n",
      "sympy.NotReversible\n",
      "sympy.Number\n",
      "sympy.NumberSymbol\n",
      "sympy.O\n",
      "sympy.OmegaPower\n",
      "sympy.OperationNotSupported\n",
      "sympy.OptionError\n",
      "sympy.Options\n",
      "sympy.Or\n",
      "sympy.Order\n",
      "sympy.Ordinal\n",
      "sympy.POSform\n",
      "sympy.Parabola\n",
      "sympy.Piecewise\n",
      "sympy.Plane\n",
      "sympy.Point\n",
      "sympy.Point2D\n",
      "sympy.Point3D\n",
      "sympy.PoleError\n",
      "sympy.PolificationFailed\n",
      "sympy.Poly\n",
      "sympy.Polygon\n",
      "sympy.PolynomialDivisionFailed\n",
      "sympy.PolynomialError\n",
      "sympy.PolynomialRing\n",
      "sympy.Pow\n",
      "sympy.PrecisionExhausted\n",
      "sympy.Predicate\n",
      "sympy.Product\n",
      "sympy.ProductSet\n",
      "sympy.PurePoly\n",
      "sympy.PythonFiniteField\n",
      "sympy.PythonIntegerRing\n",
      "sympy.PythonRationalField\n",
      "sympy.Q\n",
      "sympy.QQ\n",
      "sympy.QQ_gmpy\n",
      "sympy.QQ_python\n",
      "sympy.Quaternion\n",
      "sympy.RR\n",
      "sympy.Range\n",
      "sympy.Rational\n",
      "sympy.RationalField\n",
      "sympy.Ray\n",
      "sympy.Ray2D\n",
      "sympy.Ray3D\n",
      "sympy.RealField\n",
      "sympy.RealNumber\n",
      "sympy.Reals\n",
      "sympy.RefinementFailed\n",
      "sympy.RegularPolygon\n",
      "sympy.Rel\n",
      "sympy.RisingFactorial\n",
      "sympy.RootOf\n",
      "sympy.RootSum\n",
      "sympy.S\n",
      "sympy.SOPform\n",
      "sympy.SYMPY_DEBUG\n",
      "sympy.Segment\n",
      "sympy.Segment2D\n",
      "sympy.Segment3D\n",
      "sympy.SeqAdd\n",
      "sympy.SeqFormula\n",
      "sympy.SeqMul\n",
      "sympy.SeqPer\n",
      "sympy.Set\n",
      "sympy.ShapeError\n",
      "sympy.Shi\n",
      "sympy.Si\n",
      "sympy.Sieve\n",
      "sympy.SineTransform\n",
      "sympy.SingularityFunction\n",
      "sympy.SparseMatrix\n",
      "sympy.SparseNDimArray\n",
      "sympy.StrPrinter\n",
      "sympy.StrictGreaterThan\n",
      "sympy.StrictLessThan\n",
      "sympy.Subs\n",
      "sympy.Sum\n",
      "sympy.Symbol\n",
      "sympy.SymmetricDifference\n",
      "sympy.SympifyError\n",
      "sympy.TableForm\n",
      "sympy.Trace\n",
      "sympy.Transpose\n",
      "sympy.Triangle\n",
      "sympy.TribonacciConstant\n",
      "sympy.Tuple\n",
      "sympy.Unequality\n",
      "sympy.UnevaluatedExpr\n",
      "sympy.UnificationFailed\n",
      "sympy.Union\n",
      "sympy.UnivariatePolynomialError\n",
      "sympy.UniversalSet\n",
      "sympy.Wild\n",
      "sympy.WildFunction\n",
      "sympy.Xor\n",
      "sympy.Ynm\n",
      "sympy.Ynm_c\n",
      "sympy.ZZ\n",
      "sympy.ZZ_gmpy\n",
      "sympy.ZZ_python\n",
      "sympy.ZeroMatrix\n",
      "sympy.Znm\n",
      "sympy.__builtins__\n",
      "sympy.__cached__\n",
      "sympy.__doc__\n",
      "sympy.__file__\n",
      "sympy.__loader__\n",
      "sympy.__name__\n",
      "sympy.__package__\n",
      "sympy.__path__\n",
      "sympy.__spec__\n",
      "sympy.__sympy_debug\n",
      "sympy.__version__\n",
      "sympy.acos\n",
      "sympy.acosh\n",
      "sympy.acot\n",
      "sympy.acoth\n",
      "sympy.acsc\n",
      "sympy.acsch\n",
      "sympy.add\n",
      "sympy.adjoint\n",
      "sympy.airyai\n",
      "sympy.airyaiprime\n",
      "sympy.airybi\n",
      "sympy.airybiprime\n",
      "sympy.algebras\n",
      "sympy.apart\n",
      "sympy.apart_list\n",
      "sympy.appellf1\n",
      "sympy.apply_finite_diff\n",
      "sympy.are_similar\n",
      "sympy.arg\n",
      "sympy.array\n",
      "sympy.as_finite_diff\n",
      "sympy.asec\n",
      "sympy.asech\n",
      "sympy.asin\n",
      "sympy.asinh\n",
      "sympy.ask\n",
      "sympy.ask_generated\n",
      "sympy.assemble_partfrac_list\n",
      "sympy.assoc_laguerre\n",
      "sympy.assoc_legendre\n",
      "sympy.assume\n",
      "sympy.assuming\n",
      "sympy.assumptions\n",
      "sympy.atan\n",
      "sympy.atan2\n",
      "sympy.atanh\n",
      "sympy.basic\n",
      "sympy.bell\n",
      "sympy.bernoulli\n",
      "sympy.besseli\n",
      "sympy.besselj\n",
      "sympy.besselk\n",
      "sympy.besselsimp\n",
      "sympy.bessely\n",
      "sympy.beta\n",
      "sympy.binomial\n",
      "sympy.binomial_coefficients\n",
      "sympy.binomial_coefficients_list\n",
      "sympy.bivariate\n",
      "sympy.block_collapse\n",
      "sympy.blockcut\n",
      "sympy.bool_map\n",
      "sympy.boolalg\n",
      "sympy.bottom_up\n",
      "sympy.bspline_basis\n",
      "sympy.bspline_basis_set\n",
      "sympy.cache\n",
      "sympy.cacheit\n",
      "sympy.calculus\n",
      "sympy.cancel\n",
      "sympy.capture\n",
      "sympy.cartes\n",
      "sympy.casoratian\n",
      "sympy.catalan\n",
      "sympy.cbrt\n",
      "sympy.ccode\n",
      "sympy.ceiling\n",
      "sympy.centroid\n",
      "sympy.chebyshevt\n",
      "sympy.chebyshevt_poly\n",
      "sympy.chebyshevt_root\n",
      "sympy.chebyshevu\n",
      "sympy.chebyshevu_poly\n",
      "sympy.chebyshevu_root\n",
      "sympy.check_assumptions\n",
      "sympy.checkodesol\n",
      "sympy.checkpdesol\n",
      "sympy.checksol\n",
      "sympy.class_registry\n",
      "sympy.classify_ode\n",
      "sympy.classify_pde\n",
      "sympy.closest_points\n",
      "sympy.codegen\n",
      "sympy.cofactors\n",
      "sympy.collect\n",
      "sympy.collect_const\n",
      "sympy.combinatorial\n",
      "sympy.combsimp\n",
      "sympy.common\n",
      "sympy.comp\n",
      "sympy.compatibility\n",
      "sympy.compose\n",
      "sympy.composite\n",
      "sympy.compositepi\n",
      "sympy.concrete\n",
      "sympy.conditionset\n",
      "sympy.conjugate\n",
      "sympy.construct_domain\n",
      "sympy.containers\n",
      "sympy.contains\n",
      "sympy.content\n",
      "sympy.continued_fraction\n",
      "sympy.continued_fraction_convergents\n",
      "sympy.continued_fraction_iterator\n",
      "sympy.continued_fraction_periodic\n",
      "sympy.continued_fraction_reduce\n",
      "sympy.convex_hull\n",
      "sympy.convolution\n",
      "sympy.convolutions\n",
      "sympy.core\n",
      "sympy.coreerrors\n",
      "sympy.cos\n",
      "sympy.cosh\n",
      "sympy.cosine_transform\n",
      "sympy.cot\n",
      "sympy.coth\n",
      "sympy.count_ops\n",
      "sympy.count_roots\n",
      "sympy.covering_product\n",
      "sympy.csc\n",
      "sympy.csch\n",
      "sympy.cse\n",
      "sympy.cse_main\n",
      "sympy.cse_opts\n",
      "sympy.curve\n",
      "sympy.cxxcode\n",
      "sympy.cycle_length\n",
      "sympy.cyclotomic_poly\n",
      "sympy.decompogen\n",
      "sympy.decompose\n",
      "sympy.decorator\n",
      "sympy.decorators\n",
      "sympy.default_sort_key\n",
      "sympy.deg\n",
      "sympy.degree\n",
      "sympy.degree_list\n",
      "sympy.denom\n",
      "sympy.dense\n",
      "sympy.deprecated\n",
      "sympy.derive_by_array\n",
      "sympy.det\n",
      "sympy.det_quick\n",
      "sympy.deutils\n",
      "sympy.diag\n",
      "sympy.dict_merge\n",
      "sympy.diff\n",
      "sympy.difference_delta\n",
      "sympy.differentiate_finite\n",
      "sympy.digamma\n",
      "sympy.diophantine\n",
      "sympy.dirichlet_eta\n",
      "sympy.discrete\n",
      "sympy.discrete_log\n",
      "sympy.discriminant\n",
      "sympy.div\n",
      "sympy.divisor_count\n",
      "sympy.divisor_sigma\n",
      "sympy.divisors\n",
      "sympy.doctest\n",
      "sympy.dotprint\n",
      "sympy.dsolve\n",
      "sympy.egyptian_fraction\n",
      "sympy.elementary\n",
      "sympy.ellipse\n",
      "sympy.elliptic_e\n",
      "sympy.elliptic_f\n",
      "sympy.elliptic_k\n",
      "sympy.elliptic_pi\n",
      "sympy.entity\n",
      "sympy.enumerative\n",
      "sympy.epath\n",
      "sympy.epathtools\n",
      "sympy.erf\n",
      "sympy.erf2\n",
      "sympy.erf2inv\n",
      "sympy.erfc\n",
      "sympy.erfcinv\n",
      "sympy.erfi\n",
      "sympy.erfinv\n",
      "sympy.euler\n",
      "sympy.euler_equations\n",
      "sympy.evalf\n",
      "sympy.evaluate\n",
      "sympy.exceptions\n",
      "sympy.exp\n",
      "sympy.exp_polar\n",
      "sympy.expand\n",
      "sympy.expand_complex\n",
      "sympy.expand_func\n",
      "sympy.expand_log\n",
      "sympy.expand_mul\n",
      "sympy.expand_multinomial\n",
      "sympy.expand_power_base\n",
      "sympy.expand_power_exp\n",
      "sympy.expand_trig\n",
      "sympy.expint\n",
      "sympy.expr\n",
      "sympy.expr_with_intlimits\n",
      "sympy.expr_with_limits\n",
      "sympy.expressions\n",
      "sympy.exprtools\n",
      "sympy.exptrigsimp\n",
      "sympy.exquo\n",
      "sympy.external\n",
      "sympy.eye\n",
      "sympy.factor\n",
      "sympy.factor_\n",
      "sympy.factor_list\n",
      "sympy.factor_nc\n",
      "sympy.factor_terms\n",
      "sympy.factorial\n",
      "sympy.factorial2\n",
      "sympy.factorint\n",
      "sympy.factorrat\n",
      "sympy.facts\n",
      "sympy.failing_assumptions\n",
      "sympy.false\n",
      "sympy.fancysets\n",
      "sympy.farthest_points\n",
      "sympy.fcode\n",
      "sympy.ff\n",
      "sympy.fft\n",
      "sympy.fibonacci\n",
      "sympy.field\n",
      "sympy.field_isomorphism\n",
      "sympy.filldedent\n",
      "sympy.finite_diff_weights\n",
      "sympy.flatten\n",
      "sympy.floor\n",
      "sympy.fourier_series\n",
      "sympy.fourier_transform\n",
      "sympy.fps\n",
      "sympy.frac\n",
      "sympy.fraction\n",
      "sympy.fresnelc\n",
      "sympy.fresnels\n",
      "sympy.fu\n",
      "sympy.function\n",
      "sympy.functions\n",
      "sympy.fwht\n",
      "sympy.gamma\n",
      "sympy.gammasimp\n",
      "sympy.gcd\n",
      "sympy.gcd_list\n",
      "sympy.gcd_terms\n",
      "sympy.gcdex\n",
      "sympy.gegenbauer\n",
      "sympy.generate\n",
      "sympy.genocchi\n",
      "sympy.geometry\n",
      "sympy.get_contraction_structure\n",
      "sympy.get_indices\n",
      "sympy.gff\n",
      "sympy.gff_list\n",
      "sympy.glsl_code\n",
      "sympy.gosper\n",
      "sympy.grevlex\n",
      "sympy.grlex\n",
      "sympy.groebner\n",
      "sympy.ground_roots\n",
      "sympy.group\n",
      "sympy.gruntz\n",
      "sympy.hadamard_product\n",
      "sympy.half_gcdex\n",
      "sympy.hankel1\n",
      "sympy.hankel2\n",
      "sympy.hankel_transform\n",
      "sympy.harmonic\n",
      "sympy.has_dups\n",
      "sympy.has_variety\n",
      "sympy.hermite\n",
      "sympy.hermite_poly\n",
      "sympy.hessian\n",
      "sympy.hn1\n",
      "sympy.hn2\n",
      "sympy.homogeneous_order\n",
      "sympy.horner\n",
      "sympy.hyper\n",
      "sympy.hyperexpand\n",
      "sympy.hypersimilar\n",
      "sympy.hypersimp\n",
      "sympy.idiff\n",
      "sympy.ifft\n",
      "sympy.ifwht\n",
      "sympy.igcd\n",
      "sympy.igrevlex\n",
      "sympy.igrlex\n",
      "sympy.ilcm\n",
      "sympy.ilex\n",
      "sympy.im\n",
      "sympy.imageset\n",
      "sympy.immutable\n",
      "sympy.index_methods\n",
      "sympy.indexed\n",
      "sympy.inequalities\n",
      "sympy.inference\n",
      "sympy.init_printing\n",
      "sympy.init_session\n",
      "sympy.integer_log\n",
      "sympy.integer_nthroot\n",
      "sympy.integrals\n",
      "sympy.integrate\n",
      "sympy.interactive\n",
      "sympy.interactive_traversal\n",
      "sympy.interpolate\n",
      "sympy.interpolating_poly\n",
      "sympy.interpolating_spline\n",
      "sympy.intersecting_product\n",
      "sympy.intersection\n",
      "sympy.intervals\n",
      "sympy.intt\n",
      "sympy.inv_quick\n",
      "sympy.inverse_cosine_transform\n",
      "sympy.inverse_fourier_transform\n",
      "sympy.inverse_hankel_transform\n",
      "sympy.inverse_laplace_transform\n",
      "sympy.inverse_mellin_transform\n",
      "sympy.inverse_mobius_transform\n",
      "sympy.inverse_sine_transform\n",
      "sympy.invert\n",
      "sympy.is_decreasing\n",
      "sympy.is_increasing\n",
      "sympy.is_monotonic\n",
      "sympy.is_nthpow_residue\n",
      "sympy.is_primitive_root\n",
      "sympy.is_quad_residue\n",
      "sympy.is_strictly_decreasing\n",
      "sympy.is_strictly_increasing\n",
      "sympy.is_zero_dimensional\n",
      "sympy.isolate\n",
      "sympy.isprime\n",
      "sympy.iterables\n",
      "sympy.itermonomials\n",
      "sympy.jacobi\n",
      "sympy.jacobi_normalized\n",
      "sympy.jacobi_poly\n",
      "sympy.jacobi_symbol\n",
      "sympy.jn\n",
      "sympy.jn_zeros\n",
      "sympy.jordan_cell\n",
      "sympy.jscode\n",
      "sympy.julia_code\n",
      "sympy.kronecker_product\n",
      "sympy.laguerre\n",
      "sympy.laguerre_poly\n",
      "sympy.lambdify\n",
      "sympy.laplace_transform\n",
      "sympy.latex\n",
      "sympy.lcm\n",
      "sympy.lcm_list\n",
      "sympy.legendre\n",
      "sympy.legendre_poly\n",
      "sympy.legendre_symbol\n",
      "sympy.lerchphi\n",
      "sympy.lex\n",
      "sympy.li\n",
      "sympy.limit\n",
      "sympy.limit_seq\n",
      "sympy.line\n",
      "sympy.line_integrate\n",
      "sympy.linear_eq_to_matrix\n",
      "sympy.linsolve\n",
      "sympy.list2numpy\n",
      "sympy.ln\n",
      "sympy.log\n",
      "sympy.logcombine\n",
      "sympy.loggamma\n",
      "sympy.logic\n",
      "sympy.lowergamma\n",
      "sympy.lucas\n",
      "sympy.magic\n",
      "sympy.manualintegrate\n",
      "sympy.mathematica_code\n",
      "sympy.mathieuc\n",
      "sympy.mathieucprime\n",
      "sympy.mathieus\n",
      "sympy.mathieusprime\n",
      "sympy.mathml\n",
      "sympy.matrices\n",
      "sympy.matrix2numpy\n",
      "sympy.matrix_multiply_elementwise\n",
      "sympy.matrix_symbols\n",
      "sympy.meijerg\n",
      "sympy.meijerint\n",
      "sympy.mellin_transform\n",
      "sympy.memoization\n",
      "sympy.memoize_property\n",
      "sympy.minimal_polynomial\n",
      "sympy.minpoly\n",
      "sympy.misc\n",
      "sympy.mobius\n",
      "sympy.mobius_transform\n",
      "sympy.mod\n",
      "sympy.mod_inverse\n",
      "sympy.monic\n",
      "sympy.mul\n",
      "sympy.multidimensional\n",
      "sympy.multinomial\n",
      "sympy.multinomial_coefficients\n",
      "sympy.multipledispatch\n",
      "sympy.multiplicity\n",
      "sympy.n_order\n",
      "sympy.nan\n",
      "sympy.nextprime\n",
      "sympy.nfloat\n",
      "sympy.nonlinsolve\n",
      "sympy.not_empty_in\n",
      "sympy.npartitions\n",
      "sympy.nroots\n",
      "sympy.nsimplify\n",
      "sympy.nsolve\n",
      "sympy.nth_power_roots_poly\n",
      "sympy.ntheory\n",
      "sympy.nthroot_mod\n",
      "sympy.ntt\n",
      "sympy.numbered_symbols\n",
      "sympy.numbers\n",
      "sympy.numer\n",
      "sympy.octave_code\n",
      "sympy.ode\n",
      "sympy.ode_order\n",
      "sympy.ones\n",
      "sympy.oo\n",
      "sympy.operations\n",
      "sympy.ord0\n",
      "sympy.ordered\n",
      "sympy.ordinals\n",
      "sympy.pager_print\n",
      "sympy.parabola\n",
      "sympy.parallel_poly_from_expr\n",
      "sympy.parsing\n",
      "sympy.partition\n",
      "sympy.partitions_\n",
      "sympy.pde\n",
      "sympy.pde_separate\n",
      "sympy.pde_separate_add\n",
      "sympy.pde_separate_mul\n",
      "sympy.pdiv\n",
      "sympy.pdsolve\n",
      "sympy.perfect_power\n",
      "sympy.periodic_argument\n",
      "sympy.periodicity\n",
      "sympy.permutedims\n",
      "sympy.pexquo\n",
      "sympy.pi\n",
      "sympy.piecewise_fold\n",
      "sympy.plane\n",
      "sympy.plot\n",
      "sympy.plot_backends\n",
      "sympy.plot_implicit\n",
      "sympy.plotting\n",
      "sympy.point\n",
      "sympy.polar_lift\n",
      "sympy.polarify\n",
      "sympy.pollard_pm1\n",
      "sympy.pollard_rho\n",
      "sympy.poly\n",
      "sympy.poly_from_expr\n",
      "sympy.polygamma\n",
      "sympy.polygon\n",
      "sympy.polylog\n",
      "sympy.polys\n",
      "sympy.polysys\n",
      "sympy.posify\n",
      "sympy.postfixes\n",
      "sympy.postorder_traversal\n",
      "sympy.powdenest\n",
      "sympy.power\n",
      "sympy.powsimp\n",
      "sympy.pprint\n",
      "sympy.pprint_try_use_unicode\n",
      "sympy.pprint_use_unicode\n",
      "sympy.pquo\n",
      "sympy.prefixes\n",
      "sympy.prem\n",
      "sympy.preorder_traversal\n",
      "sympy.pretty\n",
      "sympy.pretty_print\n",
      "sympy.preview\n",
      "sympy.prevprime\n",
      "sympy.prime\n",
      "sympy.primefactors\n",
      "sympy.primenu\n",
      "sympy.primeomega\n",
      "sympy.primepi\n",
      "sympy.primerange\n",
      "sympy.primetest\n",
      "sympy.primitive\n",
      "sympy.primitive_element\n",
      "sympy.primitive_root\n",
      "sympy.primorial\n",
      "sympy.principal_branch\n",
      "sympy.print_ccode\n",
      "sympy.print_fcode\n",
      "sympy.print_glsl\n",
      "sympy.print_gtk\n",
      "sympy.print_jscode\n",
      "sympy.print_latex\n",
      "sympy.print_mathml\n",
      "sympy.print_python\n",
      "sympy.print_rcode\n",
      "sympy.print_tree\n",
      "sympy.printing\n",
      "sympy.prod\n",
      "sympy.product\n",
      "sympy.products\n",
      "sympy.public\n",
      "sympy.pycode\n",
      "sympy.python\n",
      "sympy.quadratic_residues\n",
      "sympy.quo\n",
      "sympy.rad\n",
      "sympy.radsimp\n",
      "sympy.randMatrix\n",
      "sympy.random_poly\n",
      "sympy.randprime\n",
      "sympy.rational_interpolate\n",
      "sympy.ratsimp\n",
      "sympy.ratsimpmodprime\n",
      "sympy.rcode\n",
      "sympy.rcollect\n",
      "sympy.re\n",
      "sympy.real_root\n",
      "sympy.real_roots\n",
      "sympy.recurr\n",
      "sympy.reduce_abs_inequalities\n",
      "sympy.reduce_abs_inequality\n",
      "sympy.reduce_inequalities\n",
      "sympy.reduced\n",
      "sympy.reduced_totient\n",
      "sympy.refine\n",
      "sympy.refine_root\n",
      "sympy.register_handler\n",
      "sympy.relational\n",
      "sympy.release\n",
      "sympy.rem\n",
      "sympy.remove_handler\n",
      "sympy.reshape\n",
      "sympy.residue\n",
      "sympy.residue_ntheory\n",
      "sympy.resultant\n",
      "sympy.rf\n",
      "sympy.ring\n",
      "sympy.root\n",
      "sympy.rootof\n",
      "sympy.roots\n",
      "sympy.rot_axis1\n",
      "sympy.rot_axis2\n",
      "sympy.rot_axis3\n",
      "sympy.rsolve\n",
      "sympy.rsolve_hyper\n",
      "sympy.rsolve_poly\n",
      "sympy.rsolve_ratio\n",
      "sympy.rules\n",
      "sympy.runtests\n",
      "sympy.rust_code\n",
      "sympy.satisfiable\n",
      "sympy.sec\n",
      "sympy.sech\n",
      "sympy.separatevars\n",
      "sympy.sequence\n",
      "sympy.series\n",
      "sympy.seterr\n",
      "sympy.sets\n",
      "sympy.sfield\n",
      "sympy.sieve\n",
      "sympy.sift\n",
      "sympy.sign\n",
      "sympy.signsimp\n",
      "sympy.simplify\n",
      "sympy.simplify_logic\n",
      "sympy.sin\n",
      "sympy.sinc\n",
      "sympy.sine_transform\n",
      "sympy.singleton\n",
      "sympy.singularities\n",
      "sympy.singularityfunctions\n",
      "sympy.singularityintegrate\n",
      "sympy.sinh\n",
      "sympy.solve\n",
      "sympy.solve_linear\n",
      "sympy.solve_linear_system\n",
      "sympy.solve_linear_system_LU\n",
      "sympy.solve_poly_inequality\n",
      "sympy.solve_poly_system\n",
      "sympy.solve_rational_inequalities\n",
      "sympy.solve_triangulated\n",
      "sympy.solve_undetermined_coeffs\n",
      "sympy.solve_univariate_inequality\n",
      "sympy.solvers\n",
      "sympy.solveset\n",
      "sympy.source\n",
      "sympy.sparse\n",
      "sympy.special\n",
      "sympy.sqf\n",
      "sympy.sqf_list\n",
      "sympy.sqf_norm\n",
      "sympy.sqf_part\n",
      "sympy.sqrt\n",
      "sympy.sqrt_mod\n",
      "sympy.sqrt_mod_iter\n",
      "sympy.sqrtdenest\n",
      "sympy.srepr\n",
      "sympy.sring\n",
      "sympy.sstr\n",
      "sympy.sstrrepr\n",
      "sympy.stieltjes\n",
      "sympy.strategies\n",
      "sympy.sturm\n",
      "sympy.subfactorial\n",
      "sympy.subresultants\n",
      "sympy.subsets\n",
      "sympy.substitution\n",
      "sympy.summation\n",
      "sympy.summations\n",
      "sympy.swinnerton_dyer_poly\n",
      "sympy.symarray\n",
      "sympy.symbol\n",
      "sympy.symbols\n",
      "sympy.symmetric_poly\n",
      "sympy.symmetrize\n",
      "sympy.sympify\n",
      "sympy.take\n",
      "sympy.tan\n",
      "sympy.tanh\n",
      "sympy.tensor\n",
      "sympy.tensorcontraction\n",
      "sympy.tensorproduct\n",
      "sympy.terms_gcd\n",
      "sympy.test\n",
      "sympy.textplot\n",
      "sympy.threaded\n",
      "sympy.timed\n",
      "sympy.timeutils\n",
      "sympy.to_cnf\n",
      "sympy.to_dnf\n",
      "sympy.to_nnf\n",
      "sympy.to_number_field\n",
      "sympy.together\n",
      "sympy.topological_sort\n",
      "sympy.total_degree\n",
      "sympy.totient\n",
      "sympy.trace\n",
      "sympy.trailing\n",
      "sympy.transforms\n",
      "sympy.transpose\n",
      "sympy.traversaltools\n",
      "sympy.tribonacci\n",
      "sympy.trigamma\n",
      "sympy.trigonometry\n",
      "sympy.trigsimp\n",
      "sympy.true\n",
      "sympy.trunc\n",
      "sympy.unbranched_argument\n",
      "sympy.unflatten\n",
      "sympy.unpolarify\n",
      "sympy.uppergamma\n",
      "sympy.use\n",
      "sympy.util\n",
      "sympy.utilities\n",
      "sympy.var\n",
      "sympy.variations\n",
      "sympy.vectorize\n",
      "sympy.vfield\n",
      "sympy.viete\n",
      "sympy.vring\n",
      "sympy.wronskian\n",
      "sympy.xfield\n",
      "sympy.xring\n",
      "sympy.xthreaded\n",
      "sympy.yn\n",
      "sympy.zeros\n",
      "sympy.zeta\n",
      "sympy.zoo\n"
     ]
    }
   ],
   "source": [
    "import sympy \n",
    "print(sympy.__version__)\n",
    "for i in dir(sympy):\n",
    "    print('sympy.',end=\"\")\n",
    "    print(i)"
   ]
  },
  {
   "cell_type": "markdown",
   "metadata": {},
   "source": [
    "#### sqrt(num)"
   ]
  },
  {
   "cell_type": "code",
   "execution_count": 2,
   "metadata": {},
   "outputs": [
    {
     "data": {
      "text/plain": [
       "4"
      ]
     },
     "execution_count": 2,
     "metadata": {},
     "output_type": "execute_result"
    }
   ],
   "source": [
    "sympy.sqrt(16)"
   ]
  },
  {
   "cell_type": "code",
   "execution_count": 3,
   "metadata": {},
   "outputs": [
    {
     "data": {
      "text/plain": [
       "2*sqrt(3)"
      ]
     },
     "execution_count": 3,
     "metadata": {},
     "output_type": "execute_result"
    }
   ],
   "source": [
    "sympy.sqrt(12)"
   ]
  },
  {
   "cell_type": "code",
   "execution_count": 4,
   "metadata": {},
   "outputs": [
    {
     "data": {
      "text/plain": [
       "sqrt(5)"
      ]
     },
     "execution_count": 4,
     "metadata": {},
     "output_type": "execute_result"
    }
   ],
   "source": [
    "sympy.sqrt(5)"
   ]
  },
  {
   "cell_type": "markdown",
   "metadata": {},
   "source": [
    "#### Symbols\n",
    "- SymPy are capable of computing symbolic expressions with variables.\n",
    "-  variables in SymPy must be defined before they are used"
   ]
  },
  {
   "cell_type": "code",
   "execution_count": 5,
   "metadata": {},
   "outputs": [
    {
     "data": {
      "text/plain": [
       "2*x + y + 5"
      ]
     },
     "execution_count": 5,
     "metadata": {},
     "output_type": "execute_result"
    }
   ],
   "source": [
    "x=sympy.symbols('x')\n",
    "y=sympy.symbols('y')\n",
    "z=2*x+y+5\n",
    "z"
   ]
  },
  {
   "cell_type": "code",
   "execution_count": 6,
   "metadata": {},
   "outputs": [
    {
     "data": {
      "text/plain": [
       "2*x + y + 3"
      ]
     },
     "execution_count": 6,
     "metadata": {},
     "output_type": "execute_result"
    }
   ],
   "source": [
    "v=z-2\n",
    "v"
   ]
  },
  {
   "cell_type": "code",
   "execution_count": 7,
   "metadata": {},
   "outputs": [
    {
     "data": {
      "text/plain": [
       "x + 2*y + 5"
      ]
     },
     "execution_count": 7,
     "metadata": {},
     "output_type": "execute_result"
    }
   ],
   "source": [
    "sub=z-x+y\n",
    "sub"
   ]
  },
  {
   "cell_type": "code",
   "execution_count": 8,
   "metadata": {},
   "outputs": [
    {
     "data": {
      "text/plain": [
       "x*(2*x + y + 5)"
      ]
     },
     "execution_count": 8,
     "metadata": {},
     "output_type": "execute_result"
    }
   ],
   "source": [
    "mult=z*x\n",
    "mult\n"
   ]
  },
  {
   "cell_type": "markdown",
   "metadata": {},
   "source": [
    "#### expand and factor\n",
    "- expand -> it expands the expression\n",
    "- factor -> It simplifies the expresion"
   ]
  },
  {
   "cell_type": "code",
   "execution_count": 9,
   "metadata": {},
   "outputs": [
    {
     "data": {
      "text/plain": [
       "2*x**2 + x*y + 5*x"
      ]
     },
     "execution_count": 9,
     "metadata": {},
     "output_type": "execute_result"
    }
   ],
   "source": [
    "# expand\n",
    "\n",
    "m=sympy.expand(mult)\n",
    "m"
   ]
  },
  {
   "cell_type": "code",
   "execution_count": 10,
   "metadata": {},
   "outputs": [
    {
     "data": {
      "text/plain": [
       "x*(2*x + y + 5)"
      ]
     },
     "execution_count": 10,
     "metadata": {},
     "output_type": "execute_result"
    }
   ],
   "source": [
    "sympy.factor(m)"
   ]
  },
  {
   "cell_type": "markdown",
   "metadata": {},
   "source": [
    "#### multiple symbols assign"
   ]
  },
  {
   "cell_type": "code",
   "execution_count": 11,
   "metadata": {},
   "outputs": [],
   "source": [
    "u,v,w=sympy.symbols('u v w')"
   ]
  },
  {
   "cell_type": "code",
   "execution_count": 12,
   "metadata": {},
   "outputs": [
    {
     "name": "stdout",
     "output_type": "stream",
     "text": [
      "u v w\n"
     ]
    }
   ],
   "source": [
    "print(u,v,w)"
   ]
  },
  {
   "cell_type": "markdown",
   "metadata": {},
   "source": [
    "derivative of sin(x) e^x"
   ]
  },
  {
   "cell_type": "code",
   "execution_count": 13,
   "metadata": {},
   "outputs": [
    {
     "data": {
      "text/plain": [
       "exp(u)*sin(x)"
      ]
     },
     "execution_count": 13,
     "metadata": {},
     "output_type": "execute_result"
    }
   ],
   "source": [
    "exp=sympy.sin(x) * sympy.exp(u)\n",
    "exp"
   ]
  },
  {
   "cell_type": "code",
   "execution_count": 14,
   "metadata": {},
   "outputs": [
    {
     "data": {
      "text/plain": [
       "exp(x)*sin(2*x + y + 5)"
      ]
     },
     "execution_count": 14,
     "metadata": {},
     "output_type": "execute_result"
    }
   ],
   "source": [
    "e1=sympy.sin(z) * sympy.exp(x)\n",
    "e1"
   ]
  },
  {
   "cell_type": "markdown",
   "metadata": {},
   "source": [
    "#### Differrentials"
   ]
  },
  {
   "cell_type": "code",
   "execution_count": 15,
   "metadata": {},
   "outputs": [
    {
     "data": {
      "text/plain": [
       "exp(u)*cos(x)"
      ]
     },
     "execution_count": 15,
     "metadata": {},
     "output_type": "execute_result"
    }
   ],
   "source": [
    "exp1=sympy.diff(sympy.sin(x) * sympy.exp(u),x)\n",
    "exp1"
   ]
  },
  {
   "cell_type": "code",
   "execution_count": 16,
   "metadata": {},
   "outputs": [
    {
     "data": {
      "text/plain": [
       "2*x + y + 5"
      ]
     },
     "execution_count": 16,
     "metadata": {},
     "output_type": "execute_result"
    }
   ],
   "source": [
    "z"
   ]
  },
  {
   "cell_type": "code",
   "execution_count": 17,
   "metadata": {},
   "outputs": [
    {
     "data": {
      "text/plain": [
       "2*exp(u)*cos(2*x + y + 5)"
      ]
     },
     "execution_count": 17,
     "metadata": {},
     "output_type": "execute_result"
    }
   ],
   "source": [
    "e=sympy.diff(sympy.sin(z) * sympy.exp(u),x)\n",
    "e"
   ]
  },
  {
   "cell_type": "code",
   "execution_count": 24,
   "metadata": {},
   "outputs": [
    {
     "name": "stdout",
     "output_type": "stream",
     "text": [
      "original value -->  exp(x)*sin(x) + exp(x)*cos(x)\n",
      "factor of d -->  (sin(x) + cos(x))*exp(x)\n",
      "expand of d -->  exp(x)*sin(x) + exp(x)*cos(x)\n"
     ]
    }
   ],
   "source": [
    "# derivative of sin(x)*e^x\n",
    "\n",
    "d=sympy.diff(sympy.sin(x)*sympy.exp(x),x)\n",
    "print(\"original value --> \",d)\n",
    "print(\"factor of d --> \",sympy.factor(d))\n",
    "print(\"expand of d --> \",sympy.expand(d))\n"
   ]
  },
  {
   "cell_type": "markdown",
   "metadata": {},
   "source": [
    "#### Integrels\n",
    "- example\n",
    "    - ∫((e^x)*sin(x)+(e^x)*cos(x))dx . "
   ]
  },
  {
   "cell_type": "code",
   "execution_count": 26,
   "metadata": {},
   "outputs": [
    {
     "data": {
      "text/plain": [
       "exp(x)*sin(x)"
      ]
     },
     "execution_count": 26,
     "metadata": {},
     "output_type": "execute_result"
    }
   ],
   "source": [
    "inte=sympy.integrate((sympy.exp(x)*sympy.sin(x))+(sympy.exp(x)*sympy.cos(x)),x)\n",
    "inte"
   ]
  },
  {
   "cell_type": "markdown",
   "metadata": {},
   "source": [
    "- ∫sin(x^2)dx \n",
    " (range -infinity to +infinity)"
   ]
  },
  {
   "cell_type": "code",
   "execution_count": 32,
   "metadata": {},
   "outputs": [
    {
     "name": "stdout",
     "output_type": "stream",
     "text": [
      "sqrt(2)*sqrt(pi)/2\n",
      "sqrt(2)*sqrt(pi)/2\n",
      "sqrt(2)*sqrt(pi)/2\n"
     ]
    }
   ],
   "source": [
    "ra=sympy.integrate(sympy.sin(x**2),(x,-sympy.oo,sympy.oo))\n",
    "print(ra)\n",
    "print(sympy.factor(ra))\n",
    "print(sympy.expand(ra))"
   ]
  },
  {
   "cell_type": "markdown",
   "metadata": {},
   "source": [
    "#### limit\n",
    "- limx→0sin(x)x ."
   ]
  },
  {
   "cell_type": "code",
   "execution_count": 35,
   "metadata": {},
   "outputs": [
    {
     "data": {
      "text/plain": [
       "sin(x)/x"
      ]
     },
     "execution_count": 35,
     "metadata": {},
     "output_type": "execute_result"
    }
   ],
   "source": [
    "l=sympy.limit(sympy.sin(x)/x,x/2,0)\n",
    "l"
   ]
  },
  {
   "cell_type": "code",
   "execution_count": 36,
   "metadata": {},
   "outputs": [
    {
     "data": {
      "text/plain": [
       "1"
      ]
     },
     "execution_count": 36,
     "metadata": {},
     "output_type": "execute_result"
    }
   ],
   "source": [
    "l=sympy.limit(sympy.sin(x)/x,x,0)\n",
    "l"
   ]
  },
  {
   "cell_type": "code",
   "execution_count": 38,
   "metadata": {},
   "outputs": [
    {
     "data": {
      "text/plain": [
       "sin(1)"
      ]
     },
     "execution_count": 38,
     "metadata": {},
     "output_type": "execute_result"
    }
   ],
   "source": [
    "l=sympy.limit(sympy.sin(x)/x,x,1)\n",
    "l"
   ]
  },
  {
   "cell_type": "markdown",
   "metadata": {},
   "source": [
    "solve   x**2−2=0 ."
   ]
  },
  {
   "cell_type": "code",
   "execution_count": 40,
   "metadata": {},
   "outputs": [
    {
     "data": {
      "text/plain": [
       "[-sqrt(2), sqrt(2)]"
      ]
     },
     "execution_count": 40,
     "metadata": {},
     "output_type": "execute_result"
    }
   ],
   "source": [
    "sympy.solve((x**2)-2,x)\n"
   ]
  },
  {
   "cell_type": "code",
   "execution_count": 41,
   "metadata": {},
   "outputs": [
    {
     "data": {
      "text/plain": [
       "[(-y**2/2, y)]"
      ]
     },
     "execution_count": 41,
     "metadata": {},
     "output_type": "execute_result"
    }
   ],
   "source": [
    "sympy.solve((x*2+y**2),x,y)"
   ]
  },
  {
   "cell_type": "code",
   "execution_count": 43,
   "metadata": {},
   "outputs": [
    {
     "data": {
      "text/plain": [
       "y"
      ]
     },
     "execution_count": 43,
     "metadata": {},
     "output_type": "execute_result"
    }
   ],
   "source": [
    "y=sympy.Function('y')\n",
    "y"
   ]
  },
  {
   "cell_type": "code",
   "execution_count": 47,
   "metadata": {},
   "outputs": [],
   "source": [
    "from sympy import *\n",
    "t=symbols('t')"
   ]
  },
  {
   "cell_type": "code",
   "execution_count": 48,
   "metadata": {},
   "outputs": [
    {
     "data": {
      "text/plain": [
       "Eq(y(t), C2*exp(-t) + (C1 + t/2)*exp(t))"
      ]
     },
     "execution_count": 48,
     "metadata": {},
     "output_type": "execute_result"
    }
   ],
   "source": [
    "dsolve(Eq(y(t).diff(t, t) - y(t), exp(t)), y(t))"
   ]
  },
  {
   "cell_type": "markdown",
   "metadata": {},
   "source": [
    "#### Finding eigen vlaues from 2D matrices"
   ]
  },
  {
   "cell_type": "code",
   "execution_count": 49,
   "metadata": {},
   "outputs": [
    {
     "data": {
      "text/plain": [
       "{-sqrt(17)/2 + 3/2: 1, 3/2 + sqrt(17)/2: 1}"
      ]
     },
     "execution_count": 49,
     "metadata": {},
     "output_type": "execute_result"
    }
   ],
   "source": [
    "Matrix([[1, 2], [2, 2]]).eigenvals()"
   ]
  },
  {
   "cell_type": "code",
   "execution_count": 50,
   "metadata": {},
   "outputs": [
    {
     "data": {
      "text/plain": [
       "sqrt(4*x + 2*y + 10)*jn(t - 1/2, 2*x + y + 5)/sqrt(pi)"
      ]
     },
     "execution_count": 50,
     "metadata": {},
     "output_type": "execute_result"
    }
   ],
   "source": [
    "besselj(t, z).rewrite(jn)"
   ]
  },
  {
   "cell_type": "code",
   "execution_count": 52,
   "metadata": {},
   "outputs": [
    {
     "data": {
      "text/plain": [
       "'\\\\int \\\\cos^{2}{\\\\left (x \\\\right )}\\\\, dx'"
      ]
     },
     "execution_count": 52,
     "metadata": {},
     "output_type": "execute_result"
    }
   ],
   "source": [
    "latex(Integral(cos(x)**2),(x,0,pi))"
   ]
  },
  {
   "cell_type": "code",
   "execution_count": null,
   "metadata": {},
   "outputs": [],
   "source": []
  }
 ],
 "metadata": {
  "kernelspec": {
   "display_name": "Python 3",
   "language": "python",
   "name": "python3"
  },
  "language_info": {
   "codemirror_mode": {
    "name": "ipython",
    "version": 3
   },
   "file_extension": ".py",
   "mimetype": "text/x-python",
   "name": "python",
   "nbconvert_exporter": "python",
   "pygments_lexer": "ipython3",
   "version": "3.7.3"
  }
 },
 "nbformat": 4,
 "nbformat_minor": 2
}
