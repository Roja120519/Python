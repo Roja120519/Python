{
 "cells": [
  {
   "cell_type": "markdown",
   "metadata": {},
   "source": [
    "### Numpy basics\n",
    "- Numpy version and its inbuilt functions\n",
    "- multiple ways to create different dimensions arrays using numpy python\n",
    "- create multiple arrays with different dimentions"
   ]
  },
  {
   "cell_type": "code",
   "execution_count": null,
   "metadata": {},
   "outputs": [],
   "source": []
  },
  {
   "cell_type": "code",
   "execution_count": 2,
   "metadata": {},
   "outputs": [
    {
     "name": "stdout",
     "output_type": "stream",
     "text": [
      "Numpy version is  1.16.2\n",
      "np.ALLOW_THREADS\n",
      "np.AxisError\n",
      "np.BUFSIZE\n",
      "np.CLIP\n",
      "np.ComplexWarning\n",
      "np.DataSource\n",
      "np.ERR_CALL\n",
      "np.ERR_DEFAULT\n",
      "np.ERR_IGNORE\n",
      "np.ERR_LOG\n",
      "np.ERR_PRINT\n",
      "np.ERR_RAISE\n",
      "np.ERR_WARN\n",
      "np.FLOATING_POINT_SUPPORT\n",
      "np.FPE_DIVIDEBYZERO\n",
      "np.FPE_INVALID\n",
      "np.FPE_OVERFLOW\n",
      "np.FPE_UNDERFLOW\n",
      "np.False_\n",
      "np.Inf\n",
      "np.Infinity\n",
      "np.MAXDIMS\n",
      "np.MAY_SHARE_BOUNDS\n",
      "np.MAY_SHARE_EXACT\n",
      "np.MachAr\n",
      "np.ModuleDeprecationWarning\n",
      "np.NAN\n",
      "np.NINF\n",
      "np.NZERO\n",
      "np.NaN\n",
      "np.PINF\n",
      "np.PZERO\n",
      "np.RAISE\n",
      "np.RankWarning\n",
      "np.SHIFT_DIVIDEBYZERO\n",
      "np.SHIFT_INVALID\n",
      "np.SHIFT_OVERFLOW\n",
      "np.SHIFT_UNDERFLOW\n",
      "np.ScalarType\n",
      "np.Tester\n",
      "np.TooHardError\n",
      "np.True_\n",
      "np.UFUNC_BUFSIZE_DEFAULT\n",
      "np.UFUNC_PYVALS_NAME\n",
      "np.VisibleDeprecationWarning\n",
      "np.WRAP\n",
      "np._NoValue\n",
      "np._UFUNC_API\n",
      "np.__NUMPY_SETUP__\n",
      "np.__all__\n",
      "np.__builtins__\n",
      "np.__cached__\n",
      "np.__config__\n",
      "np.__doc__\n",
      "np.__file__\n",
      "np.__git_revision__\n",
      "np.__loader__\n",
      "np.__mkl_version__\n",
      "np.__name__\n",
      "np.__package__\n",
      "np.__path__\n",
      "np.__spec__\n",
      "np.__version__\n",
      "np._add_newdoc_ufunc\n",
      "np._arg\n",
      "np._distributor_init\n",
      "np._globals\n",
      "np._mat\n",
      "np._mklinit\n",
      "np._pytesttester\n",
      "np.abs\n",
      "np.absolute\n",
      "np.absolute_import\n",
      "np.add\n",
      "np.add_docstring\n",
      "np.add_newdoc\n",
      "np.add_newdoc_ufunc\n",
      "np.alen\n",
      "np.all\n",
      "np.allclose\n",
      "np.alltrue\n",
      "np.amax\n",
      "np.amin\n",
      "np.angle\n",
      "np.any\n",
      "np.append\n",
      "np.apply_along_axis\n",
      "np.apply_over_axes\n",
      "np.arange\n",
      "np.arccos\n",
      "np.arccosh\n",
      "np.arcsin\n",
      "np.arcsinh\n",
      "np.arctan\n",
      "np.arctan2\n",
      "np.arctanh\n",
      "np.argmax\n",
      "np.argmin\n",
      "np.argpartition\n",
      "np.argsort\n",
      "np.argwhere\n",
      "np.around\n",
      "np.array\n",
      "np.array2string\n",
      "np.array_equal\n",
      "np.array_equiv\n",
      "np.array_repr\n",
      "np.array_split\n",
      "np.array_str\n",
      "np.asanyarray\n",
      "np.asarray\n",
      "np.asarray_chkfinite\n",
      "np.ascontiguousarray\n",
      "np.asfarray\n",
      "np.asfortranarray\n",
      "np.asmatrix\n",
      "np.asscalar\n",
      "np.atleast_1d\n",
      "np.atleast_2d\n",
      "np.atleast_3d\n",
      "np.average\n",
      "np.bartlett\n",
      "np.base_repr\n",
      "np.binary_repr\n",
      "np.bincount\n",
      "np.bitwise_and\n",
      "np.bitwise_not\n",
      "np.bitwise_or\n",
      "np.bitwise_xor\n",
      "np.blackman\n",
      "np.block\n",
      "np.bmat\n",
      "np.bool\n",
      "np.bool8\n",
      "np.bool_\n",
      "np.broadcast\n",
      "np.broadcast_arrays\n",
      "np.broadcast_to\n",
      "np.busday_count\n",
      "np.busday_offset\n",
      "np.busdaycalendar\n",
      "np.byte\n",
      "np.byte_bounds\n",
      "np.bytes0\n",
      "np.bytes_\n",
      "np.c_\n",
      "np.can_cast\n",
      "np.cast\n",
      "np.cbrt\n",
      "np.cdouble\n",
      "np.ceil\n",
      "np.cfloat\n",
      "np.char\n",
      "np.character\n",
      "np.chararray\n",
      "np.choose\n",
      "np.clip\n",
      "np.clongdouble\n",
      "np.clongfloat\n",
      "np.column_stack\n",
      "np.common_type\n",
      "np.compare_chararrays\n",
      "np.compat\n",
      "np.complex\n",
      "np.complex128\n",
      "np.complex64\n",
      "np.complex_\n",
      "np.complexfloating\n",
      "np.compress\n",
      "np.concatenate\n",
      "np.conj\n",
      "np.conjugate\n",
      "np.convolve\n",
      "np.copy\n",
      "np.copysign\n",
      "np.copyto\n",
      "np.core\n",
      "np.corrcoef\n",
      "np.correlate\n",
      "np.cos\n",
      "np.cosh\n",
      "np.count_nonzero\n",
      "np.cov\n",
      "np.cross\n",
      "np.csingle\n",
      "np.ctypeslib\n",
      "np.cumprod\n",
      "np.cumproduct\n",
      "np.cumsum\n",
      "np.datetime64\n",
      "np.datetime_as_string\n",
      "np.datetime_data\n",
      "np.deg2rad\n",
      "np.degrees\n",
      "np.delete\n",
      "np.deprecate\n",
      "np.deprecate_with_doc\n",
      "np.diag\n",
      "np.diag_indices\n",
      "np.diag_indices_from\n",
      "np.diagflat\n",
      "np.diagonal\n",
      "np.diff\n",
      "np.digitize\n",
      "np.disp\n",
      "np.divide\n",
      "np.division\n",
      "np.divmod\n",
      "np.dot\n",
      "np.double\n",
      "np.dsplit\n",
      "np.dstack\n",
      "np.dtype\n",
      "np.e\n",
      "np.ediff1d\n",
      "np.einsum\n",
      "np.einsum_path\n",
      "np.emath\n",
      "np.empty\n",
      "np.empty_like\n",
      "np.equal\n",
      "np.errstate\n",
      "np.euler_gamma\n",
      "np.exp\n",
      "np.exp2\n",
      "np.expand_dims\n",
      "np.expm1\n",
      "np.extract\n",
      "np.eye\n",
      "np.fabs\n",
      "np.fastCopyAndTranspose\n",
      "np.fft\n",
      "np.fill_diagonal\n",
      "np.find_common_type\n",
      "np.finfo\n",
      "np.fix\n",
      "np.flatiter\n",
      "np.flatnonzero\n",
      "np.flexible\n",
      "np.flip\n",
      "np.fliplr\n",
      "np.flipud\n",
      "np.float\n",
      "np.float16\n",
      "np.float32\n",
      "np.float64\n",
      "np.float_\n",
      "np.float_power\n",
      "np.floating\n",
      "np.floor\n",
      "np.floor_divide\n",
      "np.fmax\n",
      "np.fmin\n",
      "np.fmod\n",
      "np.format_float_positional\n",
      "np.format_float_scientific\n",
      "np.format_parser\n",
      "np.frexp\n",
      "np.frombuffer\n",
      "np.fromfile\n",
      "np.fromfunction\n",
      "np.fromiter\n",
      "np.frompyfunc\n",
      "np.fromregex\n",
      "np.fromstring\n",
      "np.full\n",
      "np.full_like\n",
      "np.fv\n",
      "np.gcd\n",
      "np.generic\n",
      "np.genfromtxt\n",
      "np.geomspace\n",
      "np.get_array_wrap\n",
      "np.get_include\n",
      "np.get_printoptions\n",
      "np.getbufsize\n",
      "np.geterr\n",
      "np.geterrcall\n",
      "np.geterrobj\n",
      "np.gradient\n",
      "np.greater\n",
      "np.greater_equal\n",
      "np.half\n",
      "np.hamming\n",
      "np.hanning\n",
      "np.heaviside\n",
      "np.histogram\n",
      "np.histogram2d\n",
      "np.histogram_bin_edges\n",
      "np.histogramdd\n",
      "np.hsplit\n",
      "np.hstack\n",
      "np.hypot\n",
      "np.i0\n",
      "np.identity\n",
      "np.iinfo\n",
      "np.imag\n",
      "np.in1d\n",
      "np.index_exp\n",
      "np.indices\n",
      "np.inexact\n",
      "np.inf\n",
      "np.info\n",
      "np.infty\n",
      "np.inner\n",
      "np.insert\n",
      "np.int\n",
      "np.int0\n",
      "np.int16\n",
      "np.int32\n",
      "np.int64\n",
      "np.int8\n",
      "np.int_\n",
      "np.int_asbuffer\n",
      "np.intc\n",
      "np.integer\n",
      "np.interp\n",
      "np.intersect1d\n",
      "np.intp\n",
      "np.invert\n",
      "np.ipmt\n",
      "np.irr\n",
      "np.is_busday\n",
      "np.isclose\n",
      "np.iscomplex\n",
      "np.iscomplexobj\n",
      "np.isfinite\n",
      "np.isfortran\n",
      "np.isin\n",
      "np.isinf\n",
      "np.isnan\n",
      "np.isnat\n",
      "np.isneginf\n",
      "np.isposinf\n",
      "np.isreal\n",
      "np.isrealobj\n",
      "np.isscalar\n",
      "np.issctype\n",
      "np.issubclass_\n",
      "np.issubdtype\n",
      "np.issubsctype\n",
      "np.iterable\n",
      "np.ix_\n",
      "np.kaiser\n",
      "np.kron\n",
      "np.lcm\n",
      "np.ldexp\n",
      "np.left_shift\n",
      "np.less\n",
      "np.less_equal\n",
      "np.lexsort\n",
      "np.lib\n",
      "np.linalg\n",
      "np.linspace\n",
      "np.little_endian\n",
      "np.load\n",
      "np.loads\n",
      "np.loadtxt\n",
      "np.log\n",
      "np.log10\n",
      "np.log1p\n",
      "np.log2\n",
      "np.logaddexp\n",
      "np.logaddexp2\n",
      "np.logical_and\n",
      "np.logical_not\n",
      "np.logical_or\n",
      "np.logical_xor\n",
      "np.logspace\n",
      "np.long\n",
      "np.longcomplex\n",
      "np.longdouble\n",
      "np.longfloat\n",
      "np.longlong\n",
      "np.lookfor\n",
      "np.ma\n",
      "np.mafromtxt\n",
      "np.mask_indices\n",
      "np.mat\n",
      "np.math\n",
      "np.matmul\n",
      "np.matrix\n",
      "np.matrixlib\n",
      "np.max\n",
      "np.maximum\n",
      "np.maximum_sctype\n",
      "np.may_share_memory\n",
      "np.mean\n",
      "np.median\n",
      "np.memmap\n",
      "np.meshgrid\n",
      "np.mgrid\n",
      "np.min\n",
      "np.min_scalar_type\n",
      "np.minimum\n",
      "np.mintypecode\n",
      "np.mirr\n",
      "np.mod\n",
      "np.modf\n",
      "np.moveaxis\n",
      "np.msort\n",
      "np.multiply\n",
      "np.nan\n",
      "np.nan_to_num\n",
      "np.nanargmax\n",
      "np.nanargmin\n",
      "np.nancumprod\n",
      "np.nancumsum\n",
      "np.nanmax\n",
      "np.nanmean\n",
      "np.nanmedian\n",
      "np.nanmin\n",
      "np.nanpercentile\n",
      "np.nanprod\n",
      "np.nanquantile\n",
      "np.nanstd\n",
      "np.nansum\n",
      "np.nanvar\n",
      "np.nbytes\n",
      "np.ndarray\n",
      "np.ndenumerate\n",
      "np.ndfromtxt\n",
      "np.ndim\n",
      "np.ndindex\n",
      "np.nditer\n",
      "np.negative\n",
      "np.nested_iters\n",
      "np.newaxis\n",
      "np.nextafter\n",
      "np.nonzero\n",
      "np.not_equal\n",
      "np.nper\n",
      "np.npv\n",
      "np.numarray\n",
      "np.number\n",
      "np.obj2sctype\n",
      "np.object\n",
      "np.object0\n",
      "np.object_\n",
      "np.ogrid\n",
      "np.oldnumeric\n",
      "np.ones\n",
      "np.ones_like\n",
      "np.outer\n",
      "np.packbits\n",
      "np.pad\n",
      "np.partition\n",
      "np.percentile\n",
      "np.pi\n",
      "np.piecewise\n",
      "np.place\n",
      "np.pmt\n",
      "np.poly\n",
      "np.poly1d\n",
      "np.polyadd\n",
      "np.polyder\n",
      "np.polydiv\n",
      "np.polyfit\n",
      "np.polyint\n",
      "np.polymul\n",
      "np.polynomial\n",
      "np.polysub\n",
      "np.polyval\n",
      "np.positive\n",
      "np.power\n",
      "np.ppmt\n",
      "np.print_function\n",
      "np.printoptions\n",
      "np.prod\n",
      "np.product\n",
      "np.promote_types\n",
      "np.ptp\n",
      "np.put\n",
      "np.put_along_axis\n",
      "np.putmask\n",
      "np.pv\n",
      "np.quantile\n",
      "np.r_\n",
      "np.rad2deg\n",
      "np.radians\n",
      "np.random\n",
      "np.rank\n",
      "np.rate\n",
      "np.ravel\n",
      "np.ravel_multi_index\n",
      "np.real\n",
      "np.real_if_close\n",
      "np.rec\n",
      "np.recarray\n",
      "np.recfromcsv\n",
      "np.recfromtxt\n",
      "np.reciprocal\n",
      "np.record\n",
      "np.remainder\n",
      "np.repeat\n",
      "np.require\n",
      "np.reshape\n",
      "np.resize\n",
      "np.result_type\n",
      "np.right_shift\n",
      "np.rint\n",
      "np.roll\n",
      "np.rollaxis\n",
      "np.roots\n",
      "np.rot90\n",
      "np.round\n",
      "np.round_\n",
      "np.row_stack\n",
      "np.s_\n",
      "np.safe_eval\n",
      "np.save\n",
      "np.savetxt\n",
      "np.savez\n",
      "np.savez_compressed\n",
      "np.sctype2char\n",
      "np.sctypeDict\n",
      "np.sctypeNA\n",
      "np.sctypes\n",
      "np.searchsorted\n",
      "np.select\n",
      "np.set_numeric_ops\n",
      "np.set_printoptions\n",
      "np.set_string_function\n",
      "np.setbufsize\n",
      "np.setdiff1d\n",
      "np.seterr\n",
      "np.seterrcall\n",
      "np.seterrobj\n",
      "np.setxor1d\n",
      "np.shape\n",
      "np.shares_memory\n",
      "np.short\n",
      "np.show_config\n",
      "np.sign\n",
      "np.signbit\n",
      "np.signedinteger\n",
      "np.sin\n",
      "np.sinc\n",
      "np.single\n",
      "np.singlecomplex\n",
      "np.sinh\n",
      "np.size\n",
      "np.sometrue\n",
      "np.sort\n",
      "np.sort_complex\n",
      "np.source\n",
      "np.spacing\n",
      "np.split\n",
      "np.sqrt\n",
      "np.square\n",
      "np.squeeze\n",
      "np.stack\n",
      "np.std\n",
      "np.str\n",
      "np.str0\n",
      "np.str_\n",
      "np.string_\n",
      "np.subtract\n",
      "np.sum\n",
      "np.swapaxes\n",
      "np.sys\n",
      "np.take\n",
      "np.take_along_axis\n",
      "np.tan\n",
      "np.tanh\n",
      "np.tensordot\n",
      "np.test\n",
      "np.testing\n",
      "np.tile\n",
      "np.timedelta64\n",
      "np.trace\n",
      "np.tracemalloc_domain\n",
      "np.transpose\n",
      "np.trapz\n",
      "np.tri\n",
      "np.tril\n",
      "np.tril_indices\n",
      "np.tril_indices_from\n",
      "np.trim_zeros\n",
      "np.triu\n",
      "np.triu_indices\n",
      "np.triu_indices_from\n",
      "np.true_divide\n",
      "np.trunc\n",
      "np.typeDict\n",
      "np.typeNA\n",
      "np.typecodes\n",
      "np.typename\n",
      "np.ubyte\n",
      "np.ufunc\n",
      "np.uint\n",
      "np.uint0\n",
      "np.uint16\n",
      "np.uint32\n",
      "np.uint64\n",
      "np.uint8\n",
      "np.uintc\n",
      "np.uintp\n",
      "np.ulonglong\n",
      "np.unicode\n",
      "np.unicode_\n",
      "np.union1d\n",
      "np.unique\n",
      "np.unpackbits\n",
      "np.unravel_index\n",
      "np.unsignedinteger\n",
      "np.unwrap\n",
      "np.ushort\n",
      "np.vander\n",
      "np.var\n",
      "np.vdot\n",
      "np.vectorize\n",
      "np.version\n",
      "np.void\n",
      "np.void0\n",
      "np.vsplit\n",
      "np.vstack\n",
      "np.warnings\n",
      "np.where\n",
      "np.who\n",
      "np.zeros\n",
      "np.zeros_like\n"
     ]
    }
   ],
   "source": [
    "import numpy as np\n",
    "print(\"Numpy version is \",np.__version__)\n",
    "for i in dir(np):\n",
    "    print(\"np.\",end=\"\")\n",
    "    print(i)"
   ]
  },
  {
   "cell_type": "markdown",
   "metadata": {},
   "source": [
    "#### multiple ways to create different dimensions arrays using numpy python\n",
    "- arange\n",
    "    - syntex\n",
    "    - numpy.arange(start,stop,step).reshape(dimension)\n",
    "        - start -> starting value\n",
    "        - stop ->taking values upto (stop-1)\n",
    "        - step ->Nothing but increment\n",
    "        - reshape -> for dimensions\n",
    "- random.randint\n",
    "    - It will take numbers randomly\n",
    "    - syntax\n",
    "    - numpy.random.randint(start,stop,size=(dimension))\n",
    "- array\n",
    "    - syntax\n",
    "    - numpy.array([[1,2,3],[3,2,6]])\n",
    "    - or \n",
    "    - numoy.array(list)\n",
    "- linspace\n",
    "    - returns evenly spaced numbers over a specified interval\n",
    "    - syntax\n",
    "    - numpy.linspace(start,stop,numbers)\n",
    "       - example\n",
    "       - numpy.linspace(0,10,num=4)\n",
    "       output\n",
    "       - array([ 0., 3.33333333, 6.66666667, 10.])\n",
    "- full\n",
    "    - syntax\n",
    "    - numpy.full((size),number)\n",
    "- empty\n",
    "    - Its initial content is random and depends on the state of the memory.\n",
    "    - syntax\n",
    "    - np.empty((start,stop))\n",
    "    \n",
    "- zeros\n",
    "    - to quickly create and populate an array.\n",
    "    - syntax\n",
    "    - np.zeros((x,y))\n",
    "- ones\n",
    "    - to quickly create and populate an array.\n",
    "    - syntax\n",
    "    - np.ones((x,y))"
   ]
  },
  {
   "cell_type": "code",
   "execution_count": 57,
   "metadata": {},
   "outputs": [
    {
     "name": "stdout",
     "output_type": "stream",
     "text": [
      "  arange method  \n",
      "\n",
      "[ 0  1  2  3  4  5  6  7  8  9 10]\n",
      "[[ 0  2]\n",
      " [ 4  6]\n",
      " [ 8 10]]\n",
      "\n",
      "  random.randint   \n",
      "\n",
      " [[1 1 1]\n",
      " [1 1 0]]\n",
      "\n",
      "    linspace   \n",
      "\n",
      "[ 0.          3.33333333  6.66666667 10.        ]\n",
      "[ 0.   2.5  5.   7.5 10. ]\n",
      "\n",
      "  full   \n",
      "\n",
      "[[3 3]\n",
      " [3 3]]\n",
      "\n",
      " [[3 5 4 1]\n",
      " [3 5 4 1]\n",
      " [3 5 4 1]\n",
      " [3 5 4 1]]\n",
      "\n",
      " empty   \n",
      "\n",
      "[[0.00000000e+000 0.00000000e+000 0.00000000e+000 0.00000000e+000]\n",
      " [0.00000000e+000 4.74303020e-321 2.14321575e-312 1.24611470e-306]]\n",
      "\n",
      " [[1. 1. 1.]\n",
      " [1. 1. 1.]]\n",
      "\n",
      " [[0. 0. 0.]\n",
      " [0. 0. 0.]]\n"
     ]
    }
   ],
   "source": [
    "import numpy as np\n",
    "print(\"  arange method  \\n\")\n",
    "arange1=np.arange(0,11,1)\n",
    "arange2=np.arange(0,11,2).reshape(3,2)\n",
    "print(arange1)\n",
    "print(arange2)\n",
    "print(\"\\n  random.randint   \")\n",
    "\n",
    "rand1=np.random.randint(0,2,size=(2,3))\n",
    "print(\"\\n\",rand1)\n",
    "\n",
    "print(\"\\n    linspace   \\n\")\n",
    "linspace=np.linspace(0,10,4)\n",
    "print(linspace)\n",
    "\n",
    "linspace1=np.linspace(0,10,5)\n",
    "print(linspace1)\n",
    "\n",
    "print(\"\\n  full   \\n\")\n",
    "full=np.full((2,2), 3)\n",
    "print(full)\n",
    "\n",
    "full=np.full((4,4), [3,5,4,1])\n",
    "print(\"\\n\",full)\n",
    "\n",
    "print(\"\\n empty   \\n\")\n",
    "e=np.empty((2,4))\n",
    "print(e)\n",
    "\n",
    "ones=np.ones((2,3))\n",
    "print(\"\\n\",ones)\n",
    "\n",
    "zeros=np.zeros((2,3))\n",
    "print(\"\\n\",zeros)"
   ]
  },
  {
   "cell_type": "code",
   "execution_count": 50,
   "metadata": {},
   "outputs": [
    {
     "name": "stdout",
     "output_type": "stream",
     "text": [
      "1D array is \n",
      " [9 5 0 6 4 9]\n",
      "\n",
      "2D array is \n",
      " [[6 9 1 2 1]\n",
      " [4 4 8 8 3]]\n",
      "\n",
      "3D array is \n",
      " [[[7 1]\n",
      "  [1 4]]\n",
      "\n",
      " [[3 3]\n",
      "  [5 4]]]\n"
     ]
    }
   ],
   "source": [
    "#  creating different dimensions arrays using pandas\n",
    "\n",
    "import numpy as np\n",
    "d1=np.random.randint(0,10,size=6)   # 1D array\n",
    "print(\"1D array is \\n\",d1)\n",
    "d2=np.random.randint(0,10,size=(2,5))   # 2D array\n",
    "print(\"\\n2D array is \\n\",d2) \n",
    "d3=np.random.randint(1,10,size=(2,2,2)) # 3D\n",
    "print(\"\\n3D array is \\n\",d3)"
   ]
  },
  {
   "cell_type": "code",
   "execution_count": 23,
   "metadata": {},
   "outputs": [
    {
     "name": "stdout",
     "output_type": "stream",
     "text": [
      "\n",
      "3D array is \n",
      " [[[4 5]\n",
      "  [3 4]]\n",
      "\n",
      " [[5 1]\n",
      "  [1 7]]]\n",
      "\n",
      "size  8\n",
      "dtype  int32\n",
      "dimention  3\n",
      "itemsize  4 bytes\n",
      "nbytes  32\n"
     ]
    }
   ],
   "source": [
    "# Properties of an array\n",
    "d3=np.random.randint(1,10,size=(2,2,2)) # 3D\n",
    "print(\"\\n3D array is \\n\",d3)\n",
    "print(\"\\nsize \", d3.size)\n",
    "print(\"dtype \", d3.dtype)\n",
    "print(\"dimention \", d3.ndim)\n",
    "print(\"itemsize \", d3.itemsize,\"bytes\")\n",
    "print(\"nbytes \",d3.nbytes)"
   ]
  },
  {
   "cell_type": "markdown",
   "metadata": {},
   "source": [
    "- we can use square brackets to access individual array elements\n",
    "- Values can also be modified using any of the index notation:\n",
    "- Array Indexing\n",
    "\n",
    "    [0, 1, 2, 3, 4, 5, 6, 7, 8, 9]\n",
    "    0   1  2  3  4  5  6  7  8  9     indexing from forward (positive)\n",
    "    -10 -9 -8 -7 -6 -5 -4 -3 -2 -1     indexing from back word (negative)\n",
    "- we can also change data based index\n",
    "    "
   ]
  },
  {
   "cell_type": "code",
   "execution_count": 37,
   "metadata": {},
   "outputs": [
    {
     "name": "stdout",
     "output_type": "stream",
     "text": [
      "[0, 1, 2, 3, 4, 5, 6, 7, 8, 9]\n",
      "Staring element  0\n",
      "3rd element is  2\n",
      "2nd element from last  8\n",
      "last element  9\n",
      "12\n",
      "30\n",
      "[0, 12, 2, 3, 4, 5, 6, 30, 8, 9]\n"
     ]
    }
   ],
   "source": [
    "# Accessing single elements from 1D array\n",
    "\n",
    "x=[i for i in range(0,10)]\n",
    "print(x)\n",
    "print(\"Staring element \",x[0]) \n",
    "\n",
    "print(\"3rd element is \",x[2])\n",
    "\n",
    "print(\"2nd element from last \",x[-2])\n",
    "\n",
    "print(\"last element \",x[-1])\n",
    "x[1]=12\n",
    "print(x[1])\n",
    "\n",
    "x[-3]=30\n",
    "print(x[-3])\n",
    "\n",
    "print(x)"
   ]
  },
  {
   "cell_type": "markdown",
   "metadata": {},
   "source": [
    "#### Accessing single elements from 2D array\n",
    "- we can use square brackets to access individual array elements\n",
    "- In a multi-dimensional array, items can be accessed using a comma-separated tuple of indices:\n",
    "\n",
    "example :\n",
    "- variable[row_index, column_index]\n",
    "    -  when output was printed it will print starting_index to ending_index-1 elements\n",
    "- variable[row_index][column_index]\n",
    "\n",
    "idenxing is done as follows\n",
    "      \n",
    "   -3         -2          -1 <br>\n",
    "    0         1          2  <br>\n",
    " [[9, 5, 7],[5, 4, 6],[8, 1, 7]] <br>\n",
    "   0  1  2   0  1  2   0  1  2   <br>\n",
    "  -3 -2  -1  -3 -2 -1  -1 -2 -3  <br>\n",
    "  \n",
    "  \n",
    "  \n",
    "  "
   ]
  },
  {
   "cell_type": "code",
   "execution_count": 47,
   "metadata": {},
   "outputs": [
    {
     "name": "stdout",
     "output_type": "stream",
     "text": [
      "[[6 2 9]\n",
      " [8 8 6]\n",
      " [2 7 1]]\n",
      "9\n",
      "7\n",
      "[2 7 1]\n"
     ]
    }
   ],
   "source": [
    "import numpy as np\n",
    "\n",
    "d2=np.random.randint(0,10,size=(3,3))\n",
    "print(d2)\n",
    "print(d2[0,2])\n",
    "print(d2[2,1])\n",
    "print(d2[2])\n"
   ]
  },
  {
   "cell_type": "code",
   "execution_count": 48,
   "metadata": {},
   "outputs": [
    {
     "name": "stdout",
     "output_type": "stream",
     "text": [
      "1\n",
      "[8 8 6]\n",
      "9\n"
     ]
    }
   ],
   "source": [
    "\n",
    "print(d2[-1][-1])\n",
    "print(d2[-2])\n",
    "print(d2[-3,-1])"
   ]
  },
  {
   "cell_type": "code",
   "execution_count": 50,
   "metadata": {},
   "outputs": [
    {
     "name": "stdout",
     "output_type": "stream",
     "text": [
      "[[  6   2 123]\n",
      " [  8   8   6]\n",
      " [321   7   1]]\n"
     ]
    }
   ],
   "source": [
    "# Modyfing values\n",
    "d2[0,2]=123\n",
    "d2[-1,-3]=321\n",
    "\n",
    "print(d2)"
   ]
  },
  {
   "cell_type": "markdown",
   "metadata": {},
   "source": [
    "#### Array Slicing\n",
    "-  we can use square brackets to access individual array elements, we can also use them to access subarrays with the slice notation, marked by the colon : character\n",
    "- x[start:stop:step]\n",
    "    - start means staring index\n",
    "    - stop means ending index\n",
    "    - step means nothing but increment for start\n",
    "    - basically step will be 1 default\n",
    "- If any of these are unspecified, they default to the values start=0, stop=size of dimension, step=1\n"
   ]
  },
  {
   "cell_type": "code",
   "execution_count": 3,
   "metadata": {},
   "outputs": [
    {
     "name": "stdout",
     "output_type": "stream",
     "text": [
      "[0 1 2 3 4 5 6 7 8]\n",
      "[0 1 2 3 4]\n",
      "[2 3 4 5 6 7 8 9]\n",
      "[]\n",
      "[4 5 6 7]\n",
      "[2 3 4 5]\n"
     ]
    },
    {
     "data": {
      "text/plain": [
       "array([0, 1, 2, 3, 4, 5, 6, 7, 8, 9])"
      ]
     },
     "execution_count": 3,
     "metadata": {},
     "output_type": "execute_result"
    }
   ],
   "source": [
    "# 1D array\n",
    "import numpy as np\n",
    "x=np.arange(10)\n",
    "\n",
    "print(x[:-1])\n",
    "print(x[:5])\n",
    "print(x[2:])\n",
    "print(x[-1:4])\n",
    "print(x[-6:-2])\n",
    "print(x[2:6])\n",
    "x[:]\n"
   ]
  },
  {
   "cell_type": "code",
   "execution_count": 70,
   "metadata": {},
   "outputs": [
    {
     "data": {
      "text/plain": [
       "array([0, 2, 4, 6, 8])"
      ]
     },
     "execution_count": 70,
     "metadata": {},
     "output_type": "execute_result"
    }
   ],
   "source": [
    "x[::2]  # every other element"
   ]
  },
  {
   "cell_type": "code",
   "execution_count": 7,
   "metadata": {},
   "outputs": [
    {
     "name": "stdout",
     "output_type": "stream",
     "text": [
      "[0 1 2 3 4 5 6 7 8 9]\n"
     ]
    },
    {
     "data": {
      "text/plain": [
       "array([0, 2, 4, 6, 8])"
      ]
     },
     "execution_count": 7,
     "metadata": {},
     "output_type": "execute_result"
    }
   ],
   "source": [
    "print(x)\n",
    "x[0::2] "
   ]
  },
  {
   "cell_type": "markdown",
   "metadata": {},
   "source": [
    "- A potentially confusing case is when the step value is negative. In this case, the defaults for start and stop are swapped. This becomes a convenient way to reverse an array:"
   ]
  },
  {
   "cell_type": "code",
   "execution_count": 11,
   "metadata": {},
   "outputs": [
    {
     "name": "stdout",
     "output_type": "stream",
     "text": [
      "[9, 8, 7, 6, 5, 4, 3, 2, 1]\n",
      "[8, 6, 4, 2]\n",
      "[9, 7, 5, 3, 1]\n"
     ]
    }
   ],
   "source": [
    "a=[1,2,3,4,5,6,7,8,9]\n",
    "print(a[::-1])\n",
    "print(a[7::-2])\n",
    "\n",
    "print(a[::-2])"
   ]
  },
  {
   "cell_type": "markdown",
   "metadata": {},
   "source": [
    "### Multi-dimensional subarrays\n",
    "- Multi-dimensional slices work in the same way, with multiple slices separated by commas."
   ]
  },
  {
   "cell_type": "code",
   "execution_count": 12,
   "metadata": {},
   "outputs": [
    {
     "data": {
      "text/plain": [
       "array([[[2, 9],\n",
       "        [9, 1],\n",
       "        [1, 3]],\n",
       "\n",
       "       [[5, 3],\n",
       "        [5, 4],\n",
       "        [2, 1]]])"
      ]
     },
     "execution_count": 12,
     "metadata": {},
     "output_type": "execute_result"
    }
   ],
   "source": [
    "import numpy as np\n",
    "d2=np.random.randint(1,10,size=(2,3,2))\n",
    "\n",
    "d2"
   ]
  },
  {
   "cell_type": "code",
   "execution_count": 16,
   "metadata": {},
   "outputs": [
    {
     "data": {
      "text/plain": [
       "array([[[3, 4],\n",
       "        [4, 3],\n",
       "        [4, 2]],\n",
       "\n",
       "       [[2, 1],\n",
       "        [1, 1],\n",
       "        [2, 5]]])"
      ]
     },
     "execution_count": 16,
     "metadata": {},
     "output_type": "execute_result"
    }
   ],
   "source": [
    "d2[::-1]"
   ]
  },
  {
   "cell_type": "code",
   "execution_count": 19,
   "metadata": {},
   "outputs": [
    {
     "data": {
      "text/plain": [
       "array([[[2, 1],\n",
       "        [1, 1],\n",
       "        [2, 5]],\n",
       "\n",
       "       [[3, 4],\n",
       "        [4, 3],\n",
       "        [4, 2]]])"
      ]
     },
     "execution_count": 19,
     "metadata": {},
     "output_type": "execute_result"
    }
   ],
   "source": [
    "d2[::1]"
   ]
  },
  {
   "cell_type": "code",
   "execution_count": 20,
   "metadata": {},
   "outputs": [
    {
     "data": {
      "text/plain": [
       "array([[[2, 1],\n",
       "        [2, 5]],\n",
       "\n",
       "       [[3, 4],\n",
       "        [4, 2]]])"
      ]
     },
     "execution_count": 20,
     "metadata": {},
     "output_type": "execute_result"
    }
   ],
   "source": [
    "d2[::1,::2]"
   ]
  },
  {
   "cell_type": "code",
   "execution_count": 25,
   "metadata": {},
   "outputs": [
    {
     "data": {
      "text/plain": [
       "array([[[5, 2],\n",
       "        [1, 1],\n",
       "        [1, 2]],\n",
       "\n",
       "       [[2, 4],\n",
       "        [3, 4],\n",
       "        [4, 3]]])"
      ]
     },
     "execution_count": 25,
     "metadata": {},
     "output_type": "execute_result"
    }
   ],
   "source": [
    "d2[::1,::-1,::-1]"
   ]
  },
  {
   "cell_type": "markdown",
   "metadata": {},
   "source": [
    "\n",
    "### Accessing array rows and columns\n",
    "\n",
    "- One commonly needed routine is accessing of single rows or columns of an array. This can be done by combining indexing and slicing, using an empty slice marked by a single colon (:):\n"
   ]
  },
  {
   "cell_type": "code",
   "execution_count": 26,
   "metadata": {},
   "outputs": [
    {
     "data": {
      "text/plain": [
       "array([4, 3])"
      ]
     },
     "execution_count": 26,
     "metadata": {},
     "output_type": "execute_result"
    }
   ],
   "source": [
    "d2[1][1]"
   ]
  },
  {
   "cell_type": "code",
   "execution_count": 27,
   "metadata": {},
   "outputs": [
    {
     "data": {
      "text/plain": [
       "array([4, 3])"
      ]
     },
     "execution_count": 27,
     "metadata": {},
     "output_type": "execute_result"
    }
   ],
   "source": [
    "d2[1,1]"
   ]
  },
  {
   "cell_type": "code",
   "execution_count": 30,
   "metadata": {},
   "outputs": [
    {
     "data": {
      "text/plain": [
       "array([[2, 1],\n",
       "       [1, 1],\n",
       "       [2, 5]])"
      ]
     },
     "execution_count": 30,
     "metadata": {},
     "output_type": "execute_result"
    }
   ],
   "source": [
    "d2[0]"
   ]
  },
  {
   "cell_type": "markdown",
   "metadata": {},
   "source": [
    "\n",
    "### Reshaping of Arrays\n",
    "\n",
    "- Another useful type of operation is reshaping of arrays. The most flexible way of doing this is with the reshape method. For example, if you want to put the numbers 1 through 9 in a $3 \\times 3$ grid, you can do the following:\n"
   ]
  },
  {
   "cell_type": "code",
   "execution_count": null,
   "metadata": {},
   "outputs": [],
   "source": []
  }
 ],
 "metadata": {
  "kernelspec": {
   "display_name": "Python 3",
   "language": "python",
   "name": "python3"
  },
  "language_info": {
   "codemirror_mode": {
    "name": "ipython",
    "version": 3
   },
   "file_extension": ".py",
   "mimetype": "text/x-python",
   "name": "python",
   "nbconvert_exporter": "python",
   "pygments_lexer": "ipython3",
   "version": "3.7.3"
  }
 },
 "nbformat": 4,
 "nbformat_minor": 2
}
